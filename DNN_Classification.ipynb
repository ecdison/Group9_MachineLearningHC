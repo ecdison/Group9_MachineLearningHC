{
 "cells": [
  {
   "cell_type": "code",
   "execution_count": 135,
   "id": "987063be",
   "metadata": {},
   "outputs": [],
   "source": [
    "# Numerical Operations\n",
    "import math\n",
    "import numpy as np\n",
    "\n",
    "# Reading/Writing Data\n",
    "import pandas as pd\n",
    "import os\n",
    "import csv\n",
    "\n",
    "# For Progress Bar\n",
    "from tqdm import tqdm\n",
    "\n",
    "# Pytorch\n",
    "import torch \n",
    "import torch.nn as nn\n",
    "from torch.utils.data import Dataset, DataLoader, random_split\n",
    "\n",
    "# For plotting learning curve\n",
    "from torch.utils.tensorboard import SummaryWriter\n",
    "from sklearn.metrics import classification_report"
   ]
  },
  {
   "cell_type": "code",
   "execution_count": 136,
   "id": "f2e16018",
   "metadata": {},
   "outputs": [],
   "source": [
    "class IVFDataset(Dataset):\n",
    "    '''\n",
    "    x: Features.\n",
    "    y: Targets, if none, do prediction.\n",
    "    '''\n",
    "    def __init__(self, x, y=None):\n",
    "        # print(y, len(y))\n",
    "        \n",
    "        if y is None:\n",
    "            self.y = y\n",
    "        else:\n",
    "            self.y = torch.LongTensor(y)\n",
    "        self.x = torch.FloatTensor(x)\n",
    "        \n",
    "    def __getitem__(self, idx):\n",
    "        if self.y is None:\n",
    "            return self.x[idx]\n",
    "        else:\n",
    "            return self.x[idx], self.y[idx]\n",
    "\n",
    "    def __len__(self):\n",
    "        return len(self.x)"
   ]
  },
  {
   "cell_type": "code",
   "execution_count": 137,
   "id": "08ef5e4a",
   "metadata": {},
   "outputs": [],
   "source": [
    "class DNN_Regression(nn.Module):\n",
    "    def __init__(self, input_dim):\n",
    "        super(DNN_Regression, self).__init__()\n",
    "        # TODO: modify model's structure, be aware of dimensions. \n",
    "        self.layers = nn.Sequential(\n",
    "            nn.Linear(input_dim, 16),\n",
    "            nn.ReLU(),\n",
    "            nn.Linear(16, 8),\n",
    "            nn.ReLU(),\n",
    "            nn.Linear(8, 2)\n",
    "        )\n",
    "\n",
    "    def forward(self, x):\n",
    "        x = self.layers(x)\n",
    "        x = x.squeeze(1) # (B, 1) -> (B)\n",
    "        return x"
   ]
  },
  {
   "cell_type": "code",
   "execution_count": 138,
   "id": "ec1941f4",
   "metadata": {},
   "outputs": [],
   "source": [
    "train_loss=[] \n",
    "val_loss=[]\n",
    "\n",
    "def trainer(train_loader, valid_loader, model, config, device):\n",
    "    \n",
    "    # TODO try differnet criterion or optimizer \n",
    "    # criterion = nn.MSELoss(reduction='mean')\n",
    "    w=torch.tensor([0.1,0.9])\n",
    "    criterion = nn.CrossEntropyLoss(weight=w)\n",
    "    optimizer = torch.optim.Adam(model.parameters(), lr=config['learning_rate'], betas=(0.9, 0.999), eps=1e-08)\n",
    "    writer = SummaryWriter()\n",
    "    \n",
    "    if not os.path.isdir('/mnt/hdd18.2t/sea120424/exchange/ML/datasets/project/DNN_Regression/models'):\n",
    "        os.mkdir('/mnt/hdd18.2t/sea120424/exchange/ML/datasets/project/DNN_Regression/models') # Create directory of saving models.\n",
    "    \n",
    "    n_epochs, best_loss, step, early_stop_count = config['n_epochs'], math.inf, 0, 0\n",
    "    \n",
    "    for epoch in range(n_epochs):\n",
    "        model.train() # Set your model to train mode.\n",
    "        loss_record = []\n",
    "\n",
    "        # tqdm is a package to visualize your training progress.\n",
    "        train_pbar = tqdm(train_loader, position=0, leave=True)\n",
    "        train_acc = []\n",
    "        for x, y in train_pbar:\n",
    "            optimizer.zero_grad()               # Set gradient to zero.\n",
    "            x, y = x.to(device), y.to(device)   # Move your data to device. \n",
    "            pred = model(x)             \n",
    "            \n",
    "            loss = criterion(pred, y)\n",
    "            \n",
    "            loss.backward()                     # Compute gradient(backpropagation).\n",
    "            optimizer.step()                    # Update parameters.\n",
    "            step += 1\n",
    "            loss_record.append(loss.detach().item())\n",
    "            \n",
    "            \n",
    "            acc = (pred.argmax(dim=-1) == y.to(device)).float().mean()\n",
    "            train_acc.append(acc)\n",
    "            \n",
    "            # Display current epoch number and loss on tqdm progress bar.\n",
    "            train_pbar.set_description(f'Epoch [{epoch+1}/{n_epochs}]')\n",
    "            train_pbar.set_postfix({'loss': loss.detach().item()})\n",
    "        \n",
    "        print(f\"Train Acc: {sum(train_acc) / len(train_acc)}\")\n",
    "        mean_train_loss = sum(loss_record)/len(loss_record)\n",
    "        train_loss.append(mean_train_loss)\n",
    "        writer.add_scalar('Loss/train', mean_train_loss, step)\n",
    "\n",
    "        model.eval() # Set your model to evaluation mode.\n",
    "        loss_record = []\n",
    "        val_acc = []\n",
    "        for x, y in valid_loader:\n",
    "            x, y = x.to(device), y.to(device)\n",
    "            with torch.no_grad():\n",
    "                pred = model(x)\n",
    "                loss = criterion(pred, y)\n",
    "                \n",
    "                acc = (pred.argmax(dim=-1) == y.to(device)).float().mean()\n",
    "                val_acc.append(acc)\n",
    "\n",
    "            loss_record.append(loss.item())\n",
    "            \n",
    "        mean_valid_loss = sum(loss_record)/len(loss_record)\n",
    "        val_loss.append(mean_valid_loss)\n",
    "        print(f\"Val Acc: {sum(val_acc) / len(val_acc)}\")\n",
    "        print(f'Epoch [{epoch+1}/{n_epochs}]: Train loss: {mean_train_loss:.4f}, Valid loss: {mean_valid_loss:.4f}')\n",
    "        writer.add_scalar('Loss/valid', mean_valid_loss, step)\n",
    "\n",
    "        if mean_valid_loss < best_loss:\n",
    "            best_loss = mean_valid_loss\n",
    "            torch.save(model.state_dict(), config['save_path']) # Save your best model\n",
    "            print('Saving model with loss {:.3f}...'.format(best_loss))\n",
    "            early_stop_count = 0\n",
    "        else: \n",
    "            early_stop_count += 1\n",
    "\n",
    "        if early_stop_count >= config['early_stop']:\n",
    "            print('\\nModel is not improving, so we halt the training session.')\n",
    "            return"
   ]
  },
  {
   "cell_type": "code",
   "execution_count": 139,
   "id": "f30057cd",
   "metadata": {},
   "outputs": [],
   "source": [
    "device = 'cpu'\n",
    "\n",
    "config = {\n",
    "    'seed': 1322,      # Your seed number, you can pick your lucky number. :)\n",
    "    'select_all': True,   # Whether to use all features.\n",
    "    'valid_ratio': 0.2,   # validation_size = train_size * valid_ratio\n",
    "    'n_epochs': 500,     # Number of epochs.            \n",
    "    'batch_size': 256, \n",
    "    'learning_rate': 1e-4,              \n",
    "    'early_stop': 20,    # If model has not improved for this many consecutive epochs, stop training.     \n",
    "    'save_path': '/mnt/hdd18.2t/sea120424/exchange/ML/datasets/project/DNN_Regression/models/model_classification_Adam_WC.ckpt'  # Your model will be saved here.\n",
    "}"
   ]
  },
  {
   "cell_type": "code",
   "execution_count": 140,
   "id": "693209be",
   "metadata": {},
   "outputs": [],
   "source": [
    "def same_seed(seed): \n",
    "    '''Fixes random number generator seeds for reproducibility.'''\n",
    "    torch.backends.cudnn.deterministic = True\n",
    "    torch.backends.cudnn.benchmark = False\n",
    "    np.random.seed(seed)\n",
    "    torch.manual_seed(seed)\n",
    "    if torch.cuda.is_available():\n",
    "        torch.cuda.manual_seed_all(seed)\n",
    "\n",
    "def train_valid_split(data_set, valid_ratio, seed):\n",
    "    '''Split provided training data into training set and validation set'''\n",
    "    valid_set_size = int(valid_ratio * len(data_set)) \n",
    "    train_set_size = len(data_set) - valid_set_size\n",
    "    train_set, valid_set = random_split(data_set, [train_set_size, valid_set_size], generator=torch.Generator().manual_seed(seed))\n",
    "    return np.array(train_set), np.array(valid_set)\n",
    "\n",
    "def predict(test_loader, model, device):\n",
    "    model.eval() # Set your model to evaluation mode.\n",
    "    preds = []\n",
    "    for x in tqdm(test_loader):\n",
    "        x = x.to(device)                        \n",
    "        with torch.no_grad():                   \n",
    "            pred = model(x)                     \n",
    "            preds.append(pred.detach().cpu())   \n",
    "    preds = torch.cat(preds, dim=0).numpy()  \n",
    "    return preds"
   ]
  },
  {
   "cell_type": "code",
   "execution_count": 141,
   "id": "60e15934",
   "metadata": {},
   "outputs": [],
   "source": [
    "same_seed(config['seed'])"
   ]
  },
  {
   "cell_type": "code",
   "execution_count": 142,
   "id": "8b610a2a",
   "metadata": {},
   "outputs": [],
   "source": [
    "train_x = pd.read_csv('/mnt/hdd18.2t/sea120424/exchange/ML/datasets/project/train_binary_x.csv')\n",
    "train_y = pd.read_csv('/mnt/hdd18.2t/sea120424/exchange/ML/datasets/project/train_binary_y.csv')\n",
    "test_x = pd.read_csv('/mnt/hdd18.2t/sea120424/exchange/ML/datasets/project/test_binary_x.csv')\n",
    "test_y = pd.read_csv('/mnt/hdd18.2t/sea120424/exchange/ML/datasets/project/test_binary_y.csv')"
   ]
  },
  {
   "cell_type": "code",
   "execution_count": 143,
   "id": "26293951",
   "metadata": {},
   "outputs": [],
   "source": [
    "from sklearn.model_selection import train_test_split\n",
    "\n",
    "train_x, valid_x, train_y, valid_y = train_test_split(train_x, train_y, test_size=0.10, random_state=42)"
   ]
  },
  {
   "cell_type": "code",
   "execution_count": 144,
   "id": "fb39154e",
   "metadata": {},
   "outputs": [
    {
     "name": "stdout",
     "output_type": "stream",
     "text": [
      "(112338, 21) (112338, 1)\n",
      "(12482, 21) (12482, 1)\n",
      "(31205, 21) (31205, 1)\n"
     ]
    }
   ],
   "source": [
    "print(train_x.shape, train_y.shape)\n",
    "print(valid_x.shape, valid_y.shape)\n",
    "print(test_x.shape, test_y.shape)"
   ]
  },
  {
   "cell_type": "code",
   "execution_count": 145,
   "id": "ab015176",
   "metadata": {},
   "outputs": [],
   "source": [
    "train_x = train_x.to_numpy()\n",
    "train_y = train_y.to_numpy().ravel()\n",
    "valid_x = valid_x.to_numpy()\n",
    "valid_y = valid_y.to_numpy().ravel()\n",
    "test_x  = test_x.to_numpy()\n",
    "test_y = test_y.to_numpy().ravel()"
   ]
  },
  {
   "cell_type": "code",
   "execution_count": 146,
   "id": "0024c287",
   "metadata": {},
   "outputs": [],
   "source": [
    "train_dataset = IVFDataset(train_x, train_y)\n",
    "valid_dataset = IVFDataset(valid_x, valid_y)\n",
    "test_dataset = IVFDataset(test_x)"
   ]
  },
  {
   "cell_type": "code",
   "execution_count": 147,
   "id": "c526641a",
   "metadata": {},
   "outputs": [],
   "source": [
    "train_loader = DataLoader(train_dataset, batch_size=config['batch_size'], shuffle=True, pin_memory=True)\n",
    "valid_loader = DataLoader(valid_dataset, batch_size=config['batch_size'], shuffle=True, pin_memory=True)\n",
    "test_loader = DataLoader(test_dataset, batch_size=config['batch_size'], shuffle=False, pin_memory=True)"
   ]
  },
  {
   "cell_type": "code",
   "execution_count": 148,
   "id": "3e63d074",
   "metadata": {},
   "outputs": [],
   "source": [
    "train_loss = []\n",
    "val_loss = []\n",
    "model = DNN_Regression(input_dim=train_x.shape[1]).to(device)"
   ]
  },
  {
   "cell_type": "code",
   "execution_count": null,
   "id": "68558f0c",
   "metadata": {},
   "outputs": [
    {
     "name": "stderr",
     "output_type": "stream",
     "text": [
      "Epoch [1/500]: 100%|███████████████████████████████████████████████████████| 439/439 [00:01<00:00, 246.89it/s, loss=0.668]\n"
     ]
    },
    {
     "name": "stdout",
     "output_type": "stream",
     "text": [
      "Train Acc: 0.5512064695358276\n",
      "Val Acc: 0.11978865414857864\n",
      "Epoch [1/500]: Train loss: 0.6959, Valid loss: 0.6767\n",
      "Saving model with loss 0.677...\n"
     ]
    },
    {
     "name": "stderr",
     "output_type": "stream",
     "text": [
      "Epoch [2/500]: 100%|███████████████████████████████████████████████████████| 439/439 [00:01<00:00, 267.40it/s, loss=0.643]\n"
     ]
    },
    {
     "name": "stdout",
     "output_type": "stream",
     "text": [
      "Train Acc: 0.12156432867050171\n",
      "Val Acc: 0.11950840055942535\n",
      "Epoch [2/500]: Train loss: 0.6688, Valid loss: 0.6623\n",
      "Saving model with loss 0.662...\n"
     ]
    },
    {
     "name": "stderr",
     "output_type": "stream",
     "text": [
      "Epoch [3/500]: 100%|███████████████████████████████████████████████████████| 439/439 [00:01<00:00, 262.12it/s, loss=0.615]\n"
     ]
    },
    {
     "name": "stdout",
     "output_type": "stream",
     "text": [
      "Train Acc: 0.13287825882434845\n",
      "Val Acc: 0.19155828654766083\n",
      "Epoch [3/500]: Train loss: 0.6468, Valid loss: 0.6298\n",
      "Saving model with loss 0.630...\n"
     ]
    },
    {
     "name": "stderr",
     "output_type": "stream",
     "text": [
      "Epoch [4/500]: 100%|████████████████████████████████████████████████████████| 439/439 [00:01<00:00, 256.83it/s, loss=0.57]\n"
     ]
    },
    {
     "name": "stdout",
     "output_type": "stream",
     "text": [
      "Train Acc: 0.509315013885498\n",
      "Val Acc: 0.6886464953422546\n",
      "Epoch [4/500]: Train loss: 0.5985, Valid loss: 0.5655\n",
      "Saving model with loss 0.565...\n"
     ]
    },
    {
     "name": "stderr",
     "output_type": "stream",
     "text": [
      "Epoch [5/500]: 100%|███████████████████████████████████████████████████████| 439/439 [00:01<00:00, 247.78it/s, loss=0.511]\n"
     ]
    },
    {
     "name": "stdout",
     "output_type": "stream",
     "text": [
      "Train Acc: 0.7448898553848267\n",
      "Val Acc: 0.7765925526618958\n",
      "Epoch [5/500]: Train loss: 0.5257, Valid loss: 0.4896\n",
      "Saving model with loss 0.490...\n"
     ]
    },
    {
     "name": "stderr",
     "output_type": "stream",
     "text": [
      "Epoch [6/500]: 100%|███████████████████████████████████████████████████████| 439/439 [00:01<00:00, 270.95it/s, loss=0.415]\n"
     ]
    },
    {
     "name": "stdout",
     "output_type": "stream",
     "text": [
      "Train Acc: 0.795215368270874\n",
      "Val Acc: 0.8056358695030212\n",
      "Epoch [6/500]: Train loss: 0.4567, Valid loss: 0.4298\n",
      "Saving model with loss 0.430...\n"
     ]
    },
    {
     "name": "stderr",
     "output_type": "stream",
     "text": [
      "Epoch [7/500]: 100%|███████████████████████████████████████████████████████| 439/439 [00:01<00:00, 262.51it/s, loss=0.414]\n"
     ]
    },
    {
     "name": "stdout",
     "output_type": "stream",
     "text": [
      "Train Acc: 0.8130142688751221\n",
      "Val Acc: 0.8258681893348694\n",
      "Epoch [7/500]: Train loss: 0.4077, Valid loss: 0.3895\n",
      "Saving model with loss 0.390...\n"
     ]
    },
    {
     "name": "stderr",
     "output_type": "stream",
     "text": [
      "Epoch [8/500]: 100%|███████████████████████████████████████████████████████| 439/439 [00:01<00:00, 240.38it/s, loss=0.334]\n"
     ]
    },
    {
     "name": "stdout",
     "output_type": "stream",
     "text": [
      "Train Acc: 0.8290719985961914\n",
      "Val Acc: 0.8344080448150635\n",
      "Epoch [8/500]: Train loss: 0.3722, Valid loss: 0.3574\n",
      "Saving model with loss 0.357...\n"
     ]
    },
    {
     "name": "stderr",
     "output_type": "stream",
     "text": [
      "Epoch [9/500]: 100%|███████████████████████████████████████████████████████| 439/439 [00:01<00:00, 228.78it/s, loss=0.256]\n"
     ]
    },
    {
     "name": "stdout",
     "output_type": "stream",
     "text": [
      "Train Acc: 0.8429913520812988\n",
      "Val Acc: 0.8530591130256653\n",
      "Epoch [9/500]: Train loss: 0.3413, Valid loss: 0.3268\n",
      "Saving model with loss 0.327...\n"
     ]
    },
    {
     "name": "stderr",
     "output_type": "stream",
     "text": [
      "Epoch [10/500]: 100%|██████████████████████████████████████████████████████| 439/439 [00:01<00:00, 243.04it/s, loss=0.321]\n"
     ]
    },
    {
     "name": "stdout",
     "output_type": "stream",
     "text": [
      "Train Acc: 0.8590448498725891\n",
      "Val Acc: 0.8720832467079163\n",
      "Epoch [10/500]: Train loss: 0.3097, Valid loss: 0.2935\n",
      "Saving model with loss 0.294...\n"
     ]
    },
    {
     "name": "stderr",
     "output_type": "stream",
     "text": [
      "Epoch [11/500]: 100%|██████████████████████████████████████████████████████| 439/439 [00:01<00:00, 277.53it/s, loss=0.249]\n"
     ]
    },
    {
     "name": "stdout",
     "output_type": "stream",
     "text": [
      "Train Acc: 0.8800990581512451\n",
      "Val Acc: 0.8925456404685974\n",
      "Epoch [11/500]: Train loss: 0.2757, Valid loss: 0.2596\n",
      "Saving model with loss 0.260...\n"
     ]
    },
    {
     "name": "stderr",
     "output_type": "stream",
     "text": [
      "Epoch [12/500]: 100%|███████████████████████████████████████████████████████| 439/439 [00:01<00:00, 273.33it/s, loss=0.26]\n"
     ]
    },
    {
     "name": "stdout",
     "output_type": "stream",
     "text": [
      "Train Acc: 0.9018036723136902\n",
      "Val Acc: 0.912886381149292\n",
      "Epoch [12/500]: Train loss: 0.2405, Valid loss: 0.2244\n",
      "Saving model with loss 0.224...\n"
     ]
    },
    {
     "name": "stderr",
     "output_type": "stream",
     "text": [
      "Epoch [13/500]: 100%|██████████████████████████████████████████████████████| 439/439 [00:01<00:00, 239.15it/s, loss=0.199]\n"
     ]
    },
    {
     "name": "stdout",
     "output_type": "stream",
     "text": [
      "Train Acc: 0.9223915934562683\n",
      "Val Acc: 0.9331285953521729\n",
      "Epoch [13/500]: Train loss: 0.2058, Valid loss: 0.1913\n",
      "Saving model with loss 0.191...\n"
     ]
    },
    {
     "name": "stderr",
     "output_type": "stream",
     "text": [
      "Epoch [14/500]: 100%|██████████████████████████████████████████████████████| 439/439 [00:01<00:00, 267.42it/s, loss=0.183]\n"
     ]
    },
    {
     "name": "stdout",
     "output_type": "stream",
     "text": [
      "Train Acc: 0.9399316310882568\n",
      "Val Acc: 0.9469997882843018\n",
      "Epoch [14/500]: Train loss: 0.1742, Valid loss: 0.1618\n",
      "Saving model with loss 0.162...\n"
     ]
    },
    {
     "name": "stderr",
     "output_type": "stream",
     "text": [
      "Epoch [15/500]: 100%|██████████████████████████████████████████████████████| 439/439 [00:01<00:00, 232.86it/s, loss=0.154]\n"
     ]
    },
    {
     "name": "stdout",
     "output_type": "stream",
     "text": [
      "Train Acc: 0.9531806111335754\n",
      "Val Acc: 0.9570411443710327\n",
      "Epoch [15/500]: Train loss: 0.1481, Valid loss: 0.1392\n",
      "Saving model with loss 0.139...\n"
     ]
    },
    {
     "name": "stderr",
     "output_type": "stream",
     "text": [
      "Epoch [16/500]: 100%|██████████████████████████████████████████████████████| 439/439 [00:01<00:00, 261.59it/s, loss=0.142]\n"
     ]
    },
    {
     "name": "stdout",
     "output_type": "stream",
     "text": [
      "Train Acc: 0.9608340859413147\n",
      "Val Acc: 0.9604723453521729\n",
      "Epoch [16/500]: Train loss: 0.1284, Valid loss: 0.1231\n",
      "Saving model with loss 0.123...\n"
     ]
    },
    {
     "name": "stderr",
     "output_type": "stream",
     "text": [
      "Epoch [17/500]: 100%|██████████████████████████████████████████████████████| 439/439 [00:01<00:00, 281.85it/s, loss=0.107]\n"
     ]
    },
    {
     "name": "stdout",
     "output_type": "stream",
     "text": [
      "Train Acc: 0.9622408151626587\n",
      "Val Acc: 0.9609695672988892\n",
      "Epoch [17/500]: Train loss: 0.1143, Valid loss: 0.1112\n",
      "Saving model with loss 0.111...\n"
     ]
    },
    {
     "name": "stderr",
     "output_type": "stream",
     "text": [
      "Epoch [18/500]: 100%|█████████████████████████████████████████████████████| 439/439 [00:01<00:00, 237.20it/s, loss=0.0837]\n"
     ]
    },
    {
     "name": "stdout",
     "output_type": "stream",
     "text": [
      "Train Acc: 0.962402880191803\n",
      "Val Acc: 0.9612374305725098\n",
      "Epoch [18/500]: Train loss: 0.1048, Valid loss: 0.1036\n",
      "Saving model with loss 0.104...\n"
     ]
    },
    {
     "name": "stderr",
     "output_type": "stream",
     "text": [
      "Epoch [19/500]: 100%|██████████████████████████████████████████████████████| 439/439 [00:01<00:00, 251.74it/s, loss=0.122]\n"
     ]
    },
    {
     "name": "stdout",
     "output_type": "stream",
     "text": [
      "Train Acc: 0.9624287486076355\n",
      "Val Acc: 0.9614191055297852\n",
      "Epoch [19/500]: Train loss: 0.0985, Valid loss: 0.0975\n",
      "Saving model with loss 0.097...\n"
     ]
    },
    {
     "name": "stderr",
     "output_type": "stream",
     "text": [
      "Epoch [20/500]: 100%|█████████████████████████████████████████████████████| 439/439 [00:01<00:00, 261.28it/s, loss=0.0934]\n"
     ]
    },
    {
     "name": "stdout",
     "output_type": "stream",
     "text": [
      "Train Acc: 0.962443470954895\n",
      "Val Acc: 0.961266279220581\n",
      "Epoch [20/500]: Train loss: 0.0941, Valid loss: 0.0950\n",
      "Saving model with loss 0.095...\n"
     ]
    },
    {
     "name": "stderr",
     "output_type": "stream",
     "text": [
      "Epoch [21/500]: 100%|█████████████████████████████████████████████████████| 439/439 [00:01<00:00, 258.09it/s, loss=0.0927]\n"
     ]
    },
    {
     "name": "stdout",
     "output_type": "stream",
     "text": [
      "Train Acc: 0.962443470954895\n",
      "Val Acc: 0.9611898064613342\n",
      "Epoch [21/500]: Train loss: 0.0915, Valid loss: 0.0925\n",
      "Saving model with loss 0.093...\n"
     ]
    },
    {
     "name": "stderr",
     "output_type": "stream",
     "text": [
      "Epoch [22/500]: 100%|██████████████████████████████████████████████████████| 439/439 [00:01<00:00, 264.42it/s, loss=0.115]\n"
     ]
    },
    {
     "name": "stdout",
     "output_type": "stream",
     "text": [
      "Train Acc: 0.9624395966529846\n",
      "Val Acc: 0.9612407088279724\n",
      "Epoch [22/500]: Train loss: 0.0894, Valid loss: 0.0909\n",
      "Saving model with loss 0.091...\n"
     ]
    },
    {
     "name": "stderr",
     "output_type": "stream",
     "text": [
      "Epoch [23/500]: 100%|██████████████████████████████████████████████████████| 439/439 [00:01<00:00, 229.55it/s, loss=0.125]\n"
     ]
    },
    {
     "name": "stdout",
     "output_type": "stream",
     "text": [
      "Train Acc: 0.962437629699707\n",
      "Val Acc: 0.9612407088279724\n",
      "Epoch [23/500]: Train loss: 0.0880, Valid loss: 0.0902\n",
      "Saving model with loss 0.090...\n"
     ]
    },
    {
     "name": "stderr",
     "output_type": "stream",
     "text": [
      "Epoch [24/500]: 100%|██████████████████████████████████████████████████████| 439/439 [00:01<00:00, 272.10it/s, loss=0.108]\n"
     ]
    },
    {
     "name": "stdout",
     "output_type": "stream",
     "text": [
      "Train Acc: 0.9624395966529846\n",
      "Val Acc: 0.9611898064613342\n",
      "Epoch [24/500]: Train loss: 0.0871, Valid loss: 0.0892\n",
      "Saving model with loss 0.089...\n"
     ]
    },
    {
     "name": "stderr",
     "output_type": "stream",
     "text": [
      "Epoch [25/500]: 100%|█████████████████████████████████████████████████████| 439/439 [00:01<00:00, 232.27it/s, loss=0.0532]\n"
     ]
    },
    {
     "name": "stdout",
     "output_type": "stream",
     "text": [
      "Train Acc: 0.9624512791633606\n",
      "Val Acc: 0.9613936543464661\n",
      "Epoch [25/500]: Train loss: 0.0864, Valid loss: 0.0889\n",
      "Saving model with loss 0.089...\n"
     ]
    },
    {
     "name": "stderr",
     "output_type": "stream",
     "text": [
      "Epoch [26/500]: 100%|█████████████████████████████████████████████████████| 439/439 [00:01<00:00, 259.64it/s, loss=0.0663]\n"
     ]
    },
    {
     "name": "stdout",
     "output_type": "stream",
     "text": [
      "Train Acc: 0.9624474048614502\n",
      "Val Acc: 0.961266279220581\n",
      "Epoch [26/500]: Train loss: 0.0860, Valid loss: 0.0884\n",
      "Saving model with loss 0.088...\n"
     ]
    },
    {
     "name": "stderr",
     "output_type": "stream",
     "text": [
      "Epoch [27/500]: 100%|██████████████████████████████████████████████████████| 439/439 [00:01<00:00, 260.87it/s, loss=0.046]\n"
     ]
    },
    {
     "name": "stdout",
     "output_type": "stream",
     "text": [
      "Train Acc: 0.9624532461166382\n",
      "Val Acc: 0.9613681435585022\n",
      "Epoch [27/500]: Train loss: 0.0856, Valid loss: 0.0876\n",
      "Saving model with loss 0.088...\n"
     ]
    },
    {
     "name": "stderr",
     "output_type": "stream",
     "text": [
      "Epoch [28/500]: 100%|█████████████████████████████████████████████████████| 439/439 [00:01<00:00, 236.35it/s, loss=0.0803]\n"
     ]
    },
    {
     "name": "stdout",
     "output_type": "stream",
     "text": [
      "Train Acc: 0.9624454379081726\n",
      "Val Acc: 0.9611898064613342\n",
      "Epoch [28/500]: Train loss: 0.0854, Valid loss: 0.0884\n"
     ]
    },
    {
     "name": "stderr",
     "output_type": "stream",
     "text": [
      "Epoch [29/500]: 100%|█████████████████████████████████████████████████████| 439/439 [00:01<00:00, 263.53it/s, loss=0.0696]\n"
     ]
    },
    {
     "name": "stdout",
     "output_type": "stream",
     "text": [
      "Train Acc: 0.9624474048614502\n",
      "Val Acc: 0.9613681435585022\n",
      "Epoch [29/500]: Train loss: 0.0852, Valid loss: 0.0873\n",
      "Saving model with loss 0.087...\n"
     ]
    },
    {
     "name": "stderr",
     "output_type": "stream",
     "text": [
      "Epoch [30/500]: 100%|██████████████████████████████████████████████████████| 439/439 [00:01<00:00, 253.30it/s, loss=0.064]\n"
     ]
    },
    {
     "name": "stdout",
     "output_type": "stream",
     "text": [
      "Train Acc: 0.962449312210083\n",
      "Val Acc: 0.9612152576446533\n",
      "Epoch [30/500]: Train loss: 0.0849, Valid loss: 0.0874\n"
     ]
    },
    {
     "name": "stderr",
     "output_type": "stream",
     "text": [
      "Epoch [31/500]: 100%|██████████████████████████████████████████████████████| 439/439 [00:01<00:00, 238.82it/s, loss=0.114]\n"
     ]
    },
    {
     "name": "stdout",
     "output_type": "stream",
     "text": [
      "Train Acc: 0.962437629699707\n",
      "Val Acc: 0.9612152576446533\n",
      "Epoch [31/500]: Train loss: 0.0850, Valid loss: 0.0868\n",
      "Saving model with loss 0.087...\n"
     ]
    },
    {
     "name": "stderr",
     "output_type": "stream",
     "text": [
      "Epoch [32/500]: 100%|█████████████████████████████████████████████████████| 439/439 [00:01<00:00, 245.76it/s, loss=0.0888]\n"
     ]
    },
    {
     "name": "stdout",
     "output_type": "stream",
     "text": [
      "Train Acc: 0.962443470954895\n",
      "Val Acc: 0.9613426327705383\n",
      "Epoch [32/500]: Train loss: 0.0847, Valid loss: 0.0869\n"
     ]
    },
    {
     "name": "stderr",
     "output_type": "stream",
     "text": [
      "Epoch [33/500]: 100%|██████████████████████████████████████████████████████| 439/439 [00:01<00:00, 246.90it/s, loss=0.104]\n"
     ]
    },
    {
     "name": "stdout",
     "output_type": "stream",
     "text": [
      "Train Acc: 0.9624395966529846\n",
      "Val Acc: 0.9613426327705383\n",
      "Epoch [33/500]: Train loss: 0.0845, Valid loss: 0.0867\n",
      "Saving model with loss 0.087...\n"
     ]
    },
    {
     "name": "stderr",
     "output_type": "stream",
     "text": [
      "Epoch [34/500]: 100%|█████████████████████████████████████████████████████| 439/439 [00:01<00:00, 253.49it/s, loss=0.0623]\n"
     ]
    },
    {
     "name": "stdout",
     "output_type": "stream",
     "text": [
      "Train Acc: 0.962449312210083\n",
      "Val Acc: 0.9613171815872192\n",
      "Epoch [34/500]: Train loss: 0.0845, Valid loss: 0.0866\n",
      "Saving model with loss 0.087...\n"
     ]
    },
    {
     "name": "stderr",
     "output_type": "stream",
     "text": [
      "Epoch [35/500]: 100%|█████████████████████████████████████████████████████| 439/439 [00:01<00:00, 256.23it/s, loss=0.0943]\n"
     ]
    },
    {
     "name": "stdout",
     "output_type": "stream",
     "text": [
      "Train Acc: 0.9624395966529846\n",
      "Val Acc: 0.9612917304039001\n",
      "Epoch [35/500]: Train loss: 0.0845, Valid loss: 0.0868\n"
     ]
    },
    {
     "name": "stderr",
     "output_type": "stream",
     "text": [
      "Epoch [36/500]:  94%|█████████████████████████████████████████████████▉   | 414/439 [00:02<00:00, 238.35it/s, loss=0.0685]"
     ]
    }
   ],
   "source": [
    "trainer(train_loader, valid_loader, model, config, device)"
   ]
  },
  {
   "cell_type": "code",
   "execution_count": null,
   "id": "40473c29",
   "metadata": {},
   "outputs": [],
   "source": [
    "from matplotlib import pyplot\n",
    "pyplot.plot(train_loss, label='train')\n",
    "pyplot.plot(val_loss, label='valid')\n",
    "pyplot.legend()\n",
    "pyplot.show()"
   ]
  },
  {
   "cell_type": "code",
   "execution_count": null,
   "id": "918184d7",
   "metadata": {},
   "outputs": [],
   "source": [
    "model = DNN_Regression(input_dim=train_x.shape[1]).to(device)\n",
    "model.load_state_dict(torch.load(config['save_path']))\n",
    "preds = predict(test_loader, model, device)"
   ]
  },
  {
   "cell_type": "code",
   "execution_count": null,
   "id": "d67e9a1e",
   "metadata": {},
   "outputs": [],
   "source": [
    "from sklearn.decomposition import PCA\n",
    "\n",
    "pca = PCA(n_components=1)\n",
    "pca_train_x = pca.fit_transform(train_x)\n",
    "\n",
    "pca_test_x = pca.transform(test_x)\n",
    "\n",
    "df = pd.DataFrame(pca_test_x)\n",
    "df['y'] = preds\n",
    "df['groundTrue'] = test_y\n",
    "df"
   ]
  },
  {
   "cell_type": "code",
   "execution_count": null,
   "id": "ef3035ca",
   "metadata": {},
   "outputs": [],
   "source": [
    "import matplotlib.pyplot as plt\n",
    "import seaborn as sns\n",
    "\n",
    "plt.figure(figsize=(16,10))\n",
    "sns.scatterplot(\n",
    "    x=0, y='y',\n",
    "    hue=\"groundTrue\",\n",
    "    palette=sns.color_palette(\"hls\", 10),\n",
    "    data=df,\n",
    "    legend=\"full\",\n",
    "    alpha=1\n",
    ")"
   ]
  },
  {
   "cell_type": "code",
   "execution_count": null,
   "id": "7263cd91",
   "metadata": {},
   "outputs": [],
   "source": [
    "hard_result = np.round(preds)\n",
    "\n",
    "print(classification_report(test_y, hard_result))"
   ]
  }
 ],
 "metadata": {
  "kernelspec": {
   "display_name": "Python 3 (ipykernel)",
   "language": "python",
   "name": "python3"
  },
  "language_info": {
   "codemirror_mode": {
    "name": "ipython",
    "version": 3
   },
   "file_extension": ".py",
   "mimetype": "text/x-python",
   "name": "python",
   "nbconvert_exporter": "python",
   "pygments_lexer": "ipython3",
   "version": "3.8.13"
  }
 },
 "nbformat": 4,
 "nbformat_minor": 5
}
