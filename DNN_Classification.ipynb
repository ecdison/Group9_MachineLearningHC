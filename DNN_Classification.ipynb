{
 "cells": [
  {
   "cell_type": "code",
   "execution_count": 23,
   "id": "987063be",
   "metadata": {},
   "outputs": [],
   "source": [
    "# Numerical Operations\n",
    "import math\n",
    "import numpy as np\n",
    "\n",
    "# Reading/Writing Data\n",
    "import pandas as pd\n",
    "import os\n",
    "import csv\n",
    "\n",
    "# For Progress Bar\n",
    "from tqdm import tqdm\n",
    "\n",
    "# Pytorch\n",
    "import torch \n",
    "import torch.nn as nn\n",
    "from torch.utils.data import Dataset, DataLoader, random_split\n",
    "\n",
    "# For plotting learning curve\n",
    "from torch.utils.tensorboard import SummaryWriter\n",
    "from sklearn.metrics import classification_report\n",
    "from torchsummary import summary\n"
   ]
  },
  {
   "cell_type": "code",
   "execution_count": 24,
   "id": "f2e16018",
   "metadata": {},
   "outputs": [],
   "source": [
    "class IVFDataset(Dataset):\n",
    "    '''\n",
    "    x: Features.\n",
    "    y: Targets, if none, do prediction.\n",
    "    '''\n",
    "    def __init__(self, x, y=None):\n",
    "        # print(y, len(y))\n",
    "        \n",
    "        if y is None:\n",
    "            self.y = y\n",
    "        else:\n",
    "            self.y = torch.LongTensor(y)\n",
    "        self.x = torch.FloatTensor(x)\n",
    "        \n",
    "    def __getitem__(self, idx):\n",
    "        if self.y is None:\n",
    "            return self.x[idx]\n",
    "        else:\n",
    "            return self.x[idx], self.y[idx]\n",
    "\n",
    "    def __len__(self):\n",
    "        return len(self.x)"
   ]
  },
  {
   "cell_type": "code",
   "execution_count": 25,
   "id": "08ef5e4a",
   "metadata": {},
   "outputs": [],
   "source": [
    "class DNN_Regression(nn.Module):\n",
    "    def __init__(self, input_dim):\n",
    "        super(DNN_Regression, self).__init__()\n",
    "        # TODO: modify model's structure, be aware of dimensions. \n",
    "        self.layers = nn.Sequential(\n",
    "            nn.Linear(input_dim, 16),\n",
    "            nn.ReLU(),\n",
    "            nn.Linear(16, 8),\n",
    "            nn.ReLU(),\n",
    "            nn.Linear(8, 2)\n",
    "        )\n",
    "\n",
    "    def forward(self, x):\n",
    "        x = self.layers(x)\n",
    "        x = x.squeeze(1) # (B, 1) -> (B)\n",
    "        return x"
   ]
  },
  {
   "cell_type": "code",
   "execution_count": 26,
   "id": "28c280bb",
   "metadata": {},
   "outputs": [
    {
     "name": "stdout",
     "output_type": "stream",
     "text": [
      "DNN_Regression(\n",
      "  (layers): Sequential(\n",
      "    (0): Linear(in_features=22, out_features=16, bias=True)\n",
      "    (1): ReLU()\n",
      "    (2): Linear(in_features=16, out_features=8, bias=True)\n",
      "    (3): ReLU()\n",
      "    (4): Linear(in_features=8, out_features=2, bias=True)\n",
      "  )\n",
      ")\n"
     ]
    }
   ],
   "source": [
    "model = DNN_Regression(22)\n",
    "print(model)"
   ]
  },
  {
   "cell_type": "code",
   "execution_count": 27,
   "id": "8834f5d7",
   "metadata": {},
   "outputs": [
    {
     "name": "stdout",
     "output_type": "stream",
     "text": [
      "----------------------------------------------------------------\n",
      "        Layer (type)               Output Shape         Param #\n",
      "================================================================\n",
      "            Linear-1                [-1, 1, 16]             368\n",
      "              ReLU-2                [-1, 1, 16]               0\n",
      "            Linear-3                 [-1, 1, 8]             136\n",
      "              ReLU-4                 [-1, 1, 8]               0\n",
      "            Linear-5                 [-1, 1, 2]              18\n",
      "================================================================\n",
      "Total params: 522\n",
      "Trainable params: 522\n",
      "Non-trainable params: 0\n",
      "----------------------------------------------------------------\n",
      "Input size (MB): 0.00\n",
      "Forward/backward pass size (MB): 0.00\n",
      "Params size (MB): 0.00\n",
      "Estimated Total Size (MB): 0.00\n",
      "----------------------------------------------------------------\n"
     ]
    }
   ],
   "source": [
    "summary(model, (1, 22))"
   ]
  },
  {
   "cell_type": "code",
   "execution_count": 28,
   "id": "ec1941f4",
   "metadata": {},
   "outputs": [],
   "source": [
    "train_loss=[] \n",
    "val_loss=[]\n",
    "\n",
    "def trainer(train_loader, valid_loader, model, config, device):\n",
    "    \n",
    "    # TODO try differnet criterion or optimizer \n",
    "    # criterion = nn.MSELoss(reduction='mean')\n",
    "    # w=torch.tensor([0.1,0.9])\n",
    "    # criterion = nn.CrossEntropyLoss(weight=w)\n",
    "    criterion = nn.CrossEntropyLoss()\n",
    "    optimizer = torch.optim.Adam(model.parameters(), lr=config['learning_rate'], betas=(0.9, 0.999), eps=1e-08)\n",
    "    writer = SummaryWriter()\n",
    "    \n",
    "    if not os.path.isdir('/mnt/hdd18.2t/sea120424/exchange/ML/datasets/project/DNN_Regression/models'):\n",
    "        os.mkdir('/mnt/hdd18.2t/sea120424/exchange/ML/datasets/project/DNN_Regression/models') # Create directory of saving models.\n",
    "    \n",
    "    n_epochs, best_loss, step, early_stop_count = config['n_epochs'], math.inf, 0, 0\n",
    "    \n",
    "    for epoch in range(n_epochs):\n",
    "        model.train() # Set your model to train mode.\n",
    "        loss_record = []\n",
    "\n",
    "        # tqdm is a package to visualize your training progress.\n",
    "        train_pbar = tqdm(train_loader, position=0, leave=True)\n",
    "        train_acc = []\n",
    "        for x, y in train_pbar:\n",
    "            optimizer.zero_grad()               # Set gradient to zero.\n",
    "            x, y = x.to(device), y.to(device)   # Move your data to device. \n",
    "            pred = model(x)             \n",
    "            \n",
    "            loss = criterion(pred, y)\n",
    "            \n",
    "            loss.backward()                     # Compute gradient(backpropagation).\n",
    "            optimizer.step()                    # Update parameters.\n",
    "            step += 1\n",
    "            loss_record.append(loss.detach().item())\n",
    "            \n",
    "            \n",
    "            acc = (pred.argmax(dim=-1) == y.to(device)).float().mean()\n",
    "            train_acc.append(acc)\n",
    "            \n",
    "            # Display current epoch number and loss on tqdm progress bar.\n",
    "            train_pbar.set_description(f'Epoch [{epoch+1}/{n_epochs}]')\n",
    "            train_pbar.set_postfix({'loss': loss.detach().item()})\n",
    "        \n",
    "        print(f\"Train Acc: {sum(train_acc) / len(train_acc)}\")\n",
    "        mean_train_loss = sum(loss_record)/len(loss_record)\n",
    "        train_loss.append(mean_train_loss)\n",
    "        writer.add_scalar('Loss/train', mean_train_loss, step)\n",
    "\n",
    "        model.eval() # Set your model to evaluation mode.\n",
    "        loss_record = []\n",
    "        val_acc = []\n",
    "        for x, y in valid_loader:\n",
    "            x, y = x.to(device), y.to(device)\n",
    "            with torch.no_grad():\n",
    "                pred = model(x)\n",
    "                loss = criterion(pred, y)\n",
    "                \n",
    "                acc = (pred.argmax(dim=-1) == y.to(device)).float().mean()\n",
    "                val_acc.append(acc)\n",
    "\n",
    "            loss_record.append(loss.item())\n",
    "            \n",
    "        mean_valid_loss = sum(loss_record)/len(loss_record)\n",
    "        val_loss.append(mean_valid_loss)\n",
    "        print(f\"Val Acc: {sum(val_acc) / len(val_acc)}\")\n",
    "        print(f'Epoch [{epoch+1}/{n_epochs}]: Train loss: {mean_train_loss:.4f}, Valid loss: {mean_valid_loss:.4f}')\n",
    "        writer.add_scalar('Loss/valid', mean_valid_loss, step)\n",
    "\n",
    "        if mean_valid_loss < best_loss:\n",
    "            best_loss = mean_valid_loss\n",
    "            torch.save(model.state_dict(), config['save_path']) # Save your best model\n",
    "            print('Saving model with loss {:.3f}...'.format(best_loss))\n",
    "            early_stop_count = 0\n",
    "        else: \n",
    "            early_stop_count += 1\n",
    "\n",
    "        if early_stop_count >= config['early_stop']:\n",
    "            print('\\nModel is not improving, so we halt the training session.')\n",
    "            return"
   ]
  },
  {
   "cell_type": "code",
   "execution_count": 29,
   "id": "f30057cd",
   "metadata": {},
   "outputs": [],
   "source": [
    "device = 'cpu'\n",
    "\n",
    "config = {\n",
    "    'seed': 55688,      # Your seed number, you can pick your lucky number. :)\n",
    "    'select_all': True,   # Whether to use all features.\n",
    "    'valid_ratio': 0.2,   # validation_size = train_size * valid_ratio\n",
    "    'n_epochs': 500,     # Number of epochs.            \n",
    "    'batch_size': 256, \n",
    "    'learning_rate': 1e-4,              \n",
    "    'early_stop': 20,    # If model has not improved for this many consecutive epochs, stop training.     \n",
    "    'save_path': '/mnt/hdd18.2t/sea120424/exchange/ML/datasets/project/DNN_Regression/models/model_classification_Adam_SMOTE_20221116.ckpt'  # Your model will be saved here.\n",
    "}"
   ]
  },
  {
   "cell_type": "code",
   "execution_count": 30,
   "id": "693209be",
   "metadata": {},
   "outputs": [],
   "source": [
    "def same_seed(seed): \n",
    "    '''Fixes random number generator seeds for reproducibility.'''\n",
    "    torch.backends.cudnn.deterministic = True\n",
    "    torch.backends.cudnn.benchmark = False\n",
    "    np.random.seed(seed)\n",
    "    torch.manual_seed(seed)\n",
    "    if torch.cuda.is_available():\n",
    "        torch.cuda.manual_seed_all(seed)\n",
    "\n",
    "def train_valid_split(data_set, valid_ratio, seed):\n",
    "    '''Split provided training data into training set and validation set'''\n",
    "    valid_set_size = int(valid_ratio * len(data_set)) \n",
    "    train_set_size = len(data_set) - valid_set_size\n",
    "    train_set, valid_set = random_split(data_set, [train_set_size, valid_set_size], generator=torch.Generator().manual_seed(seed))\n",
    "    return np.array(train_set), np.array(valid_set)\n",
    "\n",
    "def predict(test_loader, model, device):\n",
    "    model.eval() # Set your model to evaluation mode.\n",
    "    preds = []\n",
    "    for x in tqdm(test_loader):\n",
    "        x = x.to(device)                        \n",
    "        with torch.no_grad():                   \n",
    "            pred = model(x)                     \n",
    "            preds.append(pred.detach().cpu())   \n",
    "    preds = torch.cat(preds, dim=0).numpy()  \n",
    "    return preds"
   ]
  },
  {
   "cell_type": "code",
   "execution_count": 31,
   "id": "60e15934",
   "metadata": {},
   "outputs": [],
   "source": [
    "same_seed(config['seed'])"
   ]
  },
  {
   "cell_type": "code",
   "execution_count": 32,
   "id": "8b610a2a",
   "metadata": {},
   "outputs": [],
   "source": [
    "train_x = pd.read_csv('../ML_storage/train_binary_x.csv')\n",
    "train_y = pd.read_csv('../ML_storage/train_binary_y.csv')\n",
    "test_x = pd.read_csv('../ML_storage/test_binary_x.csv')\n",
    "test_y = pd.read_csv('../ML_storage/test_binary_y.csv')"
   ]
  },
  {
   "cell_type": "code",
   "execution_count": 33,
   "id": "26293951",
   "metadata": {},
   "outputs": [],
   "source": [
    "from sklearn.model_selection import train_test_split\n",
    "\n",
    "train_x, valid_x, train_y, valid_y = train_test_split(train_x, train_y, test_size=0.10, random_state=42)"
   ]
  },
  {
   "cell_type": "code",
   "execution_count": 34,
   "id": "fb39154e",
   "metadata": {},
   "outputs": [
    {
     "name": "stdout",
     "output_type": "stream",
     "text": [
      "(112338, 20) (112338, 1)\n",
      "(12482, 20) (12482, 1)\n",
      "(31205, 20) (31205, 1)\n"
     ]
    }
   ],
   "source": [
    "print(train_x.shape, train_y.shape)\n",
    "print(valid_x.shape, valid_y.shape)\n",
    "print(test_x.shape, test_y.shape)"
   ]
  },
  {
   "cell_type": "code",
   "execution_count": 35,
   "id": "49529f73",
   "metadata": {},
   "outputs": [
    {
     "name": "stdout",
     "output_type": "stream",
     "text": [
      "LiveBirth\n",
      "0            98814\n",
      "1            98814\n",
      "dtype: int64\n"
     ]
    }
   ],
   "source": [
    "from imblearn.over_sampling import SMOTE\n",
    "smt = SMOTE(random_state = 100, sampling_strategy = 1.0)\n",
    "train_x_smt, train_y_smt = smt.fit_resample(train_x, train_y)\n",
    "print(train_y_smt.value_counts())"
   ]
  },
  {
   "cell_type": "code",
   "execution_count": 36,
   "id": "ab015176",
   "metadata": {},
   "outputs": [],
   "source": [
    "#train_x = train_x_smt.to_numpy()\n",
    "#train_y = train_y_smt.to_numpy().ravel()\n",
    "\n",
    "train_x = train_x.to_numpy()\n",
    "train_y = train_y.to_numpy().ravel()\n",
    "valid_x = valid_x.to_numpy()\n",
    "valid_y = valid_y.to_numpy().ravel()\n",
    "test_x  = test_x.to_numpy()\n",
    "test_y = test_y.to_numpy().ravel()"
   ]
  },
  {
   "cell_type": "code",
   "execution_count": 37,
   "id": "0024c287",
   "metadata": {},
   "outputs": [],
   "source": [
    "train_dataset = IVFDataset(train_x, train_y)\n",
    "valid_dataset = IVFDataset(valid_x, valid_y)\n",
    "test_dataset = IVFDataset(test_x)"
   ]
  },
  {
   "cell_type": "code",
   "execution_count": 38,
   "id": "c526641a",
   "metadata": {},
   "outputs": [],
   "source": [
    "train_loader = DataLoader(train_dataset, batch_size=config['batch_size'], shuffle=True, pin_memory=True)\n",
    "valid_loader = DataLoader(valid_dataset, batch_size=config['batch_size'], shuffle=True, pin_memory=True)\n",
    "test_loader = DataLoader(test_dataset, batch_size=config['batch_size'], shuffle=False, pin_memory=True)"
   ]
  },
  {
   "cell_type": "code",
   "execution_count": 39,
   "id": "3e63d074",
   "metadata": {},
   "outputs": [],
   "source": [
    "train_loss = []\n",
    "val_loss = []\n",
    "model = DNN_Regression(input_dim=train_x.shape[1]).to(device)"
   ]
  },
  {
   "cell_type": "code",
   "execution_count": 40,
   "id": "68558f0c",
   "metadata": {},
   "outputs": [
    {
     "name": "stderr",
     "output_type": "stream",
     "text": [
      "Epoch [1/500]: 100%|██████████████████████████████████████████████████████| 439/439 [00:01<00:00, 228.66it/s, loss=0.441]\n"
     ]
    },
    {
     "name": "stdout",
     "output_type": "stream",
     "text": [
      "Train Acc: 0.37265920639038086\n",
      "Val Acc: 0.8746498823165894\n",
      "Epoch [1/500]: Train loss: 0.9814, Valid loss: 0.4896\n",
      "Saving model with loss 0.490...\n"
     ]
    },
    {
     "name": "stderr",
     "output_type": "stream",
     "text": [
      "Epoch [2/500]: 100%|██████████████████████████████████████████████████████| 439/439 [00:02<00:00, 219.49it/s, loss=0.351]\n"
     ]
    },
    {
     "name": "stdout",
     "output_type": "stream",
     "text": [
      "Train Acc: 0.8796197175979614\n",
      "Val Acc: 0.8746753334999084\n",
      "Epoch [2/500]: Train loss: 0.4058, Valid loss: 0.3832\n",
      "Saving model with loss 0.383...\n"
     ]
    },
    {
     "name": "stderr",
     "output_type": "stream",
     "text": [
      "Epoch [3/500]: 100%|██████████████████████████████████████████████████████| 439/439 [00:01<00:00, 227.32it/s, loss=0.388]\n"
     ]
    },
    {
     "name": "stdout",
     "output_type": "stream",
     "text": [
      "Train Acc: 0.8796060681343079\n",
      "Val Acc: 0.8745989203453064\n",
      "Epoch [3/500]: Train loss: 0.3628, Valid loss: 0.3614\n",
      "Saving model with loss 0.361...\n"
     ]
    },
    {
     "name": "stderr",
     "output_type": "stream",
     "text": [
      "Epoch [4/500]: 100%|██████████████████████████████████████████████████████| 439/439 [00:01<00:00, 231.01it/s, loss=0.297]\n"
     ]
    },
    {
     "name": "stdout",
     "output_type": "stream",
     "text": [
      "Train Acc: 0.8796324729919434\n",
      "Val Acc: 0.8743696212768555\n",
      "Epoch [4/500]: Train loss: 0.3400, Valid loss: 0.3353\n",
      "Saving model with loss 0.335...\n"
     ]
    },
    {
     "name": "stderr",
     "output_type": "stream",
     "text": [
      "Epoch [5/500]: 100%|██████████████████████████████████████████████████████| 439/439 [00:02<00:00, 215.17it/s, loss=0.289]\n"
     ]
    },
    {
     "name": "stdout",
     "output_type": "stream",
     "text": [
      "Train Acc: 0.8804928064346313\n",
      "Val Acc: 0.8774976134300232\n",
      "Epoch [5/500]: Train loss: 0.3103, Valid loss: 0.3007\n",
      "Saving model with loss 0.301...\n"
     ]
    },
    {
     "name": "stderr",
     "output_type": "stream",
     "text": [
      "Epoch [6/500]: 100%|██████████████████████████████████████████████████████| 439/439 [00:01<00:00, 234.47it/s, loss=0.242]\n"
     ]
    },
    {
     "name": "stdout",
     "output_type": "stream",
     "text": [
      "Train Acc: 0.8867420554161072\n",
      "Val Acc: 0.8879951238632202\n",
      "Epoch [6/500]: Train loss: 0.2760, Valid loss: 0.2669\n",
      "Saving model with loss 0.267...\n"
     ]
    },
    {
     "name": "stderr",
     "output_type": "stream",
     "text": [
      "Epoch [7/500]: 100%|██████████████████████████████████████████████████████| 439/439 [00:02<00:00, 213.69it/s, loss=0.264]\n"
     ]
    },
    {
     "name": "stdout",
     "output_type": "stream",
     "text": [
      "Train Acc: 0.8959417939186096\n",
      "Val Acc: 0.896470844745636\n",
      "Epoch [7/500]: Train loss: 0.2464, Valid loss: 0.2407\n",
      "Saving model with loss 0.241...\n"
     ]
    },
    {
     "name": "stderr",
     "output_type": "stream",
     "text": [
      "Epoch [8/500]: 100%|██████████████████████████████████████████████████████| 439/439 [00:01<00:00, 235.27it/s, loss=0.215]\n"
     ]
    },
    {
     "name": "stdout",
     "output_type": "stream",
     "text": [
      "Train Acc: 0.9015325903892517\n",
      "Val Acc: 0.9012951254844666\n",
      "Epoch [8/500]: Train loss: 0.2239, Valid loss: 0.2195\n",
      "Saving model with loss 0.220...\n"
     ]
    },
    {
     "name": "stderr",
     "output_type": "stream",
     "text": [
      "Epoch [9/500]: 100%|███████████████████████████████████████████████████████| 439/439 [00:01<00:00, 221.82it/s, loss=0.19]\n"
     ]
    },
    {
     "name": "stdout",
     "output_type": "stream",
     "text": [
      "Train Acc: 0.9070919156074524\n",
      "Val Acc: 0.907124400138855\n",
      "Epoch [9/500]: Train loss: 0.2044, Valid loss: 0.2002\n",
      "Saving model with loss 0.200...\n"
     ]
    },
    {
     "name": "stderr",
     "output_type": "stream",
     "text": [
      "Epoch [10/500]: 100%|█████████████████████████████████████████████████████| 439/439 [00:01<00:00, 239.05it/s, loss=0.215]\n"
     ]
    },
    {
     "name": "stdout",
     "output_type": "stream",
     "text": [
      "Train Acc: 0.9131386876106262\n",
      "Val Acc: 0.9144299030303955\n",
      "Epoch [10/500]: Train loss: 0.1854, Valid loss: 0.1808\n",
      "Saving model with loss 0.181...\n"
     ]
    },
    {
     "name": "stderr",
     "output_type": "stream",
     "text": [
      "Epoch [11/500]: 100%|█████████████████████████████████████████████████████| 439/439 [00:02<00:00, 211.00it/s, loss=0.143]\n"
     ]
    },
    {
     "name": "stdout",
     "output_type": "stream",
     "text": [
      "Train Acc: 0.9201748371124268\n",
      "Val Acc: 0.9256382584571838\n",
      "Epoch [11/500]: Train loss: 0.1668, Valid loss: 0.1623\n",
      "Saving model with loss 0.162...\n"
     ]
    },
    {
     "name": "stderr",
     "output_type": "stream",
     "text": [
      "Epoch [12/500]: 100%|██████████████████████████████████████████████████████| 439/439 [00:01<00:00, 230.31it/s, loss=0.13]\n"
     ]
    },
    {
     "name": "stdout",
     "output_type": "stream",
     "text": [
      "Train Acc: 0.9282315373420715\n",
      "Val Acc: 0.9268340468406677\n",
      "Epoch [12/500]: Train loss: 0.1499, Valid loss: 0.1462\n",
      "Saving model with loss 0.146...\n"
     ]
    },
    {
     "name": "stderr",
     "output_type": "stream",
     "text": [
      "Epoch [13/500]: 100%|████████████████████████████████████████████████████| 439/439 [00:01<00:00, 227.20it/s, loss=0.0851]\n"
     ]
    },
    {
     "name": "stdout",
     "output_type": "stream",
     "text": [
      "Train Acc: 0.9369238615036011\n",
      "Val Acc: 0.9379725456237793\n",
      "Epoch [13/500]: Train loss: 0.1356, Valid loss: 0.1328\n",
      "Saving model with loss 0.133...\n"
     ]
    },
    {
     "name": "stderr",
     "output_type": "stream",
     "text": [
      "Epoch [14/500]: 100%|█████████████████████████████████████████████████████| 439/439 [00:02<00:00, 212.62it/s, loss=0.143]\n"
     ]
    },
    {
     "name": "stdout",
     "output_type": "stream",
     "text": [
      "Train Acc: 0.9449223875999451\n",
      "Val Acc: 0.9458836913108826\n",
      "Epoch [14/500]: Train loss: 0.1246, Valid loss: 0.1227\n",
      "Saving model with loss 0.123...\n"
     ]
    },
    {
     "name": "stderr",
     "output_type": "stream",
     "text": [
      "Epoch [15/500]: 100%|█████████████████████████████████████████████████████| 439/439 [00:01<00:00, 221.86it/s, loss=0.102]\n"
     ]
    },
    {
     "name": "stdout",
     "output_type": "stream",
     "text": [
      "Train Acc: 0.9509115815162659\n",
      "Val Acc: 0.9516202211380005\n",
      "Epoch [15/500]: Train loss: 0.1166, Valid loss: 0.1156\n",
      "Saving model with loss 0.116...\n"
     ]
    },
    {
     "name": "stderr",
     "output_type": "stream",
     "text": [
      "Epoch [16/500]: 100%|█████████████████████████████████████████████████████| 439/439 [00:02<00:00, 207.40it/s, loss=0.113]\n"
     ]
    },
    {
     "name": "stdout",
     "output_type": "stream",
     "text": [
      "Train Acc: 0.9545412063598633\n",
      "Val Acc: 0.9535079598426819\n",
      "Epoch [16/500]: Train loss: 0.1110, Valid loss: 0.1111\n",
      "Saving model with loss 0.111...\n"
     ]
    },
    {
     "name": "stderr",
     "output_type": "stream",
     "text": [
      "Epoch [17/500]: 100%|████████████████████████████████████████████████████| 439/439 [00:02<00:00, 218.20it/s, loss=0.0992]\n"
     ]
    },
    {
     "name": "stdout",
     "output_type": "stream",
     "text": [
      "Train Acc: 0.956926703453064\n",
      "Val Acc: 0.9555773735046387\n",
      "Epoch [17/500]: Train loss: 0.1072, Valid loss: 0.1077\n",
      "Saving model with loss 0.108...\n"
     ]
    },
    {
     "name": "stderr",
     "output_type": "stream",
     "text": [
      "Epoch [18/500]: 100%|████████████████████████████████████████████████████| 439/439 [00:02<00:00, 201.04it/s, loss=0.0838]\n"
     ]
    },
    {
     "name": "stdout",
     "output_type": "stream",
     "text": [
      "Train Acc: 0.9583701491355896\n",
      "Val Acc: 0.9571462869644165\n",
      "Epoch [18/500]: Train loss: 0.1049, Valid loss: 0.1056\n",
      "Saving model with loss 0.106...\n"
     ]
    },
    {
     "name": "stderr",
     "output_type": "stream",
     "text": [
      "Epoch [19/500]: 100%|█████████████████████████████████████████████████████| 439/439 [00:01<00:00, 229.36it/s, loss=0.115]\n"
     ]
    },
    {
     "name": "stdout",
     "output_type": "stream",
     "text": [
      "Train Acc: 0.9598661065101624\n",
      "Val Acc: 0.955574095249176\n",
      "Epoch [19/500]: Train loss: 0.1033, Valid loss: 0.1047\n",
      "Saving model with loss 0.105...\n"
     ]
    },
    {
     "name": "stderr",
     "output_type": "stream",
     "text": [
      "Epoch [20/500]: 100%|████████████████████████████████████████████████████| 439/439 [00:02<00:00, 215.61it/s, loss=0.0707]\n"
     ]
    },
    {
     "name": "stdout",
     "output_type": "stream",
     "text": [
      "Train Acc: 0.9603404998779297\n",
      "Val Acc: 0.9590341448783875\n",
      "Epoch [20/500]: Train loss: 0.1021, Valid loss: 0.1032\n",
      "Saving model with loss 0.103...\n"
     ]
    },
    {
     "name": "stderr",
     "output_type": "stream",
     "text": [
      "Epoch [21/500]: 100%|█████████████████████████████████████████████████████| 439/439 [00:01<00:00, 223.09it/s, loss=0.099]\n"
     ]
    },
    {
     "name": "stdout",
     "output_type": "stream",
     "text": [
      "Train Acc: 0.9608952403068542\n",
      "Val Acc: 0.9574684500694275\n",
      "Epoch [21/500]: Train loss: 0.1012, Valid loss: 0.1024\n",
      "Saving model with loss 0.102...\n"
     ]
    },
    {
     "name": "stderr",
     "output_type": "stream",
     "text": [
      "Epoch [22/500]: 100%|█████████████████████████████████████████████████████| 439/439 [00:01<00:00, 227.46it/s, loss=0.104]\n"
     ]
    },
    {
     "name": "stdout",
     "output_type": "stream",
     "text": [
      "Train Acc: 0.9611513018608093\n",
      "Val Acc: 0.958074152469635\n",
      "Epoch [22/500]: Train loss: 0.1003, Valid loss: 0.1008\n",
      "Saving model with loss 0.101...\n"
     ]
    },
    {
     "name": "stderr",
     "output_type": "stream",
     "text": [
      "Epoch [23/500]: 100%|███████████████████████████████████████████████████████| 439/439 [00:01<00:00, 233.08it/s, loss=0.1]\n"
     ]
    },
    {
     "name": "stdout",
     "output_type": "stream",
     "text": [
      "Train Acc: 0.9615675806999207\n",
      "Val Acc: 0.9601501822471619\n",
      "Epoch [23/500]: Train loss: 0.0989, Valid loss: 0.0995\n",
      "Saving model with loss 0.099...\n"
     ]
    },
    {
     "name": "stderr",
     "output_type": "stream",
     "text": [
      "Epoch [24/500]: 100%|████████████████████████████████████████████████████| 439/439 [00:01<00:00, 245.00it/s, loss=0.0877]\n"
     ]
    },
    {
     "name": "stdout",
     "output_type": "stream",
     "text": [
      "Train Acc: 0.9618364572525024\n",
      "Val Acc: 0.960523247718811\n",
      "Epoch [24/500]: Train loss: 0.0971, Valid loss: 0.0977\n",
      "Saving model with loss 0.098...\n"
     ]
    },
    {
     "name": "stderr",
     "output_type": "stream",
     "text": [
      "Epoch [25/500]: 100%|████████████████████████████████████████████████████| 439/439 [00:01<00:00, 241.97it/s, loss=0.0976]\n"
     ]
    },
    {
     "name": "stdout",
     "output_type": "stream",
     "text": [
      "Train Acc: 0.9620500206947327\n",
      "Val Acc: 0.9609695672988892\n",
      "Epoch [25/500]: Train loss: 0.0954, Valid loss: 0.0967\n",
      "Saving model with loss 0.097...\n"
     ]
    },
    {
     "name": "stderr",
     "output_type": "stream",
     "text": [
      "Epoch [26/500]: 100%|█████████████████████████████████████████████████████| 439/439 [00:01<00:00, 233.83it/s, loss=0.107]\n"
     ]
    },
    {
     "name": "stdout",
     "output_type": "stream",
     "text": [
      "Train Acc: 0.9622477293014526\n",
      "Val Acc: 0.9604945182800293\n",
      "Epoch [26/500]: Train loss: 0.0939, Valid loss: 0.0949\n",
      "Saving model with loss 0.095...\n"
     ]
    },
    {
     "name": "stderr",
     "output_type": "stream",
     "text": [
      "Epoch [27/500]: 100%|████████████████████████████████████████████████████| 439/439 [00:02<00:00, 214.08it/s, loss=0.0696]\n"
     ]
    },
    {
     "name": "stdout",
     "output_type": "stream",
     "text": [
      "Train Acc: 0.9621874094009399\n",
      "Val Acc: 0.9602299332618713\n",
      "Epoch [27/500]: Train loss: 0.0928, Valid loss: 0.0942\n",
      "Saving model with loss 0.094...\n"
     ]
    },
    {
     "name": "stderr",
     "output_type": "stream",
     "text": [
      "Epoch [28/500]: 100%|████████████████████████████████████████████████████| 439/439 [00:01<00:00, 231.90it/s, loss=0.0843]\n"
     ]
    },
    {
     "name": "stdout",
     "output_type": "stream",
     "text": [
      "Train Acc: 0.9622674584388733\n",
      "Val Acc: 0.9600416421890259\n",
      "Epoch [28/500]: Train loss: 0.0922, Valid loss: 0.0937\n",
      "Saving model with loss 0.094...\n"
     ]
    },
    {
     "name": "stderr",
     "output_type": "stream",
     "text": [
      "Epoch [29/500]: 100%|████████████████████████████████████████████████████| 439/439 [00:02<00:00, 217.19it/s, loss=0.0602]\n"
     ]
    },
    {
     "name": "stdout",
     "output_type": "stream",
     "text": [
      "Train Acc: 0.9622268676757812\n",
      "Val Acc: 0.9599652290344238\n",
      "Epoch [29/500]: Train loss: 0.0916, Valid loss: 0.0935\n",
      "Saving model with loss 0.093...\n"
     ]
    },
    {
     "name": "stderr",
     "output_type": "stream",
     "text": [
      "Epoch [30/500]: 100%|█████████████████████████████████████████████████████| 439/439 [00:01<00:00, 234.20it/s, loss=0.111]\n"
     ]
    },
    {
     "name": "stdout",
     "output_type": "stream",
     "text": [
      "Train Acc: 0.9623081088066101\n",
      "Val Acc: 0.9608134031295776\n",
      "Epoch [30/500]: Train loss: 0.0912, Valid loss: 0.0926\n",
      "Saving model with loss 0.093...\n"
     ]
    },
    {
     "name": "stderr",
     "output_type": "stream",
     "text": [
      "Epoch [31/500]: 100%|████████████████████████████████████████████████████| 439/439 [00:01<00:00, 231.36it/s, loss=0.0722]\n"
     ]
    },
    {
     "name": "stdout",
     "output_type": "stream",
     "text": [
      "Train Acc: 0.9622814059257507\n",
      "Val Acc: 0.9609728455543518\n",
      "Epoch [31/500]: Train loss: 0.0907, Valid loss: 0.0922\n",
      "Saving model with loss 0.092...\n"
     ]
    },
    {
     "name": "stderr",
     "output_type": "stream",
     "text": [
      "Epoch [32/500]: 100%|█████████████████████████████████████████████████████| 439/439 [00:01<00:00, 254.89it/s, loss=0.127]\n"
     ]
    },
    {
     "name": "stdout",
     "output_type": "stream",
     "text": [
      "Train Acc: 0.9621885418891907\n",
      "Val Acc: 0.9610812664031982\n",
      "Epoch [32/500]: Train loss: 0.0904, Valid loss: 0.0920\n",
      "Saving model with loss 0.092...\n"
     ]
    },
    {
     "name": "stderr",
     "output_type": "stream",
     "text": [
      "Epoch [33/500]: 100%|████████████████████████████████████████████████████| 439/439 [00:01<00:00, 228.38it/s, loss=0.0834]\n"
     ]
    },
    {
     "name": "stdout",
     "output_type": "stream",
     "text": [
      "Train Acc: 0.9623069763183594\n",
      "Val Acc: 0.9602775573730469\n",
      "Epoch [33/500]: Train loss: 0.0900, Valid loss: 0.0915\n",
      "Saving model with loss 0.091...\n"
     ]
    },
    {
     "name": "stderr",
     "output_type": "stream",
     "text": [
      "Epoch [34/500]: 100%|████████████████████████████████████████████████████| 439/439 [00:02<00:00, 216.99it/s, loss=0.0621]\n"
     ]
    },
    {
     "name": "stdout",
     "output_type": "stream",
     "text": [
      "Train Acc: 0.9623069763183594\n",
      "Val Acc: 0.9604912400245667\n",
      "Epoch [34/500]: Train loss: 0.0896, Valid loss: 0.0913\n",
      "Saving model with loss 0.091...\n"
     ]
    },
    {
     "name": "stderr",
     "output_type": "stream",
     "text": [
      "Epoch [35/500]: 100%|████████████████████████████████████████████████████| 439/439 [00:01<00:00, 242.25it/s, loss=0.0943]\n"
     ]
    },
    {
     "name": "stdout",
     "output_type": "stream",
     "text": [
      "Train Acc: 0.9622388482093811\n",
      "Val Acc: 0.9605488181114197\n",
      "Epoch [35/500]: Train loss: 0.0894, Valid loss: 0.0910\n",
      "Saving model with loss 0.091...\n"
     ]
    },
    {
     "name": "stderr",
     "output_type": "stream",
     "text": [
      "Epoch [36/500]: 100%|████████████████████████████████████████████████████| 439/439 [00:01<00:00, 219.76it/s, loss=0.0729]\n"
     ]
    },
    {
     "name": "stdout",
     "output_type": "stream",
     "text": [
      "Train Acc: 0.9622902870178223\n",
      "Val Acc: 0.9603893756866455\n",
      "Epoch [36/500]: Train loss: 0.0890, Valid loss: 0.0908\n",
      "Saving model with loss 0.091...\n"
     ]
    },
    {
     "name": "stderr",
     "output_type": "stream",
     "text": [
      "Epoch [37/500]: 100%|████████████████████████████████████████████████████| 439/439 [00:01<00:00, 263.47it/s, loss=0.0252]\n"
     ]
    },
    {
     "name": "stdout",
     "output_type": "stream",
     "text": [
      "Train Acc: 0.9623968005180359\n",
      "Val Acc: 0.960759162902832\n",
      "Epoch [37/500]: Train loss: 0.0888, Valid loss: 0.0903\n",
      "Saving model with loss 0.090...\n"
     ]
    },
    {
     "name": "stderr",
     "output_type": "stream",
     "text": [
      "Epoch [38/500]: 100%|█████████████████████████████████████████████████████| 439/439 [00:01<00:00, 235.31it/s, loss=0.108]\n"
     ]
    },
    {
     "name": "stdout",
     "output_type": "stream",
     "text": [
      "Train Acc: 0.9623239040374756\n",
      "Val Acc: 0.9607048630714417\n",
      "Epoch [38/500]: Train loss: 0.0885, Valid loss: 0.0910\n"
     ]
    },
    {
     "name": "stderr",
     "output_type": "stream",
     "text": [
      "Epoch [39/500]: 100%|████████████████████████████████████████████████████| 439/439 [00:01<00:00, 250.99it/s, loss=0.0766]\n"
     ]
    },
    {
     "name": "stdout",
     "output_type": "stream",
     "text": [
      "Train Acc: 0.962320864200592\n",
      "Val Acc: 0.9608421325683594\n",
      "Epoch [39/500]: Train loss: 0.0883, Valid loss: 0.0900\n",
      "Saving model with loss 0.090...\n"
     ]
    },
    {
     "name": "stderr",
     "output_type": "stream",
     "text": [
      "Epoch [40/500]: 100%|████████████████████████████████████████████████████| 439/439 [00:01<00:00, 242.79it/s, loss=0.0928]\n"
     ]
    },
    {
     "name": "stdout",
     "output_type": "stream",
     "text": [
      "Train Acc: 0.9623525738716125\n",
      "Val Acc: 0.9607558846473694\n",
      "Epoch [40/500]: Train loss: 0.0881, Valid loss: 0.0898\n",
      "Saving model with loss 0.090...\n"
     ]
    },
    {
     "name": "stderr",
     "output_type": "stream",
     "text": [
      "Epoch [41/500]: 100%|████████████████████████████████████████████████████| 439/439 [00:01<00:00, 243.68it/s, loss=0.0511]\n"
     ]
    },
    {
     "name": "stdout",
     "output_type": "stream",
     "text": [
      "Train Acc: 0.962395966053009\n",
      "Val Acc: 0.9605742692947388\n",
      "Epoch [41/500]: Train loss: 0.0879, Valid loss: 0.0900\n"
     ]
    },
    {
     "name": "stderr",
     "output_type": "stream",
     "text": [
      "Epoch [42/500]: 100%|████████████████████████████████████████████████████| 439/439 [00:01<00:00, 240.44it/s, loss=0.0556]\n"
     ]
    },
    {
     "name": "stdout",
     "output_type": "stream",
     "text": [
      "Train Acc: 0.9623108506202698\n",
      "Val Acc: 0.9608355760574341\n",
      "Epoch [42/500]: Train loss: 0.0877, Valid loss: 0.0895\n",
      "Saving model with loss 0.089...\n"
     ]
    },
    {
     "name": "stderr",
     "output_type": "stream",
     "text": [
      "Epoch [43/500]: 100%|████████████████████████████████████████████████████| 439/439 [00:01<00:00, 235.77it/s, loss=0.0784]\n"
     ]
    },
    {
     "name": "stdout",
     "output_type": "stream",
     "text": [
      "Train Acc: 0.9623258709907532\n",
      "Val Acc: 0.9599077105522156\n",
      "Epoch [43/500]: Train loss: 0.0875, Valid loss: 0.0907\n"
     ]
    },
    {
     "name": "stderr",
     "output_type": "stream",
     "text": [
      "Epoch [44/500]: 100%|█████████████████████████████████████████████████████| 439/439 [00:01<00:00, 267.06it/s, loss=0.067]\n"
     ]
    },
    {
     "name": "stdout",
     "output_type": "stream",
     "text": [
      "Train Acc: 0.9623692631721497\n",
      "Val Acc: 0.9605709910392761\n",
      "Epoch [44/500]: Train loss: 0.0874, Valid loss: 0.0895\n"
     ]
    },
    {
     "name": "stderr",
     "output_type": "stream",
     "text": [
      "Epoch [45/500]: 100%|█████████████████████████████████████████████████████| 439/439 [00:01<00:00, 232.69it/s, loss=0.078]\n"
     ]
    },
    {
     "name": "stdout",
     "output_type": "stream",
     "text": [
      "Train Acc: 0.9623050093650818\n",
      "Val Acc: 0.9608931541442871\n",
      "Epoch [45/500]: Train loss: 0.0873, Valid loss: 0.0891\n",
      "Saving model with loss 0.089...\n"
     ]
    },
    {
     "name": "stderr",
     "output_type": "stream",
     "text": [
      "Epoch [46/500]: 100%|████████████████████████████████████████████████████| 439/439 [00:01<00:00, 251.35it/s, loss=0.0718]\n"
     ]
    },
    {
     "name": "stdout",
     "output_type": "stream",
     "text": [
      "Train Acc: 0.9624048471450806\n",
      "Val Acc: 0.9604690670967102\n",
      "Epoch [46/500]: Train loss: 0.0872, Valid loss: 0.0894\n"
     ]
    },
    {
     "name": "stderr",
     "output_type": "stream",
     "text": [
      "Epoch [47/500]: 100%|████████████████████████████████████████████████████| 439/439 [00:01<00:00, 235.74it/s, loss=0.0627]\n"
     ]
    },
    {
     "name": "stdout",
     "output_type": "stream",
     "text": [
      "Train Acc: 0.9624048471450806\n",
      "Val Acc: 0.9607369303703308\n",
      "Epoch [47/500]: Train loss: 0.0870, Valid loss: 0.0890\n",
      "Saving model with loss 0.089...\n"
     ]
    },
    {
     "name": "stderr",
     "output_type": "stream",
     "text": [
      "Epoch [48/500]: 100%|████████████████████████████████████████████████████| 439/439 [00:01<00:00, 247.92it/s, loss=0.0899]\n"
     ]
    },
    {
     "name": "stdout",
     "output_type": "stream",
     "text": [
      "Train Acc: 0.9623456001281738\n",
      "Val Acc: 0.960810124874115\n",
      "Epoch [48/500]: Train loss: 0.0869, Valid loss: 0.0891\n"
     ]
    },
    {
     "name": "stderr",
     "output_type": "stream",
     "text": [
      "Epoch [49/500]: 100%|█████████████████████████████████████████████████████| 439/439 [00:01<00:00, 226.27it/s, loss=0.073]\n"
     ]
    },
    {
     "name": "stdout",
     "output_type": "stream",
     "text": [
      "Train Acc: 0.9623672962188721\n",
      "Val Acc: 0.9608931541442871\n",
      "Epoch [49/500]: Train loss: 0.0868, Valid loss: 0.0888\n",
      "Saving model with loss 0.089...\n"
     ]
    },
    {
     "name": "stderr",
     "output_type": "stream",
     "text": [
      "Epoch [50/500]: 100%|████████████████████████████████████████████████████| 439/439 [00:01<00:00, 246.85it/s, loss=0.0872]\n"
     ]
    },
    {
     "name": "stdout",
     "output_type": "stream",
     "text": [
      "Train Acc: 0.9623061418533325\n",
      "Val Acc: 0.9609473943710327\n",
      "Epoch [50/500]: Train loss: 0.0867, Valid loss: 0.0888\n",
      "Saving model with loss 0.089...\n"
     ]
    },
    {
     "name": "stderr",
     "output_type": "stream",
     "text": [
      "Epoch [51/500]: 100%|████████████████████████████████████████████████████| 439/439 [00:01<00:00, 231.23it/s, loss=0.0738]\n"
     ]
    },
    {
     "name": "stdout",
     "output_type": "stream",
     "text": [
      "Train Acc: 0.9623286724090576\n",
      "Val Acc: 0.9609950184822083\n",
      "Epoch [51/500]: Train loss: 0.0865, Valid loss: 0.0884\n",
      "Saving model with loss 0.088...\n"
     ]
    },
    {
     "name": "stderr",
     "output_type": "stream",
     "text": [
      "Epoch [52/500]: 100%|████████████████████████████████████████████████████| 439/439 [00:01<00:00, 257.56it/s, loss=0.0889]\n"
     ]
    },
    {
     "name": "stdout",
     "output_type": "stream",
     "text": [
      "Train Acc: 0.9623336791992188\n",
      "Val Acc: 0.9607912302017212\n",
      "Epoch [52/500]: Train loss: 0.0865, Valid loss: 0.0888\n"
     ]
    },
    {
     "name": "stderr",
     "output_type": "stream",
     "text": [
      "Epoch [53/500]: 100%|████████████████████████████████████████████████████| 439/439 [00:01<00:00, 241.32it/s, loss=0.0875]\n"
     ]
    },
    {
     "name": "stdout",
     "output_type": "stream",
     "text": [
      "Train Acc: 0.9623258709907532\n",
      "Val Acc: 0.9609218239784241\n",
      "Epoch [53/500]: Train loss: 0.0863, Valid loss: 0.0884\n"
     ]
    },
    {
     "name": "stderr",
     "output_type": "stream",
     "text": [
      "Epoch [54/500]: 100%|████████████████████████████████████████████████████| 439/439 [00:01<00:00, 230.45it/s, loss=0.0893]\n"
     ]
    },
    {
     "name": "stdout",
     "output_type": "stream",
     "text": [
      "Train Acc: 0.9623595476150513\n",
      "Val Acc: 0.9609695672988892\n",
      "Epoch [54/500]: Train loss: 0.0863, Valid loss: 0.0882\n",
      "Saving model with loss 0.088...\n"
     ]
    },
    {
     "name": "stderr",
     "output_type": "stream",
     "text": [
      "Epoch [55/500]: 100%|████████████████████████████████████████████████████| 439/439 [00:01<00:00, 244.59it/s, loss=0.0786]\n"
     ]
    },
    {
     "name": "stdout",
     "output_type": "stream",
     "text": [
      "Train Acc: 0.9623545408248901\n",
      "Val Acc: 0.9611355662345886\n",
      "Epoch [55/500]: Train loss: 0.0863, Valid loss: 0.0884\n"
     ]
    },
    {
     "name": "stderr",
     "output_type": "stream",
     "text": [
      "Epoch [56/500]: 100%|████████████████████████████████████████████████████| 439/439 [00:01<00:00, 248.74it/s, loss=0.0849]\n"
     ]
    },
    {
     "name": "stdout",
     "output_type": "stream",
     "text": [
      "Train Acc: 0.9623475670814514\n",
      "Val Acc: 0.9608931541442871\n",
      "Epoch [56/500]: Train loss: 0.0862, Valid loss: 0.0882\n"
     ]
    },
    {
     "name": "stderr",
     "output_type": "stream",
     "text": [
      "Epoch [57/500]: 100%|█████████████████████████████████████████████████████| 439/439 [00:01<00:00, 261.76it/s, loss=0.115]\n"
     ]
    },
    {
     "name": "stdout",
     "output_type": "stream",
     "text": [
      "Train Acc: 0.9623249769210815\n",
      "Val Acc: 0.9608134031295776\n",
      "Epoch [57/500]: Train loss: 0.0861, Valid loss: 0.0885\n"
     ]
    },
    {
     "name": "stderr",
     "output_type": "stream",
     "text": [
      "Epoch [58/500]: 100%|█████████████████████████████████████████████████████| 439/439 [00:01<00:00, 230.96it/s, loss=0.115]\n"
     ]
    },
    {
     "name": "stdout",
     "output_type": "stream",
     "text": [
      "Train Acc: 0.9622933268547058\n",
      "Val Acc: 0.9608166813850403\n",
      "Epoch [58/500]: Train loss: 0.0860, Valid loss: 0.0883\n"
     ]
    },
    {
     "name": "stderr",
     "output_type": "stream",
     "text": [
      "Epoch [59/500]: 100%|████████████████████████████████████████████████████| 439/439 [00:01<00:00, 252.32it/s, loss=0.0966]\n"
     ]
    },
    {
     "name": "stdout",
     "output_type": "stream",
     "text": [
      "Train Acc: 0.962402880191803\n",
      "Val Acc: 0.9600992202758789\n",
      "Epoch [59/500]: Train loss: 0.0860, Valid loss: 0.0888\n"
     ]
    },
    {
     "name": "stderr",
     "output_type": "stream",
     "text": [
      "Epoch [60/500]: 100%|████████████████████████████████████████████████████| 439/439 [00:01<00:00, 233.76it/s, loss=0.0696]\n"
     ]
    },
    {
     "name": "stdout",
     "output_type": "stream",
     "text": [
      "Train Acc: 0.9623336791992188\n",
      "Val Acc: 0.9607912302017212\n",
      "Epoch [60/500]: Train loss: 0.0859, Valid loss: 0.0883\n"
     ]
    },
    {
     "name": "stderr",
     "output_type": "stream",
     "text": [
      "Epoch [61/500]: 100%|████████████████████████████████████████████████████| 439/439 [00:01<00:00, 279.53it/s, loss=0.0692]\n"
     ]
    },
    {
     "name": "stdout",
     "output_type": "stream",
     "text": [
      "Train Acc: 0.9623138904571533\n",
      "Val Acc: 0.9612629413604736\n",
      "Epoch [61/500]: Train loss: 0.0859, Valid loss: 0.0879\n",
      "Saving model with loss 0.088...\n"
     ]
    },
    {
     "name": "stderr",
     "output_type": "stream",
     "text": [
      "Epoch [62/500]: 100%|████████████████████████████████████████████████████| 439/439 [00:01<00:00, 244.99it/s, loss=0.0994]\n"
     ]
    },
    {
     "name": "stdout",
     "output_type": "stream",
     "text": [
      "Train Acc: 0.9623664617538452\n",
      "Val Acc: 0.9612884521484375\n",
      "Epoch [62/500]: Train loss: 0.0858, Valid loss: 0.0878\n",
      "Saving model with loss 0.088...\n"
     ]
    },
    {
     "name": "stderr",
     "output_type": "stream",
     "text": [
      "Epoch [63/500]: 100%|████████████████████████████████████████████████████| 439/439 [00:01<00:00, 223.96it/s, loss=0.0956]\n"
     ]
    },
    {
     "name": "stdout",
     "output_type": "stream",
     "text": [
      "Train Acc: 0.9624009728431702\n",
      "Val Acc: 0.9608166813850403\n",
      "Epoch [63/500]: Train loss: 0.0857, Valid loss: 0.0879\n"
     ]
    },
    {
     "name": "stderr",
     "output_type": "stream",
     "text": [
      "Epoch [64/500]: 100%|█████████████████████████████████████████████████████| 439/439 [00:01<00:00, 253.66it/s, loss=0.104]\n"
     ]
    },
    {
     "name": "stdout",
     "output_type": "stream",
     "text": [
      "Train Acc: 0.9624001383781433\n",
      "Val Acc: 0.9609506726264954\n",
      "Epoch [64/500]: Train loss: 0.0857, Valid loss: 0.0880\n"
     ]
    },
    {
     "name": "stderr",
     "output_type": "stream",
     "text": [
      "Epoch [65/500]: 100%|████████████████████████████████████████████████████| 439/439 [00:01<00:00, 228.17it/s, loss=0.0951]\n"
     ]
    },
    {
     "name": "stdout",
     "output_type": "stream",
     "text": [
      "Train Acc: 0.9623595476150513\n",
      "Val Acc: 0.9609473943710327\n",
      "Epoch [65/500]: Train loss: 0.0856, Valid loss: 0.0881\n"
     ]
    },
    {
     "name": "stderr",
     "output_type": "stream",
     "text": [
      "Epoch [66/500]: 100%|████████████████████████████████████████████████████| 439/439 [00:01<00:00, 245.67it/s, loss=0.0977]\n"
     ]
    },
    {
     "name": "stdout",
     "output_type": "stream",
     "text": [
      "Train Acc: 0.9623773097991943\n",
      "Val Acc: 0.9611256718635559\n",
      "Epoch [66/500]: Train loss: 0.0855, Valid loss: 0.0876\n",
      "Saving model with loss 0.088...\n"
     ]
    },
    {
     "name": "stderr",
     "output_type": "stream",
     "text": [
      "Epoch [67/500]: 100%|████████████████████████████████████████████████████| 439/439 [00:01<00:00, 222.35it/s, loss=0.0595]\n"
     ]
    },
    {
     "name": "stdout",
     "output_type": "stream",
     "text": [
      "Train Acc: 0.9624334573745728\n",
      "Val Acc: 0.9608134031295776\n",
      "Epoch [67/500]: Train loss: 0.0855, Valid loss: 0.0879\n"
     ]
    },
    {
     "name": "stderr",
     "output_type": "stream",
     "text": [
      "Epoch [68/500]: 100%|████████████████████████████████████████████████████| 439/439 [00:01<00:00, 238.75it/s, loss=0.0793]\n"
     ]
    },
    {
     "name": "stdout",
     "output_type": "stream",
     "text": [
      "Train Acc: 0.9623603820800781\n",
      "Val Acc: 0.9613393545150757\n",
      "Epoch [68/500]: Train loss: 0.0855, Valid loss: 0.0874\n",
      "Saving model with loss 0.087...\n"
     ]
    },
    {
     "name": "stderr",
     "output_type": "stream",
     "text": [
      "Epoch [69/500]: 100%|████████████████████████████████████████████████████| 439/439 [00:01<00:00, 220.23it/s, loss=0.0919]\n"
     ]
    },
    {
     "name": "stdout",
     "output_type": "stream",
     "text": [
      "Train Acc: 0.9623645544052124\n",
      "Val Acc: 0.9612087607383728\n",
      "Epoch [69/500]: Train loss: 0.0854, Valid loss: 0.0876\n"
     ]
    },
    {
     "name": "stderr",
     "output_type": "stream",
     "text": [
      "Epoch [70/500]: 100%|████████████████████████████████████████████████████| 439/439 [00:01<00:00, 246.64it/s, loss=0.0515]\n"
     ]
    },
    {
     "name": "stdout",
     "output_type": "stream",
     "text": [
      "Train Acc: 0.9623445272445679\n",
      "Val Acc: 0.9612374305725098\n",
      "Epoch [70/500]: Train loss: 0.0854, Valid loss: 0.0875\n"
     ]
    },
    {
     "name": "stderr",
     "output_type": "stream",
     "text": [
      "Epoch [71/500]: 100%|█████████████████████████████████████████████████████| 439/439 [00:01<00:00, 242.25it/s, loss=0.087]\n"
     ]
    },
    {
     "name": "stdout",
     "output_type": "stream",
     "text": [
      "Train Acc: 0.9623990058898926\n",
      "Val Acc: 0.9610812664031982\n",
      "Epoch [71/500]: Train loss: 0.0853, Valid loss: 0.0876\n"
     ]
    },
    {
     "name": "stderr",
     "output_type": "stream",
     "text": [
      "Epoch [72/500]: 100%|████████████████████████████████████████████████████| 439/439 [00:01<00:00, 245.55it/s, loss=0.0996]\n"
     ]
    },
    {
     "name": "stdout",
     "output_type": "stream",
     "text": [
      "Train Acc: 0.9623595476150513\n",
      "Val Acc: 0.9609218239784241\n",
      "Epoch [72/500]: Train loss: 0.0853, Valid loss: 0.0877\n"
     ]
    },
    {
     "name": "stderr",
     "output_type": "stream",
     "text": [
      "Epoch [73/500]: 100%|████████████████████████████████████████████████████| 439/439 [00:01<00:00, 244.58it/s, loss=0.0861]\n"
     ]
    },
    {
     "name": "stdout",
     "output_type": "stream",
     "text": [
      "Train Acc: 0.9623684287071228\n",
      "Val Acc: 0.9610525369644165\n",
      "Epoch [73/500]: Train loss: 0.0853, Valid loss: 0.0878\n"
     ]
    },
    {
     "name": "stderr",
     "output_type": "stream",
     "text": [
      "Epoch [74/500]: 100%|█████████████████████████████████████████████████████| 439/439 [00:01<00:00, 231.91it/s, loss=0.111]\n"
     ]
    },
    {
     "name": "stdout",
     "output_type": "stream",
     "text": [
      "Train Acc: 0.9624128937721252\n",
      "Val Acc: 0.9612884521484375\n",
      "Epoch [74/500]: Train loss: 0.0853, Valid loss: 0.0874\n",
      "Saving model with loss 0.087...\n"
     ]
    },
    {
     "name": "stderr",
     "output_type": "stream",
     "text": [
      "Epoch [75/500]: 100%|████████████████████████████████████████████████████| 439/439 [00:01<00:00, 265.12it/s, loss=0.0553]\n"
     ]
    },
    {
     "name": "stdout",
     "output_type": "stream",
     "text": [
      "Train Acc: 0.9624137282371521\n",
      "Val Acc: 0.9610812664031982\n",
      "Epoch [75/500]: Train loss: 0.0852, Valid loss: 0.0877\n"
     ]
    },
    {
     "name": "stderr",
     "output_type": "stream",
     "text": [
      "Epoch [76/500]: 100%|████████████████████████████████████████████████████| 439/439 [00:01<00:00, 230.20it/s, loss=0.0991]\n"
     ]
    },
    {
     "name": "stdout",
     "output_type": "stream",
     "text": [
      "Train Acc: 0.962356448173523\n",
      "Val Acc: 0.9613393545150757\n",
      "Epoch [76/500]: Train loss: 0.0851, Valid loss: 0.0873\n",
      "Saving model with loss 0.087...\n"
     ]
    },
    {
     "name": "stderr",
     "output_type": "stream",
     "text": [
      "Epoch [77/500]: 100%|█████████████████████████████████████████████████████| 439/439 [00:01<00:00, 245.62it/s, loss=0.092]\n"
     ]
    },
    {
     "name": "stdout",
     "output_type": "stream",
     "text": [
      "Train Acc: 0.9623742699623108\n",
      "Val Acc: 0.9609252214431763\n",
      "Epoch [77/500]: Train loss: 0.0852, Valid loss: 0.0877\n"
     ]
    },
    {
     "name": "stderr",
     "output_type": "stream",
     "text": [
      "Epoch [78/500]: 100%|████████████████████████████████████████████████████| 439/439 [00:01<00:00, 228.75it/s, loss=0.0854]\n"
     ]
    },
    {
     "name": "stdout",
     "output_type": "stream",
     "text": [
      "Train Acc: 0.9623367190361023\n",
      "Val Acc: 0.9611355662345886\n",
      "Epoch [78/500]: Train loss: 0.0851, Valid loss: 0.0877\n"
     ]
    },
    {
     "name": "stderr",
     "output_type": "stream",
     "text": [
      "Epoch [79/500]: 100%|████████████████████████████████████████████████████| 439/439 [00:01<00:00, 242.86it/s, loss=0.0786]\n"
     ]
    },
    {
     "name": "stdout",
     "output_type": "stream",
     "text": [
      "Train Acc: 0.9624168276786804\n",
      "Val Acc: 0.9610081911087036\n",
      "Epoch [79/500]: Train loss: 0.0851, Valid loss: 0.0877\n"
     ]
    },
    {
     "name": "stderr",
     "output_type": "stream",
     "text": [
      "Epoch [80/500]: 100%|████████████████████████████████████████████████████| 439/439 [00:01<00:00, 222.72it/s, loss=0.0864]\n"
     ]
    },
    {
     "name": "stdout",
     "output_type": "stream",
     "text": [
      "Train Acc: 0.9623881578445435\n",
      "Val Acc: 0.9612629413604736\n",
      "Epoch [80/500]: Train loss: 0.0850, Valid loss: 0.0872\n",
      "Saving model with loss 0.087...\n"
     ]
    },
    {
     "name": "stderr",
     "output_type": "stream",
     "text": [
      "Epoch [81/500]: 100%|████████████████████████████████████████████████████| 439/439 [00:01<00:00, 246.65it/s, loss=0.0849]\n"
     ]
    },
    {
     "name": "stdout",
     "output_type": "stream",
     "text": [
      "Train Acc: 0.9623990058898926\n",
      "Val Acc: 0.9609218239784241\n",
      "Epoch [81/500]: Train loss: 0.0850, Valid loss: 0.0876\n"
     ]
    },
    {
     "name": "stderr",
     "output_type": "stream",
     "text": [
      "Epoch [82/500]: 100%|█████████████████████████████████████████████████████| 439/439 [00:01<00:00, 241.70it/s, loss=0.127]\n"
     ]
    },
    {
     "name": "stdout",
     "output_type": "stream",
     "text": [
      "Train Acc: 0.9623289108276367\n",
      "Val Acc: 0.9611355662345886\n",
      "Epoch [82/500]: Train loss: 0.0850, Valid loss: 0.0874\n"
     ]
    },
    {
     "name": "stderr",
     "output_type": "stream",
     "text": [
      "Epoch [83/500]: 100%|█████████████████████████████████████████████████████| 439/439 [00:01<00:00, 224.50it/s, loss=0.102]\n"
     ]
    },
    {
     "name": "stdout",
     "output_type": "stream",
     "text": [
      "Train Acc: 0.9624287486076355\n",
      "Val Acc: 0.961259663105011\n",
      "Epoch [83/500]: Train loss: 0.0849, Valid loss: 0.0877\n"
     ]
    },
    {
     "name": "stderr",
     "output_type": "stream",
     "text": [
      "Epoch [84/500]: 100%|█████████████████████████████████████████████████████| 439/439 [00:01<00:00, 251.28it/s, loss=0.109]\n"
     ]
    },
    {
     "name": "stdout",
     "output_type": "stream",
     "text": [
      "Train Acc: 0.9623467326164246\n",
      "Val Acc: 0.9610747694969177\n",
      "Epoch [84/500]: Train loss: 0.0849, Valid loss: 0.0873\n"
     ]
    },
    {
     "name": "stderr",
     "output_type": "stream",
     "text": [
      "Epoch [85/500]: 100%|█████████████████████████████████████████████████████| 439/439 [00:01<00:00, 221.22it/s, loss=0.105]\n"
     ]
    },
    {
     "name": "stdout",
     "output_type": "stream",
     "text": [
      "Train Acc: 0.9623664617538452\n",
      "Val Acc: 0.9612119793891907\n",
      "Epoch [85/500]: Train loss: 0.0849, Valid loss: 0.0873\n"
     ]
    },
    {
     "name": "stderr",
     "output_type": "stream",
     "text": [
      "Epoch [86/500]: 100%|████████████████████████████████████████████████████| 439/439 [00:01<00:00, 249.64it/s, loss=0.0857]\n"
     ]
    },
    {
     "name": "stdout",
     "output_type": "stream",
     "text": [
      "Train Acc: 0.9623456001281738\n",
      "Val Acc: 0.9613648056983948\n",
      "Epoch [86/500]: Train loss: 0.0849, Valid loss: 0.0871\n",
      "Saving model with loss 0.087...\n"
     ]
    },
    {
     "name": "stderr",
     "output_type": "stream",
     "text": [
      "Epoch [87/500]: 100%|████████████████████████████████████████████████████| 439/439 [00:01<00:00, 231.11it/s, loss=0.0703]\n"
     ]
    },
    {
     "name": "stdout",
     "output_type": "stream",
     "text": [
      "Train Acc: 0.9623603820800781\n",
      "Val Acc: 0.9611577391624451\n",
      "Epoch [87/500]: Train loss: 0.0849, Valid loss: 0.0873\n"
     ]
    },
    {
     "name": "stderr",
     "output_type": "stream",
     "text": [
      "Epoch [88/500]: 100%|█████████████████████████████████████████████████████| 439/439 [00:01<00:00, 256.92it/s, loss=0.095]\n"
     ]
    },
    {
     "name": "stdout",
     "output_type": "stream",
     "text": [
      "Train Acc: 0.962397038936615\n",
      "Val Acc: 0.9609982967376709\n",
      "Epoch [88/500]: Train loss: 0.0848, Valid loss: 0.0874\n"
     ]
    },
    {
     "name": "stderr",
     "output_type": "stream",
     "text": [
      "Epoch [89/500]: 100%|████████████████████████████████████████████████████| 439/439 [00:01<00:00, 229.07it/s, loss=0.0926]\n"
     ]
    },
    {
     "name": "stdout",
     "output_type": "stream",
     "text": [
      "Train Acc: 0.9623951315879822\n",
      "Val Acc: 0.9608709216117859\n",
      "Epoch [89/500]: Train loss: 0.0848, Valid loss: 0.0876\n"
     ]
    },
    {
     "name": "stderr",
     "output_type": "stream",
     "text": [
      "Epoch [90/500]: 100%|████████████████████████████████████████████████████| 439/439 [00:01<00:00, 249.39it/s, loss=0.0932]\n"
     ]
    },
    {
     "name": "stdout",
     "output_type": "stream",
     "text": [
      "Train Acc: 0.9623881578445435\n",
      "Val Acc: 0.9609728455543518\n",
      "Epoch [90/500]: Train loss: 0.0847, Valid loss: 0.0873\n"
     ]
    },
    {
     "name": "stderr",
     "output_type": "stream",
     "text": [
      "Epoch [91/500]: 100%|████████████████████████████████████████████████████| 439/439 [00:01<00:00, 244.60it/s, loss=0.0716]\n"
     ]
    },
    {
     "name": "stdout",
     "output_type": "stream",
     "text": [
      "Train Acc: 0.9623920321464539\n",
      "Val Acc: 0.9611290097236633\n",
      "Epoch [91/500]: Train loss: 0.0848, Valid loss: 0.0874\n"
     ]
    },
    {
     "name": "stderr",
     "output_type": "stream",
     "text": [
      "Epoch [92/500]: 100%|████████████████████████████████████████████████████| 439/439 [00:01<00:00, 243.37it/s, loss=0.0488]\n"
     ]
    },
    {
     "name": "stdout",
     "output_type": "stream",
     "text": [
      "Train Acc: 0.9623998403549194\n",
      "Val Acc: 0.9611101150512695\n",
      "Epoch [92/500]: Train loss: 0.0847, Valid loss: 0.0874\n"
     ]
    },
    {
     "name": "stderr",
     "output_type": "stream",
     "text": [
      "Epoch [93/500]: 100%|████████████████████████████████████████████████████| 439/439 [00:01<00:00, 247.13it/s, loss=0.0802]\n"
     ]
    },
    {
     "name": "stdout",
     "output_type": "stream",
     "text": [
      "Train Acc: 0.9623881578445435\n",
      "Val Acc: 0.9609982967376709\n",
      "Epoch [93/500]: Train loss: 0.0847, Valid loss: 0.0873\n"
     ]
    },
    {
     "name": "stderr",
     "output_type": "stream",
     "text": [
      "Epoch [94/500]: 100%|████████████████████████████████████████████████████| 439/439 [00:01<00:00, 226.91it/s, loss=0.0725]\n"
     ]
    },
    {
     "name": "stdout",
     "output_type": "stream",
     "text": [
      "Train Acc: 0.9624295830726624\n",
      "Val Acc: 0.9612119793891907\n",
      "Epoch [94/500]: Train loss: 0.0847, Valid loss: 0.0871\n"
     ]
    },
    {
     "name": "stderr",
     "output_type": "stream",
     "text": [
      "Epoch [95/500]: 100%|█████████████████████████████████████████████████████| 439/439 [00:01<00:00, 247.94it/s, loss=0.101]\n"
     ]
    },
    {
     "name": "stdout",
     "output_type": "stream",
     "text": [
      "Train Acc: 0.9623931646347046\n",
      "Val Acc: 0.9610525369644165\n",
      "Epoch [95/500]: Train loss: 0.0847, Valid loss: 0.0872\n"
     ]
    },
    {
     "name": "stderr",
     "output_type": "stream",
     "text": [
      "Epoch [96/500]: 100%|███████████████████████████████████████████████████████| 439/439 [00:01<00:00, 227.22it/s, loss=0.1]\n"
     ]
    },
    {
     "name": "stdout",
     "output_type": "stream",
     "text": [
      "Train Acc: 0.9623872637748718\n",
      "Val Acc: 0.9609506726264954\n",
      "Epoch [96/500]: Train loss: 0.0847, Valid loss: 0.0875\n"
     ]
    },
    {
     "name": "stderr",
     "output_type": "stream",
     "text": [
      "Epoch [97/500]: 100%|█████████████████████████████████████████████████████| 439/439 [00:01<00:00, 249.88it/s, loss=0.105]\n"
     ]
    },
    {
     "name": "stdout",
     "output_type": "stream",
     "text": [
      "Train Acc: 0.9623931646347046\n",
      "Val Acc: 0.9609506726264954\n",
      "Epoch [97/500]: Train loss: 0.0846, Valid loss: 0.0878\n"
     ]
    },
    {
     "name": "stderr",
     "output_type": "stream",
     "text": [
      "Epoch [98/500]: 100%|████████████████████████████████████████████████████| 439/439 [00:01<00:00, 230.06it/s, loss=0.0924]\n"
     ]
    },
    {
     "name": "stdout",
     "output_type": "stream",
     "text": [
      "Train Acc: 0.9624168276786804\n",
      "Val Acc: 0.9611865282058716\n",
      "Epoch [98/500]: Train loss: 0.0846, Valid loss: 0.0873\n"
     ]
    },
    {
     "name": "stderr",
     "output_type": "stream",
     "text": [
      "Epoch [99/500]: 100%|████████████████████████████████████████████████████| 439/439 [00:01<00:00, 248.06it/s, loss=0.0777]\n"
     ]
    },
    {
     "name": "stdout",
     "output_type": "stream",
     "text": [
      "Train Acc: 0.9624187350273132\n",
      "Val Acc: 0.961259663105011\n",
      "Epoch [99/500]: Train loss: 0.0846, Valid loss: 0.0870\n",
      "Saving model with loss 0.087...\n"
     ]
    },
    {
     "name": "stderr",
     "output_type": "stream",
     "text": [
      "Epoch [100/500]: 100%|███████████████████████████████████████████████████| 439/439 [00:01<00:00, 226.47it/s, loss=0.0716]\n"
     ]
    },
    {
     "name": "stdout",
     "output_type": "stream",
     "text": [
      "Train Acc: 0.9624009728431702\n",
      "Val Acc: 0.9609728455543518\n",
      "Epoch [100/500]: Train loss: 0.0846, Valid loss: 0.0872\n"
     ]
    },
    {
     "name": "stderr",
     "output_type": "stream",
     "text": [
      "Epoch [101/500]: 100%|███████████████████████████████████████████████████| 439/439 [00:01<00:00, 248.56it/s, loss=0.0736]\n"
     ]
    },
    {
     "name": "stdout",
     "output_type": "stream",
     "text": [
      "Train Acc: 0.9623672962188721\n",
      "Val Acc: 0.9611068367958069\n",
      "Epoch [101/500]: Train loss: 0.0846, Valid loss: 0.0872\n"
     ]
    },
    {
     "name": "stderr",
     "output_type": "stream",
     "text": [
      "Epoch [102/500]: 100%|███████████████████████████████████████████████████| 439/439 [00:01<00:00, 241.64it/s, loss=0.0605]\n"
     ]
    },
    {
     "name": "stdout",
     "output_type": "stream",
     "text": [
      "Train Acc: 0.9623712301254272\n",
      "Val Acc: 0.9610525369644165\n",
      "Epoch [102/500]: Train loss: 0.0846, Valid loss: 0.0873\n"
     ]
    },
    {
     "name": "stderr",
     "output_type": "stream",
     "text": [
      "Epoch [103/500]: 100%|███████████████████████████████████████████████████| 439/439 [00:01<00:00, 227.37it/s, loss=0.0759]\n"
     ]
    },
    {
     "name": "stdout",
     "output_type": "stream",
     "text": [
      "Train Acc: 0.962402880191803\n",
      "Val Acc: 0.9610081911087036\n",
      "Epoch [103/500]: Train loss: 0.0845, Valid loss: 0.0875\n"
     ]
    },
    {
     "name": "stderr",
     "output_type": "stream",
     "text": [
      "Epoch [104/500]: 100%|███████████████████████████████████████████████████| 439/439 [00:01<00:00, 251.06it/s, loss=0.0644]\n"
     ]
    },
    {
     "name": "stdout",
     "output_type": "stream",
     "text": [
      "Train Acc: 0.9624009728431702\n",
      "Val Acc: 0.9610270857810974\n",
      "Epoch [104/500]: Train loss: 0.0845, Valid loss: 0.0873\n"
     ]
    },
    {
     "name": "stderr",
     "output_type": "stream",
     "text": [
      "Epoch [105/500]: 100%|████████████████████████████████████████████████████| 439/439 [00:01<00:00, 230.01it/s, loss=0.109]\n"
     ]
    },
    {
     "name": "stdout",
     "output_type": "stream",
     "text": [
      "Train Acc: 0.962419867515564\n",
      "Val Acc: 0.9612119793891907\n",
      "Epoch [105/500]: Train loss: 0.0845, Valid loss: 0.0871\n"
     ]
    },
    {
     "name": "stderr",
     "output_type": "stream",
     "text": [
      "Epoch [106/500]: 100%|███████████████████████████████████████████████████| 439/439 [00:01<00:00, 249.38it/s, loss=0.0806]\n"
     ]
    },
    {
     "name": "stdout",
     "output_type": "stream",
     "text": [
      "Train Acc: 0.9623672962188721\n",
      "Val Acc: 0.9611831903457642\n",
      "Epoch [106/500]: Train loss: 0.0845, Valid loss: 0.0870\n"
     ]
    },
    {
     "name": "stderr",
     "output_type": "stream",
     "text": [
      "Epoch [107/500]: 100%|███████████████████████████████████████████████████| 439/439 [00:01<00:00, 224.31it/s, loss=0.0787]\n"
     ]
    },
    {
     "name": "stdout",
     "output_type": "stream",
     "text": [
      "Train Acc: 0.9623831510543823\n",
      "Val Acc: 0.9611610174179077\n",
      "Epoch [107/500]: Train loss: 0.0845, Valid loss: 0.0872\n"
     ]
    },
    {
     "name": "stderr",
     "output_type": "stream",
     "text": [
      "Epoch [108/500]: 100%|███████████████████████████████████████████████████| 439/439 [00:01<00:00, 247.30it/s, loss=0.0939]\n"
     ]
    },
    {
     "name": "stdout",
     "output_type": "stream",
     "text": [
      "Train Acc: 0.9624148607254028\n",
      "Val Acc: 0.9612884521484375\n",
      "Epoch [108/500]: Train loss: 0.0845, Valid loss: 0.0870\n"
     ]
    },
    {
     "name": "stderr",
     "output_type": "stream",
     "text": [
      "Epoch [109/500]: 100%|███████████████████████████████████████████████████| 439/439 [00:01<00:00, 225.44it/s, loss=0.0791]\n"
     ]
    },
    {
     "name": "stdout",
     "output_type": "stream",
     "text": [
      "Train Acc: 0.962390124797821\n",
      "Val Acc: 0.9610525369644165\n",
      "Epoch [109/500]: Train loss: 0.0844, Valid loss: 0.0873\n"
     ]
    },
    {
     "name": "stderr",
     "output_type": "stream",
     "text": [
      "Epoch [110/500]: 100%|████████████████████████████████████████████████████| 439/439 [00:01<00:00, 256.55it/s, loss=0.118]\n"
     ]
    },
    {
     "name": "stdout",
     "output_type": "stream",
     "text": [
      "Train Acc: 0.9623200297355652\n",
      "Val Acc: 0.9611577391624451\n",
      "Epoch [110/500]: Train loss: 0.0845, Valid loss: 0.0871\n"
     ]
    },
    {
     "name": "stderr",
     "output_type": "stream",
     "text": [
      "Epoch [111/500]: 100%|███████████████████████████████████████████████████| 439/439 [00:01<00:00, 245.97it/s, loss=0.0856]\n"
     ]
    },
    {
     "name": "stdout",
     "output_type": "stream",
     "text": [
      "Train Acc: 0.9623920321464539\n",
      "Val Acc: 0.9612374305725098\n",
      "Epoch [111/500]: Train loss: 0.0845, Valid loss: 0.0871\n"
     ]
    },
    {
     "name": "stderr",
     "output_type": "stream",
     "text": [
      "Epoch [112/500]: 100%|███████████████████████████████████████████████████| 439/439 [00:01<00:00, 248.75it/s, loss=0.0836]\n"
     ]
    },
    {
     "name": "stdout",
     "output_type": "stream",
     "text": [
      "Train Acc: 0.9623386859893799\n",
      "Val Acc: 0.9611610174179077\n",
      "Epoch [112/500]: Train loss: 0.0844, Valid loss: 0.0873\n"
     ]
    },
    {
     "name": "stderr",
     "output_type": "stream",
     "text": [
      "Epoch [113/500]: 100%|███████████████████████████████████████████████████| 439/439 [00:01<00:00, 242.00it/s, loss=0.0907]\n"
     ]
    },
    {
     "name": "stdout",
     "output_type": "stream",
     "text": [
      "Train Acc: 0.9624098539352417\n",
      "Val Acc: 0.9610780477523804\n",
      "Epoch [113/500]: Train loss: 0.0844, Valid loss: 0.0874\n"
     ]
    },
    {
     "name": "stderr",
     "output_type": "stream",
     "text": [
      "Epoch [114/500]: 100%|████████████████████████████████████████████████████| 439/439 [00:01<00:00, 226.00it/s, loss=0.125]\n"
     ]
    },
    {
     "name": "stdout",
     "output_type": "stream",
     "text": [
      "Train Acc: 0.9623664617538452\n",
      "Val Acc: 0.9612374305725098\n",
      "Epoch [114/500]: Train loss: 0.0844, Valid loss: 0.0871\n"
     ]
    },
    {
     "name": "stderr",
     "output_type": "stream",
     "text": [
      "Epoch [115/500]: 100%|████████████████████████████████████████████████████| 439/439 [00:01<00:00, 250.76it/s, loss=0.108]\n"
     ]
    },
    {
     "name": "stdout",
     "output_type": "stream",
     "text": [
      "Train Acc: 0.9623556137084961\n",
      "Val Acc: 0.9610270857810974\n",
      "Epoch [115/500]: Train loss: 0.0844, Valid loss: 0.0872\n"
     ]
    },
    {
     "name": "stderr",
     "output_type": "stream",
     "text": [
      "Epoch [116/500]: 100%|███████████████████████████████████████████████████| 439/439 [00:01<00:00, 226.98it/s, loss=0.0881]\n"
     ]
    },
    {
     "name": "stdout",
     "output_type": "stream",
     "text": [
      "Train Acc: 0.9623703956604004\n",
      "Val Acc: 0.9611068367958069\n",
      "Epoch [116/500]: Train loss: 0.0844, Valid loss: 0.0872\n"
     ]
    },
    {
     "name": "stderr",
     "output_type": "stream",
     "text": [
      "Epoch [117/500]: 100%|████████████████████████████████████████████████████| 439/439 [00:01<00:00, 242.49it/s, loss=0.077]\n"
     ]
    },
    {
     "name": "stdout",
     "output_type": "stream",
     "text": [
      "Train Acc: 0.9624078869819641\n",
      "Val Acc: 0.9610525369644165\n",
      "Epoch [117/500]: Train loss: 0.0844, Valid loss: 0.0872\n"
     ]
    },
    {
     "name": "stderr",
     "output_type": "stream",
     "text": [
      "Epoch [118/500]: 100%|███████████████████████████████████████████████████| 439/439 [00:01<00:00, 224.89it/s, loss=0.0589]\n"
     ]
    },
    {
     "name": "stdout",
     "output_type": "stream",
     "text": [
      "Train Acc: 0.962408721446991\n",
      "Val Acc: 0.9611577391624451\n",
      "Epoch [118/500]: Train loss: 0.0844, Valid loss: 0.0871\n"
     ]
    },
    {
     "name": "stderr",
     "output_type": "stream",
     "text": [
      "Epoch [119/500]: 100%|████████████████████████████████████████████████████| 439/439 [00:01<00:00, 272.79it/s, loss=0.104]\n"
     ]
    },
    {
     "name": "stdout",
     "output_type": "stream",
     "text": [
      "Train Acc: 0.9623861908912659\n",
      "Val Acc: 0.9611034989356995\n",
      "Epoch [119/500]: Train loss: 0.0843, Valid loss: 0.0873\n",
      "\n",
      "Model is not improving, so we halt the training session.\n"
     ]
    }
   ],
   "source": [
    "trainer(train_loader, valid_loader, model, config, device)"
   ]
  },
  {
   "cell_type": "code",
   "execution_count": 41,
   "id": "40473c29",
   "metadata": {},
   "outputs": [
    {
     "data": {
      "image/png": "[encoded data removed]",
      "text/plain": [
       "<Figure size 640x480 with 1 Axes>"
      ]
     },
     "metadata": {},
     "output_type": "display_data"
    }
   ],
   "source": [
    "from matplotlib import pyplot\n",
    "pyplot.plot(train_loss, label='train')\n",
    "pyplot.plot(val_loss, label='valid')\n",
    "pyplot.legend()\n",
    "pyplot.show()"
   ]
  },
  {
   "cell_type": "code",
   "execution_count": 42,
   "id": "918184d7",
   "metadata": {},
   "outputs": [
    {
     "name": "stderr",
     "output_type": "stream",
     "text": [
      "100%|████████████████████████████████████████████████████████████████████████████████| 122/122 [00:00<00:00, 1364.48it/s]"
     ]
    },
    {
     "name": "stdout",
     "output_type": "stream",
     "text": [
      "[[ 7.517808  -6.835399 ]\n",
      " [ 5.805566  -5.397224 ]\n",
      " [ 5.5932417 -5.0461283]\n",
      " ...\n",
      " [ 6.9670563 -6.180004 ]\n",
      " [ 8.025436  -7.427295 ]\n",
      " [ 6.5177584 -5.83995  ]]\n"
     ]
    },
    {
     "name": "stderr",
     "output_type": "stream",
     "text": [
      "\n"
     ]
    }
   ],
   "source": [
    "model = DNN_Regression(input_dim=train_x.shape[1]).to(device)\n",
    "model.load_state_dict(torch.load(config['save_path']))\n",
    "preds = predict(test_loader, model, device)\n",
    "print(preds)"
   ]
  },
  {
   "cell_type": "code",
   "execution_count": 43,
   "id": "9313dc4b",
   "metadata": {},
   "outputs": [],
   "source": [
    "from scipy.special import softmax\n",
    "\n",
    "fp = open(\"result-DNNAdamSMOTE-0.962388.txt\", 'w')\n",
    "\n",
    "fp.write(\"index, score\\n\")\n",
    "for index, pred in enumerate(preds):\n",
    "    fp.write(f\"{index}, {softmax(pred)[1]}\\n\")\n",
    "    "
   ]
  },
  {
   "cell_type": "code",
   "execution_count": 18,
   "id": "fc851b0e",
   "metadata": {},
   "outputs": [],
   "source": [
    "prediction = []\n",
    "for i in preds:\n",
    "    if i[0] > i[1]:\n",
    "        prediction.append(0)\n",
    "    else:\n",
    "        prediction.append(1)"
   ]
  },
  {
   "cell_type": "code",
   "execution_count": 19,
   "id": "d67e9a1e",
   "metadata": {},
   "outputs": [
    {
     "data": {
      "text/html": [
       "<div>\n",
       "<style scoped>\n",
       "    .dataframe tbody tr th:only-of-type {\n",
       "        vertical-align: middle;\n",
       "    }\n",
       "\n",
       "    .dataframe tbody tr th {\n",
       "        vertical-align: top;\n",
       "    }\n",
       "\n",
       "    .dataframe thead th {\n",
       "        text-align: right;\n",
       "    }\n",
       "</style>\n",
       "<table border=\"1\" class=\"dataframe\">\n",
       "  <thead>\n",
       "    <tr style=\"text-align: right;\">\n",
       "      <th></th>\n",
       "      <th>0</th>\n",
       "      <th>y</th>\n",
       "      <th>groundTrue</th>\n",
       "    </tr>\n",
       "  </thead>\n",
       "  <tbody>\n",
       "    <tr>\n",
       "      <th>0</th>\n",
       "      <td>2.518758</td>\n",
       "      <td>0</td>\n",
       "      <td>0</td>\n",
       "    </tr>\n",
       "    <tr>\n",
       "      <th>1</th>\n",
       "      <td>2.633924</td>\n",
       "      <td>0</td>\n",
       "      <td>0</td>\n",
       "    </tr>\n",
       "    <tr>\n",
       "      <th>2</th>\n",
       "      <td>5.037992</td>\n",
       "      <td>0</td>\n",
       "      <td>0</td>\n",
       "    </tr>\n",
       "    <tr>\n",
       "      <th>3</th>\n",
       "      <td>7.563413</td>\n",
       "      <td>0</td>\n",
       "      <td>0</td>\n",
       "    </tr>\n",
       "    <tr>\n",
       "      <th>4</th>\n",
       "      <td>2.510550</td>\n",
       "      <td>0</td>\n",
       "      <td>0</td>\n",
       "    </tr>\n",
       "    <tr>\n",
       "      <th>...</th>\n",
       "      <td>...</td>\n",
       "      <td>...</td>\n",
       "      <td>...</td>\n",
       "    </tr>\n",
       "    <tr>\n",
       "      <th>31200</th>\n",
       "      <td>-7.454380</td>\n",
       "      <td>0</td>\n",
       "      <td>0</td>\n",
       "    </tr>\n",
       "    <tr>\n",
       "      <th>31201</th>\n",
       "      <td>-7.409502</td>\n",
       "      <td>1</td>\n",
       "      <td>1</td>\n",
       "    </tr>\n",
       "    <tr>\n",
       "      <th>31202</th>\n",
       "      <td>5.092651</td>\n",
       "      <td>0</td>\n",
       "      <td>0</td>\n",
       "    </tr>\n",
       "    <tr>\n",
       "      <th>31203</th>\n",
       "      <td>2.531582</td>\n",
       "      <td>0</td>\n",
       "      <td>0</td>\n",
       "    </tr>\n",
       "    <tr>\n",
       "      <th>31204</th>\n",
       "      <td>-7.455754</td>\n",
       "      <td>0</td>\n",
       "      <td>0</td>\n",
       "    </tr>\n",
       "  </tbody>\n",
       "</table>\n",
       "<p>31205 rows × 3 columns</p>\n",
       "</div>"
      ],
      "text/plain": [
       "              0  y  groundTrue\n",
       "0      2.518758  0           0\n",
       "1      2.633924  0           0\n",
       "2      5.037992  0           0\n",
       "3      7.563413  0           0\n",
       "4      2.510550  0           0\n",
       "...         ... ..         ...\n",
       "31200 -7.454380  0           0\n",
       "31201 -7.409502  1           1\n",
       "31202  5.092651  0           0\n",
       "31203  2.531582  0           0\n",
       "31204 -7.455754  0           0\n",
       "\n",
       "[31205 rows x 3 columns]"
      ]
     },
     "execution_count": 19,
     "metadata": {},
     "output_type": "execute_result"
    }
   ],
   "source": [
    "from sklearn.decomposition import PCA\n",
    "\n",
    "pca = PCA(n_components=1)\n",
    "pca_train_x = pca.fit_transform(train_x)\n",
    "\n",
    "pca_test_x = pca.transform(test_x)\n",
    "\n",
    "df = pd.DataFrame(pca_test_x)\n",
    "df['y'] = prediction\n",
    "df['groundTrue'] = test_y\n",
    "df"
   ]
  },
  {
   "cell_type": "code",
   "execution_count": 20,
   "id": "ef3035ca",
   "metadata": {},
   "outputs": [
    {
     "name": "stderr",
     "output_type": "stream",
     "text": [
      "/tmp/ipykernel_27735/920653628.py:5: UserWarning: The palette list has more values (10) than needed (2), which may not be intended.\n",
      "  sns.scatterplot(\n"
     ]
    },
    {
     "data": {
      "text/plain": [
       "<AxesSubplot: xlabel='0', ylabel='y'>"
      ]
     },
     "execution_count": 20,
     "metadata": {},
     "output_type": "execute_result"
    },
    {
     "data": {
      "image/png": "[encoded data removed]",
      "text/plain": [
       "<Figure size 1600x1000 with 1 Axes>"
      ]
     },
     "metadata": {},
     "output_type": "display_data"
    }
   ],
   "source": [
    "import matplotlib.pyplot as plt\n",
    "import seaborn as sns\n",
    "\n",
    "plt.figure(figsize=(16,10))\n",
    "sns.scatterplot(\n",
    "    x=0, y='y',\n",
    "    hue=\"groundTrue\",\n",
    "    palette=sns.color_palette(\"hls\", 10),\n",
    "    data=df,\n",
    "    legend=\"full\",\n",
    "    alpha=1\n",
    ")"
   ]
  },
  {
   "cell_type": "code",
   "execution_count": 21,
   "id": "7263cd91",
   "metadata": {},
   "outputs": [
    {
     "name": "stdout",
     "output_type": "stream",
     "text": [
      "              precision    recall  f1-score   support\n",
      "\n",
      "           0       1.00      0.96      0.98     27490\n",
      "           1       0.76      1.00      0.86      3715\n",
      "\n",
      "    accuracy                           0.96     31205\n",
      "   macro avg       0.88      0.98      0.92     31205\n",
      "weighted avg       0.97      0.96      0.96     31205\n",
      "\n"
     ]
    }
   ],
   "source": [
    "print(classification_report(test_y, prediction))"
   ]
  },
  {
   "cell_type": "code",
   "execution_count": 25,
   "id": "561110ea",
   "metadata": {},
   "outputs": [],
   "source": [
    "from sklearn.metrics import det_curve\n",
    "from sklearn.metrics import DetCurveDisplay, RocCurveDisplay\n",
    "from matplotlib import pyplot as plt\n",
    "import matplotlib\n",
    "import bob.measure\n",
    "\n",
    "def softmax(x):\n",
    "    \"\"\"Compute softmax values for each sets of scores in x.\"\"\"\n",
    "    return np.exp(x) / np.sum(np.exp(x), axis=0)\n",
    "\n",
    "def DETCurve(fps,fns):\n",
    "    \"\"\"\n",
    "    Given false positive and false negative rates, produce a DET Curve.\n",
    "    The false positive rate is assumed to be increasing while the false\n",
    "    negative rate is assumed to be decreasing.\n",
    "    \"\"\"\n",
    "    axis_min = min(fps[0],fns[-1])\n",
    "    fig, ax = plt.subplots()\n",
    "    plt.plot(fps,fns)\n",
    "    plt.yscale('log')\n",
    "    plt.xscale('log')\n",
    "    ticks_to_use = [0.001,0.002,0.005,0.01,0.02,0.05,0.1,0.2,0.5,1,2,5,10,20,50]\n",
    "    ax.get_xaxis().set_major_formatter(matplotlib.ticker.ScalarFormatter())\n",
    "    ax.get_yaxis().set_major_formatter(matplotlib.ticker.ScalarFormatter())\n",
    "    ax.set_xticks(ticks_to_use)\n",
    "    ax.set_yticks(ticks_to_use)\n",
    "    plt.axis([0.001,50,0.001,50])\n",
    "\n",
    "def generate_det_curve(p_scores, n_scores):\n",
    "        #matplotlib.use('TkAgg')\n",
    "\n",
    "        plt.switch_backend('agg')\n",
    "        bob.measure.plot.det(n_scores, p_scores, 1000, color = (0,0,0), linestyle = '-')\n",
    "        bob.measure.plot.det_axis([0.01, 99, 0.01, 99])\n",
    "        threshold = bob.measure.eer_threshold(n_scores, p_scores)\n",
    "        far, frr = bob.measure.farfrr(n_scores, p_scores, threshold)\n",
    "        \n",
    "        print(far, frr)\n",
    "        x = range(99)\n",
    "        ax = plt.gca()\n",
    "        #ax.plot(x)\n",
    "        ax.set_aspect('equal', adjustable='box')\n",
    "        plt.plot([100, -10], [100, -10], linestyle='--', label=f\"Equal error rate = {max(far, frr)* 100}%\")\n",
    "        print(\"##########\")\n",
    "        print(max(far, frr) * 100)\n",
    "        print(\"##########\")\n",
    "        plt.xlabel('FAR (%)')\n",
    "        plt.ylabel('FRR (%)')\n",
    "        plt.xticks(rotation=45)\n",
    "        plt.grid(True)\n",
    "        plt.legend(loc=\"lower right\")\n",
    "        \n",
    "        plt.savefig('fig/det_SMOTE.png')\n",
    "        plt.cla()\n",
    "        plt.clf()\n",
    "        \n",
    "        return max(far, frr) * 100\n"
   ]
  },
  {
   "cell_type": "code",
   "execution_count": 23,
   "id": "56ff74d3",
   "metadata": {},
   "outputs": [
    {
     "name": "stdout",
     "output_type": "stream",
     "text": [
      "[4.4118959e-05 2.8317492e-05 2.2002807e-05 ... 3.8593640e-05 4.0565337e-05\n",
      " 1.8857802e-04]\n"
     ]
    }
   ],
   "source": [
    "prob_prediction = []\n",
    "scores = []\n",
    "for i in preds:\n",
    "    scores.append(softmax(i)[1])\n",
    "    prob_prediction.append(i[1])\n",
    "    \n",
    "scores = np.array(scores)\n",
    "fpr, fnr, thresholds = det_curve(test_y, prob_prediction)\n",
    "print(scores)"
   ]
  },
  {
   "cell_type": "code",
   "execution_count": 24,
   "id": "a9a53c3a",
   "metadata": {},
   "outputs": [
    {
     "data": {
      "image/png": "[encoded data removed]",
      "text/plain": [
       "<Figure size 640x480 with 1 Axes>"
      ]
     },
     "metadata": {},
     "output_type": "display_data"
    }
   ],
   "source": [
    "DETCurve(fpr, fnr)"
   ]
  },
  {
   "cell_type": "code",
   "execution_count": 26,
   "id": "2941d228",
   "metadata": {},
   "outputs": [],
   "source": [
    "labels = test_y\n",
    "\n",
    "p_scores, n_scores = scores[np.where(labels == True)].astype(np.double), scores[np.where(labels == False)[0]].astype(np.double)"
   ]
  },
  {
   "cell_type": "code",
   "execution_count": 27,
   "id": "118dddac",
   "metadata": {},
   "outputs": [
    {
     "name": "stdout",
     "output_type": "stream",
     "text": [
      "[0.95394832 0.80419391 0.96677178 ... 0.95829731 0.93076634 0.93410748] [4.41189586e-05 2.83174923e-05 2.20028069e-05 ... 3.85936401e-05\n",
      " 4.05653373e-05 1.88578022e-04]\n",
      "0.040341942524554385 0.040376850605652756\n",
      "##########\n",
      "4.037685060565275\n",
      "##########\n"
     ]
    },
    {
     "data": {
      "text/plain": [
       "4.037685060565275"
      ]
     },
     "execution_count": 27,
     "metadata": {},
     "output_type": "execute_result"
    }
   ],
   "source": [
    "print(p_scores, n_scores)\n",
    "\n",
    "generate_det_curve(p_scores, n_scores)"
   ]
  },
  {
   "cell_type": "code",
   "execution_count": 51,
   "id": "0b6a009a",
   "metadata": {},
   "outputs": [
    {
     "ename": "KeyboardInterrupt",
     "evalue": "",
     "output_type": "error",
     "traceback": [
      "\u001b[0;31m---------------------------------------------------------------------------\u001b[0m",
      "\u001b[0;31mKeyboardInterrupt\u001b[0m                         Traceback (most recent call last)",
      "Cell \u001b[0;32mIn [51], line 6\u001b[0m\n\u001b[1;32m      3\u001b[0m img \u001b[38;5;241m=\u001b[39m cv2\u001b[38;5;241m.\u001b[39mimread(\u001b[38;5;124m\"\u001b[39m\u001b[38;5;124mfig/det.png\u001b[39m\u001b[38;5;124m\"\u001b[39m, cv2\u001b[38;5;241m.\u001b[39mIMREAD_ANYCOLOR)\n\u001b[1;32m      5\u001b[0m \u001b[38;5;28;01mwhile\u001b[39;00m \u001b[38;5;28;01mTrue\u001b[39;00m:\n\u001b[0;32m----> 6\u001b[0m     \u001b[43mcv2\u001b[49m\u001b[38;5;241;43m.\u001b[39;49m\u001b[43mimshow\u001b[49m\u001b[43m(\u001b[49m\u001b[38;5;124;43m\"\u001b[39;49m\u001b[38;5;124;43mDET\u001b[39;49m\u001b[38;5;124;43m\"\u001b[39;49m\u001b[43m,\u001b[49m\u001b[43m \u001b[49m\u001b[43mimg\u001b[49m\u001b[43m)\u001b[49m\n\u001b[1;32m      7\u001b[0m     cv2\u001b[38;5;241m.\u001b[39mwaitKey(\u001b[38;5;241m0\u001b[39m)\n\u001b[1;32m      8\u001b[0m     sys\u001b[38;5;241m.\u001b[39mexit() \u001b[38;5;66;03m# to exit from all the processes\u001b[39;00m\n",
      "\u001b[0;31mKeyboardInterrupt\u001b[0m: "
     ]
    }
   ],
   "source": []
  },
  {
   "cell_type": "code",
   "execution_count": null,
   "id": "face79b6",
   "metadata": {},
   "outputs": [],
   "source": []
  }
 ],
 "metadata": {
  "kernelspec": {
   "display_name": "Python 3 (ipykernel)",
   "language": "python",
   "name": "python3"
  },
  "language_info": {
   "codemirror_mode": {
    "name": "ipython",
    "version": 3
   },
   "file_extension": ".py",
   "mimetype": "text/x-python",
   "name": "python",
   "nbconvert_exporter": "python",
   "pygments_lexer": "ipython3",
   "version": "3.8.13"
  }
 },
 "nbformat": 4,
 "nbformat_minor": 5
}
