{
 "cells": [
  {
   "cell_type": "code",
   "execution_count": 1,
   "id": "ad72ded7",
   "metadata": {},
   "outputs": [],
   "source": [
    "import pandas as pd\n",
    "import numpy as np\n",
    "from sklearn.model_selection import train_test_split\n",
    "from sklearn.linear_model import LogisticRegression\n",
    "from sklearn import metrics\n",
    "import matplotlib.pyplot as plt"
   ]
  },
  {
   "cell_type": "code",
   "execution_count": 2,
   "id": "5031a936",
   "metadata": {},
   "outputs": [],
   "source": [
    "# Import data \n",
    "train_x = pd.read_csv('csv_files/train_binary_x.csv')\n",
    "train_y = pd.read_csv('csv_files/train_binary_y.csv')\n",
    "test_x = pd.read_csv('csv_files/test_binary_x.csv')\n",
    "test_y = pd.read_csv('csv_files/test_binary_y.csv')\n",
    "\n",
    "train_x_IVF = pd.read_csv('csv_files/x_train_binary_IVF.csv')\n",
    "train_y_IVF = pd.read_csv('csv_files/y_train_binary_IVF.csv')\n",
    "test_x_IVF = pd.read_csv('csv_files/x_test_binary_IVF.csv')\n",
    "test_y_IVF = pd.read_csv('csv_files/y_test_binary_IVF.csv')"
   ]
  },
  {
   "cell_type": "code",
   "execution_count": 4,
   "id": "38267936",
   "metadata": {},
   "outputs": [
    {
     "name": "stderr",
     "output_type": "stream",
     "text": [
      "C:\\Users\\Anna-Sophia\\anaconda3\\lib\\site-packages\\sklearn\\utils\\validation.py:993: DataConversionWarning: A column-vector y was passed when a 1d array was expected. Please change the shape of y to (n_samples, ), for example using ravel().\n",
      "  y = column_or_1d(y, warn=True)\n",
      "C:\\Users\\Anna-Sophia\\anaconda3\\lib\\site-packages\\sklearn\\linear_model\\_logistic.py:814: ConvergenceWarning: lbfgs failed to converge (status=1):\n",
      "STOP: TOTAL NO. of ITERATIONS REACHED LIMIT.\n",
      "\n",
      "Increase the number of iterations (max_iter) or scale the data as shown in:\n",
      "    https://scikit-learn.org/stable/modules/preprocessing.html\n",
      "Please also refer to the documentation for alternative solver options:\n",
      "    https://scikit-learn.org/stable/modules/linear_model.html#logistic-regression\n",
      "  n_iter_i = _check_optimize_result(\n",
      "C:\\Users\\Anna-Sophia\\anaconda3\\lib\\site-packages\\sklearn\\utils\\validation.py:993: DataConversionWarning: A column-vector y was passed when a 1d array was expected. Please change the shape of y to (n_samples, ), for example using ravel().\n",
      "  y = column_or_1d(y, warn=True)\n",
      "C:\\Users\\Anna-Sophia\\anaconda3\\lib\\site-packages\\sklearn\\linear_model\\_logistic.py:814: ConvergenceWarning: lbfgs failed to converge (status=1):\n",
      "STOP: TOTAL NO. of ITERATIONS REACHED LIMIT.\n",
      "\n",
      "Increase the number of iterations (max_iter) or scale the data as shown in:\n",
      "    https://scikit-learn.org/stable/modules/preprocessing.html\n",
      "Please also refer to the documentation for alternative solver options:\n",
      "    https://scikit-learn.org/stable/modules/linear_model.html#logistic-regression\n",
      "  n_iter_i = _check_optimize_result(\n"
     ]
    },
    {
     "data": {
      "text/plain": [
       "LogisticRegression()"
      ]
     },
     "execution_count": 4,
     "metadata": {},
     "output_type": "execute_result"
    }
   ],
   "source": [
    "# Instantiate the models\n",
    "log_regression = LogisticRegression()\n",
    "log_regression_IVF = LogisticRegression()\n",
    "\n",
    "# Fit the models using the training data\n",
    "log_regression.fit(train_x,train_y)\n",
    "log_regression_IVF.fit(train_x_IVF,train_y_IVF)"
   ]
  },
  {
   "cell_type": "code",
   "execution_count": 8,
   "id": "6baadd6c",
   "metadata": {},
   "outputs": [
    {
     "data": {
      "image/png": "[encoded data removed]",
      "text/plain": [
       "<Figure size 432x288 with 1 Axes>"
      ]
     },
     "metadata": {
      "needs_background": "light"
     },
     "output_type": "display_data"
    }
   ],
   "source": [
    "#define metrics\n",
    "y_pred_proba = log_regression.predict_proba(test_x)[::,1]\n",
    "fpr, tpr, _ = metrics.roc_curve(test_y,  y_pred_proba)\n",
    "auc = metrics.roc_auc_score(test_y, y_pred_proba)\n",
    "\n",
    "#create ROC curve\n",
    "plt.plot(fpr,tpr,label=\"AUC=\"+str(auc))\n",
    "plt.ylabel('True Positive Rate')\n",
    "plt.xlabel('False Positive Rate')\n",
    "plt.legend(loc=4)\n",
    "plt.show()"
   ]
  },
  {
   "cell_type": "code",
   "execution_count": 10,
   "id": "48edd82e",
   "metadata": {},
   "outputs": [
    {
     "data": {
      "image/png": "[encoded data removed]",
      "text/plain": [
       "<Figure size 432x288 with 1 Axes>"
      ]
     },
     "metadata": {
      "needs_background": "light"
     },
     "output_type": "display_data"
    }
   ],
   "source": [
    "#define metrics\n",
    "y_pred_proba_IVF = log_regression_IVF.predict_proba(test_x_IVF)[::,1]\n",
    "fpr_IVF, tpr_IVF, _ = metrics.roc_curve(test_y_IVF,  y_pred_proba_IVF)\n",
    "auc_IVF = metrics.roc_auc_score(test_y_IVF, y_pred_proba_IVF)\n",
    "\n",
    "#create ROC curve\n",
    "plt.plot(fpr_IVF,tpr_IVF,label=\"AUC=\"+str(auc))\n",
    "plt.ylabel('True Positive Rate')\n",
    "plt.xlabel('False Positive Rate')\n",
    "plt.legend(loc=4)\n",
    "plt.show()"
   ]
  },
  {
   "cell_type": "code",
   "execution_count": 12,
   "id": "5f471580",
   "metadata": {},
   "outputs": [
    {
     "name": "stdout",
     "output_type": "stream",
     "text": [
      "Feature: 0, Score: 0.03300\n",
      "Feature: 1, Score: 0.66331\n",
      "Feature: 2, Score: 0.34063\n",
      "Feature: 3, Score: 0.16596\n",
      "Feature: 4, Score: 0.29796\n",
      "Feature: 5, Score: 0.19862\n",
      "Feature: 6, Score: 0.36136\n",
      "Feature: 7, Score: 0.13062\n",
      "Feature: 8, Score: 0.23273\n",
      "Feature: 9, Score: 0.24380\n",
      "Feature: 10, Score: 0.41689\n",
      "Feature: 11, Score: 0.04831\n",
      "Feature: 12, Score: 0.07363\n",
      "Feature: 13, Score: -0.01279\n",
      "Feature: 14, Score: 0.01235\n",
      "Feature: 15, Score: 0.47246\n",
      "Feature: 16, Score: 0.16394\n",
      "Feature: 17, Score: 0.00780\n",
      "Feature: 18, Score: 0.33470\n",
      "Feature: 19, Score: -0.63117\n",
      "Feature: 20, Score: -2.21687\n",
      "Feature: 21, Score: -0.56212\n",
      "Feature: 22, Score: 0.01003\n",
      "Feature: 23, Score: 0.01593\n",
      "Feature: 24, Score: -0.09058\n",
      "Feature: 25, Score: -0.95816\n",
      "Feature: 26, Score: -0.96886\n"
     ]
    },
    {
     "ename": "NameError",
     "evalue": "name 'pyplot' is not defined",
     "output_type": "error",
     "traceback": [
      "\u001b[1;31m---------------------------------------------------------------------------\u001b[0m",
      "\u001b[1;31mNameError\u001b[0m                                 Traceback (most recent call last)",
      "Input \u001b[1;32mIn [12]\u001b[0m, in \u001b[0;36m<cell line: 7>\u001b[1;34m()\u001b[0m\n\u001b[0;32m      5\u001b[0m  \u001b[38;5;28mprint\u001b[39m(\u001b[38;5;124m'\u001b[39m\u001b[38;5;124mFeature: \u001b[39m\u001b[38;5;132;01m%0d\u001b[39;00m\u001b[38;5;124m, Score: \u001b[39m\u001b[38;5;132;01m%.5f\u001b[39;00m\u001b[38;5;124m'\u001b[39m \u001b[38;5;241m%\u001b[39m (i,v))\n\u001b[0;32m      6\u001b[0m \u001b[38;5;66;03m# plot feature importance\u001b[39;00m\n\u001b[1;32m----> 7\u001b[0m \u001b[43mpyplot\u001b[49m\u001b[38;5;241m.\u001b[39mbar([x \u001b[38;5;28;01mfor\u001b[39;00m x \u001b[38;5;129;01min\u001b[39;00m \u001b[38;5;28mrange\u001b[39m(\u001b[38;5;28mlen\u001b[39m(importance))], importance)\n\u001b[0;32m      8\u001b[0m pyplot\u001b[38;5;241m.\u001b[39mshow()\n",
      "\u001b[1;31mNameError\u001b[0m: name 'pyplot' is not defined"
     ]
    }
   ],
   "source": [
    "# get importance\n",
    "importance = log_regression_IVF.coef_[0]\n",
    "# summarize feature importance\n",
    "for i,v in enumerate(importance):\n",
    " print('Feature: %0d, Score: %.5f' % (i,v))\n",
    "# plot feature importance\n",
    "plt.bar([x for x in range(len(importance))], importance)\n",
    "plt.show()"
   ]
  },
  {
   "cell_type": "code",
   "execution_count": null,
   "id": "b7f5659c",
   "metadata": {},
   "outputs": [],
   "source": []
  }
 ],
 "metadata": {
  "kernelspec": {
   "display_name": "Python 3 (ipykernel)",
   "language": "python",
   "name": "python3"
  },
  "language_info": {
   "codemirror_mode": {
    "name": "ipython",
    "version": 3
   },
   "file_extension": ".py",
   "mimetype": "text/x-python",
   "name": "python",
   "nbconvert_exporter": "python",
   "pygments_lexer": "ipython3",
   "version": "3.9.12"
  }
 },
 "nbformat": 4,
 "nbformat_minor": 5
}
