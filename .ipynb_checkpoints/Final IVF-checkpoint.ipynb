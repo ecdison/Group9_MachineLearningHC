{
 "cells": [
  {
   "cell_type": "code",
   "execution_count": 55,
   "id": "ae5f84f2",
   "metadata": {},
   "outputs": [],
   "source": [
    "import numpy as np\n",
    "import pandas as pd\n",
    "from sklearn.linear_model import Perceptron\n",
    "import warnings\n",
    "warnings.filterwarnings('ignore')\n",
    "from sklearn.metrics import classification_report\n",
    "from sklearn.metrics import confusion_matrix\n",
    "\n",
    "# Pregnancy as target\n",
    "train_x = pd.read_csv('csv_files/x_train_binary_IVF.csv')\n",
    "train_y = pd.read_csv('csv_files/y_train_binary_IVF.csv')\n",
    "test_x = pd.read_csv('csv_files/x_test_binary_IVF.csv')\n",
    "test_y = pd.read_csv('csv_files/y_test_binary_IVF.csv')\n",
    "\n",
    "# Chance of Live Birth as target\n",
    "train_x_IVF = pd.read_csv('csv_files/train_binary_x.csv')\n",
    "train_y_IVF = pd.read_csv('csv_files/train_binary_y.csv')\n",
    "test_x_IVF = pd.read_csv('csv_files/test_binary_x.csv')\n",
    "test_y_IVF = pd.read_csv('csv_files/test_binary_y.csv')"
   ]
  },
  {
   "cell_type": "code",
   "execution_count": 56,
   "id": "c30df320",
   "metadata": {},
   "outputs": [
    {
     "name": "stdout",
     "output_type": "stream",
     "text": [
      "Test_x shape:  (31226, 27)\n",
      "Train_x shape:  (124904, 27)\n",
      "Train_y shape:  (124904, 1)\n",
      "Test_x_IVF shape:  (31226, 28)\n",
      "Train_x_IVF shape:  (124904, 28)\n",
      "Train_y_IVF shape:  (124904, 1)\n"
     ]
    }
   ],
   "source": [
    "print('Test_x shape: ', test_x.shape)\n",
    "print('Train_x shape: ', train_x.shape)\n",
    "print('Train_y shape: ', train_y.shape)\n",
    "\n",
    "print('Test_x_IVF shape: ', test_x_IVF.shape)\n",
    "print('Train_x_IVF shape: ', train_x_IVF.shape)\n",
    "print('Train_y_IVF shape: ', train_y_IVF.shape)"
   ]
  },
  {
   "cell_type": "code",
   "execution_count": 57,
   "id": "c4611099",
   "metadata": {},
   "outputs": [
    {
     "name": "stdout",
     "output_type": "stream",
     "text": [
      "['Patient Age at Treatment', 'Total Number of Previous IVF cycles', 'Total number of IVF pregnancies', 'Type of Infertility - Female Primary', 'Type of Infertility - Female Secondary', 'Type of Infertility - Male Primary', 'Type of Infertility - Male Secondary', 'Type of Infertility -Couple Primary', 'Type of Infertility -Couple Secondary', 'Cause  of Infertility - Tubal disease', 'Cause of Infertility - Ovulatory Disorder', 'Cause of Infertility - Male Factor', 'Cause of Infertility - Patient Unexplained', 'Cause of Infertility - Endometriosis', 'Cause of Infertility - Cervical factors', 'Cause of Infertility -  Partner Sperm Morphology', 'Stimulation used', 'Number of foetal sacs with fetal pulsation', 'Embryos Transfered', 'Elective Single Embryo Transfer', 'Egg Source', 'Fresh Cycle', 'Frozen Cycle', 'Eggs Mixed With Partner Sperm', 'Eggs Mixed With Donor sperm', 'Total Embryos Thawed', 'Sperm From Partner', 'Sperm From Donor']\n"
     ]
    }
   ],
   "source": [
    "# Index for pregnancy model\n",
    "index2name = list(train_x_IVF.columns)\n",
    "print(index2name)"
   ]
  },
  {
   "cell_type": "code",
   "execution_count": 58,
   "id": "12578c83",
   "metadata": {},
   "outputs": [],
   "source": [
    "# Perceptron Model - Live birth prediction \n",
    "X = train_x_IVF.values\n",
    "y = train_y_IVF.astype(int).values.ravel()\n",
    "\n",
    "per_clf = Perceptron(\n",
    "    penalty=None, \n",
    "    alpha=0.0001, \n",
    "    l1_ratio=0.15, \n",
    "    fit_intercept=True, \n",
    "    max_iter=1000, \n",
    "    tol=1e-3, \n",
    "    shuffle=True, \n",
    "    verbose=0, \n",
    "    eta0=1.0, \n",
    "    n_jobs=None, \n",
    "    random_state=42, \n",
    "    early_stopping=True, \n",
    "    validation_fraction=0.1, \n",
    "    n_iter_no_change=5, \n",
    "    class_weight=None, \n",
    "    warm_start=False)\n",
    "\n",
    "per_clf.fit(X, y)\n",
    "\n",
    "y_pred = per_clf.predict(test_x_IVF.values)"
   ]
  },
  {
   "cell_type": "code",
   "execution_count": 59,
   "id": "148bc64d",
   "metadata": {},
   "outputs": [
    {
     "data": {
      "text/plain": [
       "array([0, 0, 0, ..., 0, 0, 0])"
      ]
     },
     "execution_count": 59,
     "metadata": {},
     "output_type": "execute_result"
    }
   ],
   "source": [
    "y_pred"
   ]
  },
  {
   "cell_type": "code",
   "execution_count": 70,
   "id": "1fe14113",
   "metadata": {},
   "outputs": [
    {
     "name": "stdout",
     "output_type": "stream",
     "text": [
      "Confusion Matrix:\n",
      "[[27387    64]\n",
      " [ 3237   538]]\n",
      "\n",
      "\n",
      "True negative: 27387\n",
      "False Positive: 64\n",
      "False Negative: 3237\n",
      "True Positive: 538\n",
      "\n",
      "\n",
      "              precision    recall  f1-score   support\n",
      "\n",
      "           0       0.89      1.00      0.94     27451\n",
      "           1       0.89      0.14      0.25      3775\n",
      "\n",
      "    accuracy                           0.89     31226\n",
      "   macro avg       0.89      0.57      0.59     31226\n",
      "weighted avg       0.89      0.89      0.86     31226\n",
      "\n"
     ]
    }
   ],
   "source": [
    "# IVF \n",
    "from sklearn.metrics import classification_report\n",
    "\n",
    "# Live birth model \n",
    "print('Confusion Matrix:')\n",
    "print(confusion_matrix(test_y_IVF, y_pred))\n",
    "(tn, fp, fn, tp) = confusion_matrix(test_y_IVF, y_pred).ravel()\n",
    "print('\\n')\n",
    "print(f'True negative: {tn}\\nFalse Positive: {fp}\\nFalse Negative: {fn}\\nTrue Positive: {tp}')\n",
    "# Results show 0 False Negatives = model tells the woman she will have a baby when she won't\n",
    "print('\\n')\n",
    "\n",
    "print(classification_report(test_y_IVF, y_pred))"
   ]
  },
  {
   "cell_type": "code",
   "execution_count": 73,
   "id": "83d3cb65",
   "metadata": {},
   "outputs": [
    {
     "name": "stdout",
     "output_type": "stream",
     "text": [
      "['Patient Age at Treatment', 'Total Number of Previous IVF cycles', 'Total number of IVF pregnancies', 'Type of Infertility - Female Primary', 'Type of Infertility - Female Secondary', 'Type of Infertility - Male Primary', 'Type of Infertility - Male Secondary', 'Type of Infertility -Couple Primary', 'Type of Infertility -Couple Secondary', 'Cause  of Infertility - Tubal disease', 'Cause of Infertility - Ovulatory Disorder', 'Cause of Infertility - Male Factor', 'Cause of Infertility - Patient Unexplained', 'Cause of Infertility - Endometriosis', 'Cause of Infertility - Cervical factors', 'Cause of Infertility -  Partner Sperm Morphology', 'Stimulation used', 'Number of foetal sacs with fetal pulsation', 'Embryos Transfered', 'Elective Single Embryo Transfer', 'Egg Source', 'Fresh Cycle', 'Frozen Cycle', 'Eggs Mixed With Partner Sperm', 'Eggs Mixed With Donor sperm', 'Total Embryos Thawed', 'Sperm From Partner', 'Sperm From Donor']\n"
     ]
    }
   ],
   "source": [
    "# Index for IVF model\n",
    "index_IVF_name = list(train_x_IVF.columns)\n",
    "print(index_IVF_name)"
   ]
  },
  {
   "cell_type": "code",
   "execution_count": 74,
   "id": "c4bfe365",
   "metadata": {},
   "outputs": [
    {
     "name": "stdout",
     "output_type": "stream",
     "text": [
      "Feature: 0 Patient Age at Treatment, Score: -2.241721642220751e-05\n",
      "Feature: 1 Total Number of Previous IVF cycles, Score: 9.287132517773744e-05\n",
      "Feature: 2 Total number of IVF pregnancies, Score: 0.029565106001409085\n",
      "Feature: 3 Type of Infertility - Female Primary, Score: 6.404918977775953e-06\n",
      "Feature: 4 Type of Infertility - Female Secondary, Score: 0.0\n",
      "Feature: 5 Type of Infertility - Male Primary, Score: 6.404918977775953e-06\n",
      "Feature: 6 Type of Infertility - Male Secondary, Score: 0.0\n",
      "Feature: 7 Type of Infertility -Couple Primary, Score: 6.404918977775953e-06\n",
      "Feature: 8 Type of Infertility -Couple Secondary, Score: 0.0\n",
      "Feature: 9 Cause  of Infertility - Tubal disease, Score: 4.8036892333319646e-06\n",
      "Feature: 10 Cause of Infertility - Ovulatory Disorder, Score: 2.0815986677771848e-05\n",
      "Feature: 11 Cause of Infertility - Male Factor, Score: 3.202459488887699e-05\n",
      "Feature: 12 Cause of Infertility - Patient Unexplained, Score: 2.4018446166659824e-05\n",
      "Feature: 13 Cause of Infertility - Endometriosis, Score: -1.6012297444439883e-06\n",
      "Feature: 14 Cause of Infertility - Cervical factors, Score: 0.0\n",
      "Feature: 15 Cause of Infertility -  Partner Sperm Morphology, Score: 0.0\n",
      "Feature: 16 Stimulation used, Score: 8.006148722219941e-06\n",
      "Feature: 17 Number of foetal sacs with fetal pulsation, Score: -4.8036892333319646e-06\n",
      "Feature: 18 Embryos Transfered, Score: 1.2809837955551907e-05\n",
      "Feature: 19 Elective Single Embryo Transfer, Score: -1.6012297444437108e-05\n",
      "Feature: 20 Egg Source, Score: 3.5227054377767744e-05\n",
      "Feature: 21 Fresh Cycle, Score: 0.00044674309869980055\n",
      "Feature: 22 Frozen Cycle, Score: 0.0001457119067443835\n",
      "Feature: 23 Eggs Mixed With Partner Sperm, Score: 0.00013450329853327282\n",
      "Feature: 24 Eggs Mixed With Donor sperm, Score: 6.404918977775953e-06\n",
      "Feature: 25 Total Embryos Thawed, Score: 3.0423365144435775e-05\n",
      "Feature: 26 Sperm From Partner, Score: 6.244796003330167e-05\n",
      "Feature: 27 Sperm From Donor, Score: 0.00010728239287773334\n"
     ]
    },
    {
     "data": {
      "image/png": "[encoded data removed]",
      "text/plain": [
       "<Figure size 432x288 with 1 Axes>"
      ]
     },
     "metadata": {
      "needs_background": "light"
     },
     "output_type": "display_data"
    }
   ],
   "source": [
    "# Neural networks (including perceptron) do not have feature importance so I am looking at permutation importance\n",
    "# CHANCE OF SUCCESFUL LIVE BIRTH MODEL \n",
    "\n",
    "from sklearn.inspection import permutation_importance\n",
    "import matplotlib.pyplot as plt\n",
    "\n",
    "# Perform permutation importance\n",
    "results = permutation_importance(per_clf, X, y, scoring='neg_mean_squared_error')\n",
    "\n",
    "# Get importance\n",
    "importance = results.importances_mean\n",
    "\n",
    "# Summarize feature importance\n",
    "for i,v in enumerate(importance):\n",
    "    # print('Feature: %0d, Score: %.5f' % (i,v))\n",
    "    print(f'Feature: {i} {index_IVF_name[i]}, Score: {v}')\n",
    "\n",
    "# Plot feature importance\n",
    "plt.bar([x for x in range(len(importance))], importance)\n",
    "plt.show()"
   ]
  },
  {
   "cell_type": "code",
   "execution_count": 76,
   "id": "724e1727",
   "metadata": {},
   "outputs": [],
   "source": [
    "# USING SMOTE ON TRAIN_X"
   ]
  },
  {
   "cell_type": "code",
   "execution_count": 75,
   "id": "1e36709c",
   "metadata": {},
   "outputs": [],
   "source": [
    "# Using SMOTE to resample target data \n",
    "from imblearn.over_sampling import SMOTE\n",
    "\n",
    "smt = SMOTE(random_state = 100, sampling_strategy = 1.0)\n",
    "train_x_smt, train_y_IVF_smt = smt.fit_resample(train_x, train_y_IVF)\n",
    "\n",
    "smt_IVF = SMOTE(random_state = 100, sampling_strategy = 1.0)\n",
    "train_x_IVF_smt, train_y_IVF_smt = smt_IVF.fit_resample(train_x_IVF, train_y_IVF)"
   ]
  },
  {
   "cell_type": "code",
   "execution_count": 77,
   "id": "456439b2",
   "metadata": {},
   "outputs": [
    {
     "name": "stdout",
     "output_type": "stream",
     "text": [
      "SMOTE for live birth\n",
      "LiveBirth\n",
      "0            109803\n",
      "1            109803\n",
      "dtype: int64\n"
     ]
    }
   ],
   "source": [
    "# SMOTE values on y train pregnancy model & y train IVF successful model \n",
    "print('SMOTE for live birth')\n",
    "print(train_y_IVF_smt.value_counts())"
   ]
  },
  {
   "cell_type": "code",
   "execution_count": 80,
   "id": "e4f31bf7",
   "metadata": {},
   "outputs": [
    {
     "name": "stdout",
     "output_type": "stream",
     "text": [
      "Confusion Matrix1:\n",
      "[[25793  1658]\n",
      " [    0  3775]]\n",
      "\n",
      "\n",
      "True negative: 25793\n",
      "False Positive: 1658\n",
      "False Negative: 0\n",
      "True Positive: 3775\n",
      "\n",
      "\n",
      "Classification Report1:\n",
      "              precision    recall  f1-score   support\n",
      "\n",
      "           0       1.00      0.94      0.97     27451\n",
      "           1       0.69      1.00      0.82      3775\n",
      "\n",
      "    accuracy                           0.95     31226\n",
      "   macro avg       0.85      0.97      0.89     31226\n",
      "weighted avg       0.96      0.95      0.95     31226\n",
      "\n",
      "\n",
      "\n"
     ]
    }
   ],
   "source": [
    "# Perceptron model with SMOTE for live birth\n",
    "from sklearn.metrics import confusion_matrix\n",
    "\n",
    "X1 = train_x_IVF_smt.values\n",
    "y1 = train_y_IVF_smt.astype(int).values.ravel()\n",
    "\n",
    "per_clf_smt = Perceptron(penalty=None, \n",
    "    alpha=0.0001, \n",
    "    l1_ratio=0.15, \n",
    "    fit_intercept=True, \n",
    "    max_iter=1000, \n",
    "    tol=1e-3, \n",
    "    shuffle=True, \n",
    "    verbose=0, \n",
    "    eta0=1.0, \n",
    "    n_jobs=None, \n",
    "    random_state=42, \n",
    "    early_stopping=True, \n",
    "    validation_fraction=0.1, \n",
    "    n_iter_no_change=5, \n",
    "    class_weight=None, \n",
    "    warm_start=False)\n",
    "\n",
    "per_clf_smt.fit(X1, y1)\n",
    "y_pred_smt = per_clf_smt.predict(test_x_IVF.values)\n",
    "print('Confusion Matrix1:')\n",
    "print(confusion_matrix(test_y_IVF, y_pred_smt))\n",
    "print('\\n')\n",
    "(tn, fp, fn, tp) = confusion_matrix(test_y_IVF, y_pred_smt).ravel()\n",
    "print(f'True negative: {tn}\\nFalse Positive: {fp}\\nFalse Negative: {fn}\\nTrue Positive: {tp}')\n",
    "print('\\n')\n",
    "# Results show 0 False Negatives = model tells the woman she will have a baby when she won't\n",
    "print('Classification Report1:')\n",
    "print(classification_report(test_y_IVF, y_pred_smt))\n",
    "print('\\n')"
   ]
  },
  {
   "cell_type": "code",
   "execution_count": 82,
   "id": "678141d8",
   "metadata": {},
   "outputs": [
    {
     "name": "stdout",
     "output_type": "stream",
     "text": [
      "Feature: 0 Patient Age at Treatment, Score: 0.005409688259883612\n",
      "Feature: 1 Total Number of Previous IVF cycles, Score: -0.0007285775434186674\n",
      "Feature: 2 Total number of IVF pregnancies, Score: 0.4641976995164067\n",
      "Feature: 3 Type of Infertility - Female Primary, Score: 2.7321657878193184e-06\n",
      "Feature: 4 Type of Infertility - Female Secondary, Score: 5.464331575640024e-06\n",
      "Feature: 5 Type of Infertility - Male Primary, Score: 2.094660437328838e-05\n",
      "Feature: 6 Type of Infertility - Male Secondary, Score: 2.7321657878193184e-06\n",
      "Feature: 7 Type of Infertility -Couple Primary, Score: 2.1857326302561486e-05\n",
      "Feature: 8 Type of Infertility -Couple Secondary, Score: 3.6428877170938124e-06\n",
      "Feature: 9 Cause  of Infertility - Tubal disease, Score: 0.0011675455133284163\n",
      "Feature: 10 Cause of Infertility - Ovulatory Disorder, Score: 0.001336939792173257\n",
      "Feature: 11 Cause of Infertility - Male Factor, Score: 0.0008642751108803942\n",
      "Feature: 12 Cause of Infertility - Patient Unexplained, Score: 0.0072520787228035665\n",
      "Feature: 13 Cause of Infertility - Endometriosis, Score: 0.0003788603225777093\n",
      "Feature: 14 Cause of Infertility - Cervical factors, Score: 0.0\n",
      "Feature: 15 Cause of Infertility -  Partner Sperm Morphology, Score: 0.0\n",
      "Feature: 16 Stimulation used, Score: -9.744724643224733e-05\n",
      "Feature: 17 Number of foetal sacs with fetal pulsation, Score: -0.0008405963407192872\n",
      "Feature: 18 Embryos Transfered, Score: 2.094660437328699e-05\n",
      "Feature: 19 Elective Single Embryo Transfer, Score: 0.00368933453548628\n",
      "Feature: 20 Egg Source, Score: 0.002634718541387758\n",
      "Feature: 21 Fresh Cycle, Score: 0.03542344016101563\n",
      "Feature: 22 Frozen Cycle, Score: 0.000738595484640675\n",
      "Feature: 23 Eggs Mixed With Partner Sperm, Score: 0.004750325583089713\n",
      "Feature: 24 Eggs Mixed With Donor sperm, Score: 0.0001821443858546698\n",
      "Feature: 25 Total Embryos Thawed, Score: -0.0006028979171789461\n",
      "Feature: 26 Sperm From Partner, Score: 0.011634472646466856\n",
      "Feature: 27 Sperm From Donor, Score: 0.01269819585985811\n"
     ]
    },
    {
     "data": {
      "image/png": "[encoded data removed]",
      "text/plain": [
       "<Figure size 432x288 with 1 Axes>"
      ]
     },
     "metadata": {
      "needs_background": "light"
     },
     "output_type": "display_data"
    }
   ],
   "source": [
    "# Neural networks (including perceptron) do not have feature importance so I am looking at permutation importance\n",
    "# CHANCE OF SUCCESFUL LIVE BIRTH MODEL \n",
    "\n",
    "from sklearn.inspection import permutation_importance\n",
    "import matplotlib.pyplot as plt\n",
    "\n",
    "# Perform permutation importance\n",
    "results = permutation_importance(per_clf_smt, X1, y1, scoring='neg_mean_squared_error')\n",
    "\n",
    "# Get importance\n",
    "importance = results.importances_mean\n",
    "\n",
    "# Summarize feature importance\n",
    "for i,v in enumerate(importance):\n",
    "    # print('Feature: %0d, Score: %.5f' % (i,v))\n",
    "    print(f'Feature: {i} {index_IVF_name[i]}, Score: {v}')\n",
    "\n",
    "# Plot feature importance\n",
    "plt.bar([x for x in range(len(importance))], importance)\n",
    "plt.show()"
   ]
  },
  {
   "cell_type": "code",
   "execution_count": 83,
   "id": "0f1c12a1",
   "metadata": {},
   "outputs": [],
   "source": [
    "# Now trying again, removing the 'total number of IVF pregnancies' to see if it gives different results"
   ]
  },
  {
   "cell_type": "code",
   "execution_count": 84,
   "id": "73deaaef",
   "metadata": {},
   "outputs": [
    {
     "name": "stdout",
     "output_type": "stream",
     "text": [
      "['Patient Age at Treatment', 'Total Number of Previous IVF cycles', 'Type of Infertility - Female Primary', 'Type of Infertility - Female Secondary', 'Type of Infertility - Male Primary', 'Type of Infertility - Male Secondary', 'Type of Infertility -Couple Primary', 'Type of Infertility -Couple Secondary', 'Cause  of Infertility - Tubal disease', 'Cause of Infertility - Ovulatory Disorder', 'Cause of Infertility - Male Factor', 'Cause of Infertility - Patient Unexplained', 'Cause of Infertility - Endometriosis', 'Cause of Infertility - Cervical factors', 'Cause of Infertility -  Partner Sperm Morphology', 'Stimulation used', 'Number of foetal sacs with fetal pulsation', 'Embryos Transfered', 'Elective Single Embryo Transfer', 'Egg Source', 'Fresh Cycle', 'Frozen Cycle', 'Eggs Mixed With Partner Sperm', 'Eggs Mixed With Donor sperm', 'Total Embryos Thawed', 'Sperm From Partner', 'Sperm From Donor']\n"
     ]
    }
   ],
   "source": [
    "# Index for ivf model removing the 'total number of IVF pregnancies'\n",
    "index2name = list(train_x.columns)\n",
    "print(index2name)"
   ]
  },
  {
   "cell_type": "code",
   "execution_count": null,
   "id": "13754996",
   "metadata": {},
   "outputs": [],
   "source": []
  },
  {
   "cell_type": "code",
   "execution_count": 87,
   "id": "99dddc6c",
   "metadata": {},
   "outputs": [],
   "source": [
    "# Using SMOTE to resample target data & balance it\n",
    "from imblearn.over_sampling import SMOTE\n",
    "\n",
    "smt = SMOTE(random_state = 100, sampling_strategy = 1.0)\n",
    "train_x_smt, train_y_IVF_smt2 = smt.fit_resample(train_x, train_y_IVF)"
   ]
  },
  {
   "cell_type": "code",
   "execution_count": 88,
   "id": "b51ced5f",
   "metadata": {},
   "outputs": [
    {
     "name": "stdout",
     "output_type": "stream",
     "text": [
      "SMOTE for live birth, removing total number of IVF pregnanices\n",
      "LiveBirth\n",
      "0            109803\n",
      "1             15101\n",
      "dtype: int64\n",
      "LiveBirth\n",
      "0            109803\n",
      "1            109803\n",
      "dtype: int64\n"
     ]
    }
   ],
   "source": [
    "# See data imbalance without SMOTE \n",
    "# SMOTE values on y train pregnancy model & y train IVF successful model \n",
    "print('SMOTE for live birth, removing total number of IVF pregnanices')\n",
    "print(train_y_IVF.value_counts())\n",
    "print(train_y_IVF_smt2.value_counts())"
   ]
  },
  {
   "cell_type": "code",
   "execution_count": 89,
   "id": "04c09c4c",
   "metadata": {},
   "outputs": [],
   "source": [
    "# This model removes the 'total number of IVF pregnancies' to see if it gives different results, using SMOTE\n",
    "X2 = train_x_smt.values\n",
    "y2 = train_y_IVF_smt2.astype(int).values.ravel()\n",
    "\n",
    "per_clf2 = Perceptron(\n",
    "    penalty=None, \n",
    "    alpha=0.0001, \n",
    "    l1_ratio=0.15, \n",
    "    fit_intercept=True, \n",
    "    max_iter=1000, \n",
    "    tol=1e-3, \n",
    "    shuffle=True, \n",
    "    verbose=0, \n",
    "    eta0=1.0, \n",
    "    n_jobs=None, \n",
    "    random_state=42, \n",
    "    early_stopping=True, \n",
    "    validation_fraction=0.1, \n",
    "    n_iter_no_change=5, \n",
    "    class_weight=None, \n",
    "    warm_start=False)\n",
    "\n",
    "per_clf2.fit(X2, y2)\n",
    "\n",
    "y_pred2 = per_clf2.predict(test_x.values)"
   ]
  },
  {
   "cell_type": "code",
   "execution_count": 90,
   "id": "612a0f97",
   "metadata": {},
   "outputs": [
    {
     "data": {
      "text/plain": [
       "array([1, 1, 1, ..., 1, 1, 1])"
      ]
     },
     "execution_count": 90,
     "metadata": {},
     "output_type": "execute_result"
    }
   ],
   "source": [
    "y_pred2"
   ]
  },
  {
   "cell_type": "code",
   "execution_count": 91,
   "id": "cbaa1dd8",
   "metadata": {},
   "outputs": [
    {
     "name": "stdout",
     "output_type": "stream",
     "text": [
      "Confusion Matrix1:\n",
      "[[ 4454 22997]\n",
      " [  604  3171]]\n",
      "\n",
      "\n",
      "True negative: 4454\n",
      "False Positive: 22997\n",
      "False Negative: 604\n",
      "True Positive: 3171\n",
      "\n",
      "\n",
      "Classification Report1:\n",
      "              precision    recall  f1-score   support\n",
      "\n",
      "           0       0.88      0.16      0.27     27451\n",
      "           1       0.12      0.84      0.21      3775\n",
      "\n",
      "    accuracy                           0.24     31226\n",
      "   macro avg       0.50      0.50      0.24     31226\n",
      "weighted avg       0.79      0.24      0.27     31226\n",
      "\n",
      "\n",
      "\n"
     ]
    }
   ],
   "source": [
    "from sklearn.metrics import confusion_matrix\n",
    "\n",
    "print('Confusion Matrix1:')\n",
    "print(confusion_matrix(test_y_IVF, y_pred2))\n",
    "\n",
    "(tn, fp, fn, tp) = confusion_matrix(test_y_IVF, y_pred2).ravel()\n",
    "print('\\n')\n",
    "print(f'True negative: {tn}\\nFalse Positive: {fp}\\nFalse Negative: {fn}\\nTrue Positive: {tp}')\n",
    "# Results show 0 False Negatives = model tells the woman she will have a baby when she won't\n",
    "print('\\n')\n",
    "\n",
    "print('Classification Report1:')\n",
    "print(classification_report(test_y_IVF, y_pred2))\n",
    "print('\\n')"
   ]
  },
  {
   "cell_type": "code",
   "execution_count": 92,
   "id": "aa50ee49",
   "metadata": {},
   "outputs": [],
   "source": [
    "# Now without SMOTE because those results are TERRIBLE\n",
    "# This model removes the 'total number of IVF pregnancies' to see if it gives different results, using SMOTE\n",
    "X3 = train_x.values\n",
    "y3 = train_y_IVF.astype(int).values.ravel()\n",
    "\n",
    "per_clf3 = Perceptron(\n",
    "    penalty=None, \n",
    "    alpha=0.0001, \n",
    "    l1_ratio=0.15, \n",
    "    fit_intercept=True, \n",
    "    max_iter=1000, \n",
    "    tol=1e-3, \n",
    "    shuffle=True, \n",
    "    verbose=0, \n",
    "    eta0=1.0, \n",
    "    n_jobs=None, \n",
    "    random_state=42, \n",
    "    early_stopping=True, \n",
    "    validation_fraction=0.1, \n",
    "    n_iter_no_change=5, \n",
    "    class_weight=None, \n",
    "    warm_start=False)\n",
    "\n",
    "per_clf3.fit(X3, y3)\n",
    "\n",
    "y_pred3 = per_clf3.predict(test_x.values)"
   ]
  },
  {
   "cell_type": "code",
   "execution_count": 93,
   "id": "9208abde",
   "metadata": {},
   "outputs": [
    {
     "data": {
      "text/plain": [
       "array([0, 0, 0, ..., 0, 0, 0])"
      ]
     },
     "execution_count": 93,
     "metadata": {},
     "output_type": "execute_result"
    }
   ],
   "source": [
    "y_pred3"
   ]
  },
  {
   "cell_type": "code",
   "execution_count": 94,
   "id": "483da894",
   "metadata": {},
   "outputs": [
    {
     "name": "stdout",
     "output_type": "stream",
     "text": [
      "New Confusion Matrix:\n",
      "[[27362    89]\n",
      " [ 3752    23]]\n",
      "True negative: 27362\n",
      "False Positive: 89\n",
      "False Negative: 3752\n",
      "True Positive: 23\n",
      "\n",
      "\n",
      "New Classification Report:\n",
      "              precision    recall  f1-score   support\n",
      "\n",
      "           0       0.88      1.00      0.93     27451\n",
      "           1       0.21      0.01      0.01      3775\n",
      "\n",
      "    accuracy                           0.88     31226\n",
      "   macro avg       0.54      0.50      0.47     31226\n",
      "weighted avg       0.80      0.88      0.82     31226\n",
      "\n"
     ]
    }
   ],
   "source": [
    "# Print results\n",
    "\n",
    "print('New Confusion Matrix:')\n",
    "print(confusion_matrix(test_y_IVF, y_pred3))\n",
    "(tn, fp, fn, tp) = confusion_matrix(test_y_IVF, y_pred3).ravel()\n",
    "print(f'True negative: {tn}\\nFalse Positive: {fp}\\nFalse Negative: {fn}\\nTrue Positive: {tp}')\n",
    "# Results show 0 False Negatives = model tells the woman she will have a baby when she won't\n",
    "\n",
    "print('\\n')\n",
    "print('New Classification Report:')\n",
    "print(classification_report(test_y_IVF, y_pred3))"
   ]
  },
  {
   "cell_type": "code",
   "execution_count": 95,
   "id": "df8d61f6",
   "metadata": {},
   "outputs": [
    {
     "name": "stdout",
     "output_type": "stream",
     "text": [
      "Feature: 0 Patient Age at Treatment, Score: -0.0003090373406776425\n",
      "Feature: 1 Total Number of Previous IVF cycles, Score: -0.0001857426503554721\n",
      "Feature: 2 Type of Infertility - Female Primary, Score: -3.2024594888879767e-06\n",
      "Feature: 3 Type of Infertility - Female Secondary, Score: 6.404918977775953e-06\n",
      "Feature: 4 Type of Infertility - Male Primary, Score: -4.8036892333319646e-06\n",
      "Feature: 5 Type of Infertility - Male Secondary, Score: -1.6012297444439883e-06\n",
      "Feature: 6 Type of Infertility -Couple Primary, Score: -3.2024594888879767e-06\n",
      "Feature: 7 Type of Infertility -Couple Secondary, Score: -1.6012297444439883e-06\n",
      "Feature: 8 Cause  of Infertility - Tubal disease, Score: -3.3625824633318205e-05\n",
      "Feature: 9 Cause of Infertility - Ovulatory Disorder, Score: 7.525779798885635e-05\n",
      "Feature: 10 Cause of Infertility - Male Factor, Score: 0.0\n",
      "Feature: 11 Cause of Infertility - Patient Unexplained, Score: -0.00018894510984436287\n",
      "Feature: 12 Cause of Infertility - Endometriosis, Score: -3.6828284122203406e-05\n",
      "Feature: 13 Cause of Infertility - Cervical factors, Score: 0.0\n",
      "Feature: 14 Cause of Infertility -  Partner Sperm Morphology, Score: 0.0\n",
      "Feature: 15 Stimulation used, Score: 0.00018093896112214293\n",
      "Feature: 16 Number of foetal sacs with fetal pulsation, Score: -8.16627169666323e-05\n",
      "Feature: 17 Embryos Transfered, Score: 5.284058156664606e-05\n",
      "Feature: 18 Elective Single Embryo Transfer, Score: -0.00012329469032216768\n",
      "Feature: 19 Egg Source, Score: 9.607378466663929e-06\n",
      "Feature: 20 Fresh Cycle, Score: 6.885287901107761e-05\n",
      "Feature: 21 Frozen Cycle, Score: -0.0001505155959777099\n",
      "Feature: 22 Eggs Mixed With Partner Sperm, Score: -0.0014651252161660133\n",
      "Feature: 23 Eggs Mixed With Donor sperm, Score: -0.0020479728431435362\n",
      "Feature: 24 Total Embryos Thawed, Score: -0.00015692051495548863\n",
      "Feature: 25 Sperm From Partner, Score: -0.00024018446166655937\n",
      "Feature: 26 Sperm From Donor, Score: 4.803689233331132e-05\n"
     ]
    },
    {
     "data": {
      "image/png": "[encoded data removed]",
      "text/plain": [
       "<Figure size 432x288 with 1 Axes>"
      ]
     },
     "metadata": {
      "needs_background": "light"
     },
     "output_type": "display_data"
    }
   ],
   "source": [
    "# Neural networks (including perceptron) do not have feature importance so I am looking at permutation importance\n",
    "# CHANCE OF LIVE BIRTH MODEL WO TOTAL NO OF IVF PREGNANCIES\n",
    "\n",
    "from sklearn.inspection import permutation_importance\n",
    "import matplotlib.pyplot as plt\n",
    "\n",
    "# Perform permutation importance\n",
    "results_IVF3 = permutation_importance(per_clf3, X3, y3, scoring='neg_mean_squared_error')\n",
    "\n",
    "# Get importance\n",
    "importance_IVF3 = results_IVF3.importances_mean\n",
    "\n",
    "# Summarize feature importance\n",
    "for i,v in enumerate(importance_IVF3):\n",
    " #print('Feature: {}, Score: %.5f' % (i,v))\n",
    "    print(f'Feature: {i} {index2name[i]}, Score: {v}')\n",
    "\n",
    "# Plot feature importance\n",
    "plt.bar([x for x in range(len(importance_IVF3))], importance_IVF3)\n",
    "plt.show()"
   ]
  },
  {
   "cell_type": "code",
   "execution_count": 54,
   "id": "9320d84c",
   "metadata": {},
   "outputs": [
    {
     "name": "stdout",
     "output_type": "stream",
     "text": [
      "[ -412.63755773 -1117.72271938  -628.27511546 ...   -77.2576501\n",
      "  -322.93778793  -310.62009237]\n"
     ]
    }
   ],
   "source": [
    "decision_function = per_clf3.decision_function(test_x.values)\n",
    "print(decision_function)"
   ]
  },
  {
   "cell_type": "code",
   "execution_count": null,
   "id": "f171ce56",
   "metadata": {},
   "outputs": [],
   "source": [
    "import pandas as pd\n",
    "import numpy as np\n",
    "from sklearn.model_selection import train_test_split\n",
    "from sklearn.linear_model import LogisticRegression\n",
    "from sklearn import metrics\n",
    "import matplotlib.pyplot as plt"
   ]
  },
  {
   "cell_type": "code",
   "execution_count": null,
   "id": "b62e3844",
   "metadata": {},
   "outputs": [],
   "source": [
    "# ROC curve for models\n",
    "#define metrics\n",
    "y_pred_proba = log_regression.predict_proba(test_x)[::,1]\n",
    "fpr, tpr, _ = metrics.roc_curve(test_y,  y_pred_proba)\n",
    "auc = metrics.roc_auc_score(test_y, y_pred_proba)\n",
    "\n",
    "#create ROC curve\n",
    "plt.plot(fpr,tpr,label=\"AUC=\"+str(auc))\n",
    "plt.ylabel('True Positive Rate')\n",
    "plt.xlabel('False Positive Rate')\n",
    "plt.legend(loc=4)\n",
    "plt.show()"
   ]
  },
  {
   "cell_type": "code",
   "execution_count": null,
   "id": "e20fe019",
   "metadata": {},
   "outputs": [],
   "source": []
  }
 ],
 "metadata": {
  "kernelspec": {
   "display_name": "Python 3 (ipykernel)",
   "language": "python",
   "name": "python3"
  },
  "language_info": {
   "codemirror_mode": {
    "name": "ipython",
    "version": 3
   },
   "file_extension": ".py",
   "mimetype": "text/x-python",
   "name": "python",
   "nbconvert_exporter": "python",
   "pygments_lexer": "ipython3",
   "version": "3.9.12"
  }
 },
 "nbformat": 4,
 "nbformat_minor": 5
}
