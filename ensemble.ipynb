{
 "cells": [
  {
   "cell_type": "code",
   "execution_count": 70,
   "id": "fffafdae",
   "metadata": {},
   "outputs": [],
   "source": [
    "import os\n",
    "from glob import glob\n",
    "import numpy as np\n",
    "from sklearn.metrics import classification_report"
   ]
  },
  {
   "cell_type": "code",
   "execution_count": 71,
   "id": "a860ef46",
   "metadata": {},
   "outputs": [],
   "source": [
    "class fileScore:\n",
    "    \n",
    "    def __init__(self, file_name, option=\"common\"):\n",
    "        \n",
    "        self.file_name = file_name\n",
    "        self.option = option\n",
    "        \n",
    "        self.score = float('.'.join(file_name.split('-')[-1].split('.')[:-1]))\n",
    "        self.filescore = self.make_score_list()\n",
    "\n",
    "    def make_score_list(self):\n",
    "        \n",
    "        fp = open(self.file_name, 'r')\n",
    "        line = fp.readline()\n",
    "            \n",
    "        index, score = line.split(',')\n",
    "        \n",
    "        if index.strip() != \"index\" or score.strip() != \"score\":\n",
    "            print(f\"format error {self.file_name}\")\n",
    "            return []\n",
    "            \n",
    "        filescore = []\n",
    "        if self.option == \"common\":\n",
    "            \n",
    "            line = fp.readline()\n",
    "            while line:\n",
    "                sc = float(line.split(',')[-1])\n",
    "                filescore.append(sc)\n",
    "                line = fp.readline()\n",
    "                \n",
    "        \n",
    "        return filescore\n",
    "    \n",
    "    def get_train_acc(self):\n",
    "        return self.score\n",
    "    \n",
    "    def get_score_list(self):\n",
    "        return self.filescore\n",
    "    \n",
    "    def get_score_list_idx(self, idx):\n",
    "        return self.filescore[idx]\n",
    "    \n",
    "            \n",
    "    "
   ]
  },
  {
   "cell_type": "code",
   "execution_count": 72,
   "id": "7686af15",
   "metadata": {},
   "outputs": [],
   "source": [
    "def get_file_list(option = \"common\"):\n",
    "    file_list = glob(\"*.txt\")\n",
    "    \n",
    "    file_class = []\n",
    "    for i in file_list:\n",
    "        fc = fileScore(i, option)\n",
    "        file_class.append(fc)\n",
    "    \n",
    "    return file_class\n",
    "       \n",
    "    "
   ]
  },
  {
   "cell_type": "code",
   "execution_count": 73,
   "id": "7aad7570",
   "metadata": {},
   "outputs": [],
   "source": [
    "def get_ground_true_list():\n",
    "    fp = open(\"../ML_storage/test_binary_y.csv\", \"r\")\n",
    "    line = fp.readline()\n",
    "    if line.strip() != \"LiveBirth\":\n",
    "        print(line)\n",
    "        print(\"format error\")\n",
    "    \n",
    "    ground_true = []\n",
    "    line = fp.readline()\n",
    "    \n",
    "    while line:\n",
    "        ground_true.append(int(line))\n",
    "        line = fp.readline()\n",
    "    return ground_true"
   ]
  },
  {
   "cell_type": "code",
   "execution_count": 82,
   "id": "95245484",
   "metadata": {},
   "outputs": [
    {
     "name": "stdout",
     "output_type": "stream",
     "text": [
      "31205 0.955424\n"
     ]
    },
    {
     "ename": "IndexError",
     "evalue": "list index out of range",
     "output_type": "error",
     "traceback": [
      "\u001b[0;31m---------------------------------------------------------------------------\u001b[0m",
      "\u001b[0;31mIndexError\u001b[0m                                Traceback (most recent call last)",
      "Input \u001b[0;32mIn [82]\u001b[0m, in \u001b[0;36m<cell line: 10>\u001b[0;34m()\u001b[0m\n\u001b[1;32m     12\u001b[0m     \u001b[38;5;66;03m# print(idx)\u001b[39;00m\n\u001b[1;32m     13\u001b[0m     \u001b[38;5;28;01mfor\u001b[39;00m c \u001b[38;5;129;01min\u001b[39;00m file_class:\n\u001b[0;32m---> 14\u001b[0m         pred\u001b[38;5;241m.\u001b[39mappend(\u001b[43mc\u001b[49m\u001b[38;5;241;43m.\u001b[39;49m\u001b[43mget_score_list_idx\u001b[49m\u001b[43m(\u001b[49m\u001b[43midx\u001b[49m\u001b[43m)\u001b[49m)\n\u001b[1;32m     16\u001b[0m     mix_prediction\u001b[38;5;241m.\u001b[39mappend(np\u001b[38;5;241m.\u001b[39mmean(pred))\n\u001b[1;32m     18\u001b[0m hard_prediction \u001b[38;5;241m=\u001b[39m []\n",
      "Input \u001b[0;32mIn [71]\u001b[0m, in \u001b[0;36mfileScore.get_score_list_idx\u001b[0;34m(self, idx)\u001b[0m\n\u001b[1;32m     40\u001b[0m \u001b[38;5;28;01mdef\u001b[39;00m \u001b[38;5;21mget_score_list_idx\u001b[39m(\u001b[38;5;28mself\u001b[39m, idx):\n\u001b[0;32m---> 41\u001b[0m     \u001b[38;5;28;01mreturn\u001b[39;00m \u001b[38;5;28;43mself\u001b[39;49m\u001b[38;5;241;43m.\u001b[39;49m\u001b[43mfilescore\u001b[49m\u001b[43m[\u001b[49m\u001b[43midx\u001b[49m\u001b[43m]\u001b[49m\n",
      "\u001b[0;31mIndexError\u001b[0m: list index out of range"
     ]
    }
   ],
   "source": [
    "# simple model ensemble\n",
    "\n",
    "file_class = get_file_list(\"common\")\n",
    "ground_true_list = get_ground_true_list()\n",
    "\n",
    "print(len(ground_true_list), file_class[3].get_train_acc())\n",
    "\n",
    "mix_prediction = []\n",
    "\n",
    "for idx in range(len(ground_true_list)):\n",
    "    pred = []\n",
    "    # print(idx)\n",
    "    for c in file_class:\n",
    "        pred.append(c.get_score_list_idx(idx))\n",
    "    \n",
    "    mix_prediction.append(np.mean(pred))\n",
    "\n",
    "hard_prediction = []\n",
    "for i in mix_prediction:\n",
    "    if mix_prediction >= 0.5:\n",
    "        hard_prediction.append(1)\n",
    "    else:\n",
    "        hard_prediction.append(0)\n",
    "\n",
    "print(classification_report(ground_true_list, hard_prediction))"
   ]
  },
  {
   "cell_type": "code",
   "execution_count": 58,
   "id": "baaf8cf0",
   "metadata": {},
   "outputs": [
    {
     "name": "stdout",
     "output_type": "stream",
     "text": [
      "31205 31205\n"
     ]
    }
   ],
   "source": []
  },
  {
   "cell_type": "code",
   "execution_count": null,
   "id": "52dd1ead",
   "metadata": {},
   "outputs": [],
   "source": []
  }
 ],
 "metadata": {
  "kernelspec": {
   "display_name": "Python 3 (ipykernel)",
   "language": "python",
   "name": "python3"
  },
  "language_info": {
   "codemirror_mode": {
    "name": "ipython",
    "version": 3
   },
   "file_extension": ".py",
   "mimetype": "text/x-python",
   "name": "python",
   "nbconvert_exporter": "python",
   "pygments_lexer": "ipython3",
   "version": "3.8.13"
  }
 },
 "nbformat": 4,
 "nbformat_minor": 5
}
