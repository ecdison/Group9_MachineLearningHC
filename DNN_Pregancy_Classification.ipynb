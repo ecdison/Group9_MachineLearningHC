{
 "cells": [
  {
   "cell_type": "code",
   "execution_count": 16,
   "id": "987063be",
   "metadata": {},
   "outputs": [],
   "source": [
    "# Numerical Operations\n",
    "import math\n",
    "import numpy as np\n",
    "\n",
    "# Reading/Writing Data\n",
    "import pandas as pd\n",
    "import os\n",
    "import csv\n",
    "\n",
    "# For Progress Bar\n",
    "from tqdm import tqdm\n",
    "\n",
    "# Pytorch\n",
    "import torch \n",
    "import torch.nn as nn\n",
    "from torch.utils.data import Dataset, DataLoader, random_split\n",
    "\n",
    "# For plotting learning curve\n",
    "from torch.utils.tensorboard import SummaryWriter\n",
    "from sklearn.metrics import classification_report\n",
    "from torchsummary import summary"
   ]
  },
  {
   "cell_type": "code",
   "execution_count": 17,
   "id": "f2e16018",
   "metadata": {},
   "outputs": [],
   "source": [
    "class IVFDataset(Dataset):\n",
    "    '''\n",
    "    x: Features.\n",
    "    y: Targets, if none, do prediction.\n",
    "    '''\n",
    "    def __init__(self, x, y=None):\n",
    "        # print(y, len(y))\n",
    "        \n",
    "        if y is None:\n",
    "            self.y = y\n",
    "        else:\n",
    "            self.y = torch.LongTensor(y)\n",
    "        self.x = torch.FloatTensor(x)\n",
    "        \n",
    "    def __getitem__(self, idx):\n",
    "        if self.y is None:\n",
    "            return self.x[idx]\n",
    "        else:\n",
    "            return self.x[idx], self.y[idx]\n",
    "\n",
    "    def __len__(self):\n",
    "        return len(self.x)"
   ]
  },
  {
   "cell_type": "code",
   "execution_count": 18,
   "id": "08ef5e4a",
   "metadata": {},
   "outputs": [],
   "source": [
    "class DNN_Regression(nn.Module):\n",
    "    def __init__(self, input_dim):\n",
    "        super(DNN_Regression, self).__init__()\n",
    "        # TODO: modify model's structure, be aware of dimensions. \n",
    "        self.layers = nn.Sequential(\n",
    "            nn.Linear(input_dim, 16),\n",
    "            nn.ReLU(),\n",
    "            nn.Linear(16, 8),\n",
    "            nn.ReLU(),\n",
    "            nn.Linear(8, 7)\n",
    "        )\n",
    "\n",
    "    def forward(self, x):\n",
    "        x = self.layers(x)\n",
    "        x = x.squeeze(1) # (B, 1) -> (B)\n",
    "        return x"
   ]
  },
  {
   "cell_type": "code",
   "execution_count": 19,
   "id": "28c280bb",
   "metadata": {},
   "outputs": [
    {
     "name": "stdout",
     "output_type": "stream",
     "text": [
      "DNN_Regression(\n",
      "  (layers): Sequential(\n",
      "    (0): Linear(in_features=22, out_features=16, bias=True)\n",
      "    (1): ReLU()\n",
      "    (2): Linear(in_features=16, out_features=8, bias=True)\n",
      "    (3): ReLU()\n",
      "    (4): Linear(in_features=8, out_features=7, bias=True)\n",
      "  )\n",
      ")\n"
     ]
    }
   ],
   "source": [
    "model = DNN_Regression(22)\n",
    "print(model)"
   ]
  },
  {
   "cell_type": "code",
   "execution_count": 20,
   "id": "8834f5d7",
   "metadata": {},
   "outputs": [
    {
     "name": "stdout",
     "output_type": "stream",
     "text": [
      "----------------------------------------------------------------\n",
      "        Layer (type)               Output Shape         Param #\n",
      "================================================================\n",
      "            Linear-1                [-1, 1, 16]             368\n",
      "              ReLU-2                [-1, 1, 16]               0\n",
      "            Linear-3                 [-1, 1, 8]             136\n",
      "              ReLU-4                 [-1, 1, 8]               0\n",
      "            Linear-5                 [-1, 1, 7]              63\n",
      "================================================================\n",
      "Total params: 567\n",
      "Trainable params: 567\n",
      "Non-trainable params: 0\n",
      "----------------------------------------------------------------\n",
      "Input size (MB): 0.00\n",
      "Forward/backward pass size (MB): 0.00\n",
      "Params size (MB): 0.00\n",
      "Estimated Total Size (MB): 0.00\n",
      "----------------------------------------------------------------\n"
     ]
    }
   ],
   "source": [
    "summary(model, (1, 22))"
   ]
  },
  {
   "cell_type": "code",
   "execution_count": 34,
   "id": "ec1941f4",
   "metadata": {},
   "outputs": [],
   "source": [
    "train_loss=[] \n",
    "val_loss=[]\n",
    "\n",
    "def trainer(train_loader, valid_loader, model, config, device):\n",
    "    \n",
    "    # TODO try differnet criterion or optimizer \n",
    "    # criterion = nn.MSELoss(reduction='mean')\n",
    "    # w=torch.tensor([0.1,0.9])\n",
    "    # criterion = nn.CrossEntropyLoss(weight=w)\n",
    "    criterion = nn.CrossEntropyLoss()\n",
    "    optimizer = torch.optim.Adam(model.parameters(), lr=config['learning_rate'], betas=(0.9, 0.999), eps=1e-08)\n",
    "    writer = SummaryWriter()\n",
    "    \n",
    "    if not os.path.isdir('/mnt/hdd18.2t/sea120424/exchange/ML/datasets/project/DNN_Regression/models'):\n",
    "        os.mkdir('/mnt/hdd18.2t/sea120424/exchange/ML/datasets/project/DNN_Regression/models') # Create directory of saving models.\n",
    "    \n",
    "    n_epochs, best_loss, step, early_stop_count = config['n_epochs'], math.inf, 0, 0\n",
    "    \n",
    "    for epoch in range(n_epochs):\n",
    "        model.train() # Set your model to train mode.\n",
    "        loss_record = []\n",
    "\n",
    "        # tqdm is a package to visualize your training progress.\n",
    "        train_pbar = tqdm(train_loader, position=0, leave=True)\n",
    "        train_acc = []\n",
    "        for x, y in train_pbar:\n",
    "            optimizer.zero_grad()               # Set gradient to zero.\n",
    "            x, y = x.to(device), y.to(device)   # Move your data to device. \n",
    "            pred = model(x)             \n",
    "            \n",
    "            loss = criterion(pred, y)\n",
    "            \n",
    "            loss.backward()                     # Compute gradient(backpropagation).\n",
    "            optimizer.step()                    # Update parameters.\n",
    "            step += 1\n",
    "            loss_record.append(loss.detach().item())\n",
    "            \n",
    "            \n",
    "            acc = (pred.argmax(dim=-1) == y.to(device)).float().mean()\n",
    "            train_acc.append(acc)\n",
    "            \n",
    "            # Display current epoch number and loss on tqdm progress bar.\n",
    "            train_pbar.set_description(f'Epoch [{epoch+1}/{n_epochs}]')\n",
    "            train_pbar.set_postfix({'loss': loss.detach().item()})\n",
    "        \n",
    "        print(f\"Train Acc: {sum(train_acc) / len(train_acc)}\")\n",
    "        mean_train_loss = sum(loss_record)/len(loss_record)\n",
    "        train_loss.append(mean_train_loss)\n",
    "        writer.add_scalar('Loss/train', mean_train_loss, step)\n",
    "\n",
    "        model.eval() # Set your model to evaluation mode.\n",
    "        loss_record = []\n",
    "        val_acc = []\n",
    "        for x, y in valid_loader:\n",
    "            x, y = x.to(device), y.to(device)\n",
    "            with torch.no_grad():\n",
    "                pred = model(x)\n",
    "                loss = criterion(pred, y)\n",
    "                \n",
    "                acc = (pred.argmax(dim=-1) == y.to(device)).float().mean()\n",
    "                val_acc.append(acc)\n",
    "\n",
    "            loss_record.append(loss.item())\n",
    "            \n",
    "        mean_valid_loss = sum(loss_record)/len(loss_record)\n",
    "        val_loss.append(mean_valid_loss)\n",
    "        print(f\"Val Acc: {sum(val_acc) / len(val_acc)}\")\n",
    "        print(f'Epoch [{epoch+1}/{n_epochs}]: Train loss: {mean_train_loss:.4f}, Valid loss: {mean_valid_loss:.4f}')\n",
    "        writer.add_scalar('Loss/valid', mean_valid_loss, step)\n",
    "\n",
    "        if mean_valid_loss < best_loss:\n",
    "            best_loss = mean_valid_loss\n",
    "            torch.save(model.state_dict(), config['save_path']) # Save your best model\n",
    "            print('Saving model with loss {:.3f}...'.format(best_loss))\n",
    "            early_stop_count = 0\n",
    "        else: \n",
    "            early_stop_count += 1\n",
    "\n",
    "        if early_stop_count >= config['early_stop']:\n",
    "            print('\\nModel is not improving, so we halt the training session.')\n",
    "            return"
   ]
  },
  {
   "cell_type": "code",
   "execution_count": 22,
   "id": "f30057cd",
   "metadata": {},
   "outputs": [],
   "source": [
    "device = 'cpu'\n",
    "\n",
    "config = {\n",
    "    'seed': 1322,      # Your seed number, you can pick your lucky number. :)\n",
    "    'select_all': True,   # Whether to use all features.\n",
    "    'valid_ratio': 0.2,   # validation_size = train_size * valid_ratio\n",
    "    'n_epochs': 500,     # Number of epochs.            \n",
    "    'batch_size': 256, \n",
    "    'learning_rate': 1e-4,              \n",
    "    'early_stop': 20,    # If model has not improved for this many consecutive epochs, stop training.     \n",
    "    'save_path': '/mnt/hdd18.2t/sea120424/exchange/ML/datasets/project/DNN_Regression/models/model_pregnancy_classification_Adam_WC.ckpt'  # Your model will be saved here.\n",
    "}"
   ]
  },
  {
   "cell_type": "code",
   "execution_count": 23,
   "id": "693209be",
   "metadata": {},
   "outputs": [],
   "source": [
    "def same_seed(seed): \n",
    "    '''Fixes random number generator seeds for reproducibility.'''\n",
    "    torch.backends.cudnn.deterministic = True\n",
    "    torch.backends.cudnn.benchmark = False\n",
    "    np.random.seed(seed)\n",
    "    torch.manual_seed(seed)\n",
    "    if torch.cuda.is_available():\n",
    "        torch.cuda.manual_seed_all(seed)\n",
    "\n",
    "def train_valid_split(data_set, valid_ratio, seed):\n",
    "    '''Split provided training data into training set and validation set'''\n",
    "    valid_set_size = int(valid_ratio * len(data_set)) \n",
    "    train_set_size = len(data_set) - valid_set_size\n",
    "    train_set, valid_set = random_split(data_set, [train_set_size, valid_set_size], generator=torch.Generator().manual_seed(seed))\n",
    "    return np.array(train_set), np.array(valid_set)\n",
    "\n",
    "def predict(test_loader, model, device):\n",
    "    model.eval() # Set your model to evaluation mode.\n",
    "    preds = []\n",
    "    for x in tqdm(test_loader):\n",
    "        x = x.to(device)                        \n",
    "        with torch.no_grad():                   \n",
    "            pred = model(x)                     \n",
    "            preds.append(pred.detach().cpu())   \n",
    "    preds = torch.cat(preds, dim=0).numpy()  \n",
    "    return preds"
   ]
  },
  {
   "cell_type": "code",
   "execution_count": 24,
   "id": "60e15934",
   "metadata": {},
   "outputs": [],
   "source": [
    "same_seed(config['seed'])"
   ]
  },
  {
   "cell_type": "code",
   "execution_count": 25,
   "id": "8b610a2a",
   "metadata": {},
   "outputs": [],
   "source": [
    "train_x = pd.read_csv('/mnt/hdd18.2t/sea120424/exchange/ML/datasets/project/train_pregnancy_binary_x.csv')\n",
    "train_y = pd.read_csv('/mnt/hdd18.2t/sea120424/exchange/ML/datasets/project/train_pregnancy_binary_y.csv')\n",
    "test_x = pd.read_csv('/mnt/hdd18.2t/sea120424/exchange/ML/datasets/project/test_pregnancy_binary_x.csv')\n",
    "test_y = pd.read_csv('/mnt/hdd18.2t/sea120424/exchange/ML/datasets/project/test_pregnancy_binary_y.csv')"
   ]
  },
  {
   "cell_type": "code",
   "execution_count": 26,
   "id": "26293951",
   "metadata": {},
   "outputs": [],
   "source": [
    "from sklearn.model_selection import train_test_split\n",
    "\n",
    "train_x, valid_x, train_y, valid_y = train_test_split(train_x, train_y, test_size=0.10, random_state=42)"
   ]
  },
  {
   "cell_type": "code",
   "execution_count": 27,
   "id": "fb39154e",
   "metadata": {},
   "outputs": [
    {
     "name": "stdout",
     "output_type": "stream",
     "text": [
      "(112338, 20) (112338, 1)\n",
      "(12482, 20) (12482, 1)\n",
      "(31205, 20) (31205, 1)\n"
     ]
    }
   ],
   "source": [
    "print(train_x.shape, train_y.shape)\n",
    "print(valid_x.shape, valid_y.shape)\n",
    "print(test_x.shape, test_y.shape)"
   ]
  },
  {
   "cell_type": "code",
   "execution_count": 28,
   "id": "fe200307",
   "metadata": {},
   "outputs": [
    {
     "data": {
      "text/html": [
       "<div>\n",
       "<style scoped>\n",
       "    .dataframe tbody tr th:only-of-type {\n",
       "        vertical-align: middle;\n",
       "    }\n",
       "\n",
       "    .dataframe tbody tr th {\n",
       "        vertical-align: top;\n",
       "    }\n",
       "\n",
       "    .dataframe thead th {\n",
       "        text-align: right;\n",
       "    }\n",
       "</style>\n",
       "<table border=\"1\" class=\"dataframe\">\n",
       "  <thead>\n",
       "    <tr style=\"text-align: right;\">\n",
       "      <th></th>\n",
       "      <th>Total number of IVF pregnancies</th>\n",
       "    </tr>\n",
       "  </thead>\n",
       "  <tbody>\n",
       "    <tr>\n",
       "      <th>123971</th>\n",
       "      <td>0</td>\n",
       "    </tr>\n",
       "    <tr>\n",
       "      <th>33543</th>\n",
       "      <td>0</td>\n",
       "    </tr>\n",
       "    <tr>\n",
       "      <th>29687</th>\n",
       "      <td>0</td>\n",
       "    </tr>\n",
       "    <tr>\n",
       "      <th>29787</th>\n",
       "      <td>0</td>\n",
       "    </tr>\n",
       "    <tr>\n",
       "      <th>123053</th>\n",
       "      <td>0</td>\n",
       "    </tr>\n",
       "    <tr>\n",
       "      <th>...</th>\n",
       "      <td>...</td>\n",
       "    </tr>\n",
       "    <tr>\n",
       "      <th>119879</th>\n",
       "      <td>1</td>\n",
       "    </tr>\n",
       "    <tr>\n",
       "      <th>103694</th>\n",
       "      <td>0</td>\n",
       "    </tr>\n",
       "    <tr>\n",
       "      <th>860</th>\n",
       "      <td>0</td>\n",
       "    </tr>\n",
       "    <tr>\n",
       "      <th>15795</th>\n",
       "      <td>1</td>\n",
       "    </tr>\n",
       "    <tr>\n",
       "      <th>121958</th>\n",
       "      <td>0</td>\n",
       "    </tr>\n",
       "  </tbody>\n",
       "</table>\n",
       "<p>112338 rows × 1 columns</p>\n",
       "</div>"
      ],
      "text/plain": [
       "        Total number of IVF pregnancies\n",
       "123971                                0\n",
       "33543                                 0\n",
       "29687                                 0\n",
       "29787                                 0\n",
       "123053                                0\n",
       "...                                 ...\n",
       "119879                                1\n",
       "103694                                0\n",
       "860                                   0\n",
       "15795                                 1\n",
       "121958                                0\n",
       "\n",
       "[112338 rows x 1 columns]"
      ]
     },
     "execution_count": 28,
     "metadata": {},
     "output_type": "execute_result"
    }
   ],
   "source": [
    "train_y"
   ]
  },
  {
   "cell_type": "code",
   "execution_count": 29,
   "id": "ab015176",
   "metadata": {},
   "outputs": [],
   "source": [
    "train_x = train_x.to_numpy()\n",
    "train_y = train_y.to_numpy().ravel()\n",
    "valid_x = valid_x.to_numpy()\n",
    "valid_y = valid_y.to_numpy().ravel()\n",
    "test_x  = test_x.to_numpy()\n",
    "test_y = test_y.to_numpy().ravel()"
   ]
  },
  {
   "cell_type": "code",
   "execution_count": 30,
   "id": "0024c287",
   "metadata": {},
   "outputs": [],
   "source": [
    "train_dataset = IVFDataset(train_x, train_y)\n",
    "valid_dataset = IVFDataset(valid_x, valid_y)\n",
    "test_dataset = IVFDataset(test_x)"
   ]
  },
  {
   "cell_type": "code",
   "execution_count": 31,
   "id": "c526641a",
   "metadata": {},
   "outputs": [],
   "source": [
    "train_loader = DataLoader(train_dataset, batch_size=config['batch_size'], shuffle=True, pin_memory=True)\n",
    "valid_loader = DataLoader(valid_dataset, batch_size=config['batch_size'], shuffle=True, pin_memory=True)\n",
    "test_loader = DataLoader(test_dataset, batch_size=config['batch_size'], shuffle=False, pin_memory=True)"
   ]
  },
  {
   "cell_type": "code",
   "execution_count": 32,
   "id": "3e63d074",
   "metadata": {},
   "outputs": [],
   "source": [
    "train_loss = []\n",
    "val_loss = []\n",
    "model = DNN_Regression(input_dim=train_x.shape[1]).to(device)"
   ]
  },
  {
   "cell_type": "code",
   "execution_count": 35,
   "id": "68558f0c",
   "metadata": {},
   "outputs": [
    {
     "name": "stderr",
     "output_type": "stream",
     "text": [
      "Epoch [1/500]: 100%|███████████████████████████████████████████████████████| 439/439 [00:01<00:00, 221.24it/s, loss=1.11]\n"
     ]
    },
    {
     "name": "stdout",
     "output_type": "stream",
     "text": [
      "Train Acc: 0.5682580471038818\n",
      "Val Acc: 0.8417578935623169\n",
      "Epoch [1/500]: Train loss: 1.4617, Valid loss: 1.0594\n",
      "Saving model with loss 1.059...\n"
     ]
    },
    {
     "name": "stderr",
     "output_type": "stream",
     "text": [
      "Epoch [2/500]: 100%|██████████████████████████████████████████████████████| 439/439 [00:02<00:00, 202.98it/s, loss=0.706]\n"
     ]
    },
    {
     "name": "stdout",
     "output_type": "stream",
     "text": [
      "Train Acc: 0.8408889174461365\n",
      "Val Acc: 0.841655969619751\n",
      "Epoch [2/500]: Train loss: 0.8268, Valid loss: 0.6384\n",
      "Saving model with loss 0.638...\n"
     ]
    },
    {
     "name": "stderr",
     "output_type": "stream",
     "text": [
      "Epoch [3/500]: 100%|██████████████████████████████████████████████████████| 439/439 [00:01<00:00, 222.40it/s, loss=0.471]\n"
     ]
    },
    {
     "name": "stdout",
     "output_type": "stream",
     "text": [
      "Train Acc: 0.840914249420166\n",
      "Val Acc: 0.8420125842094421\n",
      "Epoch [3/500]: Train loss: 0.5705, Valid loss: 0.5269\n",
      "Saving model with loss 0.527...\n"
     ]
    },
    {
     "name": "stderr",
     "output_type": "stream",
     "text": [
      "Epoch [4/500]: 100%|██████████████████████████████████████████████████████| 439/439 [00:01<00:00, 236.11it/s, loss=0.506]\n"
     ]
    },
    {
     "name": "stdout",
     "output_type": "stream",
     "text": [
      "Train Acc: 0.8409005999565125\n",
      "Val Acc: 0.8411234021186829\n",
      "Epoch [4/500]: Train loss: 0.5146, Valid loss: 0.4963\n",
      "Saving model with loss 0.496...\n"
     ]
    },
    {
     "name": "stderr",
     "output_type": "stream",
     "text": [
      "Epoch [5/500]: 100%|██████████████████████████████████████████████████████| 439/439 [00:02<00:00, 216.84it/s, loss=0.502]\n"
     ]
    },
    {
     "name": "stdout",
     "output_type": "stream",
     "text": [
      "Train Acc: 0.8405330181121826\n",
      "Val Acc: 0.8411298990249634\n",
      "Epoch [5/500]: Train loss: 0.4900, Valid loss: 0.4767\n",
      "Saving model with loss 0.477...\n"
     ]
    },
    {
     "name": "stderr",
     "output_type": "stream",
     "text": [
      "Epoch [6/500]: 100%|███████████████████████████████████████████████████████| 439/439 [00:01<00:00, 239.26it/s, loss=0.52]\n"
     ]
    },
    {
     "name": "stdout",
     "output_type": "stream",
     "text": [
      "Train Acc: 0.8402779698371887\n",
      "Val Acc: 0.8413082957267761\n",
      "Epoch [6/500]: Train loss: 0.4736, Valid loss: 0.4636\n",
      "Saving model with loss 0.464...\n"
     ]
    },
    {
     "name": "stderr",
     "output_type": "stream",
     "text": [
      "Epoch [7/500]: 100%|██████████████████████████████████████████████████████| 439/439 [00:02<00:00, 207.13it/s, loss=0.408]\n"
     ]
    },
    {
     "name": "stdout",
     "output_type": "stream",
     "text": [
      "Train Acc: 0.8392127752304077\n",
      "Val Acc: 0.8399308919906616\n",
      "Epoch [7/500]: Train loss: 0.4631, Valid loss: 0.4553\n",
      "Saving model with loss 0.455...\n"
     ]
    },
    {
     "name": "stderr",
     "output_type": "stream",
     "text": [
      "Epoch [8/500]: 100%|███████████████████████████████████████████████████████| 439/439 [00:01<00:00, 228.51it/s, loss=0.45]\n"
     ]
    },
    {
     "name": "stdout",
     "output_type": "stream",
     "text": [
      "Train Acc: 0.8383785486221313\n",
      "Val Acc: 0.8398798704147339\n",
      "Epoch [8/500]: Train loss: 0.4564, Valid loss: 0.4494\n",
      "Saving model with loss 0.449...\n"
     ]
    },
    {
     "name": "stderr",
     "output_type": "stream",
     "text": [
      "Epoch [9/500]: 100%|██████████████████████████████████████████████████████| 439/439 [00:01<00:00, 225.26it/s, loss=0.389]\n"
     ]
    },
    {
     "name": "stdout",
     "output_type": "stream",
     "text": [
      "Train Acc: 0.8381914496421814\n",
      "Val Acc: 0.8396341800689697\n",
      "Epoch [9/500]: Train loss: 0.4514, Valid loss: 0.4448\n",
      "Saving model with loss 0.445...\n"
     ]
    },
    {
     "name": "stderr",
     "output_type": "stream",
     "text": [
      "Epoch [10/500]: 100%|█████████████████████████████████████████████████████| 439/439 [00:01<00:00, 224.64it/s, loss=0.379]\n"
     ]
    },
    {
     "name": "stdout",
     "output_type": "stream",
     "text": [
      "Train Acc: 0.8382834792137146\n",
      "Val Acc: 0.8389010429382324\n",
      "Epoch [10/500]: Train loss: 0.4474, Valid loss: 0.4414\n",
      "Saving model with loss 0.441...\n"
     ]
    },
    {
     "name": "stderr",
     "output_type": "stream",
     "text": [
      "Epoch [11/500]: 100%|█████████████████████████████████████████████████████| 439/439 [00:02<00:00, 219.30it/s, loss=0.413]\n"
     ]
    },
    {
     "name": "stdout",
     "output_type": "stream",
     "text": [
      "Train Acc: 0.838171660900116\n",
      "Val Acc: 0.8383364677429199\n",
      "Epoch [11/500]: Train loss: 0.4435, Valid loss: 0.4374\n",
      "Saving model with loss 0.437...\n"
     ]
    },
    {
     "name": "stderr",
     "output_type": "stream",
     "text": [
      "Epoch [12/500]: 100%|█████████████████████████████████████████████████████| 439/439 [00:01<00:00, 227.17it/s, loss=0.427]\n"
     ]
    },
    {
     "name": "stdout",
     "output_type": "stream",
     "text": [
      "Train Acc: 0.8384397625923157\n",
      "Val Acc: 0.8384194374084473\n",
      "Epoch [12/500]: Train loss: 0.4396, Valid loss: 0.4335\n",
      "Saving model with loss 0.433...\n"
     ]
    },
    {
     "name": "stderr",
     "output_type": "stream",
     "text": [
      "Epoch [13/500]: 100%|█████████████████████████████████████████████████████| 439/439 [00:02<00:00, 205.34it/s, loss=0.438]\n"
     ]
    },
    {
     "name": "stdout",
     "output_type": "stream",
     "text": [
      "Train Acc: 0.8382628560066223\n",
      "Val Acc: 0.8386808037757874\n",
      "Epoch [13/500]: Train loss: 0.4350, Valid loss: 0.4288\n",
      "Saving model with loss 0.429...\n"
     ]
    },
    {
     "name": "stderr",
     "output_type": "stream",
     "text": [
      "Epoch [14/500]: 100%|█████████████████████████████████████████████████████| 439/439 [00:02<00:00, 216.95it/s, loss=0.357]\n"
     ]
    },
    {
     "name": "stdout",
     "output_type": "stream",
     "text": [
      "Train Acc: 0.8383476734161377\n",
      "Val Acc: 0.8385534286499023\n",
      "Epoch [14/500]: Train loss: 0.4309, Valid loss: 0.4258\n",
      "Saving model with loss 0.426...\n"
     ]
    },
    {
     "name": "stderr",
     "output_type": "stream",
     "text": [
      "Epoch [15/500]: 100%|█████████████████████████████████████████████████████| 439/439 [00:02<00:00, 209.22it/s, loss=0.395]\n"
     ]
    },
    {
     "name": "stdout",
     "output_type": "stream",
     "text": [
      "Train Acc: 0.838229238986969\n",
      "Val Acc: 0.8387318253517151\n",
      "Epoch [15/500]: Train loss: 0.4269, Valid loss: 0.4209\n",
      "Saving model with loss 0.421...\n"
     ]
    },
    {
     "name": "stderr",
     "output_type": "stream",
     "text": [
      "Epoch [16/500]: 100%|█████████████████████████████████████████████████████| 439/439 [00:01<00:00, 232.06it/s, loss=0.432]\n"
     ]
    },
    {
     "name": "stdout",
     "output_type": "stream",
     "text": [
      "Train Acc: 0.8380721211433411\n",
      "Val Acc: 0.8384959101676941\n",
      "Epoch [16/500]: Train loss: 0.4227, Valid loss: 0.4175\n",
      "Saving model with loss 0.417...\n"
     ]
    },
    {
     "name": "stderr",
     "output_type": "stream",
     "text": [
      "Epoch [17/500]: 100%|█████████████████████████████████████████████████████| 439/439 [00:02<00:00, 215.76it/s, loss=0.445]\n"
     ]
    },
    {
     "name": "stdout",
     "output_type": "stream",
     "text": [
      "Train Acc: 0.8381185531616211\n",
      "Val Acc: 0.8391304016113281\n",
      "Epoch [17/500]: Train loss: 0.4187, Valid loss: 0.4137\n",
      "Saving model with loss 0.414...\n"
     ]
    },
    {
     "name": "stderr",
     "output_type": "stream",
     "text": [
      "Epoch [18/500]: 100%|█████████████████████████████████████████████████████| 439/439 [00:01<00:00, 227.73it/s, loss=0.384]\n"
     ]
    },
    {
     "name": "stdout",
     "output_type": "stream",
     "text": [
      "Train Acc: 0.8385011553764343\n",
      "Val Acc: 0.8391147255897522\n",
      "Epoch [18/500]: Train loss: 0.4145, Valid loss: 0.4096\n",
      "Saving model with loss 0.410...\n"
     ]
    },
    {
     "name": "stderr",
     "output_type": "stream",
     "text": [
      "Epoch [19/500]: 100%|█████████████████████████████████████████████████████| 439/439 [00:01<00:00, 232.63it/s, loss=0.426]\n"
     ]
    },
    {
     "name": "stdout",
     "output_type": "stream",
     "text": [
      "Train Acc: 0.8384775519371033\n",
      "Val Acc: 0.8392964005470276\n",
      "Epoch [19/500]: Train loss: 0.4105, Valid loss: 0.4058\n",
      "Saving model with loss 0.406...\n"
     ]
    },
    {
     "name": "stderr",
     "output_type": "stream",
     "text": [
      "Epoch [20/500]: 100%|█████████████████████████████████████████████████████| 439/439 [00:01<00:00, 222.64it/s, loss=0.354]\n"
     ]
    },
    {
     "name": "stdout",
     "output_type": "stream",
     "text": [
      "Train Acc: 0.838740348815918\n",
      "Val Acc: 0.8394812941551208\n",
      "Epoch [20/500]: Train loss: 0.4066, Valid loss: 0.4020\n",
      "Saving model with loss 0.402...\n"
     ]
    },
    {
     "name": "stderr",
     "output_type": "stream",
     "text": [
      "Epoch [21/500]: 100%|█████████████████████████████████████████████████████| 439/439 [00:01<00:00, 241.35it/s, loss=0.426]\n"
     ]
    },
    {
     "name": "stdout",
     "output_type": "stream",
     "text": [
      "Train Acc: 0.8386059999465942\n",
      "Val Acc: 0.840004026889801\n",
      "Epoch [21/500]: Train loss: 0.4028, Valid loss: 0.3980\n",
      "Saving model with loss 0.398...\n"
     ]
    },
    {
     "name": "stderr",
     "output_type": "stream",
     "text": [
      "Epoch [22/500]: 100%|█████████████████████████████████████████████████████| 439/439 [00:01<00:00, 222.44it/s, loss=0.401]\n"
     ]
    },
    {
     "name": "stdout",
     "output_type": "stream",
     "text": [
      "Train Acc: 0.8391871452331543\n",
      "Val Acc: 0.8404568433761597\n",
      "Epoch [22/500]: Train loss: 0.3991, Valid loss: 0.3945\n",
      "Saving model with loss 0.395...\n"
     ]
    },
    {
     "name": "stderr",
     "output_type": "stream",
     "text": [
      "Epoch [23/500]: 100%|█████████████████████████████████████████████████████| 439/439 [00:01<00:00, 261.45it/s, loss=0.387]\n"
     ]
    },
    {
     "name": "stdout",
     "output_type": "stream",
     "text": [
      "Train Acc: 0.8390300869941711\n",
      "Val Acc: 0.8409959673881531\n",
      "Epoch [23/500]: Train loss: 0.3957, Valid loss: 0.3916\n",
      "Saving model with loss 0.392...\n"
     ]
    },
    {
     "name": "stderr",
     "output_type": "stream",
     "text": [
      "Epoch [24/500]: 100%|█████████████████████████████████████████████████████| 439/439 [00:01<00:00, 232.96it/s, loss=0.443]\n"
     ]
    },
    {
     "name": "stdout",
     "output_type": "stream",
     "text": [
      "Train Acc: 0.839747965335846\n",
      "Val Acc: 0.8408620357513428\n",
      "Epoch [24/500]: Train loss: 0.3927, Valid loss: 0.3893\n",
      "Saving model with loss 0.389...\n"
     ]
    },
    {
     "name": "stderr",
     "output_type": "stream",
     "text": [
      "Epoch [25/500]: 100%|█████████████████████████████████████████████████████| 439/439 [00:01<00:00, 230.41it/s, loss=0.427]\n"
     ]
    },
    {
     "name": "stdout",
     "output_type": "stream",
     "text": [
      "Train Acc: 0.8399615287780762\n",
      "Val Acc: 0.8405718803405762\n",
      "Epoch [25/500]: Train loss: 0.3900, Valid loss: 0.3866\n",
      "Saving model with loss 0.387...\n"
     ]
    },
    {
     "name": "stderr",
     "output_type": "stream",
     "text": [
      "Epoch [26/500]: 100%|█████████████████████████████████████████████████████| 439/439 [00:01<00:00, 221.76it/s, loss=0.398]\n"
     ]
    },
    {
     "name": "stdout",
     "output_type": "stream",
     "text": [
      "Train Acc: 0.8403094410896301\n",
      "Val Acc: 0.8411044478416443\n",
      "Epoch [26/500]: Train loss: 0.3877, Valid loss: 0.3847\n",
      "Saving model with loss 0.385...\n"
     ]
    },
    {
     "name": "stderr",
     "output_type": "stream",
     "text": [
      "Epoch [27/500]: 100%|█████████████████████████████████████████████████████| 439/439 [00:01<00:00, 253.43it/s, loss=0.397]\n"
     ]
    },
    {
     "name": "stdout",
     "output_type": "stream",
     "text": [
      "Train Acc: 0.8407067656517029\n",
      "Val Acc: 0.8404346108436584\n",
      "Epoch [27/500]: Train loss: 0.3856, Valid loss: 0.3830\n",
      "Saving model with loss 0.383...\n"
     ]
    },
    {
     "name": "stderr",
     "output_type": "stream",
     "text": [
      "Epoch [28/500]: 100%|█████████████████████████████████████████████████████| 439/439 [00:02<00:00, 209.51it/s, loss=0.378]\n"
     ]
    },
    {
     "name": "stdout",
     "output_type": "stream",
     "text": [
      "Train Acc: 0.8408421874046326\n",
      "Val Acc: 0.841547429561615\n",
      "Epoch [28/500]: Train loss: 0.3837, Valid loss: 0.3810\n",
      "Saving model with loss 0.381...\n"
     ]
    },
    {
     "name": "stderr",
     "output_type": "stream",
     "text": [
      "Epoch [29/500]: 100%|█████████████████████████████████████████████████████| 439/439 [00:01<00:00, 220.30it/s, loss=0.383]\n"
     ]
    },
    {
     "name": "stdout",
     "output_type": "stream",
     "text": [
      "Train Acc: 0.841140866279602\n",
      "Val Acc: 0.8419460654258728\n",
      "Epoch [29/500]: Train loss: 0.3821, Valid loss: 0.3794\n",
      "Saving model with loss 0.379...\n"
     ]
    },
    {
     "name": "stderr",
     "output_type": "stream",
     "text": [
      "Epoch [30/500]: 100%|█████████████████████████████████████████████████████| 439/439 [00:02<00:00, 212.06it/s, loss=0.329]\n"
     ]
    },
    {
     "name": "stdout",
     "output_type": "stream",
     "text": [
      "Train Acc: 0.8412821292877197\n",
      "Val Acc: 0.8419173359870911\n",
      "Epoch [30/500]: Train loss: 0.3806, Valid loss: 0.3784\n",
      "Saving model with loss 0.378...\n"
     ]
    },
    {
     "name": "stderr",
     "output_type": "stream",
     "text": [
      "Epoch [31/500]: 100%|█████████████████████████████████████████████████████| 439/439 [00:01<00:00, 225.91it/s, loss=0.338]\n"
     ]
    },
    {
     "name": "stdout",
     "output_type": "stream",
     "text": [
      "Train Acc: 0.841629147529602\n",
      "Val Acc: 0.8419173359870911\n",
      "Epoch [31/500]: Train loss: 0.3793, Valid loss: 0.3773\n",
      "Saving model with loss 0.377...\n"
     ]
    },
    {
     "name": "stderr",
     "output_type": "stream",
     "text": [
      "Epoch [32/500]: 100%|█████████████████████████████████████████████████████| 439/439 [00:01<00:00, 227.91it/s, loss=0.318]\n"
     ]
    },
    {
     "name": "stdout",
     "output_type": "stream",
     "text": [
      "Train Acc: 0.8416764140129089\n",
      "Val Acc: 0.8419525623321533\n",
      "Epoch [32/500]: Train loss: 0.3780, Valid loss: 0.3763\n",
      "Saving model with loss 0.376...\n"
     ]
    },
    {
     "name": "stderr",
     "output_type": "stream",
     "text": [
      "Epoch [33/500]: 100%|█████████████████████████████████████████████████████| 439/439 [00:01<00:00, 252.59it/s, loss=0.375]\n"
     ]
    },
    {
     "name": "stdout",
     "output_type": "stream",
     "text": [
      "Train Acc: 0.8415521383285522\n",
      "Val Acc: 0.8423956036567688\n",
      "Epoch [33/500]: Train loss: 0.3770, Valid loss: 0.3750\n",
      "Saving model with loss 0.375...\n"
     ]
    },
    {
     "name": "stderr",
     "output_type": "stream",
     "text": [
      "Epoch [34/500]: 100%|█████████████████████████████████████████████████████| 439/439 [00:01<00:00, 226.98it/s, loss=0.339]\n"
     ]
    },
    {
     "name": "stdout",
     "output_type": "stream",
     "text": [
      "Train Acc: 0.8420156240463257\n",
      "Val Acc: 0.8422459959983826\n",
      "Epoch [34/500]: Train loss: 0.3759, Valid loss: 0.3743\n",
      "Saving model with loss 0.374...\n"
     ]
    },
    {
     "name": "stderr",
     "output_type": "stream",
     "text": [
      "Epoch [35/500]: 100%|█████████████████████████████████████████████████████| 439/439 [00:01<00:00, 244.81it/s, loss=0.378]\n"
     ]
    },
    {
     "name": "stdout",
     "output_type": "stream",
     "text": [
      "Train Acc: 0.8418824672698975\n",
      "Val Acc: 0.8420323133468628\n",
      "Epoch [35/500]: Train loss: 0.3749, Valid loss: 0.3737\n",
      "Saving model with loss 0.374...\n"
     ]
    },
    {
     "name": "stderr",
     "output_type": "stream",
     "text": [
      "Epoch [36/500]: 100%|█████████████████████████████████████████████████████| 439/439 [00:01<00:00, 242.01it/s, loss=0.338]\n"
     ]
    },
    {
     "name": "stdout",
     "output_type": "stream",
     "text": [
      "Train Acc: 0.8419830799102783\n",
      "Val Acc: 0.8428550362586975\n",
      "Epoch [36/500]: Train loss: 0.3741, Valid loss: 0.3728\n",
      "Saving model with loss 0.373...\n"
     ]
    },
    {
     "name": "stderr",
     "output_type": "stream",
     "text": [
      "Epoch [37/500]: 100%|█████████████████████████████████████████████████████| 439/439 [00:01<00:00, 238.74it/s, loss=0.317]\n"
     ]
    },
    {
     "name": "stdout",
     "output_type": "stream",
     "text": [
      "Train Acc: 0.8420729041099548\n",
      "Val Acc: 0.842191755771637\n",
      "Epoch [37/500]: Train loss: 0.3732, Valid loss: 0.3723\n",
      "Saving model with loss 0.372...\n"
     ]
    },
    {
     "name": "stderr",
     "output_type": "stream",
     "text": [
      "Epoch [38/500]: 100%|█████████████████████████████████████████████████████| 439/439 [00:01<00:00, 256.49it/s, loss=0.316]\n"
     ]
    },
    {
     "name": "stdout",
     "output_type": "stream",
     "text": [
      "Train Acc: 0.8424891829490662\n",
      "Val Acc: 0.8427975177764893\n",
      "Epoch [38/500]: Train loss: 0.3725, Valid loss: 0.3713\n",
      "Saving model with loss 0.371...\n"
     ]
    },
    {
     "name": "stderr",
     "output_type": "stream",
     "text": [
      "Epoch [39/500]: 100%|█████████████████████████████████████████████████████| 439/439 [00:01<00:00, 222.69it/s, loss=0.403]\n"
     ]
    },
    {
     "name": "stdout",
     "output_type": "stream",
     "text": [
      "Train Acc: 0.8427377343177795\n",
      "Val Acc: 0.842775285243988\n",
      "Epoch [39/500]: Train loss: 0.3718, Valid loss: 0.3708\n",
      "Saving model with loss 0.371...\n"
     ]
    },
    {
     "name": "stderr",
     "output_type": "stream",
     "text": [
      "Epoch [40/500]: 100%|█████████████████████████████████████████████████████| 439/439 [00:01<00:00, 228.11it/s, loss=0.391]\n"
     ]
    },
    {
     "name": "stdout",
     "output_type": "stream",
     "text": [
      "Train Acc: 0.8426554799079895\n",
      "Val Acc: 0.8427210450172424\n",
      "Epoch [40/500]: Train loss: 0.3713, Valid loss: 0.3701\n",
      "Saving model with loss 0.370...\n"
     ]
    },
    {
     "name": "stderr",
     "output_type": "stream",
     "text": [
      "Epoch [41/500]: 100%|██████████████████████████████████████████████████████| 439/439 [00:01<00:00, 242.01it/s, loss=0.39]\n"
     ]
    },
    {
     "name": "stdout",
     "output_type": "stream",
     "text": [
      "Train Acc: 0.8423076272010803\n",
      "Val Acc: 0.8432469964027405\n",
      "Epoch [41/500]: Train loss: 0.3706, Valid loss: 0.3696\n",
      "Saving model with loss 0.370...\n"
     ]
    },
    {
     "name": "stderr",
     "output_type": "stream",
     "text": [
      "Epoch [42/500]: 100%|█████████████████████████████████████████████████████| 439/439 [00:01<00:00, 256.71it/s, loss=0.401]\n"
     ]
    },
    {
     "name": "stdout",
     "output_type": "stream",
     "text": [
      "Train Acc: 0.8425775170326233\n",
      "Val Acc: 0.8432215452194214\n",
      "Epoch [42/500]: Train loss: 0.3702, Valid loss: 0.3694\n",
      "Saving model with loss 0.369...\n"
     ]
    },
    {
     "name": "stderr",
     "output_type": "stream",
     "text": [
      "Epoch [43/500]: 100%|█████████████████████████████████████████████████████| 439/439 [00:01<00:00, 233.73it/s, loss=0.399]\n"
     ]
    },
    {
     "name": "stdout",
     "output_type": "stream",
     "text": [
      "Train Acc: 0.8428286910057068\n",
      "Val Acc: 0.8433489203453064\n",
      "Epoch [43/500]: Train loss: 0.3698, Valid loss: 0.3686\n",
      "Saving model with loss 0.369...\n"
     ]
    },
    {
     "name": "stderr",
     "output_type": "stream",
     "text": [
      "Epoch [44/500]: 100%|█████████████████████████████████████████████████████| 439/439 [00:01<00:00, 247.74it/s, loss=0.314]\n"
     ]
    },
    {
     "name": "stdout",
     "output_type": "stream",
     "text": [
      "Train Acc: 0.8426604866981506\n",
      "Val Acc: 0.8429314494132996\n",
      "Epoch [44/500]: Train loss: 0.3692, Valid loss: 0.3685\n",
      "Saving model with loss 0.368...\n"
     ]
    },
    {
     "name": "stderr",
     "output_type": "stream",
     "text": [
      "Epoch [45/500]: 100%|█████████████████████████████████████████████████████| 439/439 [00:01<00:00, 227.80it/s, loss=0.415]\n"
     ]
    },
    {
     "name": "stdout",
     "output_type": "stream",
     "text": [
      "Train Acc: 0.8426517844200134\n",
      "Val Acc: 0.8431771993637085\n",
      "Epoch [45/500]: Train loss: 0.3690, Valid loss: 0.3682\n",
      "Saving model with loss 0.368...\n"
     ]
    },
    {
     "name": "stderr",
     "output_type": "stream",
     "text": [
      "Epoch [46/500]: 100%|█████████████████████████████████████████████████████| 439/439 [00:01<00:00, 260.15it/s, loss=0.405]\n"
     ]
    },
    {
     "name": "stdout",
     "output_type": "stream",
     "text": [
      "Train Acc: 0.8427486419677734\n",
      "Val Acc: 0.8426799178123474\n",
      "Epoch [46/500]: Train loss: 0.3687, Valid loss: 0.3688\n"
     ]
    },
    {
     "name": "stderr",
     "output_type": "stream",
     "text": [
      "Epoch [47/500]: 100%|█████████████████████████████████████████████████████| 439/439 [00:01<00:00, 233.89it/s, loss=0.328]\n"
     ]
    },
    {
     "name": "stdout",
     "output_type": "stream",
     "text": [
      "Train Acc: 0.8426682353019714\n",
      "Val Acc: 0.8433908820152283\n",
      "Epoch [47/500]: Train loss: 0.3683, Valid loss: 0.3679\n",
      "Saving model with loss 0.368...\n"
     ]
    },
    {
     "name": "stderr",
     "output_type": "stream",
     "text": [
      "Epoch [48/500]: 100%|█████████████████████████████████████████████████████| 439/439 [00:01<00:00, 230.50it/s, loss=0.322]\n"
     ]
    },
    {
     "name": "stdout",
     "output_type": "stream",
     "text": [
      "Train Acc: 0.8426307439804077\n",
      "Val Acc: 0.8431706428527832\n",
      "Epoch [48/500]: Train loss: 0.3681, Valid loss: 0.3673\n",
      "Saving model with loss 0.367...\n"
     ]
    },
    {
     "name": "stderr",
     "output_type": "stream",
     "text": [
      "Epoch [49/500]: 100%|█████████████████████████████████████████████████████| 439/439 [00:01<00:00, 226.23it/s, loss=0.436]\n"
     ]
    },
    {
     "name": "stdout",
     "output_type": "stream",
     "text": [
      "Train Acc: 0.8427060842514038\n",
      "Val Acc: 0.8429856300354004\n",
      "Epoch [49/500]: Train loss: 0.3678, Valid loss: 0.3675\n"
     ]
    },
    {
     "name": "stderr",
     "output_type": "stream",
     "text": [
      "Epoch [50/500]: 100%|█████████████████████████████████████████████████████| 439/439 [00:01<00:00, 260.42it/s, loss=0.347]\n"
     ]
    },
    {
     "name": "stdout",
     "output_type": "stream",
     "text": [
      "Train Acc: 0.8427572250366211\n",
      "Val Acc: 0.8422427177429199\n",
      "Epoch [50/500]: Train loss: 0.3675, Valid loss: 0.3670\n",
      "Saving model with loss 0.367...\n"
     ]
    },
    {
     "name": "stderr",
     "output_type": "stream",
     "text": [
      "Epoch [51/500]: 100%|█████████████████████████████████████████████████████| 439/439 [00:01<00:00, 254.58it/s, loss=0.298]\n"
     ]
    },
    {
     "name": "stdout",
     "output_type": "stream",
     "text": [
      "Train Acc: 0.8429499268531799\n",
      "Val Acc: 0.8429380059242249\n",
      "Epoch [51/500]: Train loss: 0.3673, Valid loss: 0.3671\n"
     ]
    },
    {
     "name": "stderr",
     "output_type": "stream",
     "text": [
      "Epoch [52/500]: 100%|█████████████████████████████████████████████████████| 439/439 [00:01<00:00, 256.75it/s, loss=0.296]\n"
     ]
    },
    {
     "name": "stdout",
     "output_type": "stream",
     "text": [
      "Train Acc: 0.8429163098335266\n",
      "Val Acc: 0.8429569602012634\n",
      "Epoch [52/500]: Train loss: 0.3670, Valid loss: 0.3665\n",
      "Saving model with loss 0.366...\n"
     ]
    },
    {
     "name": "stderr",
     "output_type": "stream",
     "text": [
      "Epoch [53/500]: 100%|██████████████████████████████████████████████████████| 439/439 [00:01<00:00, 260.33it/s, loss=0.34]\n"
     ]
    },
    {
     "name": "stdout",
     "output_type": "stream",
     "text": [
      "Train Acc: 0.8427324891090393\n",
      "Val Acc: 0.843138575553894\n",
      "Epoch [53/500]: Train loss: 0.3668, Valid loss: 0.3662\n",
      "Saving model with loss 0.366...\n"
     ]
    },
    {
     "name": "stderr",
     "output_type": "stream",
     "text": [
      "Epoch [54/500]: 100%|█████████████████████████████████████████████████████| 439/439 [00:01<00:00, 238.86it/s, loss=0.406]\n"
     ]
    },
    {
     "name": "stdout",
     "output_type": "stream",
     "text": [
      "Train Acc: 0.8428829312324524\n",
      "Val Acc: 0.8430399298667908\n",
      "Epoch [54/500]: Train loss: 0.3666, Valid loss: 0.3663\n"
     ]
    },
    {
     "name": "stderr",
     "output_type": "stream",
     "text": [
      "Epoch [55/500]: 100%|█████████████████████████████████████████████████████| 439/439 [00:01<00:00, 269.00it/s, loss=0.349]\n"
     ]
    },
    {
     "name": "stdout",
     "output_type": "stream",
     "text": [
      "Train Acc: 0.8428996205329895\n",
      "Val Acc: 0.8429569602012634\n",
      "Epoch [55/500]: Train loss: 0.3664, Valid loss: 0.3659\n",
      "Saving model with loss 0.366...\n"
     ]
    },
    {
     "name": "stderr",
     "output_type": "stream",
     "text": [
      "Epoch [56/500]: 100%|█████████████████████████████████████████████████████| 439/439 [00:01<00:00, 242.04it/s, loss=0.351]\n"
     ]
    },
    {
     "name": "stdout",
     "output_type": "stream",
     "text": [
      "Train Acc: 0.8427572250366211\n",
      "Val Acc: 0.8432437181472778\n",
      "Epoch [56/500]: Train loss: 0.3662, Valid loss: 0.3658\n",
      "Saving model with loss 0.366...\n"
     ]
    },
    {
     "name": "stderr",
     "output_type": "stream",
     "text": [
      "Epoch [57/500]: 100%|██████████████████████████████████████████████████████| 439/439 [00:01<00:00, 248.68it/s, loss=0.35]\n"
     ]
    },
    {
     "name": "stdout",
     "output_type": "stream",
     "text": [
      "Train Acc: 0.8428334593772888\n",
      "Val Acc: 0.8425361514091492\n",
      "Epoch [57/500]: Train loss: 0.3661, Valid loss: 0.3658\n"
     ]
    },
    {
     "name": "stderr",
     "output_type": "stream",
     "text": [
      "Epoch [58/500]: 100%|█████████████████████████████████████████████████████| 439/439 [00:01<00:00, 225.38it/s, loss=0.304]\n"
     ]
    },
    {
     "name": "stdout",
     "output_type": "stream",
     "text": [
      "Train Acc: 0.8429569005966187\n",
      "Val Acc: 0.8427177667617798\n",
      "Epoch [58/500]: Train loss: 0.3660, Valid loss: 0.3656\n",
      "Saving model with loss 0.366...\n"
     ]
    },
    {
     "name": "stderr",
     "output_type": "stream",
     "text": [
      "Epoch [59/500]: 100%|█████████████████████████████████████████████████████| 439/439 [00:01<00:00, 240.16it/s, loss=0.428]\n"
     ]
    },
    {
     "name": "stdout",
     "output_type": "stream",
     "text": [
      "Train Acc: 0.8428840637207031\n",
      "Val Acc: 0.843011200428009\n",
      "Epoch [59/500]: Train loss: 0.3658, Valid loss: 0.3660\n"
     ]
    },
    {
     "name": "stderr",
     "output_type": "stream",
     "text": [
      "Epoch [60/500]: 100%|█████████████████████████████████████████████████████| 439/439 [00:01<00:00, 242.23it/s, loss=0.428]\n"
     ]
    },
    {
     "name": "stdout",
     "output_type": "stream",
     "text": [
      "Train Acc: 0.842647910118103\n",
      "Val Acc: 0.8430399298667908\n",
      "Epoch [60/500]: Train loss: 0.3657, Valid loss: 0.3660\n"
     ]
    },
    {
     "name": "stderr",
     "output_type": "stream",
     "text": [
      "Epoch [61/500]: 100%|█████████████████████████████████████████████████████| 439/439 [00:01<00:00, 235.07it/s, loss=0.333]\n"
     ]
    },
    {
     "name": "stdout",
     "output_type": "stream",
     "text": [
      "Train Acc: 0.8429974913597107\n",
      "Val Acc: 0.843004584312439\n",
      "Epoch [61/500]: Train loss: 0.3654, Valid loss: 0.3651\n",
      "Saving model with loss 0.365...\n"
     ]
    },
    {
     "name": "stderr",
     "output_type": "stream",
     "text": [
      "Epoch [62/500]: 100%|█████████████████████████████████████████████████████| 439/439 [00:01<00:00, 222.38it/s, loss=0.401]\n"
     ]
    },
    {
     "name": "stdout",
     "output_type": "stream",
     "text": [
      "Train Acc: 0.8425627946853638\n",
      "Val Acc: 0.8423832654953003\n",
      "Epoch [62/500]: Train loss: 0.3653, Valid loss: 0.3657\n"
     ]
    },
    {
     "name": "stderr",
     "output_type": "stream",
     "text": [
      "Epoch [63/500]: 100%|██████████████████████████████████████████████████████| 439/439 [00:01<00:00, 258.18it/s, loss=0.37]\n"
     ]
    },
    {
     "name": "stdout",
     "output_type": "stream",
     "text": [
      "Train Acc: 0.8425815105438232\n",
      "Val Acc: 0.8425394296646118\n",
      "Epoch [63/500]: Train loss: 0.3651, Valid loss: 0.3654\n"
     ]
    },
    {
     "name": "stderr",
     "output_type": "stream",
     "text": [
      "Epoch [64/500]: 100%|█████████████████████████████████████████████████████| 439/439 [00:01<00:00, 221.15it/s, loss=0.427]\n"
     ]
    },
    {
     "name": "stdout",
     "output_type": "stream",
     "text": [
      "Train Acc: 0.8426860570907593\n",
      "Val Acc: 0.8426700234413147\n",
      "Epoch [64/500]: Train loss: 0.3651, Valid loss: 0.3651\n"
     ]
    },
    {
     "name": "stderr",
     "output_type": "stream",
     "text": [
      "Epoch [65/500]: 100%|██████████████████████████████████████████████████████| 439/439 [00:01<00:00, 239.34it/s, loss=0.43]\n"
     ]
    },
    {
     "name": "stdout",
     "output_type": "stream",
     "text": [
      "Train Acc: 0.8427772521972656\n",
      "Val Acc: 0.8427720069885254\n",
      "Epoch [65/500]: Train loss: 0.3650, Valid loss: 0.3647\n",
      "Saving model with loss 0.365...\n"
     ]
    },
    {
     "name": "stderr",
     "output_type": "stream",
     "text": [
      "Epoch [66/500]: 100%|█████████████████████████████████████████████████████| 439/439 [00:01<00:00, 227.95it/s, loss=0.446]\n"
     ]
    },
    {
     "name": "stdout",
     "output_type": "stream",
     "text": [
      "Train Acc: 0.8428236842155457\n",
      "Val Acc: 0.8423323631286621\n",
      "Epoch [66/500]: Train loss: 0.3649, Valid loss: 0.3649\n"
     ]
    },
    {
     "name": "stderr",
     "output_type": "stream",
     "text": [
      "Epoch [67/500]: 100%|█████████████████████████████████████████████████████| 439/439 [00:01<00:00, 246.80it/s, loss=0.338]\n"
     ]
    },
    {
     "name": "stdout",
     "output_type": "stream",
     "text": [
      "Train Acc: 0.8424883484840393\n",
      "Val Acc: 0.8425648808479309\n",
      "Epoch [67/500]: Train loss: 0.3647, Valid loss: 0.3647\n",
      "Saving model with loss 0.365...\n"
     ]
    },
    {
     "name": "stderr",
     "output_type": "stream",
     "text": [
      "Epoch [68/500]: 100%|█████████████████████████████████████████████████████| 439/439 [00:01<00:00, 222.94it/s, loss=0.397]\n"
     ]
    },
    {
     "name": "stdout",
     "output_type": "stream",
     "text": [
      "Train Acc: 0.8426654934883118\n",
      "Val Acc: 0.8426092267036438\n",
      "Epoch [68/500]: Train loss: 0.3646, Valid loss: 0.3644\n",
      "Saving model with loss 0.364...\n"
     ]
    },
    {
     "name": "stderr",
     "output_type": "stream",
     "text": [
      "Epoch [69/500]: 100%|█████████████████████████████████████████████████████| 439/439 [00:01<00:00, 253.18it/s, loss=0.334]\n"
     ]
    },
    {
     "name": "stdout",
     "output_type": "stream",
     "text": [
      "Train Acc: 0.8428690433502197\n",
      "Val Acc: 0.8426445722579956\n",
      "Epoch [69/500]: Train loss: 0.3645, Valid loss: 0.3644\n",
      "Saving model with loss 0.364...\n"
     ]
    },
    {
     "name": "stderr",
     "output_type": "stream",
     "text": [
      "Epoch [70/500]: 100%|█████████████████████████████████████████████████████| 439/439 [00:01<00:00, 247.99it/s, loss=0.388]\n"
     ]
    },
    {
     "name": "stdout",
     "output_type": "stream",
     "text": [
      "Train Acc: 0.8428000211715698\n",
      "Val Acc: 0.8424308896064758\n",
      "Epoch [70/500]: Train loss: 0.3644, Valid loss: 0.3645\n"
     ]
    },
    {
     "name": "stderr",
     "output_type": "stream",
     "text": [
      "Epoch [71/500]: 100%|█████████████████████████████████████████████████████| 439/439 [00:02<00:00, 205.83it/s, loss=0.348]\n"
     ]
    },
    {
     "name": "stdout",
     "output_type": "stream",
     "text": [
      "Train Acc: 0.8427689075469971\n",
      "Val Acc: 0.8423191905021667\n",
      "Epoch [71/500]: Train loss: 0.3643, Valid loss: 0.3641\n",
      "Saving model with loss 0.364...\n"
     ]
    },
    {
     "name": "stderr",
     "output_type": "stream",
     "text": [
      "Epoch [72/500]: 100%|█████████████████████████████████████████████████████| 439/439 [00:01<00:00, 242.93it/s, loss=0.359]\n"
     ]
    },
    {
     "name": "stdout",
     "output_type": "stream",
     "text": [
      "Train Acc: 0.8426268100738525\n",
      "Val Acc: 0.8430555462837219\n",
      "Epoch [72/500]: Train loss: 0.3642, Valid loss: 0.3643\n"
     ]
    },
    {
     "name": "stderr",
     "output_type": "stream",
     "text": [
      "Epoch [73/500]: 100%|█████████████████████████████████████████████████████| 439/439 [00:01<00:00, 252.76it/s, loss=0.339]\n"
     ]
    },
    {
     "name": "stdout",
     "output_type": "stream",
     "text": [
      "Train Acc: 0.8426821827888489\n",
      "Val Acc: 0.8424308896064758\n",
      "Epoch [73/500]: Train loss: 0.3641, Valid loss: 0.3641\n",
      "Saving model with loss 0.364...\n"
     ]
    },
    {
     "name": "stderr",
     "output_type": "stream",
     "text": [
      "Epoch [74/500]: 100%|█████████████████████████████████████████████████████| 439/439 [00:01<00:00, 234.44it/s, loss=0.333]\n"
     ]
    },
    {
     "name": "stdout",
     "output_type": "stream",
     "text": [
      "Train Acc: 0.8425823450088501\n",
      "Val Acc: 0.8420865535736084\n",
      "Epoch [74/500]: Train loss: 0.3641, Valid loss: 0.3640\n",
      "Saving model with loss 0.364...\n"
     ]
    },
    {
     "name": "stderr",
     "output_type": "stream",
     "text": [
      "Epoch [75/500]: 100%|█████████████████████████████████████████████████████| 439/439 [00:02<00:00, 214.15it/s, loss=0.349]\n"
     ]
    },
    {
     "name": "stdout",
     "output_type": "stream",
     "text": [
      "Train Acc: 0.8426771759986877\n",
      "Val Acc: 0.8424497842788696\n",
      "Epoch [75/500]: Train loss: 0.3640, Valid loss: 0.3638\n",
      "Saving model with loss 0.364...\n"
     ]
    },
    {
     "name": "stderr",
     "output_type": "stream",
     "text": [
      "Epoch [76/500]: 100%|█████████████████████████████████████████████████████| 439/439 [00:01<00:00, 238.76it/s, loss=0.315]\n"
     ]
    },
    {
     "name": "stdout",
     "output_type": "stream",
     "text": [
      "Train Acc: 0.84260094165802\n",
      "Val Acc: 0.8428705930709839\n",
      "Epoch [76/500]: Train loss: 0.3639, Valid loss: 0.3638\n",
      "Saving model with loss 0.364...\n"
     ]
    },
    {
     "name": "stderr",
     "output_type": "stream",
     "text": [
      "Epoch [77/500]: 100%|█████████████████████████████████████████████████████| 439/439 [00:01<00:00, 223.48it/s, loss=0.301]\n"
     ]
    },
    {
     "name": "stdout",
     "output_type": "stream",
     "text": [
      "Train Acc: 0.8429310321807861\n",
      "Val Acc: 0.8423988819122314\n",
      "Epoch [77/500]: Train loss: 0.3638, Valid loss: 0.3641\n"
     ]
    },
    {
     "name": "stderr",
     "output_type": "stream",
     "text": [
      "Epoch [78/500]: 100%|█████████████████████████████████████████████████████| 439/439 [00:01<00:00, 241.23it/s, loss=0.392]\n"
     ]
    },
    {
     "name": "stdout",
     "output_type": "stream",
     "text": [
      "Train Acc: 0.8429886102676392\n",
      "Val Acc: 0.8422205448150635\n",
      "Epoch [78/500]: Train loss: 0.3638, Valid loss: 0.3641\n"
     ]
    },
    {
     "name": "stderr",
     "output_type": "stream",
     "text": [
      "Epoch [79/500]: 100%|█████████████████████████████████████████████████████| 439/439 [00:01<00:00, 222.16it/s, loss=0.371]\n"
     ]
    },
    {
     "name": "stdout",
     "output_type": "stream",
     "text": [
      "Train Acc: 0.8426387906074524\n",
      "Val Acc: 0.8420578241348267\n",
      "Epoch [79/500]: Train loss: 0.3637, Valid loss: 0.3638\n"
     ]
    },
    {
     "name": "stderr",
     "output_type": "stream",
     "text": [
      "Epoch [80/500]: 100%|█████████████████████████████████████████████████████| 439/439 [00:01<00:00, 246.93it/s, loss=0.335]\n"
     ]
    },
    {
     "name": "stdout",
     "output_type": "stream",
     "text": [
      "Train Acc: 0.8426593542098999\n",
      "Val Acc: 0.8428705930709839\n",
      "Epoch [80/500]: Train loss: 0.3636, Valid loss: 0.3635\n",
      "Saving model with loss 0.364...\n"
     ]
    },
    {
     "name": "stderr",
     "output_type": "stream",
     "text": [
      "Epoch [81/500]: 100%|█████████████████████████████████████████████████████| 439/439 [00:01<00:00, 225.05it/s, loss=0.359]\n"
     ]
    },
    {
     "name": "stdout",
     "output_type": "stream",
     "text": [
      "Train Acc: 0.8424833416938782\n",
      "Val Acc: 0.8426380753517151\n",
      "Epoch [81/500]: Train loss: 0.3635, Valid loss: 0.3636\n"
     ]
    },
    {
     "name": "stderr",
     "output_type": "stream",
     "text": [
      "Epoch [82/500]: 100%|█████████████████████████████████████████████████████| 439/439 [00:01<00:00, 267.97it/s, loss=0.348]\n"
     ]
    },
    {
     "name": "stdout",
     "output_type": "stream",
     "text": [
      "Train Acc: 0.8422767519950867\n",
      "Val Acc: 0.8423191905021667\n",
      "Epoch [82/500]: Train loss: 0.3635, Valid loss: 0.3634\n",
      "Saving model with loss 0.363...\n"
     ]
    },
    {
     "name": "stderr",
     "output_type": "stream",
     "text": [
      "Epoch [83/500]: 100%|█████████████████████████████████████████████████████| 439/439 [00:01<00:00, 228.14it/s, loss=0.406]\n"
     ]
    },
    {
     "name": "stdout",
     "output_type": "stream",
     "text": [
      "Train Acc: 0.8426604866981506\n",
      "Val Acc: 0.842376708984375\n",
      "Epoch [83/500]: Train loss: 0.3634, Valid loss: 0.3638\n"
     ]
    },
    {
     "name": "stderr",
     "output_type": "stream",
     "text": [
      "Epoch [84/500]: 100%|█████████████████████████████████████████████████████| 439/439 [00:01<00:00, 275.97it/s, loss=0.368]\n"
     ]
    },
    {
     "name": "stdout",
     "output_type": "stream",
     "text": [
      "Train Acc: 0.8427889347076416\n",
      "Val Acc: 0.8422648906707764\n",
      "Epoch [84/500]: Train loss: 0.3633, Valid loss: 0.3633\n",
      "Saving model with loss 0.363...\n"
     ]
    },
    {
     "name": "stderr",
     "output_type": "stream",
     "text": [
      "Epoch [85/500]: 100%|█████████████████████████████████████████████████████| 439/439 [00:01<00:00, 246.36it/s, loss=0.371]\n"
     ]
    },
    {
     "name": "stdout",
     "output_type": "stream",
     "text": [
      "Train Acc: 0.8425258994102478\n",
      "Val Acc: 0.8429281115531921\n",
      "Epoch [85/500]: Train loss: 0.3634, Valid loss: 0.3640\n"
     ]
    },
    {
     "name": "stderr",
     "output_type": "stream",
     "text": [
      "Epoch [86/500]: 100%|█████████████████████████████████████████████████████| 439/439 [00:01<00:00, 242.64it/s, loss=0.345]\n"
     ]
    },
    {
     "name": "stdout",
     "output_type": "stream",
     "text": [
      "Train Acc: 0.842577338218689\n",
      "Val Acc: 0.8425328731536865\n",
      "Epoch [86/500]: Train loss: 0.3632, Valid loss: 0.3631\n",
      "Saving model with loss 0.363...\n"
     ]
    },
    {
     "name": "stderr",
     "output_type": "stream",
     "text": [
      "Epoch [87/500]: 100%|█████████████████████████████████████████████████████| 439/439 [00:01<00:00, 253.74it/s, loss=0.422]\n"
     ]
    },
    {
     "name": "stdout",
     "output_type": "stream",
     "text": [
      "Train Acc: 0.8425953388214111\n",
      "Val Acc: 0.8427464962005615\n",
      "Epoch [87/500]: Train loss: 0.3632, Valid loss: 0.3630\n",
      "Saving model with loss 0.363...\n"
     ]
    },
    {
     "name": "stderr",
     "output_type": "stream",
     "text": [
      "Epoch [88/500]: 100%|█████████████████████████████████████████████████████| 439/439 [00:01<00:00, 232.14it/s, loss=0.354]\n"
     ]
    },
    {
     "name": "stdout",
     "output_type": "stream",
     "text": [
      "Train Acc: 0.842890739440918\n",
      "Val Acc: 0.8427942395210266\n",
      "Epoch [88/500]: Train loss: 0.3631, Valid loss: 0.3632\n"
     ]
    },
    {
     "name": "stderr",
     "output_type": "stream",
     "text": [
      "Epoch [89/500]: 100%|█████████████████████████████████████████████████████| 439/439 [00:01<00:00, 275.41it/s, loss=0.401]\n"
     ]
    },
    {
     "name": "stdout",
     "output_type": "stream",
     "text": [
      "Train Acc: 0.8430324792861938\n",
      "Val Acc: 0.8426060080528259\n",
      "Epoch [89/500]: Train loss: 0.3631, Valid loss: 0.3630\n",
      "Saving model with loss 0.363...\n"
     ]
    },
    {
     "name": "stderr",
     "output_type": "stream",
     "text": [
      "Epoch [90/500]: 100%|█████████████████████████████████████████████████████| 439/439 [00:02<00:00, 210.40it/s, loss=0.413]\n"
     ]
    },
    {
     "name": "stdout",
     "output_type": "stream",
     "text": [
      "Train Acc: 0.8428879380226135\n",
      "Val Acc: 0.8415762186050415\n",
      "Epoch [90/500]: Train loss: 0.3631, Valid loss: 0.3628\n",
      "Saving model with loss 0.363...\n"
     ]
    },
    {
     "name": "stderr",
     "output_type": "stream",
     "text": [
      "Epoch [91/500]: 100%|█████████████████████████████████████████████████████| 439/439 [00:01<00:00, 271.99it/s, loss=0.336]\n"
     ]
    },
    {
     "name": "stdout",
     "output_type": "stream",
     "text": [
      "Train Acc: 0.8426613211631775\n",
      "Val Acc: 0.8425870537757874\n",
      "Epoch [91/500]: Train loss: 0.3629, Valid loss: 0.3630\n"
     ]
    },
    {
     "name": "stderr",
     "output_type": "stream",
     "text": [
      "Epoch [92/500]: 100%|█████████████████████████████████████████████████████| 439/439 [00:01<00:00, 225.34it/s, loss=0.342]\n"
     ]
    },
    {
     "name": "stdout",
     "output_type": "stream",
     "text": [
      "Train Acc: 0.8427355289459229\n",
      "Val Acc: 0.8424308896064758\n",
      "Epoch [92/500]: Train loss: 0.3629, Valid loss: 0.3629\n"
     ]
    },
    {
     "name": "stderr",
     "output_type": "stream",
     "text": [
      "Epoch [93/500]: 100%|█████████████████████████████████████████████████████| 439/439 [00:01<00:00, 256.80it/s, loss=0.402]\n"
     ]
    },
    {
     "name": "stdout",
     "output_type": "stream",
     "text": [
      "Train Acc: 0.8426535129547119\n",
      "Val Acc: 0.8428739309310913\n",
      "Epoch [93/500]: Train loss: 0.3628, Valid loss: 0.3629\n"
     ]
    },
    {
     "name": "stderr",
     "output_type": "stream",
     "text": [
      "Epoch [94/500]: 100%|█████████████████████████████████████████████████████| 439/439 [00:01<00:00, 232.15it/s, loss=0.386]\n"
     ]
    },
    {
     "name": "stdout",
     "output_type": "stream",
     "text": [
      "Train Acc: 0.8426880240440369\n",
      "Val Acc: 0.8425106406211853\n",
      "Epoch [94/500]: Train loss: 0.3628, Valid loss: 0.3635\n"
     ]
    },
    {
     "name": "stderr",
     "output_type": "stream",
     "text": [
      "Epoch [95/500]: 100%|█████████████████████████████████████████████████████| 439/439 [00:01<00:00, 251.03it/s, loss=0.364]\n"
     ]
    },
    {
     "name": "stdout",
     "output_type": "stream",
     "text": [
      "Train Acc: 0.8426257371902466\n",
      "Val Acc: 0.8425295352935791\n",
      "Epoch [95/500]: Train loss: 0.3627, Valid loss: 0.3634\n"
     ]
    },
    {
     "name": "stderr",
     "output_type": "stream",
     "text": [
      "Epoch [96/500]: 100%|██████████████████████████████████████████████████████| 439/439 [00:02<00:00, 212.54it/s, loss=0.37]\n"
     ]
    },
    {
     "name": "stdout",
     "output_type": "stream",
     "text": [
      "Train Acc: 0.8425626158714294\n",
      "Val Acc: 0.8424276113510132\n",
      "Epoch [96/500]: Train loss: 0.3627, Valid loss: 0.3629\n"
     ]
    },
    {
     "name": "stderr",
     "output_type": "stream",
     "text": [
      "Epoch [97/500]: 100%|█████████████████████████████████████████████████████| 439/439 [00:01<00:00, 229.90it/s, loss=0.401]\n"
     ]
    },
    {
     "name": "stdout",
     "output_type": "stream",
     "text": [
      "Train Acc: 0.8426932096481323\n",
      "Val Acc: 0.8423511981964111\n",
      "Epoch [97/500]: Train loss: 0.3626, Valid loss: 0.3632\n"
     ]
    },
    {
     "name": "stderr",
     "output_type": "stream",
     "text": [
      "Epoch [98/500]: 100%|█████████████████████████████████████████████████████| 439/439 [00:01<00:00, 225.54it/s, loss=0.343]\n"
     ]
    },
    {
     "name": "stdout",
     "output_type": "stream",
     "text": [
      "Train Acc: 0.8427038788795471\n",
      "Val Acc: 0.8423734307289124\n",
      "Epoch [98/500]: Train loss: 0.3626, Valid loss: 0.3629\n"
     ]
    },
    {
     "name": "stderr",
     "output_type": "stream",
     "text": [
      "Epoch [99/500]: 100%|██████████████████████████████████████████████████████| 439/439 [00:01<00:00, 240.97it/s, loss=0.35]\n"
     ]
    },
    {
     "name": "stdout",
     "output_type": "stream",
     "text": [
      "Train Acc: 0.8428550958633423\n",
      "Val Acc: 0.8428837656974792\n",
      "Epoch [99/500]: Train loss: 0.3626, Valid loss: 0.3631\n"
     ]
    },
    {
     "name": "stderr",
     "output_type": "stream",
     "text": [
      "Epoch [100/500]: 100%|████████████████████████████████████████████████████| 439/439 [00:01<00:00, 230.93it/s, loss=0.305]\n"
     ]
    },
    {
     "name": "stdout",
     "output_type": "stream",
     "text": [
      "Train Acc: 0.8427847623825073\n",
      "Val Acc: 0.8425681591033936\n",
      "Epoch [100/500]: Train loss: 0.3625, Valid loss: 0.3632\n"
     ]
    },
    {
     "name": "stderr",
     "output_type": "stream",
     "text": [
      "Epoch [101/500]: 100%|████████████████████████████████████████████████████| 439/439 [00:01<00:00, 227.92it/s, loss=0.375]\n"
     ]
    },
    {
     "name": "stdout",
     "output_type": "stream",
     "text": [
      "Train Acc: 0.8427889347076416\n",
      "Val Acc: 0.8425106406211853\n",
      "Epoch [101/500]: Train loss: 0.3625, Valid loss: 0.3625\n",
      "Saving model with loss 0.362...\n"
     ]
    },
    {
     "name": "stderr",
     "output_type": "stream",
     "text": [
      "Epoch [102/500]: 100%|████████████████████████████████████████████████████| 439/439 [00:01<00:00, 254.33it/s, loss=0.316]\n"
     ]
    },
    {
     "name": "stdout",
     "output_type": "stream",
     "text": [
      "Train Acc: 0.8425940275192261\n",
      "Val Acc: 0.8417454957962036\n",
      "Epoch [102/500]: Train loss: 0.3624, Valid loss: 0.3630\n"
     ]
    },
    {
     "name": "stderr",
     "output_type": "stream",
     "text": [
      "Epoch [103/500]: 100%|████████████████████████████████████████████████████| 439/439 [00:01<00:00, 256.26it/s, loss=0.331]\n"
     ]
    },
    {
     "name": "stdout",
     "output_type": "stream",
     "text": [
      "Train Acc: 0.8428759574890137\n",
      "Val Acc: 0.8419748544692993\n",
      "Epoch [103/500]: Train loss: 0.3623, Valid loss: 0.3622\n",
      "Saving model with loss 0.362...\n"
     ]
    },
    {
     "name": "stderr",
     "output_type": "stream",
     "text": [
      "Epoch [104/500]: 100%|████████████████████████████████████████████████████| 439/439 [00:01<00:00, 245.59it/s, loss=0.374]\n"
     ]
    },
    {
     "name": "stdout",
     "output_type": "stream",
     "text": [
      "Train Acc: 0.8425962328910828\n",
      "Val Acc: 0.8420290350914001\n",
      "Epoch [104/500]: Train loss: 0.3623, Valid loss: 0.3625\n"
     ]
    },
    {
     "name": "stderr",
     "output_type": "stream",
     "text": [
      "Epoch [105/500]: 100%|████████████████████████████████████████████████████| 439/439 [00:02<00:00, 214.50it/s, loss=0.409]\n"
     ]
    },
    {
     "name": "stdout",
     "output_type": "stream",
     "text": [
      "Train Acc: 0.8427772521972656\n",
      "Val Acc: 0.8419559001922607\n",
      "Epoch [105/500]: Train loss: 0.3623, Valid loss: 0.3624\n"
     ]
    },
    {
     "name": "stderr",
     "output_type": "stream",
     "text": [
      "Epoch [106/500]: 100%|████████████████████████████████████████████████████| 439/439 [00:01<00:00, 239.46it/s, loss=0.343]\n"
     ]
    },
    {
     "name": "stdout",
     "output_type": "stream",
     "text": [
      "Train Acc: 0.8426198959350586\n",
      "Val Acc: 0.8420356512069702\n",
      "Epoch [106/500]: Train loss: 0.3622, Valid loss: 0.3627\n"
     ]
    },
    {
     "name": "stderr",
     "output_type": "stream",
     "text": [
      "Epoch [107/500]: 100%|████████████████████████████████████████████████████| 439/439 [00:01<00:00, 235.69it/s, loss=0.429]\n"
     ]
    },
    {
     "name": "stdout",
     "output_type": "stream",
     "text": [
      "Train Acc: 0.8427852392196655\n",
      "Val Acc: 0.8420290350914001\n",
      "Epoch [107/500]: Train loss: 0.3623, Valid loss: 0.3628\n"
     ]
    },
    {
     "name": "stderr",
     "output_type": "stream",
     "text": [
      "Epoch [108/500]: 100%|████████████████████████████████████████████████████| 439/439 [00:01<00:00, 254.60it/s, loss=0.343]\n"
     ]
    },
    {
     "name": "stdout",
     "output_type": "stream",
     "text": [
      "Train Acc: 0.8430764675140381\n",
      "Val Acc: 0.842003583908081\n",
      "Epoch [108/500]: Train loss: 0.3622, Valid loss: 0.3625\n"
     ]
    },
    {
     "name": "stderr",
     "output_type": "stream",
     "text": [
      "Epoch [109/500]: 100%|████████████████████████████████████████████████████| 439/439 [00:01<00:00, 240.29it/s, loss=0.351]\n"
     ]
    },
    {
     "name": "stdout",
     "output_type": "stream",
     "text": [
      "Train Acc: 0.8427425026893616\n",
      "Val Acc: 0.8422747850418091\n",
      "Epoch [109/500]: Train loss: 0.3622, Valid loss: 0.3625\n"
     ]
    },
    {
     "name": "stderr",
     "output_type": "stream",
     "text": [
      "Epoch [110/500]: 100%|████████████████████████████████████████████████████| 439/439 [00:01<00:00, 258.20it/s, loss=0.352]\n"
     ]
    },
    {
     "name": "stdout",
     "output_type": "stream",
     "text": [
      "Train Acc: 0.8428067564964294\n",
      "Val Acc: 0.8425583243370056\n",
      "Epoch [110/500]: Train loss: 0.3621, Valid loss: 0.3621\n",
      "Saving model with loss 0.362...\n"
     ]
    },
    {
     "name": "stderr",
     "output_type": "stream",
     "text": [
      "Epoch [111/500]: 100%|████████████████████████████████████████████████████| 439/439 [00:01<00:00, 229.27it/s, loss=0.366]\n"
     ]
    },
    {
     "name": "stdout",
     "output_type": "stream",
     "text": [
      "Train Acc: 0.8427149653434753\n",
      "Val Acc: 0.8420865535736084\n",
      "Epoch [111/500]: Train loss: 0.3621, Valid loss: 0.3630\n"
     ]
    },
    {
     "name": "stderr",
     "output_type": "stream",
     "text": [
      "Epoch [112/500]: 100%|████████████████████████████████████████████████████| 439/439 [00:01<00:00, 238.03it/s, loss=0.321]\n"
     ]
    },
    {
     "name": "stdout",
     "output_type": "stream",
     "text": [
      "Train Acc: 0.8428934812545776\n",
      "Val Acc: 0.8426700234413147\n",
      "Epoch [112/500]: Train loss: 0.3621, Valid loss: 0.3621\n"
     ]
    },
    {
     "name": "stderr",
     "output_type": "stream",
     "text": [
      "Epoch [113/500]: 100%|█████████████████████████████████████████████████████| 439/439 [00:01<00:00, 231.56it/s, loss=0.28]\n"
     ]
    },
    {
     "name": "stdout",
     "output_type": "stream",
     "text": [
      "Train Acc: 0.8429043292999268\n",
      "Val Acc: 0.8424375057220459\n",
      "Epoch [113/500]: Train loss: 0.3620, Valid loss: 0.3625\n"
     ]
    },
    {
     "name": "stderr",
     "output_type": "stream",
     "text": [
      "Epoch [114/500]: 100%|████████████████████████████████████████████████████| 439/439 [00:01<00:00, 235.54it/s, loss=0.284]\n"
     ]
    },
    {
     "name": "stdout",
     "output_type": "stream",
     "text": [
      "Train Acc: 0.8430002927780151\n",
      "Val Acc: 0.8424975275993347\n",
      "Epoch [114/500]: Train loss: 0.3619, Valid loss: 0.3620\n",
      "Saving model with loss 0.362...\n"
     ]
    },
    {
     "name": "stderr",
     "output_type": "stream",
     "text": [
      "Epoch [115/500]: 100%|████████████████████████████████████████████████████| 439/439 [00:01<00:00, 225.55it/s, loss=0.364]\n"
     ]
    },
    {
     "name": "stdout",
     "output_type": "stream",
     "text": [
      "Train Acc: 0.8429641127586365\n",
      "Val Acc: 0.8423002362251282\n",
      "Epoch [115/500]: Train loss: 0.3620, Valid loss: 0.3621\n"
     ]
    },
    {
     "name": "stderr",
     "output_type": "stream",
     "text": [
      "Epoch [116/500]: 100%|████████████████████████████████████████████████████| 439/439 [00:01<00:00, 251.35it/s, loss=0.382]\n"
     ]
    },
    {
     "name": "stdout",
     "output_type": "stream",
     "text": [
      "Train Acc: 0.8429096341133118\n",
      "Val Acc: 0.8425394296646118\n",
      "Epoch [116/500]: Train loss: 0.3618, Valid loss: 0.3619\n",
      "Saving model with loss 0.362...\n"
     ]
    },
    {
     "name": "stderr",
     "output_type": "stream",
     "text": [
      "Epoch [117/500]: 100%|████████████████████████████████████████████████████| 439/439 [00:02<00:00, 217.36it/s, loss=0.406]\n"
     ]
    },
    {
     "name": "stdout",
     "output_type": "stream",
     "text": [
      "Train Acc: 0.842974066734314\n",
      "Val Acc: 0.8421120047569275\n",
      "Epoch [117/500]: Train loss: 0.3619, Valid loss: 0.3622\n"
     ]
    },
    {
     "name": "stderr",
     "output_type": "stream",
     "text": [
      "Epoch [118/500]: 100%|████████████████████████████████████████████████████| 439/439 [00:01<00:00, 248.17it/s, loss=0.397]\n"
     ]
    },
    {
     "name": "stdout",
     "output_type": "stream",
     "text": [
      "Train Acc: 0.8428206443786621\n",
      "Val Acc: 0.8419814109802246\n",
      "Epoch [118/500]: Train loss: 0.3619, Valid loss: 0.3623\n"
     ]
    },
    {
     "name": "stderr",
     "output_type": "stream",
     "text": [
      "Epoch [119/500]: 100%|████████████████████████████████████████████████████| 439/439 [00:01<00:00, 238.98it/s, loss=0.457]\n"
     ]
    },
    {
     "name": "stdout",
     "output_type": "stream",
     "text": [
      "Train Acc: 0.8426429033279419\n",
      "Val Acc: 0.8424753546714783\n",
      "Epoch [119/500]: Train loss: 0.3619, Valid loss: 0.3615\n",
      "Saving model with loss 0.362...\n"
     ]
    },
    {
     "name": "stderr",
     "output_type": "stream",
     "text": [
      "Epoch [120/500]: 100%|████████████████████████████████████████████████████| 439/439 [00:01<00:00, 247.07it/s, loss=0.305]\n"
     ]
    },
    {
     "name": "stdout",
     "output_type": "stream",
     "text": [
      "Train Acc: 0.8427383303642273\n",
      "Val Acc: 0.8420832753181458\n",
      "Epoch [120/500]: Train loss: 0.3617, Valid loss: 0.3622\n"
     ]
    },
    {
     "name": "stderr",
     "output_type": "stream",
     "text": [
      "Epoch [121/500]: 100%|████████████████████████████████████████████████████| 439/439 [00:01<00:00, 243.70it/s, loss=0.433]\n"
     ]
    },
    {
     "name": "stdout",
     "output_type": "stream",
     "text": [
      "Train Acc: 0.8429006934165955\n",
      "Val Acc: 0.8425328731536865\n",
      "Epoch [121/500]: Train loss: 0.3618, Valid loss: 0.3618\n"
     ]
    },
    {
     "name": "stderr",
     "output_type": "stream",
     "text": [
      "Epoch [122/500]: 100%|████████████████████████████████████████████████████| 439/439 [00:02<00:00, 215.25it/s, loss=0.379]\n"
     ]
    },
    {
     "name": "stdout",
     "output_type": "stream",
     "text": [
      "Train Acc: 0.8429471850395203\n",
      "Val Acc: 0.842826247215271\n",
      "Epoch [122/500]: Train loss: 0.3618, Valid loss: 0.3622\n"
     ]
    },
    {
     "name": "stderr",
     "output_type": "stream",
     "text": [
      "Epoch [123/500]: 100%|████████████████████████████████████████████████████| 439/439 [00:01<00:00, 262.82it/s, loss=0.415]\n"
     ]
    },
    {
     "name": "stdout",
     "output_type": "stream",
     "text": [
      "Train Acc: 0.8429028987884521\n",
      "Val Acc: 0.8428961038589478\n",
      "Epoch [123/500]: Train loss: 0.3617, Valid loss: 0.3615\n",
      "Saving model with loss 0.361...\n"
     ]
    },
    {
     "name": "stderr",
     "output_type": "stream",
     "text": [
      "Epoch [124/500]: 100%|████████████████████████████████████████████████████| 439/439 [00:01<00:00, 223.72it/s, loss=0.343]\n"
     ]
    },
    {
     "name": "stdout",
     "output_type": "stream",
     "text": [
      "Train Acc: 0.8428540229797363\n",
      "Val Acc: 0.8421663045883179\n",
      "Epoch [124/500]: Train loss: 0.3617, Valid loss: 0.3621\n"
     ]
    },
    {
     "name": "stderr",
     "output_type": "stream",
     "text": [
      "Epoch [125/500]: 100%|████████████████████████████████████████████████████| 439/439 [00:01<00:00, 235.75it/s, loss=0.334]\n"
     ]
    },
    {
     "name": "stdout",
     "output_type": "stream",
     "text": [
      "Train Acc: 0.843222975730896\n",
      "Val Acc: 0.8422747850418091\n",
      "Epoch [125/500]: Train loss: 0.3616, Valid loss: 0.3620\n"
     ]
    },
    {
     "name": "stderr",
     "output_type": "stream",
     "text": [
      "Epoch [126/500]: 100%|████████████████████████████████████████████████████| 439/439 [00:01<00:00, 233.35it/s, loss=0.424]\n"
     ]
    },
    {
     "name": "stdout",
     "output_type": "stream",
     "text": [
      "Train Acc: 0.8432241082191467\n",
      "Val Acc: 0.8426668047904968\n",
      "Epoch [126/500]: Train loss: 0.3616, Valid loss: 0.3619\n"
     ]
    },
    {
     "name": "stderr",
     "output_type": "stream",
     "text": [
      "Epoch [127/500]: 100%|████████████████████████████████████████████████████| 439/439 [00:01<00:00, 224.01it/s, loss=0.379]\n"
     ]
    },
    {
     "name": "stdout",
     "output_type": "stream",
     "text": [
      "Train Acc: 0.8427169322967529\n",
      "Val Acc: 0.8423511981964111\n",
      "Epoch [127/500]: Train loss: 0.3616, Valid loss: 0.3620\n"
     ]
    },
    {
     "name": "stderr",
     "output_type": "stream",
     "text": [
      "Epoch [128/500]: 100%|████████████████████████████████████████████████████| 439/439 [00:01<00:00, 227.98it/s, loss=0.391]\n"
     ]
    },
    {
     "name": "stdout",
     "output_type": "stream",
     "text": [
      "Train Acc: 0.8428609371185303\n",
      "Val Acc: 0.8422459959983826\n",
      "Epoch [128/500]: Train loss: 0.3616, Valid loss: 0.3619\n"
     ]
    },
    {
     "name": "stderr",
     "output_type": "stream",
     "text": [
      "Epoch [129/500]: 100%|████████████████████████████████████████████████████| 439/439 [00:01<00:00, 239.97it/s, loss=0.398]\n"
     ]
    },
    {
     "name": "stdout",
     "output_type": "stream",
     "text": [
      "Train Acc: 0.8429996967315674\n",
      "Val Acc: 0.8422747850418091\n",
      "Epoch [129/500]: Train loss: 0.3616, Valid loss: 0.3618\n"
     ]
    },
    {
     "name": "stderr",
     "output_type": "stream",
     "text": [
      "Epoch [130/500]: 100%|█████████████████████████████████████████████████████| 439/439 [00:01<00:00, 227.81it/s, loss=0.36]\n"
     ]
    },
    {
     "name": "stdout",
     "output_type": "stream",
     "text": [
      "Train Acc: 0.842978835105896\n",
      "Val Acc: 0.8424564003944397\n",
      "Epoch [130/500]: Train loss: 0.3615, Valid loss: 0.3620\n"
     ]
    },
    {
     "name": "stderr",
     "output_type": "stream",
     "text": [
      "Epoch [131/500]: 100%|████████████████████████████████████████████████████| 439/439 [00:01<00:00, 236.94it/s, loss=0.333]\n"
     ]
    },
    {
     "name": "stdout",
     "output_type": "stream",
     "text": [
      "Train Acc: 0.8428659439086914\n",
      "Val Acc: 0.842877209186554\n",
      "Epoch [131/500]: Train loss: 0.3615, Valid loss: 0.3614\n",
      "Saving model with loss 0.361...\n"
     ]
    },
    {
     "name": "stderr",
     "output_type": "stream",
     "text": [
      "Epoch [132/500]: 100%|████████████████████████████████████████████████████| 439/439 [00:02<00:00, 207.24it/s, loss=0.337]\n"
     ]
    },
    {
     "name": "stdout",
     "output_type": "stream",
     "text": [
      "Train Acc: 0.8430578112602234\n",
      "Val Acc: 0.8420767784118652\n",
      "Epoch [132/500]: Train loss: 0.3614, Valid loss: 0.3619\n"
     ]
    },
    {
     "name": "stderr",
     "output_type": "stream",
     "text": [
      "Epoch [133/500]: 100%|████████████████████████████████████████████████████| 439/439 [00:01<00:00, 264.92it/s, loss=0.313]\n"
     ]
    },
    {
     "name": "stdout",
     "output_type": "stream",
     "text": [
      "Train Acc: 0.8427936434745789\n",
      "Val Acc: 0.8425616025924683\n",
      "Epoch [133/500]: Train loss: 0.3615, Valid loss: 0.3615\n"
     ]
    },
    {
     "name": "stderr",
     "output_type": "stream",
     "text": [
      "Epoch [134/500]: 100%|█████████████████████████████████████████████████████| 439/439 [00:02<00:00, 217.69it/s, loss=0.38]\n"
     ]
    },
    {
     "name": "stdout",
     "output_type": "stream",
     "text": [
      "Train Acc: 0.8431162238121033\n",
      "Val Acc: 0.842775285243988\n",
      "Epoch [134/500]: Train loss: 0.3615, Valid loss: 0.3616\n"
     ]
    },
    {
     "name": "stderr",
     "output_type": "stream",
     "text": [
      "Epoch [135/500]: 100%|████████████████████████████████████████████████████| 439/439 [00:01<00:00, 234.10it/s, loss=0.253]\n"
     ]
    },
    {
     "name": "stdout",
     "output_type": "stream",
     "text": [
      "Train Acc: 0.8429596424102783\n",
      "Val Acc: 0.8422780632972717\n",
      "Epoch [135/500]: Train loss: 0.3614, Valid loss: 0.3618\n"
     ]
    },
    {
     "name": "stderr",
     "output_type": "stream",
     "text": [
      "Epoch [136/500]: 100%|████████████████████████████████████████████████████| 439/439 [00:01<00:00, 228.65it/s, loss=0.395]\n"
     ]
    },
    {
     "name": "stdout",
     "output_type": "stream",
     "text": [
      "Train Acc: 0.8430836796760559\n",
      "Val Acc: 0.842826247215271\n",
      "Epoch [136/500]: Train loss: 0.3614, Valid loss: 0.3616\n"
     ]
    },
    {
     "name": "stderr",
     "output_type": "stream",
     "text": [
      "Epoch [137/500]: 100%|████████████████████████████████████████████████████| 439/439 [00:01<00:00, 221.05it/s, loss=0.322]\n"
     ]
    },
    {
     "name": "stdout",
     "output_type": "stream",
     "text": [
      "Train Acc: 0.8430706262588501\n",
      "Val Acc: 0.842089831829071\n",
      "Epoch [137/500]: Train loss: 0.3613, Valid loss: 0.3616\n"
     ]
    },
    {
     "name": "stderr",
     "output_type": "stream",
     "text": [
      "Epoch [138/500]: 100%|████████████████████████████████████████████████████| 439/439 [00:01<00:00, 247.77it/s, loss=0.357]\n"
     ]
    },
    {
     "name": "stdout",
     "output_type": "stream",
     "text": [
      "Train Acc: 0.8428926467895508\n",
      "Val Acc: 0.8425583243370056\n",
      "Epoch [138/500]: Train loss: 0.3613, Valid loss: 0.3616\n"
     ]
    },
    {
     "name": "stderr",
     "output_type": "stream",
     "text": [
      "Epoch [139/500]: 100%|████████████████████████████████████████████████████| 439/439 [00:02<00:00, 219.20it/s, loss=0.351]\n"
     ]
    },
    {
     "name": "stdout",
     "output_type": "stream",
     "text": [
      "Train Acc: 0.8430163860321045\n",
      "Val Acc: 0.842902660369873\n",
      "Epoch [139/500]: Train loss: 0.3613, Valid loss: 0.3614\n"
     ]
    },
    {
     "name": "stderr",
     "output_type": "stream",
     "text": [
      "Epoch [140/500]: 100%|█████████████████████████████████████████████████████| 439/439 [00:01<00:00, 243.81it/s, loss=0.34]\n"
     ]
    },
    {
     "name": "stdout",
     "output_type": "stream",
     "text": [
      "Train Acc: 0.8428550958633423\n",
      "Val Acc: 0.8423256874084473\n",
      "Epoch [140/500]: Train loss: 0.3613, Valid loss: 0.3620\n"
     ]
    },
    {
     "name": "stderr",
     "output_type": "stream",
     "text": [
      "Epoch [141/500]: 100%|████████████████████████████████████████████████████| 439/439 [00:01<00:00, 223.96it/s, loss=0.363]\n"
     ]
    },
    {
     "name": "stdout",
     "output_type": "stream",
     "text": [
      "Train Acc: 0.8429490923881531\n",
      "Val Acc: 0.8423511981964111\n",
      "Epoch [141/500]: Train loss: 0.3613, Valid loss: 0.3615\n"
     ]
    },
    {
     "name": "stderr",
     "output_type": "stream",
     "text": [
      "Epoch [142/500]: 100%|█████████████████████████████████████████████████████| 439/439 [00:01<00:00, 253.99it/s, loss=0.29]\n"
     ]
    },
    {
     "name": "stdout",
     "output_type": "stream",
     "text": [
      "Train Acc: 0.8431050777435303\n",
      "Val Acc: 0.8428229689598083\n",
      "Epoch [142/500]: Train loss: 0.3612, Valid loss: 0.3614\n"
     ]
    },
    {
     "name": "stderr",
     "output_type": "stream",
     "text": [
      "Epoch [143/500]: 100%|████████████████████████████████████████████████████| 439/439 [00:01<00:00, 226.21it/s, loss=0.356]\n"
     ]
    },
    {
     "name": "stdout",
     "output_type": "stream",
     "text": [
      "Train Acc: 0.8428264856338501\n",
      "Val Acc: 0.8426734209060669\n",
      "Epoch [143/500]: Train loss: 0.3612, Valid loss: 0.3616\n"
     ]
    },
    {
     "name": "stderr",
     "output_type": "stream",
     "text": [
      "Epoch [144/500]: 100%|████████████████████████████████████████████████████| 439/439 [00:01<00:00, 232.56it/s, loss=0.374]\n"
     ]
    },
    {
     "name": "stdout",
     "output_type": "stream",
     "text": [
      "Train Acc: 0.8431073427200317\n",
      "Val Acc: 0.8426092267036438\n",
      "Epoch [144/500]: Train loss: 0.3612, Valid loss: 0.3614\n"
     ]
    },
    {
     "name": "stderr",
     "output_type": "stream",
     "text": [
      "Epoch [145/500]: 100%|████████████████████████████████████████████████████| 439/439 [00:01<00:00, 240.13it/s, loss=0.265]\n"
     ]
    },
    {
     "name": "stdout",
     "output_type": "stream",
     "text": [
      "Train Acc: 0.8429794311523438\n",
      "Val Acc: 0.8429281115531921\n",
      "Epoch [145/500]: Train loss: 0.3612, Valid loss: 0.3615\n"
     ]
    },
    {
     "name": "stderr",
     "output_type": "stream",
     "text": [
      "Epoch [146/500]: 100%|████████████████████████████████████████████████████| 439/439 [00:01<00:00, 246.49it/s, loss=0.357]\n"
     ]
    },
    {
     "name": "stdout",
     "output_type": "stream",
     "text": [
      "Train Acc: 0.8430803418159485\n",
      "Val Acc: 0.8430686593055725\n",
      "Epoch [146/500]: Train loss: 0.3612, Valid loss: 0.3614\n"
     ]
    },
    {
     "name": "stderr",
     "output_type": "stream",
     "text": [
      "Epoch [147/500]: 100%|████████████████████████████████████████████████████| 439/439 [00:01<00:00, 228.14it/s, loss=0.301]\n"
     ]
    },
    {
     "name": "stdout",
     "output_type": "stream",
     "text": [
      "Train Acc: 0.8428709506988525\n",
      "Val Acc: 0.8426158428192139\n",
      "Epoch [147/500]: Train loss: 0.3612, Valid loss: 0.3617\n"
     ]
    },
    {
     "name": "stderr",
     "output_type": "stream",
     "text": [
      "Epoch [148/500]: 100%|████████████████████████████████████████████████████| 439/439 [00:01<00:00, 244.56it/s, loss=0.351]\n"
     ]
    },
    {
     "name": "stdout",
     "output_type": "stream",
     "text": [
      "Train Acc: 0.8427069187164307\n",
      "Val Acc: 0.8423545360565186\n",
      "Epoch [148/500]: Train loss: 0.3612, Valid loss: 0.3619\n"
     ]
    },
    {
     "name": "stderr",
     "output_type": "stream",
     "text": [
      "Epoch [149/500]: 100%|████████████████████████████████████████████████████| 439/439 [00:01<00:00, 235.35it/s, loss=0.375]\n"
     ]
    },
    {
     "name": "stdout",
     "output_type": "stream",
     "text": [
      "Train Acc: 0.8430461287498474\n",
      "Val Acc: 0.8427975177764893\n",
      "Epoch [149/500]: Train loss: 0.3611, Valid loss: 0.3611\n",
      "Saving model with loss 0.361...\n"
     ]
    },
    {
     "name": "stderr",
     "output_type": "stream",
     "text": [
      "Epoch [150/500]: 100%|████████████████████████████████████████████████████| 439/439 [00:01<00:00, 253.02it/s, loss=0.409]\n"
     ]
    },
    {
     "name": "stdout",
     "output_type": "stream",
     "text": [
      "Train Acc: 0.8428217768669128\n",
      "Val Acc: 0.8428196907043457\n",
      "Epoch [150/500]: Train loss: 0.3612, Valid loss: 0.3611\n"
     ]
    },
    {
     "name": "stderr",
     "output_type": "stream",
     "text": [
      "Epoch [151/500]: 100%|████████████████████████████████████████████████████| 439/439 [00:02<00:00, 219.29it/s, loss=0.337]\n"
     ]
    },
    {
     "name": "stdout",
     "output_type": "stream",
     "text": [
      "Train Acc: 0.8430292010307312\n",
      "Val Acc: 0.8428550362586975\n",
      "Epoch [151/500]: Train loss: 0.3612, Valid loss: 0.3612\n"
     ]
    },
    {
     "name": "stderr",
     "output_type": "stream",
     "text": [
      "Epoch [152/500]: 100%|█████████████████████████████████████████████████████| 439/439 [00:01<00:00, 240.83it/s, loss=0.35]\n"
     ]
    },
    {
     "name": "stdout",
     "output_type": "stream",
     "text": [
      "Train Acc: 0.8430628180503845\n",
      "Val Acc: 0.8426700234413147\n",
      "Epoch [152/500]: Train loss: 0.3611, Valid loss: 0.3612\n"
     ]
    },
    {
     "name": "stderr",
     "output_type": "stream",
     "text": [
      "Epoch [153/500]: 100%|████████████████████████████████████████████████████| 439/439 [00:01<00:00, 247.39it/s, loss=0.373]\n"
     ]
    },
    {
     "name": "stdout",
     "output_type": "stream",
     "text": [
      "Train Acc: 0.8427416682243347\n",
      "Val Acc: 0.8428007364273071\n",
      "Epoch [153/500]: Train loss: 0.3611, Valid loss: 0.3612\n"
     ]
    },
    {
     "name": "stderr",
     "output_type": "stream",
     "text": [
      "Epoch [154/500]: 100%|████████████████████████████████████████████████████| 439/439 [00:01<00:00, 222.77it/s, loss=0.276]\n"
     ]
    },
    {
     "name": "stdout",
     "output_type": "stream",
     "text": [
      "Train Acc: 0.8430644869804382\n",
      "Val Acc: 0.8424276113510132\n",
      "Epoch [154/500]: Train loss: 0.3610, Valid loss: 0.3616\n"
     ]
    },
    {
     "name": "stderr",
     "output_type": "stream",
     "text": [
      "Epoch [155/500]: 100%|████████████████████████████████████████████████████| 439/439 [00:01<00:00, 237.30it/s, loss=0.413]\n"
     ]
    },
    {
     "name": "stdout",
     "output_type": "stream",
     "text": [
      "Train Acc: 0.8431123495101929\n",
      "Val Acc: 0.8425837755203247\n",
      "Epoch [155/500]: Train loss: 0.3610, Valid loss: 0.3612\n"
     ]
    },
    {
     "name": "stderr",
     "output_type": "stream",
     "text": [
      "Epoch [156/500]: 100%|████████████████████████████████████████████████████| 439/439 [00:02<00:00, 217.79it/s, loss=0.355]\n"
     ]
    },
    {
     "name": "stdout",
     "output_type": "stream",
     "text": [
      "Train Acc: 0.8428226113319397\n",
      "Val Acc: 0.8421597480773926\n",
      "Epoch [156/500]: Train loss: 0.3610, Valid loss: 0.3614\n"
     ]
    },
    {
     "name": "stderr",
     "output_type": "stream",
     "text": [
      "Epoch [157/500]: 100%|████████████████████████████████████████████████████| 439/439 [00:01<00:00, 250.86it/s, loss=0.302]\n"
     ]
    },
    {
     "name": "stdout",
     "output_type": "stream",
     "text": [
      "Train Acc: 0.8430667519569397\n",
      "Val Acc: 0.8425616025924683\n",
      "Epoch [157/500]: Train loss: 0.3610, Valid loss: 0.3611\n"
     ]
    },
    {
     "name": "stderr",
     "output_type": "stream",
     "text": [
      "Epoch [158/500]: 100%|████████████████████████████████████████████████████| 439/439 [00:01<00:00, 252.93it/s, loss=0.348]\n"
     ]
    },
    {
     "name": "stdout",
     "output_type": "stream",
     "text": [
      "Train Acc: 0.8430005311965942\n",
      "Val Acc: 0.8428451418876648\n",
      "Epoch [158/500]: Train loss: 0.3610, Valid loss: 0.3612\n"
     ]
    },
    {
     "name": "stderr",
     "output_type": "stream",
     "text": [
      "Epoch [159/500]: 100%|████████████████████████████████████████████████████| 439/439 [00:01<00:00, 246.77it/s, loss=0.363]\n"
     ]
    },
    {
     "name": "stdout",
     "output_type": "stream",
     "text": [
      "Train Acc: 0.8428682088851929\n",
      "Val Acc: 0.842376708984375\n",
      "Epoch [159/500]: Train loss: 0.3610, Valid loss: 0.3613\n"
     ]
    },
    {
     "name": "stderr",
     "output_type": "stream",
     "text": [
      "Epoch [160/500]: 100%|████████████████████████████████████████████████████| 439/439 [00:02<00:00, 216.96it/s, loss=0.319]\n"
     ]
    },
    {
     "name": "stdout",
     "output_type": "stream",
     "text": [
      "Train Acc: 0.8427730798721313\n",
      "Val Acc: 0.8426158428192139\n",
      "Epoch [160/500]: Train loss: 0.3609, Valid loss: 0.3616\n"
     ]
    },
    {
     "name": "stderr",
     "output_type": "stream",
     "text": [
      "Epoch [161/500]: 100%|████████████████████████████████████████████████████| 439/439 [00:01<00:00, 238.46it/s, loss=0.316]\n"
     ]
    },
    {
     "name": "stdout",
     "output_type": "stream",
     "text": [
      "Train Acc: 0.8431634902954102\n",
      "Val Acc: 0.8427399396896362\n",
      "Epoch [161/500]: Train loss: 0.3609, Valid loss: 0.3612\n"
     ]
    },
    {
     "name": "stderr",
     "output_type": "stream",
     "text": [
      "Epoch [162/500]: 100%|████████████████████████████████████████████████████| 439/439 [00:01<00:00, 242.77it/s, loss=0.491]\n"
     ]
    },
    {
     "name": "stdout",
     "output_type": "stream",
     "text": [
      "Train Acc: 0.8427546620368958\n",
      "Val Acc: 0.8432182669639587\n",
      "Epoch [162/500]: Train loss: 0.3609, Valid loss: 0.3608\n",
      "Saving model with loss 0.361...\n"
     ]
    },
    {
     "name": "stderr",
     "output_type": "stream",
     "text": [
      "Epoch [163/500]: 100%|████████████████████████████████████████████████████| 439/439 [00:01<00:00, 243.63it/s, loss=0.345]\n"
     ]
    },
    {
     "name": "stdout",
     "output_type": "stream",
     "text": [
      "Train Acc: 0.842990517616272\n",
      "Val Acc: 0.8426445722579956\n",
      "Epoch [163/500]: Train loss: 0.3609, Valid loss: 0.3610\n"
     ]
    },
    {
     "name": "stderr",
     "output_type": "stream",
     "text": [
      "Epoch [164/500]: 100%|████████████████████████████████████████████████████| 439/439 [00:01<00:00, 226.36it/s, loss=0.332]\n"
     ]
    },
    {
     "name": "stdout",
     "output_type": "stream",
     "text": [
      "Train Acc: 0.842839241027832\n",
      "Val Acc: 0.8420003056526184\n",
      "Epoch [164/500]: Train loss: 0.3609, Valid loss: 0.3614\n"
     ]
    },
    {
     "name": "stderr",
     "output_type": "stream",
     "text": [
      "Epoch [165/500]: 100%|████████████████████████████████████████████████████| 439/439 [00:01<00:00, 250.20it/s, loss=0.339]\n"
     ]
    },
    {
     "name": "stdout",
     "output_type": "stream",
     "text": [
      "Train Acc: 0.84297776222229\n",
      "Val Acc: 0.8431065082550049\n",
      "Epoch [165/500]: Train loss: 0.3609, Valid loss: 0.3606\n",
      "Saving model with loss 0.361...\n"
     ]
    },
    {
     "name": "stderr",
     "output_type": "stream",
     "text": [
      "Epoch [166/500]: 100%|████████████████████████████████████████████████████| 439/439 [00:01<00:00, 237.71it/s, loss=0.417]\n"
     ]
    },
    {
     "name": "stdout",
     "output_type": "stream",
     "text": [
      "Train Acc: 0.8430333733558655\n",
      "Val Acc: 0.8421153426170349\n",
      "Epoch [166/500]: Train loss: 0.3608, Valid loss: 0.3613\n"
     ]
    },
    {
     "name": "stderr",
     "output_type": "stream",
     "text": [
      "Epoch [167/500]: 100%|████████████████████████████████████████████████████| 439/439 [00:01<00:00, 246.47it/s, loss=0.356]\n"
     ]
    },
    {
     "name": "stdout",
     "output_type": "stream",
     "text": [
      "Train Acc: 0.8428473472595215\n",
      "Val Acc: 0.8426602482795715\n",
      "Epoch [167/500]: Train loss: 0.3608, Valid loss: 0.3612\n"
     ]
    },
    {
     "name": "stderr",
     "output_type": "stream",
     "text": [
      "Epoch [168/500]: 100%|████████████████████████████████████████████████████| 439/439 [00:01<00:00, 263.59it/s, loss=0.287]\n"
     ]
    },
    {
     "name": "stdout",
     "output_type": "stream",
     "text": [
      "Train Acc: 0.843117892742157\n",
      "Val Acc: 0.8427144885063171\n",
      "Epoch [168/500]: Train loss: 0.3608, Valid loss: 0.3608\n"
     ]
    },
    {
     "name": "stderr",
     "output_type": "stream",
     "text": [
      "Epoch [169/500]: 100%|████████████████████████████████████████████████████| 439/439 [00:01<00:00, 250.54it/s, loss=0.297]\n"
     ]
    },
    {
     "name": "stdout",
     "output_type": "stream",
     "text": [
      "Train Acc: 0.8429282307624817\n",
      "Val Acc: 0.8420611023902893\n",
      "Epoch [169/500]: Train loss: 0.3608, Valid loss: 0.3614\n"
     ]
    },
    {
     "name": "stderr",
     "output_type": "stream",
     "text": [
      "Epoch [170/500]: 100%|████████████████████████████████████████████████████| 439/439 [00:01<00:00, 250.50it/s, loss=0.349]\n"
     ]
    },
    {
     "name": "stdout",
     "output_type": "stream",
     "text": [
      "Train Acc: 0.8430933952331543\n",
      "Val Acc: 0.8421597480773926\n",
      "Epoch [170/500]: Train loss: 0.3608, Valid loss: 0.3614\n"
     ]
    },
    {
     "name": "stderr",
     "output_type": "stream",
     "text": [
      "Epoch [171/500]: 100%|████████████████████████████████████████████████████| 439/439 [00:01<00:00, 244.95it/s, loss=0.324]\n"
     ]
    },
    {
     "name": "stdout",
     "output_type": "stream",
     "text": [
      "Train Acc: 0.8429866433143616\n",
      "Val Acc: 0.8427464962005615\n",
      "Epoch [171/500]: Train loss: 0.3607, Valid loss: 0.3610\n"
     ]
    },
    {
     "name": "stderr",
     "output_type": "stream",
     "text": [
      "Epoch [172/500]: 100%|████████████████████████████████████████████████████| 439/439 [00:01<00:00, 239.37it/s, loss=0.299]\n"
     ]
    },
    {
     "name": "stdout",
     "output_type": "stream",
     "text": [
      "Train Acc: 0.842920184135437\n",
      "Val Acc: 0.8424243330955505\n",
      "Epoch [172/500]: Train loss: 0.3607, Valid loss: 0.3608\n"
     ]
    },
    {
     "name": "stderr",
     "output_type": "stream",
     "text": [
      "Epoch [173/500]: 100%|████████████████████████████████████████████████████| 439/439 [00:01<00:00, 232.98it/s, loss=0.343]\n"
     ]
    },
    {
     "name": "stdout",
     "output_type": "stream",
     "text": [
      "Train Acc: 0.8431785106658936\n",
      "Val Acc: 0.8429314494132996\n",
      "Epoch [173/500]: Train loss: 0.3608, Valid loss: 0.3609\n"
     ]
    },
    {
     "name": "stderr",
     "output_type": "stream",
     "text": [
      "Epoch [174/500]: 100%|████████████████████████████████████████████████████| 439/439 [00:01<00:00, 242.29it/s, loss=0.262]\n"
     ]
    },
    {
     "name": "stdout",
     "output_type": "stream",
     "text": [
      "Train Acc: 0.8431445956230164\n",
      "Val Acc: 0.8429758548736572\n",
      "Epoch [174/500]: Train loss: 0.3607, Valid loss: 0.3606\n",
      "Saving model with loss 0.361...\n"
     ]
    },
    {
     "name": "stderr",
     "output_type": "stream",
     "text": [
      "Epoch [175/500]: 100%|████████████████████████████████████████████████████| 439/439 [00:01<00:00, 232.17it/s, loss=0.355]\n"
     ]
    },
    {
     "name": "stdout",
     "output_type": "stream",
     "text": [
      "Train Acc: 0.8430756330490112\n",
      "Val Acc: 0.8424564003944397\n",
      "Epoch [175/500]: Train loss: 0.3607, Valid loss: 0.3607\n"
     ]
    },
    {
     "name": "stderr",
     "output_type": "stream",
     "text": [
      "Epoch [176/500]: 100%|████████████████████████████████████████████████████| 439/439 [00:01<00:00, 249.42it/s, loss=0.364]\n"
     ]
    },
    {
     "name": "stdout",
     "output_type": "stream",
     "text": [
      "Train Acc: 0.8427513837814331\n",
      "Val Acc: 0.8428040146827698\n",
      "Epoch [176/500]: Train loss: 0.3608, Valid loss: 0.3612\n"
     ]
    },
    {
     "name": "stderr",
     "output_type": "stream",
     "text": [
      "Epoch [177/500]: 100%|████████████████████████████████████████████████████| 439/439 [00:01<00:00, 238.09it/s, loss=0.322]\n"
     ]
    },
    {
     "name": "stdout",
     "output_type": "stream",
     "text": [
      "Train Acc: 0.8427720069885254\n",
      "Val Acc: 0.8427497744560242\n",
      "Epoch [177/500]: Train loss: 0.3607, Valid loss: 0.3611\n"
     ]
    },
    {
     "name": "stderr",
     "output_type": "stream",
     "text": [
      "Epoch [178/500]: 100%|████████████████████████████████████████████████████| 439/439 [00:01<00:00, 245.98it/s, loss=0.439]\n"
     ]
    },
    {
     "name": "stdout",
     "output_type": "stream",
     "text": [
      "Train Acc: 0.842897891998291\n",
      "Val Acc: 0.842775285243988\n",
      "Epoch [178/500]: Train loss: 0.3607, Valid loss: 0.3613\n"
     ]
    },
    {
     "name": "stderr",
     "output_type": "stream",
     "text": [
      "Epoch [179/500]: 100%|████████████████████████████████████████████████████| 439/439 [00:01<00:00, 225.44it/s, loss=0.399]\n"
     ]
    },
    {
     "name": "stdout",
     "output_type": "stream",
     "text": [
      "Train Acc: 0.842937171459198\n",
      "Val Acc: 0.8424021601676941\n",
      "Epoch [179/500]: Train loss: 0.3607, Valid loss: 0.3609\n"
     ]
    },
    {
     "name": "stderr",
     "output_type": "stream",
     "text": [
      "Epoch [180/500]: 100%|████████████████████████████████████████████████████| 439/439 [00:01<00:00, 254.49it/s, loss=0.354]\n"
     ]
    },
    {
     "name": "stdout",
     "output_type": "stream",
     "text": [
      "Train Acc: 0.8431479334831238\n",
      "Val Acc: 0.8420068621635437\n",
      "Epoch [180/500]: Train loss: 0.3606, Valid loss: 0.3610\n"
     ]
    },
    {
     "name": "stderr",
     "output_type": "stream",
     "text": [
      "Epoch [181/500]: 100%|████████████████████████████████████████████████████| 439/439 [00:01<00:00, 222.13it/s, loss=0.372]\n"
     ]
    },
    {
     "name": "stdout",
     "output_type": "stream",
     "text": [
      "Train Acc: 0.8432329893112183\n",
      "Val Acc: 0.8417611122131348\n",
      "Epoch [181/500]: Train loss: 0.3607, Valid loss: 0.3612\n"
     ]
    },
    {
     "name": "stderr",
     "output_type": "stream",
     "text": [
      "Epoch [182/500]: 100%|█████████████████████████████████████████████████████| 439/439 [00:01<00:00, 233.80it/s, loss=0.32]\n"
     ]
    },
    {
     "name": "stdout",
     "output_type": "stream",
     "text": [
      "Train Acc: 0.8432040810585022\n",
      "Val Acc: 0.8426734209060669\n",
      "Epoch [182/500]: Train loss: 0.3607, Valid loss: 0.3611\n"
     ]
    },
    {
     "name": "stderr",
     "output_type": "stream",
     "text": [
      "Epoch [183/500]: 100%|████████████████████████████████████████████████████| 439/439 [00:01<00:00, 226.97it/s, loss=0.329]\n"
     ]
    },
    {
     "name": "stdout",
     "output_type": "stream",
     "text": [
      "Train Acc: 0.842990517616272\n",
      "Val Acc: 0.8417997360229492\n",
      "Epoch [183/500]: Train loss: 0.3606, Valid loss: 0.3611\n"
     ]
    },
    {
     "name": "stderr",
     "output_type": "stream",
     "text": [
      "Epoch [184/500]: 100%|████████████████████████████████████████████████████| 439/439 [00:01<00:00, 231.82it/s, loss=0.351]\n"
     ]
    },
    {
     "name": "stdout",
     "output_type": "stream",
     "text": [
      "Train Acc: 0.8429432511329651\n",
      "Val Acc: 0.8417742848396301\n",
      "Epoch [184/500]: Train loss: 0.3606, Valid loss: 0.3616\n"
     ]
    },
    {
     "name": "stderr",
     "output_type": "stream",
     "text": [
      "Epoch [185/500]: 100%|████████████████████████████████████████████████████| 439/439 [00:01<00:00, 238.67it/s, loss=0.343]\n"
     ]
    },
    {
     "name": "stdout",
     "output_type": "stream",
     "text": [
      "Train Acc: 0.8428956866264343\n",
      "Val Acc: 0.842768669128418\n",
      "Epoch [185/500]: Train loss: 0.3607, Valid loss: 0.3606\n"
     ]
    },
    {
     "name": "stderr",
     "output_type": "stream",
     "text": [
      "Epoch [186/500]: 100%|█████████████████████████████████████████████████████| 439/439 [00:01<00:00, 227.95it/s, loss=0.38]\n"
     ]
    },
    {
     "name": "stdout",
     "output_type": "stream",
     "text": [
      "Train Acc: 0.8429363369941711\n",
      "Val Acc: 0.8420512080192566\n",
      "Epoch [186/500]: Train loss: 0.3606, Valid loss: 0.3608\n"
     ]
    },
    {
     "name": "stderr",
     "output_type": "stream",
     "text": [
      "Epoch [187/500]: 100%|████████████████████████████████████████████████████| 439/439 [00:01<00:00, 246.68it/s, loss=0.366]\n"
     ]
    },
    {
     "name": "stdout",
     "output_type": "stream",
     "text": [
      "Train Acc: 0.8429796695709229\n",
      "Val Acc: 0.8430078625679016\n",
      "Epoch [187/500]: Train loss: 0.3606, Valid loss: 0.3607\n"
     ]
    },
    {
     "name": "stderr",
     "output_type": "stream",
     "text": [
      "Epoch [188/500]: 100%|████████████████████████████████████████████████████| 439/439 [00:01<00:00, 220.62it/s, loss=0.331]\n"
     ]
    },
    {
     "name": "stdout",
     "output_type": "stream",
     "text": [
      "Train Acc: 0.8430380821228027\n",
      "Val Acc: 0.842003583908081\n",
      "Epoch [188/500]: Train loss: 0.3606, Valid loss: 0.3611\n"
     ]
    },
    {
     "name": "stderr",
     "output_type": "stream",
     "text": [
      "Epoch [189/500]: 100%|██████████████████████████████████████████████████████| 439/439 [00:01<00:00, 238.02it/s, loss=0.4]\n"
     ]
    },
    {
     "name": "stdout",
     "output_type": "stream",
     "text": [
      "Train Acc: 0.8429067730903625\n",
      "Val Acc: 0.8425008058547974\n",
      "Epoch [189/500]: Train loss: 0.3606, Valid loss: 0.3608\n"
     ]
    },
    {
     "name": "stderr",
     "output_type": "stream",
     "text": [
      "Epoch [190/500]: 100%|████████████████████████████████████████████████████| 439/439 [00:02<00:00, 219.00it/s, loss=0.332]\n"
     ]
    },
    {
     "name": "stdout",
     "output_type": "stream",
     "text": [
      "Train Acc: 0.8430756330490112\n",
      "Val Acc: 0.8425837755203247\n",
      "Epoch [190/500]: Train loss: 0.3605, Valid loss: 0.3611\n"
     ]
    },
    {
     "name": "stderr",
     "output_type": "stream",
     "text": [
      "Epoch [191/500]: 100%|████████████████████████████████████████████████████| 439/439 [00:01<00:00, 236.10it/s, loss=0.336]\n"
     ]
    },
    {
     "name": "stdout",
     "output_type": "stream",
     "text": [
      "Train Acc: 0.8428442478179932\n",
      "Val Acc: 0.8427720069885254\n",
      "Epoch [191/500]: Train loss: 0.3605, Valid loss: 0.3616\n"
     ]
    },
    {
     "name": "stderr",
     "output_type": "stream",
     "text": [
      "Epoch [192/500]: 100%|████████████████████████████████████████████████████| 439/439 [00:01<00:00, 234.68it/s, loss=0.353]\n"
     ]
    },
    {
     "name": "stdout",
     "output_type": "stream",
     "text": [
      "Train Acc: 0.8431735038757324\n",
      "Val Acc: 0.843080997467041\n",
      "Epoch [192/500]: Train loss: 0.3605, Valid loss: 0.3606\n"
     ]
    },
    {
     "name": "stderr",
     "output_type": "stream",
     "text": [
      "Epoch [193/500]: 100%|████████████████████████████████████████████████████| 439/439 [00:01<00:00, 245.10it/s, loss=0.364]\n"
     ]
    },
    {
     "name": "stdout",
     "output_type": "stream",
     "text": [
      "Train Acc: 0.8430914878845215\n",
      "Val Acc: 0.8422106504440308\n",
      "Epoch [193/500]: Train loss: 0.3605, Valid loss: 0.3607\n"
     ]
    },
    {
     "name": "stderr",
     "output_type": "stream",
     "text": [
      "Epoch [194/500]: 100%|████████████████████████████████████████████████████| 439/439 [00:01<00:00, 224.27it/s, loss=0.296]\n"
     ]
    },
    {
     "name": "stdout",
     "output_type": "stream",
     "text": [
      "Train Acc: 0.842827320098877\n",
      "Val Acc: 0.8426445722579956\n",
      "Epoch [194/500]: Train loss: 0.3605, Valid loss: 0.3607\n",
      "\n",
      "Model is not improving, so we halt the training session.\n"
     ]
    }
   ],
   "source": [
    "trainer(train_loader, valid_loader, model, config, device)"
   ]
  },
  {
   "cell_type": "code",
   "execution_count": 36,
   "id": "40473c29",
   "metadata": {},
   "outputs": [
    {
     "data": {
      "image/png": "[encoded data removed]",
      "text/plain": [
       "<Figure size 640x480 with 1 Axes>"
      ]
     },
     "metadata": {},
     "output_type": "display_data"
    }
   ],
   "source": [
    "from matplotlib import pyplot\n",
    "pyplot.plot(train_loss, label='train')\n",
    "pyplot.plot(val_loss, label='valid')\n",
    "pyplot.legend()\n",
    "pyplot.show()"
   ]
  },
  {
   "cell_type": "code",
   "execution_count": 37,
   "id": "918184d7",
   "metadata": {},
   "outputs": [
    {
     "name": "stderr",
     "output_type": "stream",
     "text": [
      "100%|████████████████████████████████████████████████████████████████████████████████| 122/122 [00:00<00:00, 1340.28it/s]"
     ]
    },
    {
     "name": "stdout",
     "output_type": "stream",
     "text": [
      "[[ 11.522877    -0.45891166  -5.000174   ... -19.079918   -17.327497\n",
      "  -19.717089  ]\n",
      " [  3.4668097    2.0202355   -1.556679   ...  -7.9663124   -9.2513485\n",
      "  -11.3541355 ]\n",
      " [ 10.767844     0.67689764  -5.2020745  ... -19.572205   -18.144556\n",
      "  -20.792395  ]\n",
      " ...\n",
      " [  4.1254325    2.522038    -2.2381775  ... -10.006866   -11.075038\n",
      "  -13.432025  ]\n",
      " [ 10.8720045   -0.13093165  -4.867985   ... -18.404003   -16.822306\n",
      "  -19.18851   ]\n",
      " [ 10.521076    -0.34731168  -5.1300683  ... -17.712158   -15.624329\n",
      "  -17.521753  ]]\n"
     ]
    },
    {
     "name": "stderr",
     "output_type": "stream",
     "text": [
      "\n"
     ]
    }
   ],
   "source": [
    "model = DNN_Regression(input_dim=train_x.shape[1]).to(device)\n",
    "model.load_state_dict(torch.load(config['save_path']))\n",
    "preds = predict(test_loader, model, device)\n",
    "print(preds)"
   ]
  },
  {
   "cell_type": "code",
   "execution_count": 38,
   "id": "fc851b0e",
   "metadata": {},
   "outputs": [],
   "source": [
    "prediction = []\n",
    "for i in preds:\n",
    "    if i[0] > i[1]:\n",
    "        prediction.append(0)\n",
    "    else:\n",
    "        prediction.append(1)"
   ]
  },
  {
   "cell_type": "code",
   "execution_count": 39,
   "id": "d67e9a1e",
   "metadata": {},
   "outputs": [
    {
     "data": {
      "text/html": [
       "<div>\n",
       "<style scoped>\n",
       "    .dataframe tbody tr th:only-of-type {\n",
       "        vertical-align: middle;\n",
       "    }\n",
       "\n",
       "    .dataframe tbody tr th {\n",
       "        vertical-align: top;\n",
       "    }\n",
       "\n",
       "    .dataframe thead th {\n",
       "        text-align: right;\n",
       "    }\n",
       "</style>\n",
       "<table border=\"1\" class=\"dataframe\">\n",
       "  <thead>\n",
       "    <tr style=\"text-align: right;\">\n",
       "      <th></th>\n",
       "      <th>0</th>\n",
       "      <th>y</th>\n",
       "      <th>groundTrue</th>\n",
       "    </tr>\n",
       "  </thead>\n",
       "  <tbody>\n",
       "    <tr>\n",
       "      <th>0</th>\n",
       "      <td>2.520483</td>\n",
       "      <td>0</td>\n",
       "      <td>0</td>\n",
       "    </tr>\n",
       "    <tr>\n",
       "      <th>1</th>\n",
       "      <td>2.635523</td>\n",
       "      <td>0</td>\n",
       "      <td>0</td>\n",
       "    </tr>\n",
       "    <tr>\n",
       "      <th>2</th>\n",
       "      <td>5.039812</td>\n",
       "      <td>0</td>\n",
       "      <td>0</td>\n",
       "    </tr>\n",
       "    <tr>\n",
       "      <th>3</th>\n",
       "      <td>7.565258</td>\n",
       "      <td>0</td>\n",
       "      <td>0</td>\n",
       "    </tr>\n",
       "    <tr>\n",
       "      <th>4</th>\n",
       "      <td>2.512272</td>\n",
       "      <td>0</td>\n",
       "      <td>0</td>\n",
       "    </tr>\n",
       "    <tr>\n",
       "      <th>...</th>\n",
       "      <td>...</td>\n",
       "      <td>...</td>\n",
       "      <td>...</td>\n",
       "    </tr>\n",
       "    <tr>\n",
       "      <th>31200</th>\n",
       "      <td>-7.453044</td>\n",
       "      <td>0</td>\n",
       "      <td>0</td>\n",
       "    </tr>\n",
       "    <tr>\n",
       "      <th>31201</th>\n",
       "      <td>-7.416707</td>\n",
       "      <td>0</td>\n",
       "      <td>1</td>\n",
       "    </tr>\n",
       "    <tr>\n",
       "      <th>31202</th>\n",
       "      <td>5.094402</td>\n",
       "      <td>0</td>\n",
       "      <td>0</td>\n",
       "    </tr>\n",
       "    <tr>\n",
       "      <th>31203</th>\n",
       "      <td>2.533309</td>\n",
       "      <td>0</td>\n",
       "      <td>0</td>\n",
       "    </tr>\n",
       "    <tr>\n",
       "      <th>31204</th>\n",
       "      <td>-7.454417</td>\n",
       "      <td>0</td>\n",
       "      <td>0</td>\n",
       "    </tr>\n",
       "  </tbody>\n",
       "</table>\n",
       "<p>31205 rows × 3 columns</p>\n",
       "</div>"
      ],
      "text/plain": [
       "              0  y  groundTrue\n",
       "0      2.520483  0           0\n",
       "1      2.635523  0           0\n",
       "2      5.039812  0           0\n",
       "3      7.565258  0           0\n",
       "4      2.512272  0           0\n",
       "...         ... ..         ...\n",
       "31200 -7.453044  0           0\n",
       "31201 -7.416707  0           1\n",
       "31202  5.094402  0           0\n",
       "31203  2.533309  0           0\n",
       "31204 -7.454417  0           0\n",
       "\n",
       "[31205 rows x 3 columns]"
      ]
     },
     "execution_count": 39,
     "metadata": {},
     "output_type": "execute_result"
    }
   ],
   "source": [
    "from sklearn.decomposition import PCA\n",
    "\n",
    "pca = PCA(n_components=1)\n",
    "pca_train_x = pca.fit_transform(train_x)\n",
    "\n",
    "pca_test_x = pca.transform(test_x)\n",
    "\n",
    "df = pd.DataFrame(pca_test_x)\n",
    "df['y'] = prediction\n",
    "df['groundTrue'] = test_y\n",
    "df"
   ]
  },
  {
   "cell_type": "code",
   "execution_count": 40,
   "id": "ef3035ca",
   "metadata": {},
   "outputs": [
    {
     "name": "stderr",
     "output_type": "stream",
     "text": [
      "/tmp/ipykernel_25464/920653628.py:5: UserWarning: The palette list has more values (10) than needed (5), which may not be intended.\n",
      "  sns.scatterplot(\n"
     ]
    },
    {
     "data": {
      "text/plain": [
       "<AxesSubplot:xlabel='0', ylabel='y'>"
      ]
     },
     "execution_count": 40,
     "metadata": {},
     "output_type": "execute_result"
    },
    {
     "data": {
      "image/png": "[encoded data removed]",
      "text/plain": [
       "<Figure size 1600x1000 with 1 Axes>"
      ]
     },
     "metadata": {},
     "output_type": "display_data"
    }
   ],
   "source": [
    "import matplotlib.pyplot as plt\n",
    "import seaborn as sns\n",
    "\n",
    "plt.figure(figsize=(16,10))\n",
    "sns.scatterplot(\n",
    "    x=0, y='y',\n",
    "    hue=\"groundTrue\",\n",
    "    palette=sns.color_palette(\"hls\", 10),\n",
    "    data=df,\n",
    "    legend=\"full\",\n",
    "    alpha=1\n",
    ")"
   ]
  },
  {
   "cell_type": "code",
   "execution_count": 41,
   "id": "7263cd91",
   "metadata": {},
   "outputs": [
    {
     "name": "stdout",
     "output_type": "stream",
     "text": [
      "              precision    recall  f1-score   support\n",
      "\n",
      "           0       0.86      0.99      0.92     26308\n",
      "           1       0.45      0.09      0.16      4282\n",
      "           2       0.00      0.00      0.00       525\n",
      "           3       0.00      0.00      0.00        79\n",
      "           4       0.00      0.00      0.00        11\n",
      "\n",
      "    accuracy                           0.85     31205\n",
      "   macro avg       0.26      0.22      0.21     31205\n",
      "weighted avg       0.79      0.85      0.80     31205\n",
      "\n"
     ]
    },
    {
     "name": "stderr",
     "output_type": "stream",
     "text": [
      "/home/sea120424/miniconda3/envs/tf/lib/python3.8/site-packages/sklearn/metrics/_classification.py:1318: UndefinedMetricWarning: Precision and F-score are ill-defined and being set to 0.0 in labels with no predicted samples. Use `zero_division` parameter to control this behavior.\n",
      "  _warn_prf(average, modifier, msg_start, len(result))\n",
      "/home/sea120424/miniconda3/envs/tf/lib/python3.8/site-packages/sklearn/metrics/_classification.py:1318: UndefinedMetricWarning: Precision and F-score are ill-defined and being set to 0.0 in labels with no predicted samples. Use `zero_division` parameter to control this behavior.\n",
      "  _warn_prf(average, modifier, msg_start, len(result))\n",
      "/home/sea120424/miniconda3/envs/tf/lib/python3.8/site-packages/sklearn/metrics/_classification.py:1318: UndefinedMetricWarning: Precision and F-score are ill-defined and being set to 0.0 in labels with no predicted samples. Use `zero_division` parameter to control this behavior.\n",
      "  _warn_prf(average, modifier, msg_start, len(result))\n"
     ]
    }
   ],
   "source": [
    "print(classification_report(test_y, prediction))"
   ]
  },
  {
   "cell_type": "code",
   "execution_count": 62,
   "id": "561110ea",
   "metadata": {},
   "outputs": [],
   "source": [
    "from sklearn.metrics import det_curve\n",
    "from sklearn.metrics import DetCurveDisplay, RocCurveDisplay\n",
    "from matplotlib import pyplot as plt\n",
    "import matplotlib\n",
    "import bob.measure\n",
    "\n",
    "def softmax(x):\n",
    "    \"\"\"Compute softmax values for each sets of scores in x.\"\"\"\n",
    "    return np.exp(x) / np.sum(np.exp(x), axis=0)\n",
    "\n",
    "def DETCurve(fps,fns):\n",
    "    \"\"\"\n",
    "    Given false positive and false negative rates, produce a DET Curve.\n",
    "    The false positive rate is assumed to be increasing while the false\n",
    "    negative rate is assumed to be decreasing.\n",
    "    \"\"\"\n",
    "    axis_min = min(fps[0],fns[-1])\n",
    "    fig, ax = plt.subplots()\n",
    "    plt.plot(fps,fns)\n",
    "    plt.yscale('log')\n",
    "    plt.xscale('log')\n",
    "    ticks_to_use = [0.001,0.002,0.005,0.01,0.02,0.05,0.1,0.2,0.5,1,2,5,10,20,50]\n",
    "    ax.get_xaxis().set_major_formatter(matplotlib.ticker.ScalarFormatter())\n",
    "    ax.get_yaxis().set_major_formatter(matplotlib.ticker.ScalarFormatter())\n",
    "    ax.set_xticks(ticks_to_use)\n",
    "    ax.set_yticks(ticks_to_use)\n",
    "    plt.axis([0.001,50,0.001,50])\n",
    "\n",
    "def generate_det_curve(p_scores, n_scores):\n",
    "        #matplotlib.use('TkAgg')\n",
    "\n",
    "        plt.switch_backend('agg')\n",
    "        bob.measure.plot.det(n_scores, p_scores, 1000, color = (0,0,0), linestyle = '-')\n",
    "        bob.measure.plot.det_axis([0.01, 99, 0.01, 99])\n",
    "        threshold = bob.measure.eer_threshold(n_scores, p_scores)\n",
    "        far, frr = bob.measure.farfrr(n_scores, p_scores, threshold)\n",
    "        \n",
    "        print(far, frr)\n",
    "        x = range(99)\n",
    "        ax = plt.gca()\n",
    "        #ax.plot(x)\n",
    "        ax.set_aspect('equal', adjustable='box')\n",
    "        plt.plot([100, -10], [100, -10], linestyle='--', label=f\"Equal error rate = {max(far, frr)* 100}%\")\n",
    "        print(\"##########\")\n",
    "        print(max(far, frr) * 100)\n",
    "        print(\"##########\")\n",
    "        plt.xlabel('FAR (%)')\n",
    "        plt.ylabel('FRR (%)')\n",
    "        plt.xticks(rotation=45)\n",
    "        plt.grid(True)\n",
    "        plt.legend(loc=\"lower right\")\n",
    "        \n",
    "        plt.savefig('fig/det.png')\n",
    "        plt.cla()\n",
    "        plt.clf()\n",
    "        \n",
    "        return max(far, frr) * 100\n"
   ]
  },
  {
   "cell_type": "code",
   "execution_count": 40,
   "id": "56ff74d3",
   "metadata": {},
   "outputs": [
    {
     "name": "stdout",
     "output_type": "stream",
     "text": [
      "[0.00106942 0.00082625 0.00063377 ... 0.00088757 0.00085617 0.00121412]\n"
     ]
    }
   ],
   "source": [
    "prob_prediction = []\n",
    "scores = []\n",
    "for i in preds:\n",
    "    scores.append(softmax(i)[1])\n",
    "    prob_prediction.append(i[1])\n",
    "    \n",
    "scores = np.array(scores)\n",
    "fpr, fnr, thresholds = det_curve(test_y, prob_prediction)\n",
    "print(scores)"
   ]
  },
  {
   "cell_type": "code",
   "execution_count": 33,
   "id": "a9a53c3a",
   "metadata": {},
   "outputs": [
    {
     "data": {
      "image/png": "[encoded data removed]",
      "text/plain": [
       "<Figure size 640x480 with 1 Axes>"
      ]
     },
     "metadata": {},
     "output_type": "display_data"
    }
   ],
   "source": [
    "DETCurve(fpr, fnr)"
   ]
  },
  {
   "cell_type": "code",
   "execution_count": 56,
   "id": "2941d228",
   "metadata": {},
   "outputs": [],
   "source": [
    "labels = test_y\n",
    "\n",
    "p_scores, n_scores = scores[np.where(labels == True)].astype(np.double), scores[np.where(labels == False)[0]].astype(np.double)"
   ]
  },
  {
   "cell_type": "code",
   "execution_count": 63,
   "id": "118dddac",
   "metadata": {},
   "outputs": [
    {
     "name": "stdout",
     "output_type": "stream",
     "text": [
      "[0.98094857 0.95037997 0.97500229 ... 0.95823359 0.94426686 0.97156   ] [0.00106942 0.00082625 0.00063377 ... 0.00088757 0.00085617 0.00121412]\n",
      "0.04001455074572572 0.040107671601615075\n",
      "##########\n",
      "4.010767160161508\n",
      "##########\n"
     ]
    },
    {
     "data": {
      "text/plain": [
       "4.010767160161508"
      ]
     },
     "execution_count": 63,
     "metadata": {},
     "output_type": "execute_result"
    }
   ],
   "source": [
    "print(p_scores, n_scores)\n",
    "\n",
    "generate_det_curve(p_scores, n_scores)"
   ]
  },
  {
   "cell_type": "code",
   "execution_count": 51,
   "id": "0b6a009a",
   "metadata": {},
   "outputs": [
    {
     "ename": "KeyboardInterrupt",
     "evalue": "",
     "output_type": "error",
     "traceback": [
      "\u001b[0;31m---------------------------------------------------------------------------\u001b[0m",
      "\u001b[0;31mKeyboardInterrupt\u001b[0m                         Traceback (most recent call last)",
      "Cell \u001b[0;32mIn [51], line 6\u001b[0m\n\u001b[1;32m      3\u001b[0m img \u001b[38;5;241m=\u001b[39m cv2\u001b[38;5;241m.\u001b[39mimread(\u001b[38;5;124m\"\u001b[39m\u001b[38;5;124mfig/det.png\u001b[39m\u001b[38;5;124m\"\u001b[39m, cv2\u001b[38;5;241m.\u001b[39mIMREAD_ANYCOLOR)\n\u001b[1;32m      5\u001b[0m \u001b[38;5;28;01mwhile\u001b[39;00m \u001b[38;5;28;01mTrue\u001b[39;00m:\n\u001b[0;32m----> 6\u001b[0m     \u001b[43mcv2\u001b[49m\u001b[38;5;241;43m.\u001b[39;49m\u001b[43mimshow\u001b[49m\u001b[43m(\u001b[49m\u001b[38;5;124;43m\"\u001b[39;49m\u001b[38;5;124;43mDET\u001b[39;49m\u001b[38;5;124;43m\"\u001b[39;49m\u001b[43m,\u001b[49m\u001b[43m \u001b[49m\u001b[43mimg\u001b[49m\u001b[43m)\u001b[49m\n\u001b[1;32m      7\u001b[0m     cv2\u001b[38;5;241m.\u001b[39mwaitKey(\u001b[38;5;241m0\u001b[39m)\n\u001b[1;32m      8\u001b[0m     sys\u001b[38;5;241m.\u001b[39mexit() \u001b[38;5;66;03m# to exit from all the processes\u001b[39;00m\n",
      "\u001b[0;31mKeyboardInterrupt\u001b[0m: "
     ]
    }
   ],
   "source": []
  },
  {
   "cell_type": "code",
   "execution_count": null,
   "id": "face79b6",
   "metadata": {},
   "outputs": [],
   "source": []
  }
 ],
 "metadata": {
  "kernelspec": {
   "display_name": "Python 3 (ipykernel)",
   "language": "python",
   "name": "python3"
  },
  "language_info": {
   "codemirror_mode": {
    "name": "ipython",
    "version": 3
   },
   "file_extension": ".py",
   "mimetype": "text/x-python",
   "name": "python",
   "nbconvert_exporter": "python",
   "pygments_lexer": "ipython3",
   "version": "3.8.13"
  }
 },
 "nbformat": 4,
 "nbformat_minor": 5
}
