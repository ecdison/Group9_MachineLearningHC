{
 "cells": [
  {
   "cell_type": "code",
   "execution_count": 2,
   "id": "20d9aaee",
   "metadata": {},
   "outputs": [],
   "source": [
    "# Numerical Operations\n",
    "import math\n",
    "import numpy as np\n",
    "\n",
    "# Reading/Writing Data\n",
    "import pandas as pd\n",
    "import os\n",
    "import csv\n",
    "\n",
    "# For Progress Bar\n",
    "from tqdm import tqdm\n",
    "\n",
    "# Pytorch\n",
    "import torch \n",
    "import torch.nn as nn\n",
    "from torch.utils.data import Dataset, DataLoader, random_split\n",
    "\n",
    "# For plotting learning curve\n",
    "from torch.utils.tensorboard import SummaryWriter"
   ]
  },
  {
   "cell_type": "code",
   "execution_count": 3,
   "id": "a7603d79",
   "metadata": {},
   "outputs": [],
   "source": [
    "class IVFDataset(Dataset):\n",
    "    '''\n",
    "    x: Features.\n",
    "    y: Targets, if none, do prediction.\n",
    "    '''\n",
    "    def __init__(self, x, y=None):\n",
    "        if y is None:\n",
    "            self.y = y\n",
    "        else:\n",
    "            self.y = torch.FloatTensor(y)\n",
    "        self.x = torch.FloatTensor(x)\n",
    "\n",
    "    def __getitem__(self, idx):\n",
    "        if self.y is None:\n",
    "            return self.x[idx]\n",
    "        else:\n",
    "            return self.x[idx], self.y[idx]\n",
    "\n",
    "    def __len__(self):\n",
    "        return len(self.x)"
   ]
  },
  {
   "cell_type": "code",
   "execution_count": 4,
   "id": "8abea06a",
   "metadata": {},
   "outputs": [],
   "source": [
    "class DNN_Regression(nn.Module):\n",
    "    def __init__(self, input_dim):\n",
    "        super(DNN_Regression, self).__init__()\n",
    "        # TODO: modify model's structure, be aware of dimensions. \n",
    "        self.layers = nn.Sequential(\n",
    "            nn.Linear(input_dim, 16),\n",
    "            nn.ReLU(),\n",
    "            nn.Linear(16, 8),\n",
    "            nn.ReLU(),\n",
    "            nn.Linear(8, 1)\n",
    "        )\n",
    "\n",
    "    def forward(self, x):\n",
    "        x = self.layers(x)\n",
    "        x = x.squeeze(1) # (B, 1) -> (B)\n",
    "        return x"
   ]
  },
  {
   "cell_type": "code",
   "execution_count": 5,
   "id": "24552ba3",
   "metadata": {},
   "outputs": [],
   "source": [
    "def trainer(train_loader, valid_loader, model, config, device):\n",
    "    \n",
    "    # TODO try differnet criterion or optimizer \n",
    "    criterion = nn.MSELoss(reduction='mean')\n",
    "    optimizer = torch.optim.SGD(model.parameters(), lr=config['learning_rate'], momentum=0.9)\n",
    "    writer = SummaryWriter()\n",
    "    \n",
    "    if not os.path.isdir('/mnt/hdd18.2t/sea120424/exchange/ML/datasets/project/DNN_Regression/models'):\n",
    "        os.mkdir('/mnt/hdd18.2t/sea120424/exchange/ML/datasets/project/DNN_Regression/models') # Create directory of saving models.\n",
    "    \n",
    "    n_epochs, best_loss, step, early_stop_count = config['n_epochs'], math.inf, 0, 0\n",
    "    \n",
    "    for epoch in range(n_epochs):\n",
    "        model.train() # Set your model to train mode.\n",
    "        loss_record = []\n",
    "\n",
    "        # tqdm is a package to visualize your training progress.\n",
    "        train_pbar = tqdm(train_loader, position=0, leave=True)\n",
    "\n",
    "        for x, y in train_pbar:\n",
    "            optimizer.zero_grad()               # Set gradient to zero.\n",
    "            x, y = x.to(device), y.to(device)   # Move your data to device. \n",
    "            pred = model(x)             \n",
    "            loss = criterion(pred, y)\n",
    "            loss.backward()                     # Compute gradient(backpropagation).\n",
    "            optimizer.step()                    # Update parameters.\n",
    "            step += 1\n",
    "            loss_record.append(loss.detach().item())\n",
    "            \n",
    "            # Display current epoch number and loss on tqdm progress bar.\n",
    "            train_pbar.set_description(f'Epoch [{epoch+1}/{n_epochs}]')\n",
    "            train_pbar.set_postfix({'loss': loss.detach().item()})\n",
    "\n",
    "        mean_train_loss = sum(loss_record)/len(loss_record)\n",
    "        writer.add_scalar('Loss/train', mean_train_loss, step)\n",
    "\n",
    "        model.eval() # Set your model to evaluation mode.\n",
    "        loss_record = []\n",
    "        for x, y in valid_loader:\n",
    "            x, y = x.to(device), y.to(device)\n",
    "            with torch.no_grad():\n",
    "                pred = model(x)\n",
    "                loss = criterion(pred, y)\n",
    "\n",
    "            loss_record.append(loss.item())\n",
    "            \n",
    "        mean_valid_loss = sum(loss_record)/len(loss_record)\n",
    "        print(f'Epoch [{epoch+1}/{n_epochs}]: Train loss: {mean_train_loss:.4f}, Valid loss: {mean_valid_loss:.4f}')\n",
    "        writer.add_scalar('Loss/valid', mean_valid_loss, step)\n",
    "\n",
    "        if mean_valid_loss < best_loss:\n",
    "            best_loss = mean_valid_loss\n",
    "            torch.save(model.state_dict(), config['save_path']) # Save your best model\n",
    "            print('Saving model with loss {:.3f}...'.format(best_loss))\n",
    "            early_stop_count = 0\n",
    "        else: \n",
    "            early_stop_count += 1\n",
    "\n",
    "        if early_stop_count >= config['early_stop']:\n",
    "            print('\\nModel is not improving, so we halt the training session.')\n",
    "            return"
   ]
  },
  {
   "cell_type": "code",
   "execution_count": 6,
   "id": "d2333bb1",
   "metadata": {},
   "outputs": [],
   "source": [
    "device = 'cpu'\n",
    "\n",
    "config = {\n",
    "    'seed': 1322,      # Your seed number, you can pick your lucky number. :)\n",
    "    'select_all': True,   # Whether to use all features.\n",
    "    'valid_ratio': 0.2,   # validation_size = train_size * valid_ratio\n",
    "    'n_epochs': 500,     # Number of epochs.            \n",
    "    'batch_size': 256, \n",
    "    'learning_rate': 1e-4,              \n",
    "    'early_stop': 20,    # If model has not improved for this many consecutive epochs, stop training.     \n",
    "    'save_path': '/mnt/hdd18.2t/sea120424/exchange/ML/datasets/project/DNN_Regression/models/model.ckpt'  # Your model will be saved here.\n",
    "}"
   ]
  },
  {
   "cell_type": "code",
   "execution_count": 7,
   "id": "8f355667",
   "metadata": {},
   "outputs": [],
   "source": [
    "def same_seed(seed): \n",
    "    '''Fixes random number generator seeds for reproducibility.'''\n",
    "    torch.backends.cudnn.deterministic = True\n",
    "    torch.backends.cudnn.benchmark = False\n",
    "    np.random.seed(seed)\n",
    "    torch.manual_seed(seed)\n",
    "    if torch.cuda.is_available():\n",
    "        torch.cuda.manual_seed_all(seed)\n",
    "\n",
    "def train_valid_split(data_set, valid_ratio, seed):\n",
    "    '''Split provided training data into training set and validation set'''\n",
    "    valid_set_size = int(valid_ratio * len(data_set)) \n",
    "    train_set_size = len(data_set) - valid_set_size\n",
    "    train_set, valid_set = random_split(data_set, [train_set_size, valid_set_size], generator=torch.Generator().manual_seed(seed))\n",
    "    return np.array(train_set), np.array(valid_set)\n",
    "\n",
    "def predict(test_loader, model, device):\n",
    "    model.eval() # Set your model to evaluation mode.\n",
    "    preds = []\n",
    "    for x in tqdm(test_loader):\n",
    "        x = x.to(device)                        \n",
    "        with torch.no_grad():                   \n",
    "            pred = model(x)                     \n",
    "            preds.append(pred.detach().cpu())   \n",
    "    preds = torch.cat(preds, dim=0).numpy()  \n",
    "    return preds"
   ]
  },
  {
   "cell_type": "code",
   "execution_count": 8,
   "id": "264af366",
   "metadata": {},
   "outputs": [],
   "source": [
    "same_seed(config['seed'])"
   ]
  },
  {
   "cell_type": "code",
   "execution_count": 16,
   "id": "5a6158f8",
   "metadata": {},
   "outputs": [],
   "source": [
    "train_x = pd.read_csv('/mnt/hdd18.2t/sea120424/exchange/ML/datasets/project/train_x.csv')\n",
    "train_y = pd.read_csv('/mnt/hdd18.2t/sea120424/exchange/ML/datasets/project/train_y.csv')\n",
    "test_x = pd.read_csv('/mnt/hdd18.2t/sea120424/exchange/ML/datasets/project/test_x.csv')\n",
    "test_y = pd.read_csv('/mnt/hdd18.2t/sea120424/exchange/ML/datasets/project/test_y.csv')"
   ]
  },
  {
   "cell_type": "code",
   "execution_count": 17,
   "id": "646d536c",
   "metadata": {},
   "outputs": [],
   "source": [
    "from sklearn.model_selection import train_test_split\n",
    "\n",
    "train_x, valid_x, train_y, valid_y = train_test_split(train_x, train_y, test_size=0.10, random_state=42)"
   ]
  },
  {
   "cell_type": "code",
   "execution_count": 18,
   "id": "19774292",
   "metadata": {},
   "outputs": [
    {
     "name": "stdout",
     "output_type": "stream",
     "text": [
      "(112338, 21) (112338, 1)\n",
      "(12482, 21) (12482, 1)\n",
      "(31205, 21) (31205, 1)\n"
     ]
    }
   ],
   "source": [
    "print(train_x.shape, train_y.shape)\n",
    "print(valid_x.shape, valid_y.shape)\n",
    "print(test_x.shape, test_y.shape)"
   ]
  },
  {
   "cell_type": "code",
   "execution_count": 21,
   "id": "7bed200a",
   "metadata": {},
   "outputs": [],
   "source": [
    "train_x = train_x.to_numpy()\n",
    "train_y = train_y.to_numpy().ravel()\n",
    "valid_x = valid_x.to_numpy()\n",
    "valid_y = valid_y.to_numpy().ravel()\n",
    "test_x  = test_x.to_numpy()\n",
    "test_y = test_y.to_numpy().ravel()"
   ]
  },
  {
   "cell_type": "code",
   "execution_count": 22,
   "id": "ed532575",
   "metadata": {},
   "outputs": [],
   "source": [
    "train_dataset = IVFDataset(train_x, train_y)\n",
    "valid_dataset = IVFDataset(valid_x, valid_y)\n",
    "test_dataset = IVFDataset(test_x)"
   ]
  },
  {
   "cell_type": "code",
   "execution_count": 23,
   "id": "08b875dd",
   "metadata": {},
   "outputs": [],
   "source": [
    "train_loader = DataLoader(train_dataset, batch_size=config['batch_size'], shuffle=True, pin_memory=True)\n",
    "valid_loader = DataLoader(valid_dataset, batch_size=config['batch_size'], shuffle=True, pin_memory=True)\n",
    "test_loader = DataLoader(test_dataset, batch_size=config['batch_size'], shuffle=False, pin_memory=True)"
   ]
  },
  {
   "cell_type": "code",
   "execution_count": 25,
   "id": "13540f88",
   "metadata": {},
   "outputs": [],
   "source": [
    "model = DNN_Regression(input_dim=train_x.shape[1]).to(device)"
   ]
  },
  {
   "cell_type": "code",
   "execution_count": 29,
   "id": "145b9225",
   "metadata": {},
   "outputs": [
    {
     "name": "stderr",
     "output_type": "stream",
     "text": [
      "Epoch [1/1000]: 100%|██████████████████████████████████████████████| 439/439 [00:01<00:00, 265.00it/s, loss=0.113]\n"
     ]
    },
    {
     "name": "stdout",
     "output_type": "stream",
     "text": [
      "Epoch [1/1000]: Train loss: 0.1114, Valid loss: 0.1092\n",
      "Saving model with loss 0.109...\n"
     ]
    },
    {
     "name": "stderr",
     "output_type": "stream",
     "text": [
      "Epoch [2/1000]: 100%|██████████████████████████████████████████████| 439/439 [00:01<00:00, 261.78it/s, loss=0.172]\n"
     ]
    },
    {
     "name": "stdout",
     "output_type": "stream",
     "text": [
      "Epoch [2/1000]: Train loss: 0.1112, Valid loss: 0.1090\n",
      "Saving model with loss 0.109...\n"
     ]
    },
    {
     "name": "stderr",
     "output_type": "stream",
     "text": [
      "Epoch [3/1000]: 100%|██████████████████████████████████████████████| 439/439 [00:01<00:00, 268.77it/s, loss=0.128]\n"
     ]
    },
    {
     "name": "stdout",
     "output_type": "stream",
     "text": [
      "Epoch [3/1000]: Train loss: 0.1109, Valid loss: 0.1091\n"
     ]
    },
    {
     "name": "stderr",
     "output_type": "stream",
     "text": [
      "Epoch [4/1000]: 100%|█████████████████████████████████████████████| 439/439 [00:01<00:00, 277.79it/s, loss=0.0721]\n"
     ]
    },
    {
     "name": "stdout",
     "output_type": "stream",
     "text": [
      "Epoch [4/1000]: Train loss: 0.1107, Valid loss: 0.1085\n",
      "Saving model with loss 0.108...\n"
     ]
    },
    {
     "name": "stderr",
     "output_type": "stream",
     "text": [
      "Epoch [5/1000]: 100%|█████████████████████████████████████████████| 439/439 [00:01<00:00, 262.94it/s, loss=0.0927]\n"
     ]
    },
    {
     "name": "stdout",
     "output_type": "stream",
     "text": [
      "Epoch [5/1000]: Train loss: 0.1105, Valid loss: 0.1083\n",
      "Saving model with loss 0.108...\n"
     ]
    },
    {
     "name": "stderr",
     "output_type": "stream",
     "text": [
      "Epoch [6/1000]: 100%|█████████████████████████████████████████████| 439/439 [00:01<00:00, 289.76it/s, loss=0.0968]\n"
     ]
    },
    {
     "name": "stdout",
     "output_type": "stream",
     "text": [
      "Epoch [6/1000]: Train loss: 0.1103, Valid loss: 0.1080\n",
      "Saving model with loss 0.108...\n"
     ]
    },
    {
     "name": "stderr",
     "output_type": "stream",
     "text": [
      "Epoch [7/1000]: 100%|██████████████████████████████████████████████| 439/439 [00:01<00:00, 262.83it/s, loss=0.113]\n"
     ]
    },
    {
     "name": "stdout",
     "output_type": "stream",
     "text": [
      "Epoch [7/1000]: Train loss: 0.1100, Valid loss: 0.1080\n",
      "Saving model with loss 0.108...\n"
     ]
    },
    {
     "name": "stderr",
     "output_type": "stream",
     "text": [
      "Epoch [8/1000]: 100%|██████████████████████████████████████████████| 439/439 [00:01<00:00, 279.10it/s, loss=0.132]\n"
     ]
    },
    {
     "name": "stdout",
     "output_type": "stream",
     "text": [
      "Epoch [8/1000]: Train loss: 0.1098, Valid loss: 0.1076\n",
      "Saving model with loss 0.108...\n"
     ]
    },
    {
     "name": "stderr",
     "output_type": "stream",
     "text": [
      "Epoch [9/1000]: 100%|██████████████████████████████████████████████| 439/439 [00:01<00:00, 248.90it/s, loss=0.114]\n"
     ]
    },
    {
     "name": "stdout",
     "output_type": "stream",
     "text": [
      "Epoch [9/1000]: Train loss: 0.1096, Valid loss: 0.1074\n",
      "Saving model with loss 0.107...\n"
     ]
    },
    {
     "name": "stderr",
     "output_type": "stream",
     "text": [
      "Epoch [10/1000]: 100%|█████████████████████████████████████████████| 439/439 [00:01<00:00, 275.80it/s, loss=0.112]\n"
     ]
    },
    {
     "name": "stdout",
     "output_type": "stream",
     "text": [
      "Epoch [10/1000]: Train loss: 0.1094, Valid loss: 0.1072\n",
      "Saving model with loss 0.107...\n"
     ]
    },
    {
     "name": "stderr",
     "output_type": "stream",
     "text": [
      "Epoch [11/1000]: 100%|█████████████████████████████████████████████| 439/439 [00:01<00:00, 251.93it/s, loss=0.109]\n"
     ]
    },
    {
     "name": "stdout",
     "output_type": "stream",
     "text": [
      "Epoch [11/1000]: Train loss: 0.1092, Valid loss: 0.1071\n",
      "Saving model with loss 0.107...\n"
     ]
    },
    {
     "name": "stderr",
     "output_type": "stream",
     "text": [
      "Epoch [12/1000]: 100%|████████████████████████████████████████████| 439/439 [00:01<00:00, 287.92it/s, loss=0.0726]\n"
     ]
    },
    {
     "name": "stdout",
     "output_type": "stream",
     "text": [
      "Epoch [12/1000]: Train loss: 0.1089, Valid loss: 0.1066\n",
      "Saving model with loss 0.107...\n"
     ]
    },
    {
     "name": "stderr",
     "output_type": "stream",
     "text": [
      "Epoch [13/1000]: 100%|█████████████████████████████████████████████| 439/439 [00:01<00:00, 289.78it/s, loss=0.089]\n"
     ]
    },
    {
     "name": "stdout",
     "output_type": "stream",
     "text": [
      "Epoch [13/1000]: Train loss: 0.1087, Valid loss: 0.1068\n"
     ]
    },
    {
     "name": "stderr",
     "output_type": "stream",
     "text": [
      "Epoch [14/1000]: 100%|████████████████████████████████████████████| 439/439 [00:01<00:00, 291.59it/s, loss=0.0908]\n"
     ]
    },
    {
     "name": "stdout",
     "output_type": "stream",
     "text": [
      "Epoch [14/1000]: Train loss: 0.1085, Valid loss: 0.1064\n",
      "Saving model with loss 0.106...\n"
     ]
    },
    {
     "name": "stderr",
     "output_type": "stream",
     "text": [
      "Epoch [15/1000]: 100%|█████████████████████████████████████████████| 439/439 [00:01<00:00, 286.86it/s, loss=0.119]\n"
     ]
    },
    {
     "name": "stdout",
     "output_type": "stream",
     "text": [
      "Epoch [15/1000]: Train loss: 0.1083, Valid loss: 0.1064\n",
      "Saving model with loss 0.106...\n"
     ]
    },
    {
     "name": "stderr",
     "output_type": "stream",
     "text": [
      "Epoch [16/1000]: 100%|█████████████████████████████████████████████| 439/439 [00:01<00:00, 264.86it/s, loss=0.122]\n"
     ]
    },
    {
     "name": "stdout",
     "output_type": "stream",
     "text": [
      "Epoch [16/1000]: Train loss: 0.1081, Valid loss: 0.1061\n",
      "Saving model with loss 0.106...\n"
     ]
    },
    {
     "name": "stderr",
     "output_type": "stream",
     "text": [
      "Epoch [17/1000]: 100%|█████████████████████████████████████████████| 439/439 [00:01<00:00, 265.39it/s, loss=0.113]\n"
     ]
    },
    {
     "name": "stdout",
     "output_type": "stream",
     "text": [
      "Epoch [17/1000]: Train loss: 0.1078, Valid loss: 0.1056\n",
      "Saving model with loss 0.106...\n"
     ]
    },
    {
     "name": "stderr",
     "output_type": "stream",
     "text": [
      "Epoch [18/1000]: 100%|████████████████████████████████████████████| 439/439 [00:01<00:00, 259.89it/s, loss=0.0938]\n"
     ]
    },
    {
     "name": "stdout",
     "output_type": "stream",
     "text": [
      "Epoch [18/1000]: Train loss: 0.1076, Valid loss: 0.1054\n",
      "Saving model with loss 0.105...\n"
     ]
    },
    {
     "name": "stderr",
     "output_type": "stream",
     "text": [
      "Epoch [19/1000]: 100%|█████████████████████████████████████████████| 439/439 [00:01<00:00, 231.18it/s, loss=0.091]\n"
     ]
    },
    {
     "name": "stdout",
     "output_type": "stream",
     "text": [
      "Epoch [19/1000]: Train loss: 0.1074, Valid loss: 0.1052\n",
      "Saving model with loss 0.105...\n"
     ]
    },
    {
     "name": "stderr",
     "output_type": "stream",
     "text": [
      "Epoch [20/1000]: 100%|█████████████████████████████████████████████| 439/439 [00:01<00:00, 262.81it/s, loss=0.126]\n"
     ]
    },
    {
     "name": "stdout",
     "output_type": "stream",
     "text": [
      "Epoch [20/1000]: Train loss: 0.1072, Valid loss: 0.1051\n",
      "Saving model with loss 0.105...\n"
     ]
    },
    {
     "name": "stderr",
     "output_type": "stream",
     "text": [
      "Epoch [21/1000]: 100%|█████████████████████████████████████████████| 439/439 [00:01<00:00, 285.04it/s, loss=0.123]\n"
     ]
    },
    {
     "name": "stdout",
     "output_type": "stream",
     "text": [
      "Epoch [21/1000]: Train loss: 0.1070, Valid loss: 0.1049\n",
      "Saving model with loss 0.105...\n"
     ]
    },
    {
     "name": "stderr",
     "output_type": "stream",
     "text": [
      "Epoch [22/1000]: 100%|██████████████████████████████████████████████| 439/439 [00:01<00:00, 272.68it/s, loss=0.14]\n"
     ]
    },
    {
     "name": "stdout",
     "output_type": "stream",
     "text": [
      "Epoch [22/1000]: Train loss: 0.1068, Valid loss: 0.1047\n",
      "Saving model with loss 0.105...\n"
     ]
    },
    {
     "name": "stderr",
     "output_type": "stream",
     "text": [
      "Epoch [23/1000]: 100%|████████████████████████████████████████████| 439/439 [00:01<00:00, 281.08it/s, loss=0.0889]\n"
     ]
    },
    {
     "name": "stdout",
     "output_type": "stream",
     "text": [
      "Epoch [23/1000]: Train loss: 0.1066, Valid loss: 0.1044\n",
      "Saving model with loss 0.104...\n"
     ]
    },
    {
     "name": "stderr",
     "output_type": "stream",
     "text": [
      "Epoch [24/1000]: 100%|████████████████████████████████████████████| 439/439 [00:01<00:00, 262.02it/s, loss=0.0862]\n"
     ]
    },
    {
     "name": "stdout",
     "output_type": "stream",
     "text": [
      "Epoch [24/1000]: Train loss: 0.1064, Valid loss: 0.1043\n",
      "Saving model with loss 0.104...\n"
     ]
    },
    {
     "name": "stderr",
     "output_type": "stream",
     "text": [
      "Epoch [25/1000]: 100%|████████████████████████████████████████████| 439/439 [00:01<00:00, 289.20it/s, loss=0.0838]\n"
     ]
    },
    {
     "name": "stdout",
     "output_type": "stream",
     "text": [
      "Epoch [25/1000]: Train loss: 0.1062, Valid loss: 0.1041\n",
      "Saving model with loss 0.104...\n"
     ]
    },
    {
     "name": "stderr",
     "output_type": "stream",
     "text": [
      "Epoch [26/1000]: 100%|████████████████████████████████████████████| 439/439 [00:01<00:00, 266.82it/s, loss=0.0808]\n"
     ]
    },
    {
     "name": "stdout",
     "output_type": "stream",
     "text": [
      "Epoch [26/1000]: Train loss: 0.1059, Valid loss: 0.1039\n",
      "Saving model with loss 0.104...\n"
     ]
    },
    {
     "name": "stderr",
     "output_type": "stream",
     "text": [
      "Epoch [27/1000]: 100%|█████████████████████████████████████████████| 439/439 [00:01<00:00, 262.51it/s, loss=0.124]\n"
     ]
    },
    {
     "name": "stdout",
     "output_type": "stream",
     "text": [
      "Epoch [27/1000]: Train loss: 0.1058, Valid loss: 0.1039\n"
     ]
    },
    {
     "name": "stderr",
     "output_type": "stream",
     "text": [
      "Epoch [28/1000]: 100%|█████████████████████████████████████████████| 439/439 [00:01<00:00, 282.60it/s, loss=0.114]\n"
     ]
    },
    {
     "name": "stdout",
     "output_type": "stream",
     "text": [
      "Epoch [28/1000]: Train loss: 0.1056, Valid loss: 0.1035\n",
      "Saving model with loss 0.103...\n"
     ]
    },
    {
     "name": "stderr",
     "output_type": "stream",
     "text": [
      "Epoch [29/1000]: 100%|█████████████████████████████████████████████| 439/439 [00:01<00:00, 268.45it/s, loss=0.109]\n"
     ]
    },
    {
     "name": "stdout",
     "output_type": "stream",
     "text": [
      "Epoch [29/1000]: Train loss: 0.1053, Valid loss: 0.1035\n"
     ]
    },
    {
     "name": "stderr",
     "output_type": "stream",
     "text": [
      "Epoch [30/1000]: 100%|██████████████████████████████████████████████| 439/439 [00:01<00:00, 277.76it/s, loss=0.11]\n"
     ]
    },
    {
     "name": "stdout",
     "output_type": "stream",
     "text": [
      "Epoch [30/1000]: Train loss: 0.1051, Valid loss: 0.1031\n",
      "Saving model with loss 0.103...\n"
     ]
    },
    {
     "name": "stderr",
     "output_type": "stream",
     "text": [
      "Epoch [31/1000]: 100%|█████████████████████████████████████████████| 439/439 [00:01<00:00, 243.70it/s, loss=0.117]\n"
     ]
    },
    {
     "name": "stdout",
     "output_type": "stream",
     "text": [
      "Epoch [31/1000]: Train loss: 0.1049, Valid loss: 0.1028\n",
      "Saving model with loss 0.103...\n"
     ]
    },
    {
     "name": "stderr",
     "output_type": "stream",
     "text": [
      "Epoch [32/1000]: 100%|█████████████████████████████████████████████| 439/439 [00:01<00:00, 279.06it/s, loss=0.102]\n"
     ]
    },
    {
     "name": "stdout",
     "output_type": "stream",
     "text": [
      "Epoch [32/1000]: Train loss: 0.1047, Valid loss: 0.1028\n",
      "Saving model with loss 0.103...\n"
     ]
    },
    {
     "name": "stderr",
     "output_type": "stream",
     "text": [
      "Epoch [33/1000]: 100%|█████████████████████████████████████████████| 439/439 [00:01<00:00, 260.67it/s, loss=0.128]\n"
     ]
    },
    {
     "name": "stdout",
     "output_type": "stream",
     "text": [
      "Epoch [33/1000]: Train loss: 0.1045, Valid loss: 0.1026\n",
      "Saving model with loss 0.103...\n"
     ]
    },
    {
     "name": "stderr",
     "output_type": "stream",
     "text": [
      "Epoch [34/1000]: 100%|████████████████████████████████████████████| 439/439 [00:01<00:00, 293.61it/s, loss=0.0842]\n"
     ]
    },
    {
     "name": "stdout",
     "output_type": "stream",
     "text": [
      "Epoch [34/1000]: Train loss: 0.1043, Valid loss: 0.1020\n",
      "Saving model with loss 0.102...\n"
     ]
    },
    {
     "name": "stderr",
     "output_type": "stream",
     "text": [
      "Epoch [35/1000]: 100%|█████████████████████████████████████████████| 439/439 [00:01<00:00, 252.12it/s, loss=0.101]\n"
     ]
    },
    {
     "name": "stdout",
     "output_type": "stream",
     "text": [
      "Epoch [35/1000]: Train loss: 0.1040, Valid loss: 0.1020\n",
      "Saving model with loss 0.102...\n"
     ]
    },
    {
     "name": "stderr",
     "output_type": "stream",
     "text": [
      "Epoch [36/1000]: 100%|█████████████████████████████████████████████| 439/439 [00:01<00:00, 255.21it/s, loss=0.102]\n"
     ]
    },
    {
     "name": "stdout",
     "output_type": "stream",
     "text": [
      "Epoch [36/1000]: Train loss: 0.1036, Valid loss: 0.1014\n",
      "Saving model with loss 0.101...\n"
     ]
    },
    {
     "name": "stderr",
     "output_type": "stream",
     "text": [
      "Epoch [37/1000]: 100%|█████████████████████████████████████████████| 439/439 [00:01<00:00, 263.70it/s, loss=0.102]\n"
     ]
    },
    {
     "name": "stdout",
     "output_type": "stream",
     "text": [
      "Epoch [37/1000]: Train loss: 0.1030, Valid loss: 0.1008\n",
      "Saving model with loss 0.101...\n"
     ]
    },
    {
     "name": "stderr",
     "output_type": "stream",
     "text": [
      "Epoch [38/1000]: 100%|█████████████████████████████████████████████| 439/439 [00:01<00:00, 291.31it/s, loss=0.122]\n"
     ]
    },
    {
     "name": "stdout",
     "output_type": "stream",
     "text": [
      "Epoch [38/1000]: Train loss: 0.1024, Valid loss: 0.1002\n",
      "Saving model with loss 0.100...\n"
     ]
    },
    {
     "name": "stderr",
     "output_type": "stream",
     "text": [
      "Epoch [39/1000]: 100%|████████████████████████████████████████████| 439/439 [00:01<00:00, 240.83it/s, loss=0.0898]\n"
     ]
    },
    {
     "name": "stdout",
     "output_type": "stream",
     "text": [
      "Epoch [39/1000]: Train loss: 0.1019, Valid loss: 0.0997\n",
      "Saving model with loss 0.100...\n"
     ]
    },
    {
     "name": "stderr",
     "output_type": "stream",
     "text": [
      "Epoch [40/1000]: 100%|████████████████████████████████████████████| 439/439 [00:01<00:00, 273.39it/s, loss=0.0626]\n"
     ]
    },
    {
     "name": "stdout",
     "output_type": "stream",
     "text": [
      "Epoch [40/1000]: Train loss: 0.1014, Valid loss: 0.0995\n",
      "Saving model with loss 0.100...\n"
     ]
    },
    {
     "name": "stderr",
     "output_type": "stream",
     "text": [
      "Epoch [41/1000]: 100%|████████████████████████████████████████████| 439/439 [00:01<00:00, 266.43it/s, loss=0.0949]\n"
     ]
    },
    {
     "name": "stdout",
     "output_type": "stream",
     "text": [
      "Epoch [41/1000]: Train loss: 0.1011, Valid loss: 0.0992\n",
      "Saving model with loss 0.099...\n"
     ]
    },
    {
     "name": "stderr",
     "output_type": "stream",
     "text": [
      "Epoch [42/1000]: 100%|████████████████████████████████████████████| 439/439 [00:01<00:00, 259.14it/s, loss=0.0927]\n"
     ]
    },
    {
     "name": "stdout",
     "output_type": "stream",
     "text": [
      "Epoch [42/1000]: Train loss: 0.1008, Valid loss: 0.0987\n",
      "Saving model with loss 0.099...\n"
     ]
    },
    {
     "name": "stderr",
     "output_type": "stream",
     "text": [
      "Epoch [43/1000]: 100%|█████████████████████████████████████████████| 439/439 [00:01<00:00, 270.04it/s, loss=0.089]\n"
     ]
    },
    {
     "name": "stdout",
     "output_type": "stream",
     "text": [
      "Epoch [43/1000]: Train loss: 0.1005, Valid loss: 0.0985\n",
      "Saving model with loss 0.098...\n"
     ]
    },
    {
     "name": "stderr",
     "output_type": "stream",
     "text": [
      "Epoch [44/1000]: 100%|█████████████████████████████████████████████| 439/439 [00:02<00:00, 215.06it/s, loss=0.111]\n"
     ]
    },
    {
     "name": "stdout",
     "output_type": "stream",
     "text": [
      "Epoch [44/1000]: Train loss: 0.1003, Valid loss: 0.0982\n",
      "Saving model with loss 0.098...\n"
     ]
    },
    {
     "name": "stderr",
     "output_type": "stream",
     "text": [
      "Epoch [45/1000]: 100%|████████████████████████████████████████████| 439/439 [00:01<00:00, 260.77it/s, loss=0.0716]\n"
     ]
    },
    {
     "name": "stdout",
     "output_type": "stream",
     "text": [
      "Epoch [45/1000]: Train loss: 0.1000, Valid loss: 0.0979\n",
      "Saving model with loss 0.098...\n"
     ]
    },
    {
     "name": "stderr",
     "output_type": "stream",
     "text": [
      "Epoch [46/1000]: 100%|████████████████████████████████████████████| 439/439 [00:01<00:00, 266.25it/s, loss=0.0914]\n"
     ]
    },
    {
     "name": "stdout",
     "output_type": "stream",
     "text": [
      "Epoch [46/1000]: Train loss: 0.0997, Valid loss: 0.0977\n",
      "Saving model with loss 0.098...\n"
     ]
    },
    {
     "name": "stderr",
     "output_type": "stream",
     "text": [
      "Epoch [47/1000]: 100%|████████████████████████████████████████████| 439/439 [00:01<00:00, 292.65it/s, loss=0.0722]\n"
     ]
    },
    {
     "name": "stdout",
     "output_type": "stream",
     "text": [
      "Epoch [47/1000]: Train loss: 0.0995, Valid loss: 0.0975\n",
      "Saving model with loss 0.098...\n"
     ]
    },
    {
     "name": "stderr",
     "output_type": "stream",
     "text": [
      "Epoch [48/1000]: 100%|████████████████████████████████████████████| 439/439 [00:01<00:00, 251.04it/s, loss=0.0945]\n"
     ]
    },
    {
     "name": "stdout",
     "output_type": "stream",
     "text": [
      "Epoch [48/1000]: Train loss: 0.0992, Valid loss: 0.0972\n",
      "Saving model with loss 0.097...\n"
     ]
    },
    {
     "name": "stderr",
     "output_type": "stream",
     "text": [
      "Epoch [49/1000]: 100%|█████████████████████████████████████████████| 439/439 [00:01<00:00, 239.21it/s, loss=0.119]\n"
     ]
    },
    {
     "name": "stdout",
     "output_type": "stream",
     "text": [
      "Epoch [49/1000]: Train loss: 0.0990, Valid loss: 0.0972\n"
     ]
    },
    {
     "name": "stderr",
     "output_type": "stream",
     "text": [
      "Epoch [50/1000]: 100%|████████████████████████████████████████████| 439/439 [00:01<00:00, 240.95it/s, loss=0.0571]\n"
     ]
    },
    {
     "name": "stdout",
     "output_type": "stream",
     "text": [
      "Epoch [50/1000]: Train loss: 0.0987, Valid loss: 0.0967\n",
      "Saving model with loss 0.097...\n"
     ]
    },
    {
     "name": "stderr",
     "output_type": "stream",
     "text": [
      "Epoch [51/1000]: 100%|█████████████████████████████████████████████| 439/439 [00:01<00:00, 292.37it/s, loss=0.146]\n"
     ]
    },
    {
     "name": "stdout",
     "output_type": "stream",
     "text": [
      "Epoch [51/1000]: Train loss: 0.0985, Valid loss: 0.0965\n",
      "Saving model with loss 0.096...\n"
     ]
    },
    {
     "name": "stderr",
     "output_type": "stream",
     "text": [
      "Epoch [52/1000]: 100%|████████████████████████████████████████████| 439/439 [00:01<00:00, 241.11it/s, loss=0.0756]\n"
     ]
    },
    {
     "name": "stdout",
     "output_type": "stream",
     "text": [
      "Epoch [52/1000]: Train loss: 0.0982, Valid loss: 0.0962\n",
      "Saving model with loss 0.096...\n"
     ]
    },
    {
     "name": "stderr",
     "output_type": "stream",
     "text": [
      "Epoch [53/1000]: 100%|█████████████████████████████████████████████| 439/439 [00:01<00:00, 267.06it/s, loss=0.092]\n"
     ]
    },
    {
     "name": "stdout",
     "output_type": "stream",
     "text": [
      "Epoch [53/1000]: Train loss: 0.0980, Valid loss: 0.0961\n",
      "Saving model with loss 0.096...\n"
     ]
    },
    {
     "name": "stderr",
     "output_type": "stream",
     "text": [
      "Epoch [54/1000]: 100%|█████████████████████████████████████████████| 439/439 [00:01<00:00, 258.23it/s, loss=0.099]\n"
     ]
    },
    {
     "name": "stdout",
     "output_type": "stream",
     "text": [
      "Epoch [54/1000]: Train loss: 0.0977, Valid loss: 0.0957\n",
      "Saving model with loss 0.096...\n"
     ]
    },
    {
     "name": "stderr",
     "output_type": "stream",
     "text": [
      "Epoch [55/1000]: 100%|████████████████████████████████████████████| 439/439 [00:01<00:00, 257.94it/s, loss=0.0884]\n"
     ]
    },
    {
     "name": "stdout",
     "output_type": "stream",
     "text": [
      "Epoch [55/1000]: Train loss: 0.0975, Valid loss: 0.0955\n",
      "Saving model with loss 0.095...\n"
     ]
    },
    {
     "name": "stderr",
     "output_type": "stream",
     "text": [
      "Epoch [56/1000]: 100%|████████████████████████████████████████████| 439/439 [00:01<00:00, 262.51it/s, loss=0.0989]\n"
     ]
    },
    {
     "name": "stdout",
     "output_type": "stream",
     "text": [
      "Epoch [56/1000]: Train loss: 0.0973, Valid loss: 0.0952\n",
      "Saving model with loss 0.095...\n"
     ]
    },
    {
     "name": "stderr",
     "output_type": "stream",
     "text": [
      "Epoch [57/1000]: 100%|█████████████████████████████████████████████| 439/439 [00:01<00:00, 236.62it/s, loss=0.085]\n"
     ]
    },
    {
     "name": "stdout",
     "output_type": "stream",
     "text": [
      "Epoch [57/1000]: Train loss: 0.0970, Valid loss: 0.0952\n",
      "Saving model with loss 0.095...\n"
     ]
    },
    {
     "name": "stderr",
     "output_type": "stream",
     "text": [
      "Epoch [58/1000]: 100%|████████████████████████████████████████████| 439/439 [00:01<00:00, 272.62it/s, loss=0.0977]\n"
     ]
    },
    {
     "name": "stdout",
     "output_type": "stream",
     "text": [
      "Epoch [58/1000]: Train loss: 0.0968, Valid loss: 0.0949\n",
      "Saving model with loss 0.095...\n"
     ]
    },
    {
     "name": "stderr",
     "output_type": "stream",
     "text": [
      "Epoch [59/1000]: 100%|█████████████████████████████████████████████| 439/439 [00:01<00:00, 239.73it/s, loss=0.141]\n"
     ]
    },
    {
     "name": "stdout",
     "output_type": "stream",
     "text": [
      "Epoch [59/1000]: Train loss: 0.0966, Valid loss: 0.0946\n",
      "Saving model with loss 0.095...\n"
     ]
    },
    {
     "name": "stderr",
     "output_type": "stream",
     "text": [
      "Epoch [60/1000]: 100%|█████████████████████████████████████████████| 439/439 [00:01<00:00, 266.99it/s, loss=0.103]\n"
     ]
    },
    {
     "name": "stdout",
     "output_type": "stream",
     "text": [
      "Epoch [60/1000]: Train loss: 0.0963, Valid loss: 0.0942\n",
      "Saving model with loss 0.094...\n"
     ]
    },
    {
     "name": "stderr",
     "output_type": "stream",
     "text": [
      "Epoch [61/1000]: 100%|████████████████████████████████████████████| 439/439 [00:01<00:00, 237.33it/s, loss=0.0742]\n"
     ]
    },
    {
     "name": "stdout",
     "output_type": "stream",
     "text": [
      "Epoch [61/1000]: Train loss: 0.0961, Valid loss: 0.0942\n",
      "Saving model with loss 0.094...\n"
     ]
    },
    {
     "name": "stderr",
     "output_type": "stream",
     "text": [
      "Epoch [62/1000]: 100%|████████████████████████████████████████████| 439/439 [00:01<00:00, 279.69it/s, loss=0.0802]\n"
     ]
    },
    {
     "name": "stdout",
     "output_type": "stream",
     "text": [
      "Epoch [62/1000]: Train loss: 0.0959, Valid loss: 0.0938\n",
      "Saving model with loss 0.094...\n"
     ]
    },
    {
     "name": "stderr",
     "output_type": "stream",
     "text": [
      "Epoch [63/1000]: 100%|████████████████████████████████████████████| 439/439 [00:01<00:00, 263.13it/s, loss=0.0947]\n"
     ]
    },
    {
     "name": "stdout",
     "output_type": "stream",
     "text": [
      "Epoch [63/1000]: Train loss: 0.0956, Valid loss: 0.0936\n",
      "Saving model with loss 0.094...\n"
     ]
    },
    {
     "name": "stderr",
     "output_type": "stream",
     "text": [
      "Epoch [64/1000]: 100%|████████████████████████████████████████████| 439/439 [00:01<00:00, 266.50it/s, loss=0.0787]\n"
     ]
    },
    {
     "name": "stdout",
     "output_type": "stream",
     "text": [
      "Epoch [64/1000]: Train loss: 0.0954, Valid loss: 0.0934\n",
      "Saving model with loss 0.093...\n"
     ]
    },
    {
     "name": "stderr",
     "output_type": "stream",
     "text": [
      "Epoch [65/1000]: 100%|████████████████████████████████████████████| 439/439 [00:01<00:00, 252.38it/s, loss=0.0809]\n"
     ]
    },
    {
     "name": "stdout",
     "output_type": "stream",
     "text": [
      "Epoch [65/1000]: Train loss: 0.0952, Valid loss: 0.0934\n",
      "Saving model with loss 0.093...\n"
     ]
    },
    {
     "name": "stderr",
     "output_type": "stream",
     "text": [
      "Epoch [66/1000]: 100%|█████████████████████████████████████████████| 439/439 [00:01<00:00, 285.41it/s, loss=0.102]\n"
     ]
    },
    {
     "name": "stdout",
     "output_type": "stream",
     "text": [
      "Epoch [66/1000]: Train loss: 0.0950, Valid loss: 0.0930\n",
      "Saving model with loss 0.093...\n"
     ]
    },
    {
     "name": "stderr",
     "output_type": "stream",
     "text": [
      "Epoch [67/1000]: 100%|██████████████████████████████████████████████| 439/439 [00:01<00:00, 260.26it/s, loss=0.09]\n"
     ]
    },
    {
     "name": "stdout",
     "output_type": "stream",
     "text": [
      "Epoch [67/1000]: Train loss: 0.0947, Valid loss: 0.0929\n",
      "Saving model with loss 0.093...\n"
     ]
    },
    {
     "name": "stderr",
     "output_type": "stream",
     "text": [
      "Epoch [68/1000]: 100%|████████████████████████████████████████████| 439/439 [00:01<00:00, 292.23it/s, loss=0.0905]\n"
     ]
    },
    {
     "name": "stdout",
     "output_type": "stream",
     "text": [
      "Epoch [68/1000]: Train loss: 0.0945, Valid loss: 0.0926\n",
      "Saving model with loss 0.093...\n"
     ]
    },
    {
     "name": "stderr",
     "output_type": "stream",
     "text": [
      "Epoch [69/1000]: 100%|███████████████████████████████████████████████| 439/439 [00:01<00:00, 273.33it/s, loss=0.1]\n"
     ]
    },
    {
     "name": "stdout",
     "output_type": "stream",
     "text": [
      "Epoch [69/1000]: Train loss: 0.0943, Valid loss: 0.0923\n",
      "Saving model with loss 0.092...\n"
     ]
    },
    {
     "name": "stderr",
     "output_type": "stream",
     "text": [
      "Epoch [70/1000]: 100%|████████████████████████████████████████████| 439/439 [00:01<00:00, 290.87it/s, loss=0.0802]\n"
     ]
    },
    {
     "name": "stdout",
     "output_type": "stream",
     "text": [
      "Epoch [70/1000]: Train loss: 0.0941, Valid loss: 0.0921\n",
      "Saving model with loss 0.092...\n"
     ]
    },
    {
     "name": "stderr",
     "output_type": "stream",
     "text": [
      "Epoch [71/1000]: 100%|████████████████████████████████████████████| 439/439 [00:01<00:00, 275.79it/s, loss=0.0986]\n"
     ]
    },
    {
     "name": "stdout",
     "output_type": "stream",
     "text": [
      "Epoch [71/1000]: Train loss: 0.0938, Valid loss: 0.0920\n",
      "Saving model with loss 0.092...\n"
     ]
    },
    {
     "name": "stderr",
     "output_type": "stream",
     "text": [
      "Epoch [72/1000]: 100%|████████████████████████████████████████████| 439/439 [00:01<00:00, 273.37it/s, loss=0.0689]\n"
     ]
    },
    {
     "name": "stdout",
     "output_type": "stream",
     "text": [
      "Epoch [72/1000]: Train loss: 0.0936, Valid loss: 0.0917\n",
      "Saving model with loss 0.092...\n"
     ]
    },
    {
     "name": "stderr",
     "output_type": "stream",
     "text": [
      "Epoch [73/1000]: 100%|████████████████████████████████████████████| 439/439 [00:01<00:00, 290.32it/s, loss=0.0927]\n"
     ]
    },
    {
     "name": "stdout",
     "output_type": "stream",
     "text": [
      "Epoch [73/1000]: Train loss: 0.0934, Valid loss: 0.0915\n",
      "Saving model with loss 0.092...\n"
     ]
    },
    {
     "name": "stderr",
     "output_type": "stream",
     "text": [
      "Epoch [74/1000]: 100%|███████████████████████████████████████████████| 439/439 [00:01<00:00, 262.76it/s, loss=0.1]\n"
     ]
    },
    {
     "name": "stdout",
     "output_type": "stream",
     "text": [
      "Epoch [74/1000]: Train loss: 0.0932, Valid loss: 0.0912\n",
      "Saving model with loss 0.091...\n"
     ]
    },
    {
     "name": "stderr",
     "output_type": "stream",
     "text": [
      "Epoch [75/1000]: 100%|████████████████████████████████████████████| 439/439 [00:01<00:00, 264.61it/s, loss=0.0861]\n"
     ]
    },
    {
     "name": "stdout",
     "output_type": "stream",
     "text": [
      "Epoch [75/1000]: Train loss: 0.0930, Valid loss: 0.0913\n"
     ]
    },
    {
     "name": "stderr",
     "output_type": "stream",
     "text": [
      "Epoch [76/1000]: 100%|████████████████████████████████████████████| 439/439 [00:01<00:00, 231.68it/s, loss=0.0877]\n"
     ]
    },
    {
     "name": "stdout",
     "output_type": "stream",
     "text": [
      "Epoch [76/1000]: Train loss: 0.0927, Valid loss: 0.0909\n",
      "Saving model with loss 0.091...\n"
     ]
    },
    {
     "name": "stderr",
     "output_type": "stream",
     "text": [
      "Epoch [77/1000]: 100%|████████████████████████████████████████████| 439/439 [00:01<00:00, 272.29it/s, loss=0.0762]\n"
     ]
    },
    {
     "name": "stdout",
     "output_type": "stream",
     "text": [
      "Epoch [77/1000]: Train loss: 0.0925, Valid loss: 0.0907\n",
      "Saving model with loss 0.091...\n"
     ]
    },
    {
     "name": "stderr",
     "output_type": "stream",
     "text": [
      "Epoch [78/1000]: 100%|████████████████████████████████████████████| 439/439 [00:01<00:00, 249.50it/s, loss=0.0691]\n"
     ]
    },
    {
     "name": "stdout",
     "output_type": "stream",
     "text": [
      "Epoch [78/1000]: Train loss: 0.0923, Valid loss: 0.0903\n",
      "Saving model with loss 0.090...\n"
     ]
    },
    {
     "name": "stderr",
     "output_type": "stream",
     "text": [
      "Epoch [79/1000]: 100%|█████████████████████████████████████████████| 439/439 [00:01<00:00, 282.68it/s, loss=0.103]\n"
     ]
    },
    {
     "name": "stdout",
     "output_type": "stream",
     "text": [
      "Epoch [79/1000]: Train loss: 0.0921, Valid loss: 0.0903\n"
     ]
    },
    {
     "name": "stderr",
     "output_type": "stream",
     "text": [
      "Epoch [80/1000]: 100%|████████████████████████████████████████████| 439/439 [00:01<00:00, 254.09it/s, loss=0.0912]\n"
     ]
    },
    {
     "name": "stdout",
     "output_type": "stream",
     "text": [
      "Epoch [80/1000]: Train loss: 0.0919, Valid loss: 0.0900\n",
      "Saving model with loss 0.090...\n"
     ]
    },
    {
     "name": "stderr",
     "output_type": "stream",
     "text": [
      "Epoch [81/1000]: 100%|████████████████████████████████████████████| 439/439 [00:01<00:00, 290.14it/s, loss=0.0846]\n"
     ]
    },
    {
     "name": "stdout",
     "output_type": "stream",
     "text": [
      "Epoch [81/1000]: Train loss: 0.0916, Valid loss: 0.0898\n",
      "Saving model with loss 0.090...\n"
     ]
    },
    {
     "name": "stderr",
     "output_type": "stream",
     "text": [
      "Epoch [82/1000]: 100%|█████████████████████████████████████████████| 439/439 [00:01<00:00, 246.73it/s, loss=0.119]\n"
     ]
    },
    {
     "name": "stdout",
     "output_type": "stream",
     "text": [
      "Epoch [82/1000]: Train loss: 0.0914, Valid loss: 0.0896\n",
      "Saving model with loss 0.090...\n"
     ]
    },
    {
     "name": "stderr",
     "output_type": "stream",
     "text": [
      "Epoch [83/1000]: 100%|████████████████████████████████████████████| 439/439 [00:01<00:00, 279.91it/s, loss=0.0843]\n"
     ]
    },
    {
     "name": "stdout",
     "output_type": "stream",
     "text": [
      "Epoch [83/1000]: Train loss: 0.0912, Valid loss: 0.0893\n",
      "Saving model with loss 0.089...\n"
     ]
    },
    {
     "name": "stderr",
     "output_type": "stream",
     "text": [
      "Epoch [84/1000]: 100%|████████████████████████████████████████████| 439/439 [00:01<00:00, 270.28it/s, loss=0.0889]\n"
     ]
    },
    {
     "name": "stdout",
     "output_type": "stream",
     "text": [
      "Epoch [84/1000]: Train loss: 0.0910, Valid loss: 0.0891\n",
      "Saving model with loss 0.089...\n"
     ]
    },
    {
     "name": "stderr",
     "output_type": "stream",
     "text": [
      "Epoch [85/1000]: 100%|████████████████████████████████████████████| 439/439 [00:01<00:00, 248.67it/s, loss=0.0972]\n"
     ]
    },
    {
     "name": "stdout",
     "output_type": "stream",
     "text": [
      "Epoch [85/1000]: Train loss: 0.0908, Valid loss: 0.0888\n",
      "Saving model with loss 0.089...\n"
     ]
    },
    {
     "name": "stderr",
     "output_type": "stream",
     "text": [
      "Epoch [86/1000]: 100%|████████████████████████████████████████████| 439/439 [00:01<00:00, 276.84it/s, loss=0.0739]\n"
     ]
    },
    {
     "name": "stdout",
     "output_type": "stream",
     "text": [
      "Epoch [86/1000]: Train loss: 0.0905, Valid loss: 0.0886\n",
      "Saving model with loss 0.089...\n"
     ]
    },
    {
     "name": "stderr",
     "output_type": "stream",
     "text": [
      "Epoch [87/1000]: 100%|████████████████████████████████████████████| 439/439 [00:01<00:00, 249.81it/s, loss=0.0891]\n"
     ]
    },
    {
     "name": "stdout",
     "output_type": "stream",
     "text": [
      "Epoch [87/1000]: Train loss: 0.0903, Valid loss: 0.0885\n",
      "Saving model with loss 0.089...\n"
     ]
    },
    {
     "name": "stderr",
     "output_type": "stream",
     "text": [
      "Epoch [88/1000]: 100%|████████████████████████████████████████████| 439/439 [00:01<00:00, 279.28it/s, loss=0.0961]\n"
     ]
    },
    {
     "name": "stdout",
     "output_type": "stream",
     "text": [
      "Epoch [88/1000]: Train loss: 0.0901, Valid loss: 0.0884\n",
      "Saving model with loss 0.088...\n"
     ]
    },
    {
     "name": "stderr",
     "output_type": "stream",
     "text": [
      "Epoch [89/1000]: 100%|█████████████████████████████████████████████| 439/439 [00:01<00:00, 255.83it/s, loss=0.124]\n"
     ]
    },
    {
     "name": "stdout",
     "output_type": "stream",
     "text": [
      "Epoch [89/1000]: Train loss: 0.0899, Valid loss: 0.0880\n",
      "Saving model with loss 0.088...\n"
     ]
    },
    {
     "name": "stderr",
     "output_type": "stream",
     "text": [
      "Epoch [90/1000]: 100%|████████████████████████████████████████████| 439/439 [00:01<00:00, 275.24it/s, loss=0.0781]\n"
     ]
    },
    {
     "name": "stdout",
     "output_type": "stream",
     "text": [
      "Epoch [90/1000]: Train loss: 0.0896, Valid loss: 0.0877\n",
      "Saving model with loss 0.088...\n"
     ]
    },
    {
     "name": "stderr",
     "output_type": "stream",
     "text": [
      "Epoch [91/1000]: 100%|█████████████████████████████████████████████| 439/439 [00:01<00:00, 261.08it/s, loss=0.132]\n"
     ]
    },
    {
     "name": "stdout",
     "output_type": "stream",
     "text": [
      "Epoch [91/1000]: Train loss: 0.0894, Valid loss: 0.0875\n",
      "Saving model with loss 0.088...\n"
     ]
    },
    {
     "name": "stderr",
     "output_type": "stream",
     "text": [
      "Epoch [92/1000]: 100%|████████████████████████████████████████████| 439/439 [00:01<00:00, 276.38it/s, loss=0.0731]\n"
     ]
    },
    {
     "name": "stdout",
     "output_type": "stream",
     "text": [
      "Epoch [92/1000]: Train loss: 0.0892, Valid loss: 0.0874\n",
      "Saving model with loss 0.087...\n"
     ]
    },
    {
     "name": "stderr",
     "output_type": "stream",
     "text": [
      "Epoch [93/1000]: 100%|█████████████████████████████████████████████| 439/439 [00:01<00:00, 246.47it/s, loss=0.119]\n"
     ]
    },
    {
     "name": "stdout",
     "output_type": "stream",
     "text": [
      "Epoch [93/1000]: Train loss: 0.0890, Valid loss: 0.0871\n",
      "Saving model with loss 0.087...\n"
     ]
    },
    {
     "name": "stderr",
     "output_type": "stream",
     "text": [
      "Epoch [94/1000]: 100%|████████████████████████████████████████████| 439/439 [00:01<00:00, 238.04it/s, loss=0.0877]\n"
     ]
    },
    {
     "name": "stdout",
     "output_type": "stream",
     "text": [
      "Epoch [94/1000]: Train loss: 0.0887, Valid loss: 0.0868\n",
      "Saving model with loss 0.087...\n"
     ]
    },
    {
     "name": "stderr",
     "output_type": "stream",
     "text": [
      "Epoch [95/1000]: 100%|████████████████████████████████████████████| 439/439 [00:01<00:00, 236.88it/s, loss=0.0745]\n"
     ]
    },
    {
     "name": "stdout",
     "output_type": "stream",
     "text": [
      "Epoch [95/1000]: Train loss: 0.0885, Valid loss: 0.0865\n",
      "Saving model with loss 0.087...\n"
     ]
    },
    {
     "name": "stderr",
     "output_type": "stream",
     "text": [
      "Epoch [96/1000]: 100%|████████████████████████████████████████████| 439/439 [00:01<00:00, 277.06it/s, loss=0.0626]\n"
     ]
    },
    {
     "name": "stdout",
     "output_type": "stream",
     "text": [
      "Epoch [96/1000]: Train loss: 0.0882, Valid loss: 0.0863\n",
      "Saving model with loss 0.086...\n"
     ]
    },
    {
     "name": "stderr",
     "output_type": "stream",
     "text": [
      "Epoch [97/1000]: 100%|████████████████████████████████████████████| 439/439 [00:01<00:00, 281.53it/s, loss=0.0829]\n"
     ]
    },
    {
     "name": "stdout",
     "output_type": "stream",
     "text": [
      "Epoch [97/1000]: Train loss: 0.0880, Valid loss: 0.0861\n",
      "Saving model with loss 0.086...\n"
     ]
    },
    {
     "name": "stderr",
     "output_type": "stream",
     "text": [
      "Epoch [98/1000]: 100%|████████████████████████████████████████████| 439/439 [00:01<00:00, 292.23it/s, loss=0.0842]\n"
     ]
    },
    {
     "name": "stdout",
     "output_type": "stream",
     "text": [
      "Epoch [98/1000]: Train loss: 0.0878, Valid loss: 0.0860\n",
      "Saving model with loss 0.086...\n"
     ]
    },
    {
     "name": "stderr",
     "output_type": "stream",
     "text": [
      "Epoch [99/1000]: 100%|████████████████████████████████████████████| 439/439 [00:01<00:00, 281.44it/s, loss=0.0725]\n"
     ]
    },
    {
     "name": "stdout",
     "output_type": "stream",
     "text": [
      "Epoch [99/1000]: Train loss: 0.0875, Valid loss: 0.0856\n",
      "Saving model with loss 0.086...\n"
     ]
    },
    {
     "name": "stderr",
     "output_type": "stream",
     "text": [
      "Epoch [100/1000]: 100%|███████████████████████████████████████████| 439/439 [00:01<00:00, 260.18it/s, loss=0.0802]\n"
     ]
    },
    {
     "name": "stdout",
     "output_type": "stream",
     "text": [
      "Epoch [100/1000]: Train loss: 0.0873, Valid loss: 0.0855\n",
      "Saving model with loss 0.085...\n"
     ]
    },
    {
     "name": "stderr",
     "output_type": "stream",
     "text": [
      "Epoch [101/1000]: 100%|███████████████████████████████████████████| 439/439 [00:01<00:00, 284.02it/s, loss=0.0914]\n"
     ]
    },
    {
     "name": "stdout",
     "output_type": "stream",
     "text": [
      "Epoch [101/1000]: Train loss: 0.0871, Valid loss: 0.0850\n",
      "Saving model with loss 0.085...\n"
     ]
    },
    {
     "name": "stderr",
     "output_type": "stream",
     "text": [
      "Epoch [102/1000]: 100%|███████████████████████████████████████████| 439/439 [00:01<00:00, 249.09it/s, loss=0.0937]\n"
     ]
    },
    {
     "name": "stdout",
     "output_type": "stream",
     "text": [
      "Epoch [102/1000]: Train loss: 0.0869, Valid loss: 0.0849\n",
      "Saving model with loss 0.085...\n"
     ]
    },
    {
     "name": "stderr",
     "output_type": "stream",
     "text": [
      "Epoch [103/1000]: 100%|████████████████████████████████████████████| 439/439 [00:01<00:00, 298.77it/s, loss=0.098]\n"
     ]
    },
    {
     "name": "stdout",
     "output_type": "stream",
     "text": [
      "Epoch [103/1000]: Train loss: 0.0866, Valid loss: 0.0848\n",
      "Saving model with loss 0.085...\n"
     ]
    },
    {
     "name": "stderr",
     "output_type": "stream",
     "text": [
      "Epoch [104/1000]: 100%|███████████████████████████████████████████| 439/439 [00:01<00:00, 258.40it/s, loss=0.0974]\n"
     ]
    },
    {
     "name": "stdout",
     "output_type": "stream",
     "text": [
      "Epoch [104/1000]: Train loss: 0.0864, Valid loss: 0.0844\n",
      "Saving model with loss 0.084...\n"
     ]
    },
    {
     "name": "stderr",
     "output_type": "stream",
     "text": [
      "Epoch [105/1000]: 100%|███████████████████████████████████████████| 439/439 [00:01<00:00, 279.98it/s, loss=0.0698]\n"
     ]
    },
    {
     "name": "stdout",
     "output_type": "stream",
     "text": [
      "Epoch [105/1000]: Train loss: 0.0861, Valid loss: 0.0843\n",
      "Saving model with loss 0.084...\n"
     ]
    },
    {
     "name": "stderr",
     "output_type": "stream",
     "text": [
      "Epoch [106/1000]: 100%|███████████████████████████████████████████| 439/439 [00:01<00:00, 253.07it/s, loss=0.0622]\n"
     ]
    },
    {
     "name": "stdout",
     "output_type": "stream",
     "text": [
      "Epoch [106/1000]: Train loss: 0.0859, Valid loss: 0.0841\n",
      "Saving model with loss 0.084...\n"
     ]
    },
    {
     "name": "stderr",
     "output_type": "stream",
     "text": [
      "Epoch [107/1000]: 100%|███████████████████████████████████████████| 439/439 [00:01<00:00, 283.49it/s, loss=0.0568]\n"
     ]
    },
    {
     "name": "stdout",
     "output_type": "stream",
     "text": [
      "Epoch [107/1000]: Train loss: 0.0856, Valid loss: 0.0838\n",
      "Saving model with loss 0.084...\n"
     ]
    },
    {
     "name": "stderr",
     "output_type": "stream",
     "text": [
      "Epoch [108/1000]: 100%|████████████████████████████████████████████| 439/439 [00:01<00:00, 250.27it/s, loss=0.073]\n"
     ]
    },
    {
     "name": "stdout",
     "output_type": "stream",
     "text": [
      "Epoch [108/1000]: Train loss: 0.0854, Valid loss: 0.0836\n",
      "Saving model with loss 0.084...\n"
     ]
    },
    {
     "name": "stderr",
     "output_type": "stream",
     "text": [
      "Epoch [109/1000]: 100%|███████████████████████████████████████████| 439/439 [00:01<00:00, 285.34it/s, loss=0.0903]\n"
     ]
    },
    {
     "name": "stdout",
     "output_type": "stream",
     "text": [
      "Epoch [109/1000]: Train loss: 0.0852, Valid loss: 0.0833\n",
      "Saving model with loss 0.083...\n"
     ]
    },
    {
     "name": "stderr",
     "output_type": "stream",
     "text": [
      "Epoch [110/1000]: 100%|████████████████████████████████████████████| 439/439 [00:01<00:00, 261.07it/s, loss=0.081]\n"
     ]
    },
    {
     "name": "stdout",
     "output_type": "stream",
     "text": [
      "Epoch [110/1000]: Train loss: 0.0849, Valid loss: 0.0832\n",
      "Saving model with loss 0.083...\n"
     ]
    },
    {
     "name": "stderr",
     "output_type": "stream",
     "text": [
      "Epoch [111/1000]: 100%|████████████████████████████████████████████| 439/439 [00:01<00:00, 255.23it/s, loss=0.111]\n"
     ]
    },
    {
     "name": "stdout",
     "output_type": "stream",
     "text": [
      "Epoch [111/1000]: Train loss: 0.0847, Valid loss: 0.0828\n",
      "Saving model with loss 0.083...\n"
     ]
    },
    {
     "name": "stderr",
     "output_type": "stream",
     "text": [
      "Epoch [112/1000]: 100%|████████████████████████████████████████████| 439/439 [00:01<00:00, 277.29it/s, loss=0.107]\n"
     ]
    },
    {
     "name": "stdout",
     "output_type": "stream",
     "text": [
      "Epoch [112/1000]: Train loss: 0.0844, Valid loss: 0.0827\n",
      "Saving model with loss 0.083...\n"
     ]
    },
    {
     "name": "stderr",
     "output_type": "stream",
     "text": [
      "Epoch [113/1000]: 100%|███████████████████████████████████████████| 439/439 [00:01<00:00, 245.20it/s, loss=0.0824]\n"
     ]
    },
    {
     "name": "stdout",
     "output_type": "stream",
     "text": [
      "Epoch [113/1000]: Train loss: 0.0842, Valid loss: 0.0822\n",
      "Saving model with loss 0.082...\n"
     ]
    },
    {
     "name": "stderr",
     "output_type": "stream",
     "text": [
      "Epoch [114/1000]: 100%|███████████████████████████████████████████| 439/439 [00:01<00:00, 283.55it/s, loss=0.0801]\n"
     ]
    },
    {
     "name": "stdout",
     "output_type": "stream",
     "text": [
      "Epoch [114/1000]: Train loss: 0.0839, Valid loss: 0.0822\n",
      "Saving model with loss 0.082...\n"
     ]
    },
    {
     "name": "stderr",
     "output_type": "stream",
     "text": [
      "Epoch [115/1000]: 100%|███████████████████████████████████████████| 439/439 [00:01<00:00, 259.78it/s, loss=0.0759]\n"
     ]
    },
    {
     "name": "stdout",
     "output_type": "stream",
     "text": [
      "Epoch [115/1000]: Train loss: 0.0837, Valid loss: 0.0818\n",
      "Saving model with loss 0.082...\n"
     ]
    },
    {
     "name": "stderr",
     "output_type": "stream",
     "text": [
      "Epoch [116/1000]: 100%|███████████████████████████████████████████| 439/439 [00:01<00:00, 273.61it/s, loss=0.0923]\n"
     ]
    },
    {
     "name": "stdout",
     "output_type": "stream",
     "text": [
      "Epoch [116/1000]: Train loss: 0.0834, Valid loss: 0.0815\n",
      "Saving model with loss 0.082...\n"
     ]
    },
    {
     "name": "stderr",
     "output_type": "stream",
     "text": [
      "Epoch [117/1000]: 100%|███████████████████████████████████████████| 439/439 [00:01<00:00, 251.33it/s, loss=0.0908]\n"
     ]
    },
    {
     "name": "stdout",
     "output_type": "stream",
     "text": [
      "Epoch [117/1000]: Train loss: 0.0832, Valid loss: 0.0814\n",
      "Saving model with loss 0.081...\n"
     ]
    },
    {
     "name": "stderr",
     "output_type": "stream",
     "text": [
      "Epoch [118/1000]: 100%|███████████████████████████████████████████| 439/439 [00:01<00:00, 276.92it/s, loss=0.0989]\n"
     ]
    },
    {
     "name": "stdout",
     "output_type": "stream",
     "text": [
      "Epoch [118/1000]: Train loss: 0.0829, Valid loss: 0.0810\n",
      "Saving model with loss 0.081...\n"
     ]
    },
    {
     "name": "stderr",
     "output_type": "stream",
     "text": [
      "Epoch [119/1000]: 100%|████████████████████████████████████████████| 439/439 [00:01<00:00, 225.19it/s, loss=0.079]\n"
     ]
    },
    {
     "name": "stdout",
     "output_type": "stream",
     "text": [
      "Epoch [119/1000]: Train loss: 0.0826, Valid loss: 0.0807\n",
      "Saving model with loss 0.081...\n"
     ]
    },
    {
     "name": "stderr",
     "output_type": "stream",
     "text": [
      "Epoch [120/1000]: 100%|███████████████████████████████████████████| 439/439 [00:01<00:00, 285.16it/s, loss=0.0724]\n"
     ]
    },
    {
     "name": "stdout",
     "output_type": "stream",
     "text": [
      "Epoch [120/1000]: Train loss: 0.0824, Valid loss: 0.0805\n",
      "Saving model with loss 0.080...\n"
     ]
    },
    {
     "name": "stderr",
     "output_type": "stream",
     "text": [
      "Epoch [121/1000]: 100%|███████████████████████████████████████████| 439/439 [00:01<00:00, 262.77it/s, loss=0.0563]\n"
     ]
    },
    {
     "name": "stdout",
     "output_type": "stream",
     "text": [
      "Epoch [121/1000]: Train loss: 0.0821, Valid loss: 0.0802\n",
      "Saving model with loss 0.080...\n"
     ]
    },
    {
     "name": "stderr",
     "output_type": "stream",
     "text": [
      "Epoch [122/1000]: 100%|███████████████████████████████████████████| 439/439 [00:01<00:00, 289.38it/s, loss=0.0769]\n"
     ]
    },
    {
     "name": "stdout",
     "output_type": "stream",
     "text": [
      "Epoch [122/1000]: Train loss: 0.0818, Valid loss: 0.0800\n",
      "Saving model with loss 0.080...\n"
     ]
    },
    {
     "name": "stderr",
     "output_type": "stream",
     "text": [
      "Epoch [123/1000]: 100%|███████████████████████████████████████████| 439/439 [00:01<00:00, 248.30it/s, loss=0.0981]\n"
     ]
    },
    {
     "name": "stdout",
     "output_type": "stream",
     "text": [
      "Epoch [123/1000]: Train loss: 0.0816, Valid loss: 0.0799\n",
      "Saving model with loss 0.080...\n"
     ]
    },
    {
     "name": "stderr",
     "output_type": "stream",
     "text": [
      "Epoch [124/1000]: 100%|███████████████████████████████████████████| 439/439 [00:01<00:00, 287.97it/s, loss=0.0634]\n"
     ]
    },
    {
     "name": "stdout",
     "output_type": "stream",
     "text": [
      "Epoch [124/1000]: Train loss: 0.0813, Valid loss: 0.0795\n",
      "Saving model with loss 0.079...\n"
     ]
    },
    {
     "name": "stderr",
     "output_type": "stream",
     "text": [
      "Epoch [125/1000]: 100%|███████████████████████████████████████████| 439/439 [00:01<00:00, 270.18it/s, loss=0.0903]\n"
     ]
    },
    {
     "name": "stdout",
     "output_type": "stream",
     "text": [
      "Epoch [125/1000]: Train loss: 0.0811, Valid loss: 0.0793\n",
      "Saving model with loss 0.079...\n"
     ]
    },
    {
     "name": "stderr",
     "output_type": "stream",
     "text": [
      "Epoch [126/1000]: 100%|███████████████████████████████████████████| 439/439 [00:01<00:00, 279.37it/s, loss=0.0601]\n"
     ]
    },
    {
     "name": "stdout",
     "output_type": "stream",
     "text": [
      "Epoch [126/1000]: Train loss: 0.0808, Valid loss: 0.0790\n",
      "Saving model with loss 0.079...\n"
     ]
    },
    {
     "name": "stderr",
     "output_type": "stream",
     "text": [
      "Epoch [127/1000]: 100%|███████████████████████████████████████████| 439/439 [00:01<00:00, 251.02it/s, loss=0.0713]\n"
     ]
    },
    {
     "name": "stdout",
     "output_type": "stream",
     "text": [
      "Epoch [127/1000]: Train loss: 0.0805, Valid loss: 0.0787\n",
      "Saving model with loss 0.079...\n"
     ]
    },
    {
     "name": "stderr",
     "output_type": "stream",
     "text": [
      "Epoch [128/1000]: 100%|███████████████████████████████████████████| 439/439 [00:01<00:00, 262.47it/s, loss=0.0733]\n"
     ]
    },
    {
     "name": "stdout",
     "output_type": "stream",
     "text": [
      "Epoch [128/1000]: Train loss: 0.0803, Valid loss: 0.0784\n",
      "Saving model with loss 0.078...\n"
     ]
    },
    {
     "name": "stderr",
     "output_type": "stream",
     "text": [
      "Epoch [129/1000]: 100%|███████████████████████████████████████████| 439/439 [00:01<00:00, 279.45it/s, loss=0.0746]\n"
     ]
    },
    {
     "name": "stdout",
     "output_type": "stream",
     "text": [
      "Epoch [129/1000]: Train loss: 0.0800, Valid loss: 0.0781\n",
      "Saving model with loss 0.078...\n"
     ]
    },
    {
     "name": "stderr",
     "output_type": "stream",
     "text": [
      "Epoch [130/1000]: 100%|███████████████████████████████████████████| 439/439 [00:01<00:00, 250.19it/s, loss=0.0842]\n"
     ]
    },
    {
     "name": "stdout",
     "output_type": "stream",
     "text": [
      "Epoch [130/1000]: Train loss: 0.0797, Valid loss: 0.0780\n",
      "Saving model with loss 0.078...\n"
     ]
    },
    {
     "name": "stderr",
     "output_type": "stream",
     "text": [
      "Epoch [131/1000]: 100%|███████████████████████████████████████████| 439/439 [00:01<00:00, 269.91it/s, loss=0.0702]\n"
     ]
    },
    {
     "name": "stdout",
     "output_type": "stream",
     "text": [
      "Epoch [131/1000]: Train loss: 0.0794, Valid loss: 0.0776\n",
      "Saving model with loss 0.078...\n"
     ]
    },
    {
     "name": "stderr",
     "output_type": "stream",
     "text": [
      "Epoch [132/1000]: 100%|███████████████████████████████████████████| 439/439 [00:01<00:00, 257.13it/s, loss=0.0627]\n"
     ]
    },
    {
     "name": "stdout",
     "output_type": "stream",
     "text": [
      "Epoch [132/1000]: Train loss: 0.0792, Valid loss: 0.0775\n",
      "Saving model with loss 0.077...\n"
     ]
    },
    {
     "name": "stderr",
     "output_type": "stream",
     "text": [
      "Epoch [133/1000]: 100%|████████████████████████████████████████████| 439/439 [00:01<00:00, 278.07it/s, loss=0.075]\n"
     ]
    },
    {
     "name": "stdout",
     "output_type": "stream",
     "text": [
      "Epoch [133/1000]: Train loss: 0.0789, Valid loss: 0.0772\n",
      "Saving model with loss 0.077...\n"
     ]
    },
    {
     "name": "stderr",
     "output_type": "stream",
     "text": [
      "Epoch [134/1000]: 100%|█████████████████████████████████████████████| 439/439 [00:01<00:00, 264.57it/s, loss=0.11]\n"
     ]
    },
    {
     "name": "stdout",
     "output_type": "stream",
     "text": [
      "Epoch [134/1000]: Train loss: 0.0786, Valid loss: 0.0769\n",
      "Saving model with loss 0.077...\n"
     ]
    },
    {
     "name": "stderr",
     "output_type": "stream",
     "text": [
      "Epoch [135/1000]: 100%|███████████████████████████████████████████| 439/439 [00:01<00:00, 268.30it/s, loss=0.0515]\n"
     ]
    },
    {
     "name": "stdout",
     "output_type": "stream",
     "text": [
      "Epoch [135/1000]: Train loss: 0.0783, Valid loss: 0.0766\n",
      "Saving model with loss 0.077...\n"
     ]
    },
    {
     "name": "stderr",
     "output_type": "stream",
     "text": [
      "Epoch [136/1000]: 100%|████████████████████████████████████████████| 439/439 [00:01<00:00, 241.64it/s, loss=0.106]\n"
     ]
    },
    {
     "name": "stdout",
     "output_type": "stream",
     "text": [
      "Epoch [136/1000]: Train loss: 0.0781, Valid loss: 0.0763\n",
      "Saving model with loss 0.076...\n"
     ]
    },
    {
     "name": "stderr",
     "output_type": "stream",
     "text": [
      "Epoch [137/1000]: 100%|███████████████████████████████████████████| 439/439 [00:01<00:00, 267.62it/s, loss=0.0767]\n"
     ]
    },
    {
     "name": "stdout",
     "output_type": "stream",
     "text": [
      "Epoch [137/1000]: Train loss: 0.0778, Valid loss: 0.0761\n",
      "Saving model with loss 0.076...\n"
     ]
    },
    {
     "name": "stderr",
     "output_type": "stream",
     "text": [
      "Epoch [138/1000]: 100%|███████████████████████████████████████████| 439/439 [00:01<00:00, 242.78it/s, loss=0.0826]\n"
     ]
    },
    {
     "name": "stdout",
     "output_type": "stream",
     "text": [
      "Epoch [138/1000]: Train loss: 0.0775, Valid loss: 0.0758\n",
      "Saving model with loss 0.076...\n"
     ]
    },
    {
     "name": "stderr",
     "output_type": "stream",
     "text": [
      "Epoch [139/1000]: 100%|███████████████████████████████████████████| 439/439 [00:01<00:00, 280.62it/s, loss=0.0725]\n"
     ]
    },
    {
     "name": "stdout",
     "output_type": "stream",
     "text": [
      "Epoch [139/1000]: Train loss: 0.0772, Valid loss: 0.0755\n",
      "Saving model with loss 0.076...\n"
     ]
    },
    {
     "name": "stderr",
     "output_type": "stream",
     "text": [
      "Epoch [140/1000]: 100%|███████████████████████████████████████████| 439/439 [00:01<00:00, 265.39it/s, loss=0.0953]\n"
     ]
    },
    {
     "name": "stdout",
     "output_type": "stream",
     "text": [
      "Epoch [140/1000]: Train loss: 0.0770, Valid loss: 0.0753\n",
      "Saving model with loss 0.075...\n"
     ]
    },
    {
     "name": "stderr",
     "output_type": "stream",
     "text": [
      "Epoch [141/1000]: 100%|███████████████████████████████████████████| 439/439 [00:01<00:00, 250.13it/s, loss=0.0715]\n"
     ]
    },
    {
     "name": "stdout",
     "output_type": "stream",
     "text": [
      "Epoch [141/1000]: Train loss: 0.0767, Valid loss: 0.0750\n",
      "Saving model with loss 0.075...\n"
     ]
    },
    {
     "name": "stderr",
     "output_type": "stream",
     "text": [
      "Epoch [142/1000]: 100%|███████████████████████████████████████████| 439/439 [00:01<00:00, 287.45it/s, loss=0.0814]\n"
     ]
    },
    {
     "name": "stdout",
     "output_type": "stream",
     "text": [
      "Epoch [142/1000]: Train loss: 0.0764, Valid loss: 0.0746\n",
      "Saving model with loss 0.075...\n"
     ]
    },
    {
     "name": "stderr",
     "output_type": "stream",
     "text": [
      "Epoch [143/1000]: 100%|███████████████████████████████████████████| 439/439 [00:01<00:00, 259.48it/s, loss=0.0953]\n"
     ]
    },
    {
     "name": "stdout",
     "output_type": "stream",
     "text": [
      "Epoch [143/1000]: Train loss: 0.0761, Valid loss: 0.0744\n",
      "Saving model with loss 0.074...\n"
     ]
    },
    {
     "name": "stderr",
     "output_type": "stream",
     "text": [
      "Epoch [144/1000]: 100%|███████████████████████████████████████████| 439/439 [00:01<00:00, 256.35it/s, loss=0.0658]\n"
     ]
    },
    {
     "name": "stdout",
     "output_type": "stream",
     "text": [
      "Epoch [144/1000]: Train loss: 0.0758, Valid loss: 0.0741\n",
      "Saving model with loss 0.074...\n"
     ]
    },
    {
     "name": "stderr",
     "output_type": "stream",
     "text": [
      "Epoch [145/1000]: 100%|███████████████████████████████████████████| 439/439 [00:01<00:00, 251.21it/s, loss=0.0692]\n"
     ]
    },
    {
     "name": "stdout",
     "output_type": "stream",
     "text": [
      "Epoch [145/1000]: Train loss: 0.0755, Valid loss: 0.0738\n",
      "Saving model with loss 0.074...\n"
     ]
    },
    {
     "name": "stderr",
     "output_type": "stream",
     "text": [
      "Epoch [146/1000]: 100%|███████████████████████████████████████████| 439/439 [00:01<00:00, 287.08it/s, loss=0.0723]\n"
     ]
    },
    {
     "name": "stdout",
     "output_type": "stream",
     "text": [
      "Epoch [146/1000]: Train loss: 0.0752, Valid loss: 0.0734\n",
      "Saving model with loss 0.073...\n"
     ]
    },
    {
     "name": "stderr",
     "output_type": "stream",
     "text": [
      "Epoch [147/1000]: 100%|███████████████████████████████████████████| 439/439 [00:01<00:00, 250.46it/s, loss=0.0686]\n"
     ]
    },
    {
     "name": "stdout",
     "output_type": "stream",
     "text": [
      "Epoch [147/1000]: Train loss: 0.0749, Valid loss: 0.0732\n",
      "Saving model with loss 0.073...\n"
     ]
    },
    {
     "name": "stderr",
     "output_type": "stream",
     "text": [
      "Epoch [148/1000]: 100%|████████████████████████████████████████████| 439/439 [00:01<00:00, 273.88it/s, loss=0.107]\n"
     ]
    },
    {
     "name": "stdout",
     "output_type": "stream",
     "text": [
      "Epoch [148/1000]: Train loss: 0.0747, Valid loss: 0.0730\n",
      "Saving model with loss 0.073...\n"
     ]
    },
    {
     "name": "stderr",
     "output_type": "stream",
     "text": [
      "Epoch [149/1000]: 100%|███████████████████████████████████████████| 439/439 [00:01<00:00, 247.06it/s, loss=0.0887]\n"
     ]
    },
    {
     "name": "stdout",
     "output_type": "stream",
     "text": [
      "Epoch [149/1000]: Train loss: 0.0744, Valid loss: 0.0726\n",
      "Saving model with loss 0.073...\n"
     ]
    },
    {
     "name": "stderr",
     "output_type": "stream",
     "text": [
      "Epoch [150/1000]: 100%|███████████████████████████████████████████| 439/439 [00:01<00:00, 279.36it/s, loss=0.0801]\n"
     ]
    },
    {
     "name": "stdout",
     "output_type": "stream",
     "text": [
      "Epoch [150/1000]: Train loss: 0.0741, Valid loss: 0.0723\n",
      "Saving model with loss 0.072...\n"
     ]
    },
    {
     "name": "stderr",
     "output_type": "stream",
     "text": [
      "Epoch [151/1000]: 100%|███████████████████████████████████████████| 439/439 [00:01<00:00, 259.22it/s, loss=0.0759]\n"
     ]
    },
    {
     "name": "stdout",
     "output_type": "stream",
     "text": [
      "Epoch [151/1000]: Train loss: 0.0738, Valid loss: 0.0721\n",
      "Saving model with loss 0.072...\n"
     ]
    },
    {
     "name": "stderr",
     "output_type": "stream",
     "text": [
      "Epoch [152/1000]: 100%|███████████████████████████████████████████| 439/439 [00:01<00:00, 265.18it/s, loss=0.0645]\n"
     ]
    },
    {
     "name": "stdout",
     "output_type": "stream",
     "text": [
      "Epoch [152/1000]: Train loss: 0.0735, Valid loss: 0.0718\n",
      "Saving model with loss 0.072...\n"
     ]
    },
    {
     "name": "stderr",
     "output_type": "stream",
     "text": [
      "Epoch [153/1000]: 100%|███████████████████████████████████████████| 439/439 [00:01<00:00, 276.86it/s, loss=0.0763]\n"
     ]
    },
    {
     "name": "stdout",
     "output_type": "stream",
     "text": [
      "Epoch [153/1000]: Train loss: 0.0732, Valid loss: 0.0714\n",
      "Saving model with loss 0.071...\n"
     ]
    },
    {
     "name": "stderr",
     "output_type": "stream",
     "text": [
      "Epoch [154/1000]: 100%|███████████████████████████████████████████| 439/439 [00:01<00:00, 281.41it/s, loss=0.0493]\n"
     ]
    },
    {
     "name": "stdout",
     "output_type": "stream",
     "text": [
      "Epoch [154/1000]: Train loss: 0.0729, Valid loss: 0.0712\n",
      "Saving model with loss 0.071...\n"
     ]
    },
    {
     "name": "stderr",
     "output_type": "stream",
     "text": [
      "Epoch [155/1000]: 100%|███████████████████████████████████████████| 439/439 [00:01<00:00, 275.57it/s, loss=0.0601]\n"
     ]
    },
    {
     "name": "stdout",
     "output_type": "stream",
     "text": [
      "Epoch [155/1000]: Train loss: 0.0726, Valid loss: 0.0709\n",
      "Saving model with loss 0.071...\n"
     ]
    },
    {
     "name": "stderr",
     "output_type": "stream",
     "text": [
      "Epoch [156/1000]: 100%|███████████████████████████████████████████| 439/439 [00:01<00:00, 267.49it/s, loss=0.0842]\n"
     ]
    },
    {
     "name": "stdout",
     "output_type": "stream",
     "text": [
      "Epoch [156/1000]: Train loss: 0.0723, Valid loss: 0.0706\n",
      "Saving model with loss 0.071...\n"
     ]
    },
    {
     "name": "stderr",
     "output_type": "stream",
     "text": [
      "Epoch [157/1000]: 100%|███████████████████████████████████████████| 439/439 [00:01<00:00, 283.59it/s, loss=0.0691]\n"
     ]
    },
    {
     "name": "stdout",
     "output_type": "stream",
     "text": [
      "Epoch [157/1000]: Train loss: 0.0720, Valid loss: 0.0703\n",
      "Saving model with loss 0.070...\n"
     ]
    },
    {
     "name": "stderr",
     "output_type": "stream",
     "text": [
      "Epoch [158/1000]: 100%|███████████████████████████████████████████| 439/439 [00:01<00:00, 260.08it/s, loss=0.0997]\n"
     ]
    },
    {
     "name": "stdout",
     "output_type": "stream",
     "text": [
      "Epoch [158/1000]: Train loss: 0.0717, Valid loss: 0.0701\n",
      "Saving model with loss 0.070...\n"
     ]
    },
    {
     "name": "stderr",
     "output_type": "stream",
     "text": [
      "Epoch [159/1000]: 100%|███████████████████████████████████████████| 439/439 [00:01<00:00, 283.48it/s, loss=0.0621]\n"
     ]
    },
    {
     "name": "stdout",
     "output_type": "stream",
     "text": [
      "Epoch [159/1000]: Train loss: 0.0714, Valid loss: 0.0697\n",
      "Saving model with loss 0.070...\n"
     ]
    },
    {
     "name": "stderr",
     "output_type": "stream",
     "text": [
      "Epoch [160/1000]: 100%|███████████████████████████████████████████| 439/439 [00:01<00:00, 250.03it/s, loss=0.0617]\n"
     ]
    },
    {
     "name": "stdout",
     "output_type": "stream",
     "text": [
      "Epoch [160/1000]: Train loss: 0.0711, Valid loss: 0.0693\n",
      "Saving model with loss 0.069...\n"
     ]
    },
    {
     "name": "stderr",
     "output_type": "stream",
     "text": [
      "Epoch [161/1000]: 100%|███████████████████████████████████████████| 439/439 [00:01<00:00, 257.65it/s, loss=0.0782]\n"
     ]
    },
    {
     "name": "stdout",
     "output_type": "stream",
     "text": [
      "Epoch [161/1000]: Train loss: 0.0708, Valid loss: 0.0691\n",
      "Saving model with loss 0.069...\n"
     ]
    },
    {
     "name": "stderr",
     "output_type": "stream",
     "text": [
      "Epoch [162/1000]: 100%|███████████████████████████████████████████| 439/439 [00:01<00:00, 261.48it/s, loss=0.0705]\n"
     ]
    },
    {
     "name": "stdout",
     "output_type": "stream",
     "text": [
      "Epoch [162/1000]: Train loss: 0.0705, Valid loss: 0.0687\n",
      "Saving model with loss 0.069...\n"
     ]
    },
    {
     "name": "stderr",
     "output_type": "stream",
     "text": [
      "Epoch [163/1000]: 100%|███████████████████████████████████████████| 439/439 [00:01<00:00, 276.94it/s, loss=0.0606]\n"
     ]
    },
    {
     "name": "stdout",
     "output_type": "stream",
     "text": [
      "Epoch [163/1000]: Train loss: 0.0702, Valid loss: 0.0686\n",
      "Saving model with loss 0.069...\n"
     ]
    },
    {
     "name": "stderr",
     "output_type": "stream",
     "text": [
      "Epoch [164/1000]: 100%|███████████████████████████████████████████| 439/439 [00:01<00:00, 263.39it/s, loss=0.0608]\n"
     ]
    },
    {
     "name": "stdout",
     "output_type": "stream",
     "text": [
      "Epoch [164/1000]: Train loss: 0.0699, Valid loss: 0.0682\n",
      "Saving model with loss 0.068...\n"
     ]
    },
    {
     "name": "stderr",
     "output_type": "stream",
     "text": [
      "Epoch [165/1000]: 100%|███████████████████████████████████████████| 439/439 [00:01<00:00, 287.23it/s, loss=0.0852]\n"
     ]
    },
    {
     "name": "stdout",
     "output_type": "stream",
     "text": [
      "Epoch [165/1000]: Train loss: 0.0696, Valid loss: 0.0679\n",
      "Saving model with loss 0.068...\n"
     ]
    },
    {
     "name": "stderr",
     "output_type": "stream",
     "text": [
      "Epoch [166/1000]: 100%|███████████████████████████████████████████| 439/439 [00:01<00:00, 265.57it/s, loss=0.0901]\n"
     ]
    },
    {
     "name": "stdout",
     "output_type": "stream",
     "text": [
      "Epoch [166/1000]: Train loss: 0.0693, Valid loss: 0.0676\n",
      "Saving model with loss 0.068...\n"
     ]
    },
    {
     "name": "stderr",
     "output_type": "stream",
     "text": [
      "Epoch [167/1000]: 100%|███████████████████████████████████████████| 439/439 [00:01<00:00, 278.33it/s, loss=0.0732]\n"
     ]
    },
    {
     "name": "stdout",
     "output_type": "stream",
     "text": [
      "Epoch [167/1000]: Train loss: 0.0690, Valid loss: 0.0674\n",
      "Saving model with loss 0.067...\n"
     ]
    },
    {
     "name": "stderr",
     "output_type": "stream",
     "text": [
      "Epoch [168/1000]: 100%|███████████████████████████████████████████| 439/439 [00:01<00:00, 269.80it/s, loss=0.0936]\n"
     ]
    },
    {
     "name": "stdout",
     "output_type": "stream",
     "text": [
      "Epoch [168/1000]: Train loss: 0.0687, Valid loss: 0.0671\n",
      "Saving model with loss 0.067...\n"
     ]
    },
    {
     "name": "stderr",
     "output_type": "stream",
     "text": [
      "Epoch [169/1000]: 100%|███████████████████████████████████████████| 439/439 [00:01<00:00, 241.08it/s, loss=0.0685]\n"
     ]
    },
    {
     "name": "stdout",
     "output_type": "stream",
     "text": [
      "Epoch [169/1000]: Train loss: 0.0683, Valid loss: 0.0667\n",
      "Saving model with loss 0.067...\n"
     ]
    },
    {
     "name": "stderr",
     "output_type": "stream",
     "text": [
      "Epoch [170/1000]: 100%|███████████████████████████████████████████| 439/439 [00:01<00:00, 273.82it/s, loss=0.0896]\n"
     ]
    },
    {
     "name": "stdout",
     "output_type": "stream",
     "text": [
      "Epoch [170/1000]: Train loss: 0.0680, Valid loss: 0.0663\n",
      "Saving model with loss 0.066...\n"
     ]
    },
    {
     "name": "stderr",
     "output_type": "stream",
     "text": [
      "Epoch [171/1000]: 100%|███████████████████████████████████████████| 439/439 [00:01<00:00, 263.89it/s, loss=0.0848]\n"
     ]
    },
    {
     "name": "stdout",
     "output_type": "stream",
     "text": [
      "Epoch [171/1000]: Train loss: 0.0677, Valid loss: 0.0661\n",
      "Saving model with loss 0.066...\n"
     ]
    },
    {
     "name": "stderr",
     "output_type": "stream",
     "text": [
      "Epoch [172/1000]: 100%|███████████████████████████████████████████| 439/439 [00:01<00:00, 280.58it/s, loss=0.0574]\n"
     ]
    },
    {
     "name": "stdout",
     "output_type": "stream",
     "text": [
      "Epoch [172/1000]: Train loss: 0.0674, Valid loss: 0.0657\n",
      "Saving model with loss 0.066...\n"
     ]
    },
    {
     "name": "stderr",
     "output_type": "stream",
     "text": [
      "Epoch [173/1000]: 100%|███████████████████████████████████████████| 439/439 [00:01<00:00, 245.20it/s, loss=0.0554]\n"
     ]
    },
    {
     "name": "stdout",
     "output_type": "stream",
     "text": [
      "Epoch [173/1000]: Train loss: 0.0671, Valid loss: 0.0655\n",
      "Saving model with loss 0.065...\n"
     ]
    },
    {
     "name": "stderr",
     "output_type": "stream",
     "text": [
      "Epoch [174/1000]: 100%|███████████████████████████████████████████| 439/439 [00:01<00:00, 244.73it/s, loss=0.0543]\n"
     ]
    },
    {
     "name": "stdout",
     "output_type": "stream",
     "text": [
      "Epoch [174/1000]: Train loss: 0.0668, Valid loss: 0.0651\n",
      "Saving model with loss 0.065...\n"
     ]
    },
    {
     "name": "stderr",
     "output_type": "stream",
     "text": [
      "Epoch [175/1000]: 100%|███████████████████████████████████████████| 439/439 [00:01<00:00, 257.59it/s, loss=0.0682]\n"
     ]
    },
    {
     "name": "stdout",
     "output_type": "stream",
     "text": [
      "Epoch [175/1000]: Train loss: 0.0665, Valid loss: 0.0648\n",
      "Saving model with loss 0.065...\n"
     ]
    },
    {
     "name": "stderr",
     "output_type": "stream",
     "text": [
      "Epoch [176/1000]: 100%|███████████████████████████████████████████| 439/439 [00:01<00:00, 301.96it/s, loss=0.0506]\n"
     ]
    },
    {
     "name": "stdout",
     "output_type": "stream",
     "text": [
      "Epoch [176/1000]: Train loss: 0.0661, Valid loss: 0.0646\n",
      "Saving model with loss 0.065...\n"
     ]
    },
    {
     "name": "stderr",
     "output_type": "stream",
     "text": [
      "Epoch [177/1000]: 100%|███████████████████████████████████████████| 439/439 [00:01<00:00, 237.60it/s, loss=0.0632]\n"
     ]
    },
    {
     "name": "stdout",
     "output_type": "stream",
     "text": [
      "Epoch [177/1000]: Train loss: 0.0658, Valid loss: 0.0643\n",
      "Saving model with loss 0.064...\n"
     ]
    },
    {
     "name": "stderr",
     "output_type": "stream",
     "text": [
      "Epoch [178/1000]: 100%|███████████████████████████████████████████| 439/439 [00:01<00:00, 273.45it/s, loss=0.0586]\n"
     ]
    },
    {
     "name": "stdout",
     "output_type": "stream",
     "text": [
      "Epoch [178/1000]: Train loss: 0.0655, Valid loss: 0.0639\n",
      "Saving model with loss 0.064...\n"
     ]
    },
    {
     "name": "stderr",
     "output_type": "stream",
     "text": [
      "Epoch [179/1000]: 100%|███████████████████████████████████████████| 439/439 [00:01<00:00, 264.19it/s, loss=0.0587]\n"
     ]
    },
    {
     "name": "stdout",
     "output_type": "stream",
     "text": [
      "Epoch [179/1000]: Train loss: 0.0652, Valid loss: 0.0635\n",
      "Saving model with loss 0.064...\n"
     ]
    },
    {
     "name": "stderr",
     "output_type": "stream",
     "text": [
      "Epoch [180/1000]: 100%|█████████████████████████████████████████████| 439/439 [00:01<00:00, 280.72it/s, loss=0.05]\n"
     ]
    },
    {
     "name": "stdout",
     "output_type": "stream",
     "text": [
      "Epoch [180/1000]: Train loss: 0.0649, Valid loss: 0.0632\n",
      "Saving model with loss 0.063...\n"
     ]
    },
    {
     "name": "stderr",
     "output_type": "stream",
     "text": [
      "Epoch [181/1000]: 100%|███████████████████████████████████████████| 439/439 [00:01<00:00, 282.80it/s, loss=0.0508]\n"
     ]
    },
    {
     "name": "stdout",
     "output_type": "stream",
     "text": [
      "Epoch [181/1000]: Train loss: 0.0646, Valid loss: 0.0630\n",
      "Saving model with loss 0.063...\n"
     ]
    },
    {
     "name": "stderr",
     "output_type": "stream",
     "text": [
      "Epoch [182/1000]: 100%|███████████████████████████████████████████| 439/439 [00:01<00:00, 293.88it/s, loss=0.0602]\n"
     ]
    },
    {
     "name": "stdout",
     "output_type": "stream",
     "text": [
      "Epoch [182/1000]: Train loss: 0.0642, Valid loss: 0.0626\n",
      "Saving model with loss 0.063...\n"
     ]
    },
    {
     "name": "stderr",
     "output_type": "stream",
     "text": [
      "Epoch [183/1000]: 100%|███████████████████████████████████████████| 439/439 [00:01<00:00, 283.96it/s, loss=0.0928]\n"
     ]
    },
    {
     "name": "stdout",
     "output_type": "stream",
     "text": [
      "Epoch [183/1000]: Train loss: 0.0639, Valid loss: 0.0623\n",
      "Saving model with loss 0.062...\n"
     ]
    },
    {
     "name": "stderr",
     "output_type": "stream",
     "text": [
      "Epoch [184/1000]: 100%|███████████████████████████████████████████| 439/439 [00:01<00:00, 260.50it/s, loss=0.0472]\n"
     ]
    },
    {
     "name": "stdout",
     "output_type": "stream",
     "text": [
      "Epoch [184/1000]: Train loss: 0.0636, Valid loss: 0.0621\n",
      "Saving model with loss 0.062...\n"
     ]
    },
    {
     "name": "stderr",
     "output_type": "stream",
     "text": [
      "Epoch [185/1000]: 100%|█████████████████████████████████████████████| 439/439 [00:01<00:00, 263.50it/s, loss=0.05]\n"
     ]
    },
    {
     "name": "stdout",
     "output_type": "stream",
     "text": [
      "Epoch [185/1000]: Train loss: 0.0633, Valid loss: 0.0618\n",
      "Saving model with loss 0.062...\n"
     ]
    },
    {
     "name": "stderr",
     "output_type": "stream",
     "text": [
      "Epoch [186/1000]: 100%|███████████████████████████████████████████| 439/439 [00:01<00:00, 237.46it/s, loss=0.0919]\n"
     ]
    },
    {
     "name": "stdout",
     "output_type": "stream",
     "text": [
      "Epoch [186/1000]: Train loss: 0.0630, Valid loss: 0.0614\n",
      "Saving model with loss 0.061...\n"
     ]
    },
    {
     "name": "stderr",
     "output_type": "stream",
     "text": [
      "Epoch [187/1000]: 100%|███████████████████████████████████████████| 439/439 [00:01<00:00, 288.77it/s, loss=0.0732]\n"
     ]
    },
    {
     "name": "stdout",
     "output_type": "stream",
     "text": [
      "Epoch [187/1000]: Train loss: 0.0627, Valid loss: 0.0611\n",
      "Saving model with loss 0.061...\n"
     ]
    },
    {
     "name": "stderr",
     "output_type": "stream",
     "text": [
      "Epoch [188/1000]: 100%|███████████████████████████████████████████| 439/439 [00:01<00:00, 247.17it/s, loss=0.0607]\n"
     ]
    },
    {
     "name": "stdout",
     "output_type": "stream",
     "text": [
      "Epoch [188/1000]: Train loss: 0.0623, Valid loss: 0.0607\n",
      "Saving model with loss 0.061...\n"
     ]
    },
    {
     "name": "stderr",
     "output_type": "stream",
     "text": [
      "Epoch [189/1000]: 100%|███████████████████████████████████████████| 439/439 [00:01<00:00, 275.09it/s, loss=0.0453]\n"
     ]
    },
    {
     "name": "stdout",
     "output_type": "stream",
     "text": [
      "Epoch [189/1000]: Train loss: 0.0620, Valid loss: 0.0605\n",
      "Saving model with loss 0.060...\n"
     ]
    },
    {
     "name": "stderr",
     "output_type": "stream",
     "text": [
      "Epoch [190/1000]: 100%|███████████████████████████████████████████| 439/439 [00:01<00:00, 247.46it/s, loss=0.0718]\n"
     ]
    },
    {
     "name": "stdout",
     "output_type": "stream",
     "text": [
      "Epoch [190/1000]: Train loss: 0.0617, Valid loss: 0.0603\n",
      "Saving model with loss 0.060...\n"
     ]
    },
    {
     "name": "stderr",
     "output_type": "stream",
     "text": [
      "Epoch [191/1000]: 100%|███████████████████████████████████████████| 439/439 [00:01<00:00, 291.56it/s, loss=0.0532]\n"
     ]
    },
    {
     "name": "stdout",
     "output_type": "stream",
     "text": [
      "Epoch [191/1000]: Train loss: 0.0614, Valid loss: 0.0600\n",
      "Saving model with loss 0.060...\n"
     ]
    },
    {
     "name": "stderr",
     "output_type": "stream",
     "text": [
      "Epoch [192/1000]: 100%|███████████████████████████████████████████| 439/439 [00:01<00:00, 269.20it/s, loss=0.0432]\n"
     ]
    },
    {
     "name": "stdout",
     "output_type": "stream",
     "text": [
      "Epoch [192/1000]: Train loss: 0.0611, Valid loss: 0.0598\n",
      "Saving model with loss 0.060...\n"
     ]
    },
    {
     "name": "stderr",
     "output_type": "stream",
     "text": [
      "Epoch [193/1000]: 100%|███████████████████████████████████████████| 439/439 [00:01<00:00, 287.94it/s, loss=0.0538]\n"
     ]
    },
    {
     "name": "stdout",
     "output_type": "stream",
     "text": [
      "Epoch [193/1000]: Train loss: 0.0608, Valid loss: 0.0593\n",
      "Saving model with loss 0.059...\n"
     ]
    },
    {
     "name": "stderr",
     "output_type": "stream",
     "text": [
      "Epoch [194/1000]: 100%|█████████████████████████████████████████████| 439/439 [00:01<00:00, 239.59it/s, loss=0.06]\n"
     ]
    },
    {
     "name": "stdout",
     "output_type": "stream",
     "text": [
      "Epoch [194/1000]: Train loss: 0.0604, Valid loss: 0.0589\n",
      "Saving model with loss 0.059...\n"
     ]
    },
    {
     "name": "stderr",
     "output_type": "stream",
     "text": [
      "Epoch [195/1000]: 100%|███████████████████████████████████████████| 439/439 [00:01<00:00, 277.26it/s, loss=0.0677]\n"
     ]
    },
    {
     "name": "stdout",
     "output_type": "stream",
     "text": [
      "Epoch [195/1000]: Train loss: 0.0601, Valid loss: 0.0588\n",
      "Saving model with loss 0.059...\n"
     ]
    },
    {
     "name": "stderr",
     "output_type": "stream",
     "text": [
      "Epoch [196/1000]: 100%|███████████████████████████████████████████| 439/439 [00:01<00:00, 284.72it/s, loss=0.0789]\n"
     ]
    },
    {
     "name": "stdout",
     "output_type": "stream",
     "text": [
      "Epoch [196/1000]: Train loss: 0.0598, Valid loss: 0.0583\n",
      "Saving model with loss 0.058...\n"
     ]
    },
    {
     "name": "stderr",
     "output_type": "stream",
     "text": [
      "Epoch [197/1000]: 100%|█████████████████████████████████████████████| 439/439 [00:01<00:00, 251.88it/s, loss=0.04]\n"
     ]
    },
    {
     "name": "stdout",
     "output_type": "stream",
     "text": [
      "Epoch [197/1000]: Train loss: 0.0595, Valid loss: 0.0580\n",
      "Saving model with loss 0.058...\n"
     ]
    },
    {
     "name": "stderr",
     "output_type": "stream",
     "text": [
      "Epoch [198/1000]: 100%|███████████████████████████████████████████| 439/439 [00:01<00:00, 276.16it/s, loss=0.0626]\n"
     ]
    },
    {
     "name": "stdout",
     "output_type": "stream",
     "text": [
      "Epoch [198/1000]: Train loss: 0.0592, Valid loss: 0.0577\n",
      "Saving model with loss 0.058...\n"
     ]
    },
    {
     "name": "stderr",
     "output_type": "stream",
     "text": [
      "Epoch [199/1000]: 100%|███████████████████████████████████████████| 439/439 [00:01<00:00, 242.15it/s, loss=0.0692]\n"
     ]
    },
    {
     "name": "stdout",
     "output_type": "stream",
     "text": [
      "Epoch [199/1000]: Train loss: 0.0589, Valid loss: 0.0574\n",
      "Saving model with loss 0.057...\n"
     ]
    },
    {
     "name": "stderr",
     "output_type": "stream",
     "text": [
      "Epoch [200/1000]: 100%|███████████████████████████████████████████| 439/439 [00:01<00:00, 279.99it/s, loss=0.0413]\n"
     ]
    },
    {
     "name": "stdout",
     "output_type": "stream",
     "text": [
      "Epoch [200/1000]: Train loss: 0.0585, Valid loss: 0.0572\n",
      "Saving model with loss 0.057...\n"
     ]
    },
    {
     "name": "stderr",
     "output_type": "stream",
     "text": [
      "Epoch [201/1000]: 100%|███████████████████████████████████████████| 439/439 [00:01<00:00, 261.28it/s, loss=0.0603]\n"
     ]
    },
    {
     "name": "stdout",
     "output_type": "stream",
     "text": [
      "Epoch [201/1000]: Train loss: 0.0582, Valid loss: 0.0568\n",
      "Saving model with loss 0.057...\n"
     ]
    },
    {
     "name": "stderr",
     "output_type": "stream",
     "text": [
      "Epoch [202/1000]: 100%|███████████████████████████████████████████| 439/439 [00:01<00:00, 272.68it/s, loss=0.0513]\n"
     ]
    },
    {
     "name": "stdout",
     "output_type": "stream",
     "text": [
      "Epoch [202/1000]: Train loss: 0.0579, Valid loss: 0.0565\n",
      "Saving model with loss 0.056...\n"
     ]
    },
    {
     "name": "stderr",
     "output_type": "stream",
     "text": [
      "Epoch [203/1000]: 100%|███████████████████████████████████████████| 439/439 [00:01<00:00, 255.39it/s, loss=0.0787]\n"
     ]
    },
    {
     "name": "stdout",
     "output_type": "stream",
     "text": [
      "Epoch [203/1000]: Train loss: 0.0576, Valid loss: 0.0561\n",
      "Saving model with loss 0.056...\n"
     ]
    },
    {
     "name": "stderr",
     "output_type": "stream",
     "text": [
      "Epoch [204/1000]: 100%|███████████████████████████████████████████| 439/439 [00:01<00:00, 274.90it/s, loss=0.0715]\n"
     ]
    },
    {
     "name": "stdout",
     "output_type": "stream",
     "text": [
      "Epoch [204/1000]: Train loss: 0.0573, Valid loss: 0.0558\n",
      "Saving model with loss 0.056...\n"
     ]
    },
    {
     "name": "stderr",
     "output_type": "stream",
     "text": [
      "Epoch [205/1000]: 100%|███████████████████████████████████████████| 439/439 [00:01<00:00, 255.50it/s, loss=0.0376]\n"
     ]
    },
    {
     "name": "stdout",
     "output_type": "stream",
     "text": [
      "Epoch [205/1000]: Train loss: 0.0570, Valid loss: 0.0556\n",
      "Saving model with loss 0.056...\n"
     ]
    },
    {
     "name": "stderr",
     "output_type": "stream",
     "text": [
      "Epoch [206/1000]: 100%|███████████████████████████████████████████| 439/439 [00:01<00:00, 280.39it/s, loss=0.0615]\n"
     ]
    },
    {
     "name": "stdout",
     "output_type": "stream",
     "text": [
      "Epoch [206/1000]: Train loss: 0.0567, Valid loss: 0.0553\n",
      "Saving model with loss 0.055...\n"
     ]
    },
    {
     "name": "stderr",
     "output_type": "stream",
     "text": [
      "Epoch [207/1000]: 100%|███████████████████████████████████████████| 439/439 [00:01<00:00, 237.98it/s, loss=0.0369]\n"
     ]
    },
    {
     "name": "stdout",
     "output_type": "stream",
     "text": [
      "Epoch [207/1000]: Train loss: 0.0564, Valid loss: 0.0550\n",
      "Saving model with loss 0.055...\n"
     ]
    },
    {
     "name": "stderr",
     "output_type": "stream",
     "text": [
      "Epoch [208/1000]: 100%|███████████████████████████████████████████| 439/439 [00:01<00:00, 276.56it/s, loss=0.0461]\n"
     ]
    },
    {
     "name": "stdout",
     "output_type": "stream",
     "text": [
      "Epoch [208/1000]: Train loss: 0.0561, Valid loss: 0.0547\n",
      "Saving model with loss 0.055...\n"
     ]
    },
    {
     "name": "stderr",
     "output_type": "stream",
     "text": [
      "Epoch [209/1000]: 100%|███████████████████████████████████████████| 439/439 [00:01<00:00, 283.07it/s, loss=0.0549]\n"
     ]
    },
    {
     "name": "stdout",
     "output_type": "stream",
     "text": [
      "Epoch [209/1000]: Train loss: 0.0558, Valid loss: 0.0543\n",
      "Saving model with loss 0.054...\n"
     ]
    },
    {
     "name": "stderr",
     "output_type": "stream",
     "text": [
      "Epoch [210/1000]: 100%|███████████████████████████████████████████| 439/439 [00:01<00:00, 280.73it/s, loss=0.0586]\n"
     ]
    },
    {
     "name": "stdout",
     "output_type": "stream",
     "text": [
      "Epoch [210/1000]: Train loss: 0.0555, Valid loss: 0.0540\n",
      "Saving model with loss 0.054...\n"
     ]
    },
    {
     "name": "stderr",
     "output_type": "stream",
     "text": [
      "Epoch [211/1000]: 100%|███████████████████████████████████████████| 439/439 [00:01<00:00, 252.20it/s, loss=0.0531]\n"
     ]
    },
    {
     "name": "stdout",
     "output_type": "stream",
     "text": [
      "Epoch [211/1000]: Train loss: 0.0552, Valid loss: 0.0537\n",
      "Saving model with loss 0.054...\n"
     ]
    },
    {
     "name": "stderr",
     "output_type": "stream",
     "text": [
      "Epoch [212/1000]: 100%|███████████████████████████████████████████| 439/439 [00:01<00:00, 263.99it/s, loss=0.0554]\n"
     ]
    },
    {
     "name": "stdout",
     "output_type": "stream",
     "text": [
      "Epoch [212/1000]: Train loss: 0.0549, Valid loss: 0.0534\n",
      "Saving model with loss 0.053...\n"
     ]
    },
    {
     "name": "stderr",
     "output_type": "stream",
     "text": [
      "Epoch [213/1000]: 100%|███████████████████████████████████████████| 439/439 [00:01<00:00, 285.67it/s, loss=0.0446]\n"
     ]
    },
    {
     "name": "stdout",
     "output_type": "stream",
     "text": [
      "Epoch [213/1000]: Train loss: 0.0546, Valid loss: 0.0533\n",
      "Saving model with loss 0.053...\n"
     ]
    },
    {
     "name": "stderr",
     "output_type": "stream",
     "text": [
      "Epoch [214/1000]: 100%|███████████████████████████████████████████| 439/439 [00:01<00:00, 270.94it/s, loss=0.0385]\n"
     ]
    },
    {
     "name": "stdout",
     "output_type": "stream",
     "text": [
      "Epoch [214/1000]: Train loss: 0.0543, Valid loss: 0.0530\n",
      "Saving model with loss 0.053...\n"
     ]
    },
    {
     "name": "stderr",
     "output_type": "stream",
     "text": [
      "Epoch [215/1000]: 100%|███████████████████████████████████████████| 439/439 [00:01<00:00, 278.11it/s, loss=0.0658]\n"
     ]
    },
    {
     "name": "stdout",
     "output_type": "stream",
     "text": [
      "Epoch [215/1000]: Train loss: 0.0540, Valid loss: 0.0527\n",
      "Saving model with loss 0.053...\n"
     ]
    },
    {
     "name": "stderr",
     "output_type": "stream",
     "text": [
      "Epoch [216/1000]: 100%|███████████████████████████████████████████| 439/439 [00:01<00:00, 261.92it/s, loss=0.0503]\n"
     ]
    },
    {
     "name": "stdout",
     "output_type": "stream",
     "text": [
      "Epoch [216/1000]: Train loss: 0.0537, Valid loss: 0.0524\n",
      "Saving model with loss 0.052...\n"
     ]
    },
    {
     "name": "stderr",
     "output_type": "stream",
     "text": [
      "Epoch [217/1000]: 100%|███████████████████████████████████████████| 439/439 [00:01<00:00, 269.24it/s, loss=0.0464]\n"
     ]
    },
    {
     "name": "stdout",
     "output_type": "stream",
     "text": [
      "Epoch [217/1000]: Train loss: 0.0534, Valid loss: 0.0520\n",
      "Saving model with loss 0.052...\n"
     ]
    },
    {
     "name": "stderr",
     "output_type": "stream",
     "text": [
      "Epoch [218/1000]: 100%|███████████████████████████████████████████| 439/439 [00:01<00:00, 245.97it/s, loss=0.0473]\n"
     ]
    },
    {
     "name": "stdout",
     "output_type": "stream",
     "text": [
      "Epoch [218/1000]: Train loss: 0.0531, Valid loss: 0.0517\n",
      "Saving model with loss 0.052...\n"
     ]
    },
    {
     "name": "stderr",
     "output_type": "stream",
     "text": [
      "Epoch [219/1000]: 100%|███████████████████████████████████████████| 439/439 [00:01<00:00, 272.82it/s, loss=0.0537]\n"
     ]
    },
    {
     "name": "stdout",
     "output_type": "stream",
     "text": [
      "Epoch [219/1000]: Train loss: 0.0528, Valid loss: 0.0515\n",
      "Saving model with loss 0.051...\n"
     ]
    },
    {
     "name": "stderr",
     "output_type": "stream",
     "text": [
      "Epoch [220/1000]: 100%|███████████████████████████████████████████| 439/439 [00:01<00:00, 259.32it/s, loss=0.0495]\n"
     ]
    },
    {
     "name": "stdout",
     "output_type": "stream",
     "text": [
      "Epoch [220/1000]: Train loss: 0.0526, Valid loss: 0.0512\n",
      "Saving model with loss 0.051...\n"
     ]
    },
    {
     "name": "stderr",
     "output_type": "stream",
     "text": [
      "Epoch [221/1000]: 100%|███████████████████████████████████████████| 439/439 [00:01<00:00, 281.73it/s, loss=0.0738]\n"
     ]
    },
    {
     "name": "stdout",
     "output_type": "stream",
     "text": [
      "Epoch [221/1000]: Train loss: 0.0523, Valid loss: 0.0510\n",
      "Saving model with loss 0.051...\n"
     ]
    },
    {
     "name": "stderr",
     "output_type": "stream",
     "text": [
      "Epoch [222/1000]: 100%|███████████████████████████████████████████| 439/439 [00:01<00:00, 264.68it/s, loss=0.0816]\n"
     ]
    },
    {
     "name": "stdout",
     "output_type": "stream",
     "text": [
      "Epoch [222/1000]: Train loss: 0.0520, Valid loss: 0.0506\n",
      "Saving model with loss 0.051...\n"
     ]
    },
    {
     "name": "stderr",
     "output_type": "stream",
     "text": [
      "Epoch [223/1000]: 100%|███████████████████████████████████████████| 439/439 [00:01<00:00, 285.64it/s, loss=0.0397]\n"
     ]
    },
    {
     "name": "stdout",
     "output_type": "stream",
     "text": [
      "Epoch [223/1000]: Train loss: 0.0517, Valid loss: 0.0505\n",
      "Saving model with loss 0.050...\n"
     ]
    },
    {
     "name": "stderr",
     "output_type": "stream",
     "text": [
      "Epoch [224/1000]: 100%|███████████████████████████████████████████| 439/439 [00:01<00:00, 289.84it/s, loss=0.0377]\n"
     ]
    },
    {
     "name": "stdout",
     "output_type": "stream",
     "text": [
      "Epoch [224/1000]: Train loss: 0.0514, Valid loss: 0.0502\n",
      "Saving model with loss 0.050...\n"
     ]
    },
    {
     "name": "stderr",
     "output_type": "stream",
     "text": [
      "Epoch [225/1000]: 100%|███████████████████████████████████████████| 439/439 [00:01<00:00, 264.16it/s, loss=0.0415]\n"
     ]
    },
    {
     "name": "stdout",
     "output_type": "stream",
     "text": [
      "Epoch [225/1000]: Train loss: 0.0512, Valid loss: 0.0500\n",
      "Saving model with loss 0.050...\n"
     ]
    },
    {
     "name": "stderr",
     "output_type": "stream",
     "text": [
      "Epoch [226/1000]: 100%|███████████████████████████████████████████| 439/439 [00:01<00:00, 288.98it/s, loss=0.0366]\n"
     ]
    },
    {
     "name": "stdout",
     "output_type": "stream",
     "text": [
      "Epoch [226/1000]: Train loss: 0.0509, Valid loss: 0.0496\n",
      "Saving model with loss 0.050...\n"
     ]
    },
    {
     "name": "stderr",
     "output_type": "stream",
     "text": [
      "Epoch [227/1000]: 100%|███████████████████████████████████████████| 439/439 [00:01<00:00, 270.12it/s, loss=0.0536]\n"
     ]
    },
    {
     "name": "stdout",
     "output_type": "stream",
     "text": [
      "Epoch [227/1000]: Train loss: 0.0506, Valid loss: 0.0493\n",
      "Saving model with loss 0.049...\n"
     ]
    },
    {
     "name": "stderr",
     "output_type": "stream",
     "text": [
      "Epoch [228/1000]: 100%|███████████████████████████████████████████| 439/439 [00:01<00:00, 263.37it/s, loss=0.0396]\n"
     ]
    },
    {
     "name": "stdout",
     "output_type": "stream",
     "text": [
      "Epoch [228/1000]: Train loss: 0.0504, Valid loss: 0.0490\n",
      "Saving model with loss 0.049...\n"
     ]
    },
    {
     "name": "stderr",
     "output_type": "stream",
     "text": [
      "Epoch [229/1000]: 100%|███████████████████████████████████████████| 439/439 [00:01<00:00, 264.42it/s, loss=0.0532]\n"
     ]
    },
    {
     "name": "stdout",
     "output_type": "stream",
     "text": [
      "Epoch [229/1000]: Train loss: 0.0501, Valid loss: 0.0489\n",
      "Saving model with loss 0.049...\n"
     ]
    },
    {
     "name": "stderr",
     "output_type": "stream",
     "text": [
      "Epoch [230/1000]: 100%|███████████████████████████████████████████| 439/439 [00:01<00:00, 291.24it/s, loss=0.0468]\n"
     ]
    },
    {
     "name": "stdout",
     "output_type": "stream",
     "text": [
      "Epoch [230/1000]: Train loss: 0.0499, Valid loss: 0.0486\n",
      "Saving model with loss 0.049...\n"
     ]
    },
    {
     "name": "stderr",
     "output_type": "stream",
     "text": [
      "Epoch [231/1000]: 100%|███████████████████████████████████████████| 439/439 [00:01<00:00, 268.10it/s, loss=0.0402]\n"
     ]
    },
    {
     "name": "stdout",
     "output_type": "stream",
     "text": [
      "Epoch [231/1000]: Train loss: 0.0496, Valid loss: 0.0484\n",
      "Saving model with loss 0.048...\n"
     ]
    },
    {
     "name": "stderr",
     "output_type": "stream",
     "text": [
      "Epoch [232/1000]: 100%|███████████████████████████████████████████| 439/439 [00:01<00:00, 279.73it/s, loss=0.0405]\n"
     ]
    },
    {
     "name": "stdout",
     "output_type": "stream",
     "text": [
      "Epoch [232/1000]: Train loss: 0.0493, Valid loss: 0.0481\n",
      "Saving model with loss 0.048...\n"
     ]
    },
    {
     "name": "stderr",
     "output_type": "stream",
     "text": [
      "Epoch [233/1000]: 100%|███████████████████████████████████████████| 439/439 [00:01<00:00, 265.16it/s, loss=0.0488]\n"
     ]
    },
    {
     "name": "stdout",
     "output_type": "stream",
     "text": [
      "Epoch [233/1000]: Train loss: 0.0491, Valid loss: 0.0480\n",
      "Saving model with loss 0.048...\n"
     ]
    },
    {
     "name": "stderr",
     "output_type": "stream",
     "text": [
      "Epoch [234/1000]: 100%|████████████████████████████████████████████| 439/439 [00:01<00:00, 284.60it/s, loss=0.039]\n"
     ]
    },
    {
     "name": "stdout",
     "output_type": "stream",
     "text": [
      "Epoch [234/1000]: Train loss: 0.0488, Valid loss: 0.0477\n",
      "Saving model with loss 0.048...\n"
     ]
    },
    {
     "name": "stderr",
     "output_type": "stream",
     "text": [
      "Epoch [235/1000]: 100%|███████████████████████████████████████████| 439/439 [00:01<00:00, 258.33it/s, loss=0.0514]\n"
     ]
    },
    {
     "name": "stdout",
     "output_type": "stream",
     "text": [
      "Epoch [235/1000]: Train loss: 0.0486, Valid loss: 0.0475\n",
      "Saving model with loss 0.048...\n"
     ]
    },
    {
     "name": "stderr",
     "output_type": "stream",
     "text": [
      "Epoch [236/1000]: 100%|███████████████████████████████████████████| 439/439 [00:01<00:00, 270.74it/s, loss=0.0396]\n"
     ]
    },
    {
     "name": "stdout",
     "output_type": "stream",
     "text": [
      "Epoch [236/1000]: Train loss: 0.0483, Valid loss: 0.0472\n",
      "Saving model with loss 0.047...\n"
     ]
    },
    {
     "name": "stderr",
     "output_type": "stream",
     "text": [
      "Epoch [237/1000]: 100%|███████████████████████████████████████████| 439/439 [00:01<00:00, 279.62it/s, loss=0.0376]\n"
     ]
    },
    {
     "name": "stdout",
     "output_type": "stream",
     "text": [
      "Epoch [237/1000]: Train loss: 0.0481, Valid loss: 0.0469\n",
      "Saving model with loss 0.047...\n"
     ]
    },
    {
     "name": "stderr",
     "output_type": "stream",
     "text": [
      "Epoch [238/1000]: 100%|███████████████████████████████████████████| 439/439 [00:01<00:00, 262.03it/s, loss=0.0385]\n"
     ]
    },
    {
     "name": "stdout",
     "output_type": "stream",
     "text": [
      "Epoch [238/1000]: Train loss: 0.0479, Valid loss: 0.0467\n",
      "Saving model with loss 0.047...\n"
     ]
    },
    {
     "name": "stderr",
     "output_type": "stream",
     "text": [
      "Epoch [239/1000]: 100%|███████████████████████████████████████████| 439/439 [00:01<00:00, 258.34it/s, loss=0.0811]\n"
     ]
    },
    {
     "name": "stdout",
     "output_type": "stream",
     "text": [
      "Epoch [239/1000]: Train loss: 0.0477, Valid loss: 0.0465\n",
      "Saving model with loss 0.047...\n"
     ]
    },
    {
     "name": "stderr",
     "output_type": "stream",
     "text": [
      "Epoch [240/1000]: 100%|███████████████████████████████████████████| 439/439 [00:01<00:00, 251.05it/s, loss=0.0337]\n"
     ]
    },
    {
     "name": "stdout",
     "output_type": "stream",
     "text": [
      "Epoch [240/1000]: Train loss: 0.0474, Valid loss: 0.0463\n",
      "Saving model with loss 0.046...\n"
     ]
    },
    {
     "name": "stderr",
     "output_type": "stream",
     "text": [
      "Epoch [241/1000]: 100%|███████████████████████████████████████████| 439/439 [00:01<00:00, 277.98it/s, loss=0.0518]\n"
     ]
    },
    {
     "name": "stdout",
     "output_type": "stream",
     "text": [
      "Epoch [241/1000]: Train loss: 0.0472, Valid loss: 0.0460\n",
      "Saving model with loss 0.046...\n"
     ]
    },
    {
     "name": "stderr",
     "output_type": "stream",
     "text": [
      "Epoch [242/1000]: 100%|███████████████████████████████████████████| 439/439 [00:01<00:00, 265.84it/s, loss=0.0476]\n"
     ]
    },
    {
     "name": "stdout",
     "output_type": "stream",
     "text": [
      "Epoch [242/1000]: Train loss: 0.0469, Valid loss: 0.0459\n",
      "Saving model with loss 0.046...\n"
     ]
    },
    {
     "name": "stderr",
     "output_type": "stream",
     "text": [
      "Epoch [243/1000]: 100%|███████████████████████████████████████████| 439/439 [00:01<00:00, 284.35it/s, loss=0.0504]\n"
     ]
    },
    {
     "name": "stdout",
     "output_type": "stream",
     "text": [
      "Epoch [243/1000]: Train loss: 0.0467, Valid loss: 0.0456\n",
      "Saving model with loss 0.046...\n"
     ]
    },
    {
     "name": "stderr",
     "output_type": "stream",
     "text": [
      "Epoch [244/1000]: 100%|███████████████████████████████████████████| 439/439 [00:01<00:00, 261.08it/s, loss=0.0449]\n"
     ]
    },
    {
     "name": "stdout",
     "output_type": "stream",
     "text": [
      "Epoch [244/1000]: Train loss: 0.0465, Valid loss: 0.0454\n",
      "Saving model with loss 0.045...\n"
     ]
    },
    {
     "name": "stderr",
     "output_type": "stream",
     "text": [
      "Epoch [245/1000]: 100%|███████████████████████████████████████████| 439/439 [00:01<00:00, 266.10it/s, loss=0.0385]\n"
     ]
    },
    {
     "name": "stdout",
     "output_type": "stream",
     "text": [
      "Epoch [245/1000]: Train loss: 0.0463, Valid loss: 0.0451\n",
      "Saving model with loss 0.045...\n"
     ]
    },
    {
     "name": "stderr",
     "output_type": "stream",
     "text": [
      "Epoch [246/1000]: 100%|███████████████████████████████████████████| 439/439 [00:01<00:00, 275.89it/s, loss=0.0471]\n"
     ]
    },
    {
     "name": "stdout",
     "output_type": "stream",
     "text": [
      "Epoch [246/1000]: Train loss: 0.0461, Valid loss: 0.0450\n",
      "Saving model with loss 0.045...\n"
     ]
    },
    {
     "name": "stderr",
     "output_type": "stream",
     "text": [
      "Epoch [247/1000]: 100%|███████████████████████████████████████████| 439/439 [00:01<00:00, 288.56it/s, loss=0.0455]\n"
     ]
    },
    {
     "name": "stdout",
     "output_type": "stream",
     "text": [
      "Epoch [247/1000]: Train loss: 0.0459, Valid loss: 0.0448\n",
      "Saving model with loss 0.045...\n"
     ]
    },
    {
     "name": "stderr",
     "output_type": "stream",
     "text": [
      "Epoch [248/1000]: 100%|███████████████████████████████████████████| 439/439 [00:01<00:00, 272.05it/s, loss=0.0297]\n"
     ]
    },
    {
     "name": "stdout",
     "output_type": "stream",
     "text": [
      "Epoch [248/1000]: Train loss: 0.0457, Valid loss: 0.0446\n",
      "Saving model with loss 0.045...\n"
     ]
    },
    {
     "name": "stderr",
     "output_type": "stream",
     "text": [
      "Epoch [249/1000]: 100%|████████████████████████████████████████████| 439/439 [00:01<00:00, 294.28it/s, loss=0.051]\n"
     ]
    },
    {
     "name": "stdout",
     "output_type": "stream",
     "text": [
      "Epoch [249/1000]: Train loss: 0.0455, Valid loss: 0.0444\n",
      "Saving model with loss 0.044...\n"
     ]
    },
    {
     "name": "stderr",
     "output_type": "stream",
     "text": [
      "Epoch [250/1000]: 100%|███████████████████████████████████████████| 439/439 [00:01<00:00, 263.97it/s, loss=0.0516]\n"
     ]
    },
    {
     "name": "stdout",
     "output_type": "stream",
     "text": [
      "Epoch [250/1000]: Train loss: 0.0453, Valid loss: 0.0443\n",
      "Saving model with loss 0.044...\n"
     ]
    },
    {
     "name": "stderr",
     "output_type": "stream",
     "text": [
      "Epoch [251/1000]: 100%|███████████████████████████████████████████| 439/439 [00:01<00:00, 278.88it/s, loss=0.0465]\n"
     ]
    },
    {
     "name": "stdout",
     "output_type": "stream",
     "text": [
      "Epoch [251/1000]: Train loss: 0.0451, Valid loss: 0.0441\n",
      "Saving model with loss 0.044...\n"
     ]
    },
    {
     "name": "stderr",
     "output_type": "stream",
     "text": [
      "Epoch [252/1000]: 100%|███████████████████████████████████████████| 439/439 [00:01<00:00, 297.96it/s, loss=0.0518]\n"
     ]
    },
    {
     "name": "stdout",
     "output_type": "stream",
     "text": [
      "Epoch [252/1000]: Train loss: 0.0449, Valid loss: 0.0438\n",
      "Saving model with loss 0.044...\n"
     ]
    },
    {
     "name": "stderr",
     "output_type": "stream",
     "text": [
      "Epoch [253/1000]: 100%|███████████████████████████████████████████| 439/439 [00:01<00:00, 263.68it/s, loss=0.0406]\n"
     ]
    },
    {
     "name": "stdout",
     "output_type": "stream",
     "text": [
      "Epoch [253/1000]: Train loss: 0.0447, Valid loss: 0.0437\n",
      "Saving model with loss 0.044...\n"
     ]
    },
    {
     "name": "stderr",
     "output_type": "stream",
     "text": [
      "Epoch [254/1000]: 100%|█████████████████████████████████████████████| 439/439 [00:01<00:00, 282.08it/s, loss=0.04]\n"
     ]
    },
    {
     "name": "stdout",
     "output_type": "stream",
     "text": [
      "Epoch [254/1000]: Train loss: 0.0445, Valid loss: 0.0435\n",
      "Saving model with loss 0.043...\n"
     ]
    },
    {
     "name": "stderr",
     "output_type": "stream",
     "text": [
      "Epoch [255/1000]: 100%|███████████████████████████████████████████| 439/439 [00:01<00:00, 279.88it/s, loss=0.0511]\n"
     ]
    },
    {
     "name": "stdout",
     "output_type": "stream",
     "text": [
      "Epoch [255/1000]: Train loss: 0.0443, Valid loss: 0.0432\n",
      "Saving model with loss 0.043...\n"
     ]
    },
    {
     "name": "stderr",
     "output_type": "stream",
     "text": [
      "Epoch [256/1000]: 100%|███████████████████████████████████████████| 439/439 [00:01<00:00, 292.77it/s, loss=0.0482]\n"
     ]
    },
    {
     "name": "stdout",
     "output_type": "stream",
     "text": [
      "Epoch [256/1000]: Train loss: 0.0442, Valid loss: 0.0432\n",
      "Saving model with loss 0.043...\n"
     ]
    },
    {
     "name": "stderr",
     "output_type": "stream",
     "text": [
      "Epoch [257/1000]: 100%|███████████████████████████████████████████| 439/439 [00:01<00:00, 264.68it/s, loss=0.0517]\n"
     ]
    },
    {
     "name": "stdout",
     "output_type": "stream",
     "text": [
      "Epoch [257/1000]: Train loss: 0.0440, Valid loss: 0.0430\n",
      "Saving model with loss 0.043...\n"
     ]
    },
    {
     "name": "stderr",
     "output_type": "stream",
     "text": [
      "Epoch [258/1000]: 100%|████████████████████████████████████████████| 439/439 [00:01<00:00, 277.99it/s, loss=0.045]\n"
     ]
    },
    {
     "name": "stdout",
     "output_type": "stream",
     "text": [
      "Epoch [258/1000]: Train loss: 0.0438, Valid loss: 0.0429\n",
      "Saving model with loss 0.043...\n"
     ]
    },
    {
     "name": "stderr",
     "output_type": "stream",
     "text": [
      "Epoch [259/1000]: 100%|███████████████████████████████████████████| 439/439 [00:01<00:00, 257.60it/s, loss=0.0381]\n"
     ]
    },
    {
     "name": "stdout",
     "output_type": "stream",
     "text": [
      "Epoch [259/1000]: Train loss: 0.0436, Valid loss: 0.0427\n",
      "Saving model with loss 0.043...\n"
     ]
    },
    {
     "name": "stderr",
     "output_type": "stream",
     "text": [
      "Epoch [260/1000]: 100%|███████████████████████████████████████████| 439/439 [00:01<00:00, 286.02it/s, loss=0.0544]\n"
     ]
    },
    {
     "name": "stdout",
     "output_type": "stream",
     "text": [
      "Epoch [260/1000]: Train loss: 0.0435, Valid loss: 0.0425\n",
      "Saving model with loss 0.042...\n"
     ]
    },
    {
     "name": "stderr",
     "output_type": "stream",
     "text": [
      "Epoch [261/1000]: 100%|████████████████████████████████████████████| 439/439 [00:01<00:00, 257.33it/s, loss=0.053]\n"
     ]
    },
    {
     "name": "stdout",
     "output_type": "stream",
     "text": [
      "Epoch [261/1000]: Train loss: 0.0433, Valid loss: 0.0423\n",
      "Saving model with loss 0.042...\n"
     ]
    },
    {
     "name": "stderr",
     "output_type": "stream",
     "text": [
      "Epoch [262/1000]: 100%|███████████████████████████████████████████| 439/439 [00:01<00:00, 238.72it/s, loss=0.0389]\n"
     ]
    },
    {
     "name": "stdout",
     "output_type": "stream",
     "text": [
      "Epoch [262/1000]: Train loss: 0.0432, Valid loss: 0.0422\n",
      "Saving model with loss 0.042...\n"
     ]
    },
    {
     "name": "stderr",
     "output_type": "stream",
     "text": [
      "Epoch [263/1000]: 100%|███████████████████████████████████████████| 439/439 [00:01<00:00, 268.63it/s, loss=0.0339]\n"
     ]
    },
    {
     "name": "stdout",
     "output_type": "stream",
     "text": [
      "Epoch [263/1000]: Train loss: 0.0430, Valid loss: 0.0420\n",
      "Saving model with loss 0.042...\n"
     ]
    },
    {
     "name": "stderr",
     "output_type": "stream",
     "text": [
      "Epoch [264/1000]: 100%|███████████████████████████████████████████| 439/439 [00:01<00:00, 294.75it/s, loss=0.0422]\n"
     ]
    },
    {
     "name": "stdout",
     "output_type": "stream",
     "text": [
      "Epoch [264/1000]: Train loss: 0.0428, Valid loss: 0.0418\n",
      "Saving model with loss 0.042...\n"
     ]
    },
    {
     "name": "stderr",
     "output_type": "stream",
     "text": [
      "Epoch [265/1000]: 100%|███████████████████████████████████████████| 439/439 [00:01<00:00, 296.23it/s, loss=0.0349]\n"
     ]
    },
    {
     "name": "stdout",
     "output_type": "stream",
     "text": [
      "Epoch [265/1000]: Train loss: 0.0427, Valid loss: 0.0418\n",
      "Saving model with loss 0.042...\n"
     ]
    },
    {
     "name": "stderr",
     "output_type": "stream",
     "text": [
      "Epoch [266/1000]: 100%|████████████████████████████████████████████| 439/439 [00:01<00:00, 295.46it/s, loss=0.039]\n"
     ]
    },
    {
     "name": "stdout",
     "output_type": "stream",
     "text": [
      "Epoch [266/1000]: Train loss: 0.0426, Valid loss: 0.0416\n",
      "Saving model with loss 0.042...\n"
     ]
    },
    {
     "name": "stderr",
     "output_type": "stream",
     "text": [
      "Epoch [267/1000]: 100%|███████████████████████████████████████████| 439/439 [00:01<00:00, 290.09it/s, loss=0.0414]\n"
     ]
    },
    {
     "name": "stdout",
     "output_type": "stream",
     "text": [
      "Epoch [267/1000]: Train loss: 0.0424, Valid loss: 0.0415\n",
      "Saving model with loss 0.042...\n"
     ]
    },
    {
     "name": "stderr",
     "output_type": "stream",
     "text": [
      "Epoch [268/1000]: 100%|███████████████████████████████████████████| 439/439 [00:01<00:00, 266.14it/s, loss=0.0435]\n"
     ]
    },
    {
     "name": "stdout",
     "output_type": "stream",
     "text": [
      "Epoch [268/1000]: Train loss: 0.0423, Valid loss: 0.0414\n",
      "Saving model with loss 0.041...\n"
     ]
    },
    {
     "name": "stderr",
     "output_type": "stream",
     "text": [
      "Epoch [269/1000]: 100%|███████████████████████████████████████████| 439/439 [00:01<00:00, 297.78it/s, loss=0.0494]\n"
     ]
    },
    {
     "name": "stdout",
     "output_type": "stream",
     "text": [
      "Epoch [269/1000]: Train loss: 0.0421, Valid loss: 0.0412\n",
      "Saving model with loss 0.041...\n"
     ]
    },
    {
     "name": "stderr",
     "output_type": "stream",
     "text": [
      "Epoch [270/1000]: 100%|███████████████████████████████████████████| 439/439 [00:01<00:00, 254.88it/s, loss=0.0515]\n"
     ]
    },
    {
     "name": "stdout",
     "output_type": "stream",
     "text": [
      "Epoch [270/1000]: Train loss: 0.0420, Valid loss: 0.0411\n",
      "Saving model with loss 0.041...\n"
     ]
    },
    {
     "name": "stderr",
     "output_type": "stream",
     "text": [
      "Epoch [271/1000]: 100%|███████████████████████████████████████████| 439/439 [00:01<00:00, 279.49it/s, loss=0.0425]\n"
     ]
    },
    {
     "name": "stdout",
     "output_type": "stream",
     "text": [
      "Epoch [271/1000]: Train loss: 0.0419, Valid loss: 0.0410\n",
      "Saving model with loss 0.041...\n"
     ]
    },
    {
     "name": "stderr",
     "output_type": "stream",
     "text": [
      "Epoch [272/1000]: 100%|███████████████████████████████████████████| 439/439 [00:01<00:00, 266.36it/s, loss=0.0387]\n"
     ]
    },
    {
     "name": "stdout",
     "output_type": "stream",
     "text": [
      "Epoch [272/1000]: Train loss: 0.0417, Valid loss: 0.0409\n",
      "Saving model with loss 0.041...\n"
     ]
    },
    {
     "name": "stderr",
     "output_type": "stream",
     "text": [
      "Epoch [273/1000]: 100%|███████████████████████████████████████████| 439/439 [00:01<00:00, 293.74it/s, loss=0.0505]\n"
     ]
    },
    {
     "name": "stdout",
     "output_type": "stream",
     "text": [
      "Epoch [273/1000]: Train loss: 0.0416, Valid loss: 0.0407\n",
      "Saving model with loss 0.041...\n"
     ]
    },
    {
     "name": "stderr",
     "output_type": "stream",
     "text": [
      "Epoch [274/1000]: 100%|███████████████████████████████████████████| 439/439 [00:01<00:00, 273.35it/s, loss=0.0516]\n"
     ]
    },
    {
     "name": "stdout",
     "output_type": "stream",
     "text": [
      "Epoch [274/1000]: Train loss: 0.0415, Valid loss: 0.0406\n",
      "Saving model with loss 0.041...\n"
     ]
    },
    {
     "name": "stderr",
     "output_type": "stream",
     "text": [
      "Epoch [275/1000]: 100%|███████████████████████████████████████████| 439/439 [00:01<00:00, 276.92it/s, loss=0.0376]\n"
     ]
    },
    {
     "name": "stdout",
     "output_type": "stream",
     "text": [
      "Epoch [275/1000]: Train loss: 0.0414, Valid loss: 0.0406\n",
      "Saving model with loss 0.041...\n"
     ]
    },
    {
     "name": "stderr",
     "output_type": "stream",
     "text": [
      "Epoch [276/1000]: 100%|███████████████████████████████████████████| 439/439 [00:01<00:00, 265.52it/s, loss=0.0689]\n"
     ]
    },
    {
     "name": "stdout",
     "output_type": "stream",
     "text": [
      "Epoch [276/1000]: Train loss: 0.0413, Valid loss: 0.0404\n",
      "Saving model with loss 0.040...\n"
     ]
    },
    {
     "name": "stderr",
     "output_type": "stream",
     "text": [
      "Epoch [277/1000]: 100%|███████████████████████████████████████████| 439/439 [00:01<00:00, 285.90it/s, loss=0.0325]\n"
     ]
    },
    {
     "name": "stdout",
     "output_type": "stream",
     "text": [
      "Epoch [277/1000]: Train loss: 0.0411, Valid loss: 0.0403\n",
      "Saving model with loss 0.040...\n"
     ]
    },
    {
     "name": "stderr",
     "output_type": "stream",
     "text": [
      "Epoch [278/1000]: 100%|███████████████████████████████████████████| 439/439 [00:01<00:00, 264.36it/s, loss=0.0466]\n"
     ]
    },
    {
     "name": "stdout",
     "output_type": "stream",
     "text": [
      "Epoch [278/1000]: Train loss: 0.0410, Valid loss: 0.0402\n",
      "Saving model with loss 0.040...\n"
     ]
    },
    {
     "name": "stderr",
     "output_type": "stream",
     "text": [
      "Epoch [279/1000]: 100%|███████████████████████████████████████████| 439/439 [00:01<00:00, 280.83it/s, loss=0.0495]\n"
     ]
    },
    {
     "name": "stdout",
     "output_type": "stream",
     "text": [
      "Epoch [279/1000]: Train loss: 0.0409, Valid loss: 0.0401\n",
      "Saving model with loss 0.040...\n"
     ]
    },
    {
     "name": "stderr",
     "output_type": "stream",
     "text": [
      "Epoch [280/1000]: 100%|███████████████████████████████████████████| 439/439 [00:01<00:00, 261.86it/s, loss=0.0227]\n"
     ]
    },
    {
     "name": "stdout",
     "output_type": "stream",
     "text": [
      "Epoch [280/1000]: Train loss: 0.0408, Valid loss: 0.0400\n",
      "Saving model with loss 0.040...\n"
     ]
    },
    {
     "name": "stderr",
     "output_type": "stream",
     "text": [
      "Epoch [281/1000]: 100%|███████████████████████████████████████████| 439/439 [00:01<00:00, 270.80it/s, loss=0.0466]\n"
     ]
    },
    {
     "name": "stdout",
     "output_type": "stream",
     "text": [
      "Epoch [281/1000]: Train loss: 0.0407, Valid loss: 0.0398\n",
      "Saving model with loss 0.040...\n"
     ]
    },
    {
     "name": "stderr",
     "output_type": "stream",
     "text": [
      "Epoch [282/1000]: 100%|███████████████████████████████████████████| 439/439 [00:01<00:00, 288.27it/s, loss=0.0298]\n"
     ]
    },
    {
     "name": "stdout",
     "output_type": "stream",
     "text": [
      "Epoch [282/1000]: Train loss: 0.0406, Valid loss: 0.0398\n",
      "Saving model with loss 0.040...\n"
     ]
    },
    {
     "name": "stderr",
     "output_type": "stream",
     "text": [
      "Epoch [283/1000]: 100%|███████████████████████████████████████████| 439/439 [00:01<00:00, 268.47it/s, loss=0.0484]\n"
     ]
    },
    {
     "name": "stdout",
     "output_type": "stream",
     "text": [
      "Epoch [283/1000]: Train loss: 0.0405, Valid loss: 0.0397\n",
      "Saving model with loss 0.040...\n"
     ]
    },
    {
     "name": "stderr",
     "output_type": "stream",
     "text": [
      "Epoch [284/1000]: 100%|███████████████████████████████████████████| 439/439 [00:01<00:00, 292.10it/s, loss=0.0447]\n"
     ]
    },
    {
     "name": "stdout",
     "output_type": "stream",
     "text": [
      "Epoch [284/1000]: Train loss: 0.0404, Valid loss: 0.0396\n",
      "Saving model with loss 0.040...\n"
     ]
    },
    {
     "name": "stderr",
     "output_type": "stream",
     "text": [
      "Epoch [285/1000]: 100%|███████████████████████████████████████████| 439/439 [00:01<00:00, 260.60it/s, loss=0.0518]\n"
     ]
    },
    {
     "name": "stdout",
     "output_type": "stream",
     "text": [
      "Epoch [285/1000]: Train loss: 0.0404, Valid loss: 0.0396\n"
     ]
    },
    {
     "name": "stderr",
     "output_type": "stream",
     "text": [
      "Epoch [286/1000]: 100%|███████████████████████████████████████████| 439/439 [00:01<00:00, 240.11it/s, loss=0.0537]\n"
     ]
    },
    {
     "name": "stdout",
     "output_type": "stream",
     "text": [
      "Epoch [286/1000]: Train loss: 0.0403, Valid loss: 0.0395\n",
      "Saving model with loss 0.039...\n"
     ]
    },
    {
     "name": "stderr",
     "output_type": "stream",
     "text": [
      "Epoch [287/1000]: 100%|███████████████████████████████████████████| 439/439 [00:02<00:00, 168.56it/s, loss=0.0564]\n"
     ]
    },
    {
     "name": "stdout",
     "output_type": "stream",
     "text": [
      "Epoch [287/1000]: Train loss: 0.0402, Valid loss: 0.0394\n",
      "Saving model with loss 0.039...\n"
     ]
    },
    {
     "name": "stderr",
     "output_type": "stream",
     "text": [
      "Epoch [288/1000]: 100%|███████████████████████████████████████████| 439/439 [00:03<00:00, 133.81it/s, loss=0.0458]\n"
     ]
    },
    {
     "name": "stdout",
     "output_type": "stream",
     "text": [
      "Epoch [288/1000]: Train loss: 0.0401, Valid loss: 0.0393\n",
      "Saving model with loss 0.039...\n"
     ]
    },
    {
     "name": "stderr",
     "output_type": "stream",
     "text": [
      "Epoch [289/1000]: 100%|███████████████████████████████████████████| 439/439 [00:03<00:00, 145.34it/s, loss=0.0437]\n"
     ]
    },
    {
     "name": "stdout",
     "output_type": "stream",
     "text": [
      "Epoch [289/1000]: Train loss: 0.0400, Valid loss: 0.0392\n",
      "Saving model with loss 0.039...\n"
     ]
    },
    {
     "name": "stderr",
     "output_type": "stream",
     "text": [
      "Epoch [290/1000]: 100%|███████████████████████████████████████████| 439/439 [00:02<00:00, 167.31it/s, loss=0.0358]\n"
     ]
    },
    {
     "name": "stdout",
     "output_type": "stream",
     "text": [
      "Epoch [290/1000]: Train loss: 0.0399, Valid loss: 0.0392\n",
      "Saving model with loss 0.039...\n"
     ]
    },
    {
     "name": "stderr",
     "output_type": "stream",
     "text": [
      "Epoch [291/1000]: 100%|███████████████████████████████████████████| 439/439 [00:02<00:00, 178.79it/s, loss=0.0285]\n"
     ]
    },
    {
     "name": "stdout",
     "output_type": "stream",
     "text": [
      "Epoch [291/1000]: Train loss: 0.0398, Valid loss: 0.0391\n",
      "Saving model with loss 0.039...\n"
     ]
    },
    {
     "name": "stderr",
     "output_type": "stream",
     "text": [
      "Epoch [292/1000]: 100%|███████████████████████████████████████████| 439/439 [00:02<00:00, 167.26it/s, loss=0.0392]\n"
     ]
    },
    {
     "name": "stdout",
     "output_type": "stream",
     "text": [
      "Epoch [292/1000]: Train loss: 0.0398, Valid loss: 0.0390\n",
      "Saving model with loss 0.039...\n"
     ]
    },
    {
     "name": "stderr",
     "output_type": "stream",
     "text": [
      "Epoch [293/1000]: 100%|███████████████████████████████████████████| 439/439 [00:02<00:00, 155.07it/s, loss=0.0346]\n"
     ]
    },
    {
     "name": "stdout",
     "output_type": "stream",
     "text": [
      "Epoch [293/1000]: Train loss: 0.0397, Valid loss: 0.0390\n"
     ]
    },
    {
     "name": "stderr",
     "output_type": "stream",
     "text": [
      "Epoch [294/1000]: 100%|███████████████████████████████████████████| 439/439 [00:02<00:00, 153.38it/s, loss=0.0321]\n"
     ]
    },
    {
     "name": "stdout",
     "output_type": "stream",
     "text": [
      "Epoch [294/1000]: Train loss: 0.0396, Valid loss: 0.0389\n",
      "Saving model with loss 0.039...\n"
     ]
    },
    {
     "name": "stderr",
     "output_type": "stream",
     "text": [
      "Epoch [295/1000]: 100%|███████████████████████████████████████████| 439/439 [00:03<00:00, 145.92it/s, loss=0.0379]\n"
     ]
    },
    {
     "name": "stdout",
     "output_type": "stream",
     "text": [
      "Epoch [295/1000]: Train loss: 0.0395, Valid loss: 0.0388\n",
      "Saving model with loss 0.039...\n"
     ]
    },
    {
     "name": "stderr",
     "output_type": "stream",
     "text": [
      "Epoch [296/1000]: 100%|███████████████████████████████████████████| 439/439 [00:02<00:00, 149.40it/s, loss=0.0359]\n"
     ]
    },
    {
     "name": "stdout",
     "output_type": "stream",
     "text": [
      "Epoch [296/1000]: Train loss: 0.0395, Valid loss: 0.0388\n"
     ]
    },
    {
     "name": "stderr",
     "output_type": "stream",
     "text": [
      "Epoch [297/1000]: 100%|███████████████████████████████████████████| 439/439 [00:02<00:00, 189.69it/s, loss=0.0368]\n"
     ]
    },
    {
     "name": "stdout",
     "output_type": "stream",
     "text": [
      "Epoch [297/1000]: Train loss: 0.0394, Valid loss: 0.0387\n",
      "Saving model with loss 0.039...\n"
     ]
    },
    {
     "name": "stderr",
     "output_type": "stream",
     "text": [
      "Epoch [298/1000]: 100%|███████████████████████████████████████████| 439/439 [00:02<00:00, 151.32it/s, loss=0.0377]\n"
     ]
    },
    {
     "name": "stdout",
     "output_type": "stream",
     "text": [
      "Epoch [298/1000]: Train loss: 0.0394, Valid loss: 0.0387\n",
      "Saving model with loss 0.039...\n"
     ]
    },
    {
     "name": "stderr",
     "output_type": "stream",
     "text": [
      "Epoch [299/1000]: 100%|███████████████████████████████████████████| 439/439 [00:03<00:00, 133.82it/s, loss=0.0376]\n"
     ]
    },
    {
     "name": "stdout",
     "output_type": "stream",
     "text": [
      "Epoch [299/1000]: Train loss: 0.0393, Valid loss: 0.0386\n",
      "Saving model with loss 0.039...\n"
     ]
    },
    {
     "name": "stderr",
     "output_type": "stream",
     "text": [
      "Epoch [300/1000]: 100%|███████████████████████████████████████████| 439/439 [00:02<00:00, 150.84it/s, loss=0.0312]\n"
     ]
    },
    {
     "name": "stdout",
     "output_type": "stream",
     "text": [
      "Epoch [300/1000]: Train loss: 0.0392, Valid loss: 0.0385\n",
      "Saving model with loss 0.039...\n"
     ]
    },
    {
     "name": "stderr",
     "output_type": "stream",
     "text": [
      "Epoch [301/1000]: 100%|███████████████████████████████████████████| 439/439 [00:02<00:00, 149.70it/s, loss=0.0277]\n"
     ]
    },
    {
     "name": "stdout",
     "output_type": "stream",
     "text": [
      "Epoch [301/1000]: Train loss: 0.0392, Valid loss: 0.0385\n",
      "Saving model with loss 0.038...\n"
     ]
    },
    {
     "name": "stderr",
     "output_type": "stream",
     "text": [
      "Epoch [302/1000]: 100%|███████████████████████████████████████████| 439/439 [00:02<00:00, 154.25it/s, loss=0.0379]\n"
     ]
    },
    {
     "name": "stdout",
     "output_type": "stream",
     "text": [
      "Epoch [302/1000]: Train loss: 0.0391, Valid loss: 0.0384\n",
      "Saving model with loss 0.038...\n"
     ]
    },
    {
     "name": "stderr",
     "output_type": "stream",
     "text": [
      "Epoch [303/1000]: 100%|███████████████████████████████████████████| 439/439 [00:02<00:00, 155.35it/s, loss=0.0203]\n"
     ]
    },
    {
     "name": "stdout",
     "output_type": "stream",
     "text": [
      "Epoch [303/1000]: Train loss: 0.0391, Valid loss: 0.0385\n"
     ]
    },
    {
     "name": "stderr",
     "output_type": "stream",
     "text": [
      "Epoch [304/1000]: 100%|███████████████████████████████████████████| 439/439 [00:02<00:00, 181.15it/s, loss=0.0342]\n"
     ]
    },
    {
     "name": "stdout",
     "output_type": "stream",
     "text": [
      "Epoch [304/1000]: Train loss: 0.0390, Valid loss: 0.0383\n",
      "Saving model with loss 0.038...\n"
     ]
    },
    {
     "name": "stderr",
     "output_type": "stream",
     "text": [
      "Epoch [305/1000]: 100%|███████████████████████████████████████████| 439/439 [00:02<00:00, 166.26it/s, loss=0.0353]\n"
     ]
    },
    {
     "name": "stdout",
     "output_type": "stream",
     "text": [
      "Epoch [305/1000]: Train loss: 0.0390, Valid loss: 0.0383\n",
      "Saving model with loss 0.038...\n"
     ]
    },
    {
     "name": "stderr",
     "output_type": "stream",
     "text": [
      "Epoch [306/1000]: 100%|███████████████████████████████████████████| 439/439 [00:02<00:00, 168.20it/s, loss=0.0651]\n"
     ]
    },
    {
     "name": "stdout",
     "output_type": "stream",
     "text": [
      "Epoch [306/1000]: Train loss: 0.0389, Valid loss: 0.0383\n",
      "Saving model with loss 0.038...\n"
     ]
    },
    {
     "name": "stderr",
     "output_type": "stream",
     "text": [
      "Epoch [307/1000]: 100%|███████████████████████████████████████████| 439/439 [00:02<00:00, 155.32it/s, loss=0.0328]\n"
     ]
    },
    {
     "name": "stdout",
     "output_type": "stream",
     "text": [
      "Epoch [307/1000]: Train loss: 0.0389, Valid loss: 0.0382\n",
      "Saving model with loss 0.038...\n"
     ]
    },
    {
     "name": "stderr",
     "output_type": "stream",
     "text": [
      "Epoch [308/1000]: 100%|███████████████████████████████████████████| 439/439 [00:02<00:00, 173.67it/s, loss=0.0333]\n"
     ]
    },
    {
     "name": "stdout",
     "output_type": "stream",
     "text": [
      "Epoch [308/1000]: Train loss: 0.0388, Valid loss: 0.0381\n",
      "Saving model with loss 0.038...\n"
     ]
    },
    {
     "name": "stderr",
     "output_type": "stream",
     "text": [
      "Epoch [309/1000]: 100%|███████████████████████████████████████████| 439/439 [00:02<00:00, 168.94it/s, loss=0.0354]\n"
     ]
    },
    {
     "name": "stdout",
     "output_type": "stream",
     "text": [
      "Epoch [309/1000]: Train loss: 0.0388, Valid loss: 0.0381\n",
      "Saving model with loss 0.038...\n"
     ]
    },
    {
     "name": "stderr",
     "output_type": "stream",
     "text": [
      "Epoch [310/1000]: 100%|███████████████████████████████████████████| 439/439 [00:02<00:00, 155.13it/s, loss=0.0316]\n"
     ]
    },
    {
     "name": "stdout",
     "output_type": "stream",
     "text": [
      "Epoch [310/1000]: Train loss: 0.0387, Valid loss: 0.0381\n"
     ]
    },
    {
     "name": "stderr",
     "output_type": "stream",
     "text": [
      "Epoch [311/1000]: 100%|███████████████████████████████████████████| 439/439 [00:03<00:00, 128.57it/s, loss=0.0382]\n"
     ]
    },
    {
     "name": "stdout",
     "output_type": "stream",
     "text": [
      "Epoch [311/1000]: Train loss: 0.0387, Valid loss: 0.0381\n",
      "Saving model with loss 0.038...\n"
     ]
    },
    {
     "name": "stderr",
     "output_type": "stream",
     "text": [
      "Epoch [312/1000]: 100%|███████████████████████████████████████████| 439/439 [00:03<00:00, 124.21it/s, loss=0.0467]\n"
     ]
    },
    {
     "name": "stdout",
     "output_type": "stream",
     "text": [
      "Epoch [312/1000]: Train loss: 0.0386, Valid loss: 0.0381\n"
     ]
    },
    {
     "name": "stderr",
     "output_type": "stream",
     "text": [
      "Epoch [313/1000]: 100%|███████████████████████████████████████████| 439/439 [00:03<00:00, 134.01it/s, loss=0.0481]\n"
     ]
    },
    {
     "name": "stdout",
     "output_type": "stream",
     "text": [
      "Epoch [313/1000]: Train loss: 0.0386, Valid loss: 0.0379\n",
      "Saving model with loss 0.038...\n"
     ]
    },
    {
     "name": "stderr",
     "output_type": "stream",
     "text": [
      "Epoch [314/1000]: 100%|███████████████████████████████████████████| 439/439 [00:02<00:00, 155.79it/s, loss=0.0332]\n"
     ]
    },
    {
     "name": "stdout",
     "output_type": "stream",
     "text": [
      "Epoch [314/1000]: Train loss: 0.0386, Valid loss: 0.0380\n"
     ]
    },
    {
     "name": "stderr",
     "output_type": "stream",
     "text": [
      "Epoch [315/1000]: 100%|███████████████████████████████████████████| 439/439 [00:02<00:00, 174.69it/s, loss=0.0378]\n"
     ]
    },
    {
     "name": "stdout",
     "output_type": "stream",
     "text": [
      "Epoch [315/1000]: Train loss: 0.0385, Valid loss: 0.0379\n",
      "Saving model with loss 0.038...\n"
     ]
    },
    {
     "name": "stderr",
     "output_type": "stream",
     "text": [
      "Epoch [316/1000]: 100%|███████████████████████████████████████████| 439/439 [00:03<00:00, 141.60it/s, loss=0.0453]\n"
     ]
    },
    {
     "name": "stdout",
     "output_type": "stream",
     "text": [
      "Epoch [316/1000]: Train loss: 0.0385, Valid loss: 0.0378\n",
      "Saving model with loss 0.038...\n"
     ]
    },
    {
     "name": "stderr",
     "output_type": "stream",
     "text": [
      "Epoch [317/1000]: 100%|███████████████████████████████████████████| 439/439 [00:02<00:00, 205.08it/s, loss=0.0278]\n"
     ]
    },
    {
     "name": "stdout",
     "output_type": "stream",
     "text": [
      "Epoch [317/1000]: Train loss: 0.0384, Valid loss: 0.0379\n"
     ]
    },
    {
     "name": "stderr",
     "output_type": "stream",
     "text": [
      "Epoch [318/1000]: 100%|███████████████████████████████████████████| 439/439 [00:02<00:00, 202.87it/s, loss=0.0508]\n"
     ]
    },
    {
     "name": "stdout",
     "output_type": "stream",
     "text": [
      "Epoch [318/1000]: Train loss: 0.0384, Valid loss: 0.0378\n",
      "Saving model with loss 0.038...\n"
     ]
    },
    {
     "name": "stderr",
     "output_type": "stream",
     "text": [
      "Epoch [319/1000]: 100%|███████████████████████████████████████████| 439/439 [00:02<00:00, 196.44it/s, loss=0.0396]\n"
     ]
    },
    {
     "name": "stdout",
     "output_type": "stream",
     "text": [
      "Epoch [319/1000]: Train loss: 0.0384, Valid loss: 0.0378\n"
     ]
    },
    {
     "name": "stderr",
     "output_type": "stream",
     "text": [
      "Epoch [320/1000]: 100%|███████████████████████████████████████████| 439/439 [00:01<00:00, 275.06it/s, loss=0.0281]\n"
     ]
    },
    {
     "name": "stdout",
     "output_type": "stream",
     "text": [
      "Epoch [320/1000]: Train loss: 0.0383, Valid loss: 0.0378\n"
     ]
    },
    {
     "name": "stderr",
     "output_type": "stream",
     "text": [
      "Epoch [321/1000]: 100%|███████████████████████████████████████████| 439/439 [00:01<00:00, 294.56it/s, loss=0.0426]\n"
     ]
    },
    {
     "name": "stdout",
     "output_type": "stream",
     "text": [
      "Epoch [321/1000]: Train loss: 0.0383, Valid loss: 0.0377\n",
      "Saving model with loss 0.038...\n"
     ]
    },
    {
     "name": "stderr",
     "output_type": "stream",
     "text": [
      "Epoch [322/1000]: 100%|███████████████████████████████████████████| 439/439 [00:01<00:00, 263.01it/s, loss=0.0371]\n"
     ]
    },
    {
     "name": "stdout",
     "output_type": "stream",
     "text": [
      "Epoch [322/1000]: Train loss: 0.0383, Valid loss: 0.0377\n",
      "Saving model with loss 0.038...\n"
     ]
    },
    {
     "name": "stderr",
     "output_type": "stream",
     "text": [
      "Epoch [323/1000]: 100%|███████████████████████████████████████████| 439/439 [00:01<00:00, 254.95it/s, loss=0.0426]\n"
     ]
    },
    {
     "name": "stdout",
     "output_type": "stream",
     "text": [
      "Epoch [323/1000]: Train loss: 0.0383, Valid loss: 0.0377\n"
     ]
    },
    {
     "name": "stderr",
     "output_type": "stream",
     "text": [
      "Epoch [324/1000]: 100%|███████████████████████████████████████████| 439/439 [00:01<00:00, 263.87it/s, loss=0.0441]\n"
     ]
    },
    {
     "name": "stdout",
     "output_type": "stream",
     "text": [
      "Epoch [324/1000]: Train loss: 0.0382, Valid loss: 0.0376\n",
      "Saving model with loss 0.038...\n"
     ]
    },
    {
     "name": "stderr",
     "output_type": "stream",
     "text": [
      "Epoch [325/1000]: 100%|███████████████████████████████████████████| 439/439 [00:01<00:00, 298.15it/s, loss=0.0172]\n"
     ]
    },
    {
     "name": "stdout",
     "output_type": "stream",
     "text": [
      "Epoch [325/1000]: Train loss: 0.0382, Valid loss: 0.0377\n"
     ]
    },
    {
     "name": "stderr",
     "output_type": "stream",
     "text": [
      "Epoch [326/1000]: 100%|███████████████████████████████████████████| 439/439 [00:01<00:00, 271.98it/s, loss=0.0351]\n"
     ]
    },
    {
     "name": "stdout",
     "output_type": "stream",
     "text": [
      "Epoch [326/1000]: Train loss: 0.0382, Valid loss: 0.0377\n"
     ]
    },
    {
     "name": "stderr",
     "output_type": "stream",
     "text": [
      "Epoch [327/1000]: 100%|███████████████████████████████████████████| 439/439 [00:01<00:00, 298.22it/s, loss=0.0353]\n"
     ]
    },
    {
     "name": "stdout",
     "output_type": "stream",
     "text": [
      "Epoch [327/1000]: Train loss: 0.0382, Valid loss: 0.0377\n"
     ]
    },
    {
     "name": "stderr",
     "output_type": "stream",
     "text": [
      "Epoch [328/1000]: 100%|███████████████████████████████████████████| 439/439 [00:01<00:00, 245.36it/s, loss=0.0352]\n"
     ]
    },
    {
     "name": "stdout",
     "output_type": "stream",
     "text": [
      "Epoch [328/1000]: Train loss: 0.0381, Valid loss: 0.0375\n",
      "Saving model with loss 0.038...\n"
     ]
    },
    {
     "name": "stderr",
     "output_type": "stream",
     "text": [
      "Epoch [329/1000]: 100%|███████████████████████████████████████████| 439/439 [00:01<00:00, 264.31it/s, loss=0.0211]\n"
     ]
    },
    {
     "name": "stdout",
     "output_type": "stream",
     "text": [
      "Epoch [329/1000]: Train loss: 0.0381, Valid loss: 0.0377\n"
     ]
    },
    {
     "name": "stderr",
     "output_type": "stream",
     "text": [
      "Epoch [330/1000]: 100%|███████████████████████████████████████████| 439/439 [00:01<00:00, 286.29it/s, loss=0.0444]\n"
     ]
    },
    {
     "name": "stdout",
     "output_type": "stream",
     "text": [
      "Epoch [330/1000]: Train loss: 0.0381, Valid loss: 0.0376\n"
     ]
    },
    {
     "name": "stderr",
     "output_type": "stream",
     "text": [
      "Epoch [331/1000]: 100%|███████████████████████████████████████████| 439/439 [00:01<00:00, 279.77it/s, loss=0.0387]\n"
     ]
    },
    {
     "name": "stdout",
     "output_type": "stream",
     "text": [
      "Epoch [331/1000]: Train loss: 0.0381, Valid loss: 0.0374\n",
      "Saving model with loss 0.037...\n"
     ]
    },
    {
     "name": "stderr",
     "output_type": "stream",
     "text": [
      "Epoch [332/1000]: 100%|███████████████████████████████████████████| 439/439 [00:01<00:00, 254.06it/s, loss=0.0417]\n"
     ]
    },
    {
     "name": "stdout",
     "output_type": "stream",
     "text": [
      "Epoch [332/1000]: Train loss: 0.0380, Valid loss: 0.0374\n"
     ]
    },
    {
     "name": "stderr",
     "output_type": "stream",
     "text": [
      "Epoch [333/1000]: 100%|████████████████████████████████████████████| 439/439 [00:01<00:00, 236.40it/s, loss=0.038]\n"
     ]
    },
    {
     "name": "stdout",
     "output_type": "stream",
     "text": [
      "Epoch [333/1000]: Train loss: 0.0380, Valid loss: 0.0376\n"
     ]
    },
    {
     "name": "stderr",
     "output_type": "stream",
     "text": [
      "Epoch [334/1000]: 100%|███████████████████████████████████████████| 439/439 [00:01<00:00, 253.51it/s, loss=0.0334]\n"
     ]
    },
    {
     "name": "stdout",
     "output_type": "stream",
     "text": [
      "Epoch [334/1000]: Train loss: 0.0380, Valid loss: 0.0375\n"
     ]
    },
    {
     "name": "stderr",
     "output_type": "stream",
     "text": [
      "Epoch [335/1000]: 100%|███████████████████████████████████████████| 439/439 [00:01<00:00, 253.88it/s, loss=0.0424]\n"
     ]
    },
    {
     "name": "stdout",
     "output_type": "stream",
     "text": [
      "Epoch [335/1000]: Train loss: 0.0380, Valid loss: 0.0375\n"
     ]
    },
    {
     "name": "stderr",
     "output_type": "stream",
     "text": [
      "Epoch [336/1000]: 100%|███████████████████████████████████████████| 439/439 [00:01<00:00, 290.73it/s, loss=0.0427]\n"
     ]
    },
    {
     "name": "stdout",
     "output_type": "stream",
     "text": [
      "Epoch [336/1000]: Train loss: 0.0380, Valid loss: 0.0374\n",
      "Saving model with loss 0.037...\n"
     ]
    },
    {
     "name": "stderr",
     "output_type": "stream",
     "text": [
      "Epoch [337/1000]: 100%|███████████████████████████████████████████| 439/439 [00:01<00:00, 267.24it/s, loss=0.0177]\n"
     ]
    },
    {
     "name": "stdout",
     "output_type": "stream",
     "text": [
      "Epoch [337/1000]: Train loss: 0.0379, Valid loss: 0.0375\n"
     ]
    },
    {
     "name": "stderr",
     "output_type": "stream",
     "text": [
      "Epoch [338/1000]: 100%|███████████████████████████████████████████| 439/439 [00:01<00:00, 286.39it/s, loss=0.0329]\n"
     ]
    },
    {
     "name": "stdout",
     "output_type": "stream",
     "text": [
      "Epoch [338/1000]: Train loss: 0.0379, Valid loss: 0.0374\n",
      "Saving model with loss 0.037...\n"
     ]
    },
    {
     "name": "stderr",
     "output_type": "stream",
     "text": [
      "Epoch [339/1000]: 100%|███████████████████████████████████████████| 439/439 [00:01<00:00, 270.46it/s, loss=0.0495]\n"
     ]
    },
    {
     "name": "stdout",
     "output_type": "stream",
     "text": [
      "Epoch [339/1000]: Train loss: 0.0379, Valid loss: 0.0374\n",
      "Saving model with loss 0.037...\n"
     ]
    },
    {
     "name": "stderr",
     "output_type": "stream",
     "text": [
      "Epoch [340/1000]: 100%|███████████████████████████████████████████| 439/439 [00:01<00:00, 280.01it/s, loss=0.0405]\n"
     ]
    },
    {
     "name": "stdout",
     "output_type": "stream",
     "text": [
      "Epoch [340/1000]: Train loss: 0.0379, Valid loss: 0.0373\n",
      "Saving model with loss 0.037...\n"
     ]
    },
    {
     "name": "stderr",
     "output_type": "stream",
     "text": [
      "Epoch [341/1000]: 100%|███████████████████████████████████████████| 439/439 [00:01<00:00, 264.78it/s, loss=0.0323]\n"
     ]
    },
    {
     "name": "stdout",
     "output_type": "stream",
     "text": [
      "Epoch [341/1000]: Train loss: 0.0379, Valid loss: 0.0373\n",
      "Saving model with loss 0.037...\n"
     ]
    },
    {
     "name": "stderr",
     "output_type": "stream",
     "text": [
      "Epoch [342/1000]: 100%|███████████████████████████████████████████| 439/439 [00:01<00:00, 279.82it/s, loss=0.0239]\n"
     ]
    },
    {
     "name": "stdout",
     "output_type": "stream",
     "text": [
      "Epoch [342/1000]: Train loss: 0.0378, Valid loss: 0.0374\n"
     ]
    },
    {
     "name": "stderr",
     "output_type": "stream",
     "text": [
      "Epoch [343/1000]: 100%|███████████████████████████████████████████| 439/439 [00:01<00:00, 246.21it/s, loss=0.0293]\n"
     ]
    },
    {
     "name": "stdout",
     "output_type": "stream",
     "text": [
      "Epoch [343/1000]: Train loss: 0.0378, Valid loss: 0.0373\n"
     ]
    },
    {
     "name": "stderr",
     "output_type": "stream",
     "text": [
      "Epoch [344/1000]: 100%|███████████████████████████████████████████| 439/439 [00:01<00:00, 278.84it/s, loss=0.0433]\n"
     ]
    },
    {
     "name": "stdout",
     "output_type": "stream",
     "text": [
      "Epoch [344/1000]: Train loss: 0.0378, Valid loss: 0.0373\n",
      "Saving model with loss 0.037...\n"
     ]
    },
    {
     "name": "stderr",
     "output_type": "stream",
     "text": [
      "Epoch [345/1000]: 100%|███████████████████████████████████████████| 439/439 [00:01<00:00, 280.53it/s, loss=0.0445]\n"
     ]
    },
    {
     "name": "stdout",
     "output_type": "stream",
     "text": [
      "Epoch [345/1000]: Train loss: 0.0378, Valid loss: 0.0374\n"
     ]
    },
    {
     "name": "stderr",
     "output_type": "stream",
     "text": [
      "Epoch [346/1000]: 100%|███████████████████████████████████████████| 439/439 [00:01<00:00, 267.52it/s, loss=0.0382]\n"
     ]
    },
    {
     "name": "stdout",
     "output_type": "stream",
     "text": [
      "Epoch [346/1000]: Train loss: 0.0378, Valid loss: 0.0373\n"
     ]
    },
    {
     "name": "stderr",
     "output_type": "stream",
     "text": [
      "Epoch [347/1000]: 100%|███████████████████████████████████████████| 439/439 [00:01<00:00, 267.96it/s, loss=0.0307]\n"
     ]
    },
    {
     "name": "stdout",
     "output_type": "stream",
     "text": [
      "Epoch [347/1000]: Train loss: 0.0378, Valid loss: 0.0373\n"
     ]
    },
    {
     "name": "stderr",
     "output_type": "stream",
     "text": [
      "Epoch [348/1000]: 100%|███████████████████████████████████████████| 439/439 [00:01<00:00, 239.26it/s, loss=0.0462]\n"
     ]
    },
    {
     "name": "stdout",
     "output_type": "stream",
     "text": [
      "Epoch [348/1000]: Train loss: 0.0378, Valid loss: 0.0374\n"
     ]
    },
    {
     "name": "stderr",
     "output_type": "stream",
     "text": [
      "Epoch [349/1000]: 100%|███████████████████████████████████████████| 439/439 [00:01<00:00, 303.79it/s, loss=0.0265]\n"
     ]
    },
    {
     "name": "stdout",
     "output_type": "stream",
     "text": [
      "Epoch [349/1000]: Train loss: 0.0377, Valid loss: 0.0373\n",
      "Saving model with loss 0.037...\n"
     ]
    },
    {
     "name": "stderr",
     "output_type": "stream",
     "text": [
      "Epoch [350/1000]: 100%|███████████████████████████████████████████| 439/439 [00:01<00:00, 244.96it/s, loss=0.0247]\n"
     ]
    },
    {
     "name": "stdout",
     "output_type": "stream",
     "text": [
      "Epoch [350/1000]: Train loss: 0.0377, Valid loss: 0.0372\n",
      "Saving model with loss 0.037...\n"
     ]
    },
    {
     "name": "stderr",
     "output_type": "stream",
     "text": [
      "Epoch [351/1000]: 100%|███████████████████████████████████████████| 439/439 [00:01<00:00, 268.98it/s, loss=0.0428]\n"
     ]
    },
    {
     "name": "stdout",
     "output_type": "stream",
     "text": [
      "Epoch [351/1000]: Train loss: 0.0377, Valid loss: 0.0372\n",
      "Saving model with loss 0.037...\n"
     ]
    },
    {
     "name": "stderr",
     "output_type": "stream",
     "text": [
      "Epoch [352/1000]: 100%|███████████████████████████████████████████| 439/439 [00:01<00:00, 275.34it/s, loss=0.0389]\n"
     ]
    },
    {
     "name": "stdout",
     "output_type": "stream",
     "text": [
      "Epoch [352/1000]: Train loss: 0.0377, Valid loss: 0.0372\n"
     ]
    },
    {
     "name": "stderr",
     "output_type": "stream",
     "text": [
      "Epoch [353/1000]: 100%|███████████████████████████████████████████| 439/439 [00:01<00:00, 318.79it/s, loss=0.0536]\n"
     ]
    },
    {
     "name": "stdout",
     "output_type": "stream",
     "text": [
      "Epoch [353/1000]: Train loss: 0.0377, Valid loss: 0.0372\n"
     ]
    },
    {
     "name": "stderr",
     "output_type": "stream",
     "text": [
      "Epoch [354/1000]: 100%|███████████████████████████████████████████| 439/439 [00:01<00:00, 274.97it/s, loss=0.0412]\n"
     ]
    },
    {
     "name": "stdout",
     "output_type": "stream",
     "text": [
      "Epoch [354/1000]: Train loss: 0.0377, Valid loss: 0.0372\n"
     ]
    },
    {
     "name": "stderr",
     "output_type": "stream",
     "text": [
      "Epoch [355/1000]: 100%|███████████████████████████████████████████| 439/439 [00:01<00:00, 289.70it/s, loss=0.0331]\n"
     ]
    },
    {
     "name": "stdout",
     "output_type": "stream",
     "text": [
      "Epoch [355/1000]: Train loss: 0.0377, Valid loss: 0.0372\n"
     ]
    },
    {
     "name": "stderr",
     "output_type": "stream",
     "text": [
      "Epoch [356/1000]: 100%|███████████████████████████████████████████| 439/439 [00:01<00:00, 273.96it/s, loss=0.0562]\n"
     ]
    },
    {
     "name": "stdout",
     "output_type": "stream",
     "text": [
      "Epoch [356/1000]: Train loss: 0.0377, Valid loss: 0.0372\n"
     ]
    },
    {
     "name": "stderr",
     "output_type": "stream",
     "text": [
      "Epoch [357/1000]: 100%|███████████████████████████████████████████| 439/439 [00:01<00:00, 275.84it/s, loss=0.0451]\n"
     ]
    },
    {
     "name": "stdout",
     "output_type": "stream",
     "text": [
      "Epoch [357/1000]: Train loss: 0.0377, Valid loss: 0.0372\n",
      "Saving model with loss 0.037...\n"
     ]
    },
    {
     "name": "stderr",
     "output_type": "stream",
     "text": [
      "Epoch [358/1000]: 100%|███████████████████████████████████████████| 439/439 [00:01<00:00, 289.72it/s, loss=0.0419]\n"
     ]
    },
    {
     "name": "stdout",
     "output_type": "stream",
     "text": [
      "Epoch [358/1000]: Train loss: 0.0377, Valid loss: 0.0372\n"
     ]
    },
    {
     "name": "stderr",
     "output_type": "stream",
     "text": [
      "Epoch [359/1000]: 100%|███████████████████████████████████████████| 439/439 [00:01<00:00, 280.34it/s, loss=0.0444]\n"
     ]
    },
    {
     "name": "stdout",
     "output_type": "stream",
     "text": [
      "Epoch [359/1000]: Train loss: 0.0376, Valid loss: 0.0372\n"
     ]
    },
    {
     "name": "stderr",
     "output_type": "stream",
     "text": [
      "Epoch [360/1000]: 100%|███████████████████████████████████████████| 439/439 [00:01<00:00, 287.45it/s, loss=0.0324]\n"
     ]
    },
    {
     "name": "stdout",
     "output_type": "stream",
     "text": [
      "Epoch [360/1000]: Train loss: 0.0376, Valid loss: 0.0372\n"
     ]
    },
    {
     "name": "stderr",
     "output_type": "stream",
     "text": [
      "Epoch [361/1000]: 100%|███████████████████████████████████████████| 439/439 [00:01<00:00, 270.28it/s, loss=0.0384]\n"
     ]
    },
    {
     "name": "stdout",
     "output_type": "stream",
     "text": [
      "Epoch [361/1000]: Train loss: 0.0376, Valid loss: 0.0372\n"
     ]
    },
    {
     "name": "stderr",
     "output_type": "stream",
     "text": [
      "Epoch [362/1000]: 100%|███████████████████████████████████████████| 439/439 [00:01<00:00, 288.73it/s, loss=0.0444]\n"
     ]
    },
    {
     "name": "stdout",
     "output_type": "stream",
     "text": [
      "Epoch [362/1000]: Train loss: 0.0376, Valid loss: 0.0373\n"
     ]
    },
    {
     "name": "stderr",
     "output_type": "stream",
     "text": [
      "Epoch [363/1000]: 100%|███████████████████████████████████████████| 439/439 [00:02<00:00, 215.94it/s, loss=0.0361]\n"
     ]
    },
    {
     "name": "stdout",
     "output_type": "stream",
     "text": [
      "Epoch [363/1000]: Train loss: 0.0376, Valid loss: 0.0372\n",
      "Saving model with loss 0.037...\n"
     ]
    },
    {
     "name": "stderr",
     "output_type": "stream",
     "text": [
      "Epoch [364/1000]: 100%|███████████████████████████████████████████| 439/439 [00:01<00:00, 294.33it/s, loss=0.0353]\n"
     ]
    },
    {
     "name": "stdout",
     "output_type": "stream",
     "text": [
      "Epoch [364/1000]: Train loss: 0.0376, Valid loss: 0.0371\n",
      "Saving model with loss 0.037...\n"
     ]
    },
    {
     "name": "stderr",
     "output_type": "stream",
     "text": [
      "Epoch [365/1000]: 100%|███████████████████████████████████████████| 439/439 [00:01<00:00, 235.43it/s, loss=0.0218]\n"
     ]
    },
    {
     "name": "stdout",
     "output_type": "stream",
     "text": [
      "Epoch [365/1000]: Train loss: 0.0376, Valid loss: 0.0373\n"
     ]
    },
    {
     "name": "stderr",
     "output_type": "stream",
     "text": [
      "Epoch [366/1000]: 100%|███████████████████████████████████████████| 439/439 [00:01<00:00, 287.03it/s, loss=0.0261]\n"
     ]
    },
    {
     "name": "stdout",
     "output_type": "stream",
     "text": [
      "Epoch [366/1000]: Train loss: 0.0376, Valid loss: 0.0371\n",
      "Saving model with loss 0.037...\n"
     ]
    },
    {
     "name": "stderr",
     "output_type": "stream",
     "text": [
      "Epoch [367/1000]: 100%|███████████████████████████████████████████| 439/439 [00:01<00:00, 285.45it/s, loss=0.0284]\n"
     ]
    },
    {
     "name": "stdout",
     "output_type": "stream",
     "text": [
      "Epoch [367/1000]: Train loss: 0.0376, Valid loss: 0.0372\n"
     ]
    },
    {
     "name": "stderr",
     "output_type": "stream",
     "text": [
      "Epoch [368/1000]: 100%|███████████████████████████████████████████| 439/439 [00:01<00:00, 275.46it/s, loss=0.0273]\n"
     ]
    },
    {
     "name": "stdout",
     "output_type": "stream",
     "text": [
      "Epoch [368/1000]: Train loss: 0.0376, Valid loss: 0.0371\n",
      "Saving model with loss 0.037...\n"
     ]
    },
    {
     "name": "stderr",
     "output_type": "stream",
     "text": [
      "Epoch [369/1000]: 100%|███████████████████████████████████████████| 439/439 [00:01<00:00, 279.98it/s, loss=0.0288]\n"
     ]
    },
    {
     "name": "stdout",
     "output_type": "stream",
     "text": [
      "Epoch [369/1000]: Train loss: 0.0376, Valid loss: 0.0371\n"
     ]
    },
    {
     "name": "stderr",
     "output_type": "stream",
     "text": [
      "Epoch [370/1000]: 100%|███████████████████████████████████████████| 439/439 [00:01<00:00, 294.37it/s, loss=0.0292]\n"
     ]
    },
    {
     "name": "stdout",
     "output_type": "stream",
     "text": [
      "Epoch [370/1000]: Train loss: 0.0376, Valid loss: 0.0371\n"
     ]
    },
    {
     "name": "stderr",
     "output_type": "stream",
     "text": [
      "Epoch [371/1000]: 100%|███████████████████████████████████████████| 439/439 [00:01<00:00, 267.87it/s, loss=0.0241]\n"
     ]
    },
    {
     "name": "stdout",
     "output_type": "stream",
     "text": [
      "Epoch [371/1000]: Train loss: 0.0376, Valid loss: 0.0372\n"
     ]
    },
    {
     "name": "stderr",
     "output_type": "stream",
     "text": [
      "Epoch [372/1000]: 100%|███████████████████████████████████████████| 439/439 [00:01<00:00, 282.94it/s, loss=0.0256]\n"
     ]
    },
    {
     "name": "stdout",
     "output_type": "stream",
     "text": [
      "Epoch [372/1000]: Train loss: 0.0375, Valid loss: 0.0372\n"
     ]
    },
    {
     "name": "stderr",
     "output_type": "stream",
     "text": [
      "Epoch [373/1000]: 100%|█████████████████████████████████████████████| 439/439 [00:01<00:00, 270.32it/s, loss=0.03]\n"
     ]
    },
    {
     "name": "stdout",
     "output_type": "stream",
     "text": [
      "Epoch [373/1000]: Train loss: 0.0375, Valid loss: 0.0371\n",
      "Saving model with loss 0.037...\n"
     ]
    },
    {
     "name": "stderr",
     "output_type": "stream",
     "text": [
      "Epoch [374/1000]: 100%|███████████████████████████████████████████| 439/439 [00:01<00:00, 274.50it/s, loss=0.0318]\n"
     ]
    },
    {
     "name": "stdout",
     "output_type": "stream",
     "text": [
      "Epoch [374/1000]: Train loss: 0.0375, Valid loss: 0.0371\n",
      "Saving model with loss 0.037...\n"
     ]
    },
    {
     "name": "stderr",
     "output_type": "stream",
     "text": [
      "Epoch [375/1000]: 100%|███████████████████████████████████████████| 439/439 [00:01<00:00, 306.39it/s, loss=0.0257]\n"
     ]
    },
    {
     "name": "stdout",
     "output_type": "stream",
     "text": [
      "Epoch [375/1000]: Train loss: 0.0375, Valid loss: 0.0372\n"
     ]
    },
    {
     "name": "stderr",
     "output_type": "stream",
     "text": [
      "Epoch [376/1000]: 100%|███████████████████████████████████████████| 439/439 [00:01<00:00, 247.78it/s, loss=0.0378]\n"
     ]
    },
    {
     "name": "stdout",
     "output_type": "stream",
     "text": [
      "Epoch [376/1000]: Train loss: 0.0375, Valid loss: 0.0371\n"
     ]
    },
    {
     "name": "stderr",
     "output_type": "stream",
     "text": [
      "Epoch [377/1000]: 100%|███████████████████████████████████████████| 439/439 [00:01<00:00, 276.64it/s, loss=0.0391]\n"
     ]
    },
    {
     "name": "stdout",
     "output_type": "stream",
     "text": [
      "Epoch [377/1000]: Train loss: 0.0375, Valid loss: 0.0371\n"
     ]
    },
    {
     "name": "stderr",
     "output_type": "stream",
     "text": [
      "Epoch [378/1000]: 100%|███████████████████████████████████████████| 439/439 [00:01<00:00, 257.51it/s, loss=0.0279]\n"
     ]
    },
    {
     "name": "stdout",
     "output_type": "stream",
     "text": [
      "Epoch [378/1000]: Train loss: 0.0375, Valid loss: 0.0371\n"
     ]
    },
    {
     "name": "stderr",
     "output_type": "stream",
     "text": [
      "Epoch [379/1000]: 100%|███████████████████████████████████████████| 439/439 [00:01<00:00, 293.73it/s, loss=0.0248]\n"
     ]
    },
    {
     "name": "stdout",
     "output_type": "stream",
     "text": [
      "Epoch [379/1000]: Train loss: 0.0375, Valid loss: 0.0370\n",
      "Saving model with loss 0.037...\n"
     ]
    },
    {
     "name": "stderr",
     "output_type": "stream",
     "text": [
      "Epoch [380/1000]: 100%|███████████████████████████████████████████| 439/439 [00:01<00:00, 277.27it/s, loss=0.0502]\n"
     ]
    },
    {
     "name": "stdout",
     "output_type": "stream",
     "text": [
      "Epoch [380/1000]: Train loss: 0.0375, Valid loss: 0.0372\n"
     ]
    },
    {
     "name": "stderr",
     "output_type": "stream",
     "text": [
      "Epoch [381/1000]: 100%|███████████████████████████████████████████| 439/439 [00:01<00:00, 292.58it/s, loss=0.0481]\n"
     ]
    },
    {
     "name": "stdout",
     "output_type": "stream",
     "text": [
      "Epoch [381/1000]: Train loss: 0.0375, Valid loss: 0.0372\n"
     ]
    },
    {
     "name": "stderr",
     "output_type": "stream",
     "text": [
      "Epoch [382/1000]: 100%|███████████████████████████████████████████| 439/439 [00:01<00:00, 276.86it/s, loss=0.0286]\n"
     ]
    },
    {
     "name": "stdout",
     "output_type": "stream",
     "text": [
      "Epoch [382/1000]: Train loss: 0.0375, Valid loss: 0.0370\n",
      "Saving model with loss 0.037...\n"
     ]
    },
    {
     "name": "stderr",
     "output_type": "stream",
     "text": [
      "Epoch [383/1000]: 100%|████████████████████████████████████████████| 439/439 [00:01<00:00, 282.39it/s, loss=0.042]\n"
     ]
    },
    {
     "name": "stdout",
     "output_type": "stream",
     "text": [
      "Epoch [383/1000]: Train loss: 0.0375, Valid loss: 0.0371\n"
     ]
    },
    {
     "name": "stderr",
     "output_type": "stream",
     "text": [
      "Epoch [384/1000]: 100%|████████████████████████████████████████████| 439/439 [00:01<00:00, 269.87it/s, loss=0.038]\n"
     ]
    },
    {
     "name": "stdout",
     "output_type": "stream",
     "text": [
      "Epoch [384/1000]: Train loss: 0.0375, Valid loss: 0.0371\n"
     ]
    },
    {
     "name": "stderr",
     "output_type": "stream",
     "text": [
      "Epoch [385/1000]: 100%|███████████████████████████████████████████| 439/439 [00:01<00:00, 279.32it/s, loss=0.0276]\n"
     ]
    },
    {
     "name": "stdout",
     "output_type": "stream",
     "text": [
      "Epoch [385/1000]: Train loss: 0.0375, Valid loss: 0.0371\n"
     ]
    },
    {
     "name": "stderr",
     "output_type": "stream",
     "text": [
      "Epoch [386/1000]: 100%|███████████████████████████████████████████| 439/439 [00:01<00:00, 279.78it/s, loss=0.0248]\n"
     ]
    },
    {
     "name": "stdout",
     "output_type": "stream",
     "text": [
      "Epoch [386/1000]: Train loss: 0.0375, Valid loss: 0.0371\n"
     ]
    },
    {
     "name": "stderr",
     "output_type": "stream",
     "text": [
      "Epoch [387/1000]: 100%|███████████████████████████████████████████| 439/439 [00:01<00:00, 281.69it/s, loss=0.0391]\n"
     ]
    },
    {
     "name": "stdout",
     "output_type": "stream",
     "text": [
      "Epoch [387/1000]: Train loss: 0.0375, Valid loss: 0.0372\n"
     ]
    },
    {
     "name": "stderr",
     "output_type": "stream",
     "text": [
      "Epoch [388/1000]: 100%|███████████████████████████████████████████| 439/439 [00:01<00:00, 293.04it/s, loss=0.0206]\n"
     ]
    },
    {
     "name": "stdout",
     "output_type": "stream",
     "text": [
      "Epoch [388/1000]: Train loss: 0.0375, Valid loss: 0.0371\n"
     ]
    },
    {
     "name": "stderr",
     "output_type": "stream",
     "text": [
      "Epoch [389/1000]: 100%|███████████████████████████████████████████| 439/439 [00:01<00:00, 262.56it/s, loss=0.0279]\n"
     ]
    },
    {
     "name": "stdout",
     "output_type": "stream",
     "text": [
      "Epoch [389/1000]: Train loss: 0.0375, Valid loss: 0.0370\n"
     ]
    },
    {
     "name": "stderr",
     "output_type": "stream",
     "text": [
      "Epoch [390/1000]: 100%|███████████████████████████████████████████| 439/439 [00:01<00:00, 265.90it/s, loss=0.0435]\n"
     ]
    },
    {
     "name": "stdout",
     "output_type": "stream",
     "text": [
      "Epoch [390/1000]: Train loss: 0.0375, Valid loss: 0.0371\n"
     ]
    },
    {
     "name": "stderr",
     "output_type": "stream",
     "text": [
      "Epoch [391/1000]: 100%|███████████████████████████████████████████| 439/439 [00:01<00:00, 245.12it/s, loss=0.0317]\n"
     ]
    },
    {
     "name": "stdout",
     "output_type": "stream",
     "text": [
      "Epoch [391/1000]: Train loss: 0.0375, Valid loss: 0.0371\n"
     ]
    },
    {
     "name": "stderr",
     "output_type": "stream",
     "text": [
      "Epoch [392/1000]: 100%|███████████████████████████████████████████| 439/439 [00:01<00:00, 292.72it/s, loss=0.0377]\n"
     ]
    },
    {
     "name": "stdout",
     "output_type": "stream",
     "text": [
      "Epoch [392/1000]: Train loss: 0.0375, Valid loss: 0.0370\n",
      "Saving model with loss 0.037...\n"
     ]
    },
    {
     "name": "stderr",
     "output_type": "stream",
     "text": [
      "Epoch [393/1000]: 100%|███████████████████████████████████████████| 439/439 [00:01<00:00, 274.27it/s, loss=0.0292]\n"
     ]
    },
    {
     "name": "stdout",
     "output_type": "stream",
     "text": [
      "Epoch [393/1000]: Train loss: 0.0375, Valid loss: 0.0371\n"
     ]
    },
    {
     "name": "stderr",
     "output_type": "stream",
     "text": [
      "Epoch [394/1000]: 100%|███████████████████████████████████████████| 439/439 [00:01<00:00, 302.35it/s, loss=0.0342]\n"
     ]
    },
    {
     "name": "stdout",
     "output_type": "stream",
     "text": [
      "Epoch [394/1000]: Train loss: 0.0375, Valid loss: 0.0370\n"
     ]
    },
    {
     "name": "stderr",
     "output_type": "stream",
     "text": [
      "Epoch [395/1000]: 100%|███████████████████████████████████████████| 439/439 [00:01<00:00, 285.92it/s, loss=0.0423]\n"
     ]
    },
    {
     "name": "stdout",
     "output_type": "stream",
     "text": [
      "Epoch [395/1000]: Train loss: 0.0375, Valid loss: 0.0370\n"
     ]
    },
    {
     "name": "stderr",
     "output_type": "stream",
     "text": [
      "Epoch [396/1000]: 100%|███████████████████████████████████████████| 439/439 [00:01<00:00, 295.38it/s, loss=0.0362]\n"
     ]
    },
    {
     "name": "stdout",
     "output_type": "stream",
     "text": [
      "Epoch [396/1000]: Train loss: 0.0375, Valid loss: 0.0371\n"
     ]
    },
    {
     "name": "stderr",
     "output_type": "stream",
     "text": [
      "Epoch [397/1000]: 100%|███████████████████████████████████████████| 439/439 [00:01<00:00, 260.14it/s, loss=0.0267]\n"
     ]
    },
    {
     "name": "stdout",
     "output_type": "stream",
     "text": [
      "Epoch [397/1000]: Train loss: 0.0374, Valid loss: 0.0371\n"
     ]
    },
    {
     "name": "stderr",
     "output_type": "stream",
     "text": [
      "Epoch [398/1000]: 100%|███████████████████████████████████████████| 439/439 [00:01<00:00, 282.75it/s, loss=0.0286]\n"
     ]
    },
    {
     "name": "stdout",
     "output_type": "stream",
     "text": [
      "Epoch [398/1000]: Train loss: 0.0375, Valid loss: 0.0371\n"
     ]
    },
    {
     "name": "stderr",
     "output_type": "stream",
     "text": [
      "Epoch [399/1000]: 100%|███████████████████████████████████████████| 439/439 [00:01<00:00, 252.69it/s, loss=0.0428]\n"
     ]
    },
    {
     "name": "stdout",
     "output_type": "stream",
     "text": [
      "Epoch [399/1000]: Train loss: 0.0374, Valid loss: 0.0370\n"
     ]
    },
    {
     "name": "stderr",
     "output_type": "stream",
     "text": [
      "Epoch [400/1000]: 100%|███████████████████████████████████████████| 439/439 [00:01<00:00, 277.39it/s, loss=0.0527]\n"
     ]
    },
    {
     "name": "stdout",
     "output_type": "stream",
     "text": [
      "Epoch [400/1000]: Train loss: 0.0375, Valid loss: 0.0370\n"
     ]
    },
    {
     "name": "stderr",
     "output_type": "stream",
     "text": [
      "Epoch [401/1000]: 100%|███████████████████████████████████████████| 439/439 [00:01<00:00, 289.76it/s, loss=0.0439]\n"
     ]
    },
    {
     "name": "stdout",
     "output_type": "stream",
     "text": [
      "Epoch [401/1000]: Train loss: 0.0374, Valid loss: 0.0372\n"
     ]
    },
    {
     "name": "stderr",
     "output_type": "stream",
     "text": [
      "Epoch [402/1000]: 100%|███████████████████████████████████████████| 439/439 [00:01<00:00, 289.41it/s, loss=0.0614]\n"
     ]
    },
    {
     "name": "stdout",
     "output_type": "stream",
     "text": [
      "Epoch [402/1000]: Train loss: 0.0375, Valid loss: 0.0371\n"
     ]
    },
    {
     "name": "stderr",
     "output_type": "stream",
     "text": [
      "Epoch [403/1000]: 100%|███████████████████████████████████████████| 439/439 [00:01<00:00, 286.34it/s, loss=0.0229]\n"
     ]
    },
    {
     "name": "stdout",
     "output_type": "stream",
     "text": [
      "Epoch [403/1000]: Train loss: 0.0374, Valid loss: 0.0371\n"
     ]
    },
    {
     "name": "stderr",
     "output_type": "stream",
     "text": [
      "Epoch [404/1000]: 100%|███████████████████████████████████████████| 439/439 [00:01<00:00, 225.22it/s, loss=0.0371]\n"
     ]
    },
    {
     "name": "stdout",
     "output_type": "stream",
     "text": [
      "Epoch [404/1000]: Train loss: 0.0374, Valid loss: 0.0370\n"
     ]
    },
    {
     "name": "stderr",
     "output_type": "stream",
     "text": [
      "Epoch [405/1000]: 100%|███████████████████████████████████████████| 439/439 [00:01<00:00, 279.59it/s, loss=0.0288]\n"
     ]
    },
    {
     "name": "stdout",
     "output_type": "stream",
     "text": [
      "Epoch [405/1000]: Train loss: 0.0374, Valid loss: 0.0371\n"
     ]
    },
    {
     "name": "stderr",
     "output_type": "stream",
     "text": [
      "Epoch [406/1000]: 100%|███████████████████████████████████████████| 439/439 [00:01<00:00, 270.03it/s, loss=0.0376]\n"
     ]
    },
    {
     "name": "stdout",
     "output_type": "stream",
     "text": [
      "Epoch [406/1000]: Train loss: 0.0374, Valid loss: 0.0371\n"
     ]
    },
    {
     "name": "stderr",
     "output_type": "stream",
     "text": [
      "Epoch [407/1000]: 100%|███████████████████████████████████████████| 439/439 [00:01<00:00, 274.62it/s, loss=0.0238]\n"
     ]
    },
    {
     "name": "stdout",
     "output_type": "stream",
     "text": [
      "Epoch [407/1000]: Train loss: 0.0374, Valid loss: 0.0370\n"
     ]
    },
    {
     "name": "stderr",
     "output_type": "stream",
     "text": [
      "Epoch [408/1000]: 100%|███████████████████████████████████████████| 439/439 [00:01<00:00, 236.20it/s, loss=0.0425]\n"
     ]
    },
    {
     "name": "stdout",
     "output_type": "stream",
     "text": [
      "Epoch [408/1000]: Train loss: 0.0374, Valid loss: 0.0370\n"
     ]
    },
    {
     "name": "stderr",
     "output_type": "stream",
     "text": [
      "Epoch [409/1000]: 100%|███████████████████████████████████████████| 439/439 [00:01<00:00, 281.17it/s, loss=0.0329]\n"
     ]
    },
    {
     "name": "stdout",
     "output_type": "stream",
     "text": [
      "Epoch [409/1000]: Train loss: 0.0374, Valid loss: 0.0370\n"
     ]
    },
    {
     "name": "stderr",
     "output_type": "stream",
     "text": [
      "Epoch [410/1000]: 100%|███████████████████████████████████████████| 439/439 [00:01<00:00, 251.25it/s, loss=0.0336]\n"
     ]
    },
    {
     "name": "stdout",
     "output_type": "stream",
     "text": [
      "Epoch [410/1000]: Train loss: 0.0374, Valid loss: 0.0370\n"
     ]
    },
    {
     "name": "stderr",
     "output_type": "stream",
     "text": [
      "Epoch [411/1000]: 100%|███████████████████████████████████████████| 439/439 [00:01<00:00, 287.70it/s, loss=0.0414]\n"
     ]
    },
    {
     "name": "stdout",
     "output_type": "stream",
     "text": [
      "Epoch [411/1000]: Train loss: 0.0374, Valid loss: 0.0371\n"
     ]
    },
    {
     "name": "stderr",
     "output_type": "stream",
     "text": [
      "Epoch [412/1000]: 100%|███████████████████████████████████████████| 439/439 [00:01<00:00, 248.41it/s, loss=0.0319]\n"
     ]
    },
    {
     "name": "stdout",
     "output_type": "stream",
     "text": [
      "Epoch [412/1000]: Train loss: 0.0374, Valid loss: 0.0370\n",
      "Saving model with loss 0.037...\n"
     ]
    },
    {
     "name": "stderr",
     "output_type": "stream",
     "text": [
      "Epoch [413/1000]: 100%|███████████████████████████████████████████| 439/439 [00:01<00:00, 279.55it/s, loss=0.0621]\n"
     ]
    },
    {
     "name": "stdout",
     "output_type": "stream",
     "text": [
      "Epoch [413/1000]: Train loss: 0.0374, Valid loss: 0.0370\n"
     ]
    },
    {
     "name": "stderr",
     "output_type": "stream",
     "text": [
      "Epoch [414/1000]: 100%|███████████████████████████████████████████| 439/439 [00:01<00:00, 287.93it/s, loss=0.0518]\n"
     ]
    },
    {
     "name": "stdout",
     "output_type": "stream",
     "text": [
      "Epoch [414/1000]: Train loss: 0.0374, Valid loss: 0.0370\n"
     ]
    },
    {
     "name": "stderr",
     "output_type": "stream",
     "text": [
      "Epoch [415/1000]: 100%|███████████████████████████████████████████| 439/439 [00:01<00:00, 276.38it/s, loss=0.0548]\n"
     ]
    },
    {
     "name": "stdout",
     "output_type": "stream",
     "text": [
      "Epoch [415/1000]: Train loss: 0.0374, Valid loss: 0.0370\n"
     ]
    },
    {
     "name": "stderr",
     "output_type": "stream",
     "text": [
      "Epoch [416/1000]: 100%|███████████████████████████████████████████| 439/439 [00:01<00:00, 292.00it/s, loss=0.0383]\n"
     ]
    },
    {
     "name": "stdout",
     "output_type": "stream",
     "text": [
      "Epoch [416/1000]: Train loss: 0.0374, Valid loss: 0.0370\n"
     ]
    },
    {
     "name": "stderr",
     "output_type": "stream",
     "text": [
      "Epoch [417/1000]: 100%|███████████████████████████████████████████| 439/439 [00:01<00:00, 255.46it/s, loss=0.0312]\n"
     ]
    },
    {
     "name": "stdout",
     "output_type": "stream",
     "text": [
      "Epoch [417/1000]: Train loss: 0.0374, Valid loss: 0.0370\n",
      "Saving model with loss 0.037...\n"
     ]
    },
    {
     "name": "stderr",
     "output_type": "stream",
     "text": [
      "Epoch [418/1000]: 100%|███████████████████████████████████████████| 439/439 [00:01<00:00, 302.37it/s, loss=0.0565]\n"
     ]
    },
    {
     "name": "stdout",
     "output_type": "stream",
     "text": [
      "Epoch [418/1000]: Train loss: 0.0374, Valid loss: 0.0370\n"
     ]
    },
    {
     "name": "stderr",
     "output_type": "stream",
     "text": [
      "Epoch [419/1000]: 100%|███████████████████████████████████████████| 439/439 [00:01<00:00, 267.46it/s, loss=0.0273]\n"
     ]
    },
    {
     "name": "stdout",
     "output_type": "stream",
     "text": [
      "Epoch [419/1000]: Train loss: 0.0374, Valid loss: 0.0371\n"
     ]
    },
    {
     "name": "stderr",
     "output_type": "stream",
     "text": [
      "Epoch [420/1000]: 100%|███████████████████████████████████████████| 439/439 [00:01<00:00, 272.18it/s, loss=0.0454]\n"
     ]
    },
    {
     "name": "stdout",
     "output_type": "stream",
     "text": [
      "Epoch [420/1000]: Train loss: 0.0374, Valid loss: 0.0370\n"
     ]
    },
    {
     "name": "stderr",
     "output_type": "stream",
     "text": [
      "Epoch [421/1000]: 100%|███████████████████████████████████████████| 439/439 [00:01<00:00, 246.80it/s, loss=0.0324]\n"
     ]
    },
    {
     "name": "stdout",
     "output_type": "stream",
     "text": [
      "Epoch [421/1000]: Train loss: 0.0374, Valid loss: 0.0370\n"
     ]
    },
    {
     "name": "stderr",
     "output_type": "stream",
     "text": [
      "Epoch [422/1000]: 100%|███████████████████████████████████████████| 439/439 [00:01<00:00, 255.73it/s, loss=0.0233]\n"
     ]
    },
    {
     "name": "stdout",
     "output_type": "stream",
     "text": [
      "Epoch [422/1000]: Train loss: 0.0374, Valid loss: 0.0371\n"
     ]
    },
    {
     "name": "stderr",
     "output_type": "stream",
     "text": [
      "Epoch [423/1000]: 100%|███████████████████████████████████████████| 439/439 [00:01<00:00, 252.15it/s, loss=0.0347]\n"
     ]
    },
    {
     "name": "stdout",
     "output_type": "stream",
     "text": [
      "Epoch [423/1000]: Train loss: 0.0374, Valid loss: 0.0370\n"
     ]
    },
    {
     "name": "stderr",
     "output_type": "stream",
     "text": [
      "Epoch [424/1000]: 100%|███████████████████████████████████████████| 439/439 [00:01<00:00, 278.29it/s, loss=0.0373]\n"
     ]
    },
    {
     "name": "stdout",
     "output_type": "stream",
     "text": [
      "Epoch [424/1000]: Train loss: 0.0374, Valid loss: 0.0371\n"
     ]
    },
    {
     "name": "stderr",
     "output_type": "stream",
     "text": [
      "Epoch [425/1000]: 100%|███████████████████████████████████████████| 439/439 [00:01<00:00, 251.58it/s, loss=0.0619]\n"
     ]
    },
    {
     "name": "stdout",
     "output_type": "stream",
     "text": [
      "Epoch [425/1000]: Train loss: 0.0374, Valid loss: 0.0370\n"
     ]
    },
    {
     "name": "stderr",
     "output_type": "stream",
     "text": [
      "Epoch [426/1000]: 100%|███████████████████████████████████████████| 439/439 [00:01<00:00, 272.41it/s, loss=0.0315]\n"
     ]
    },
    {
     "name": "stdout",
     "output_type": "stream",
     "text": [
      "Epoch [426/1000]: Train loss: 0.0374, Valid loss: 0.0370\n"
     ]
    },
    {
     "name": "stderr",
     "output_type": "stream",
     "text": [
      "Epoch [427/1000]: 100%|████████████████████████████████████████████| 439/439 [00:01<00:00, 265.96it/s, loss=0.033]\n"
     ]
    },
    {
     "name": "stdout",
     "output_type": "stream",
     "text": [
      "Epoch [427/1000]: Train loss: 0.0374, Valid loss: 0.0370\n"
     ]
    },
    {
     "name": "stderr",
     "output_type": "stream",
     "text": [
      "Epoch [428/1000]: 100%|███████████████████████████████████████████| 439/439 [00:01<00:00, 290.65it/s, loss=0.0278]\n"
     ]
    },
    {
     "name": "stdout",
     "output_type": "stream",
     "text": [
      "Epoch [428/1000]: Train loss: 0.0374, Valid loss: 0.0370\n"
     ]
    },
    {
     "name": "stderr",
     "output_type": "stream",
     "text": [
      "Epoch [429/1000]: 100%|███████████████████████████████████████████| 439/439 [00:01<00:00, 266.52it/s, loss=0.0299]\n"
     ]
    },
    {
     "name": "stdout",
     "output_type": "stream",
     "text": [
      "Epoch [429/1000]: Train loss: 0.0374, Valid loss: 0.0371\n"
     ]
    },
    {
     "name": "stderr",
     "output_type": "stream",
     "text": [
      "Epoch [430/1000]: 100%|███████████████████████████████████████████| 439/439 [00:01<00:00, 246.62it/s, loss=0.0476]\n"
     ]
    },
    {
     "name": "stdout",
     "output_type": "stream",
     "text": [
      "Epoch [430/1000]: Train loss: 0.0374, Valid loss: 0.0370\n"
     ]
    },
    {
     "name": "stderr",
     "output_type": "stream",
     "text": [
      "Epoch [431/1000]: 100%|███████████████████████████████████████████| 439/439 [00:01<00:00, 274.77it/s, loss=0.0497]\n"
     ]
    },
    {
     "name": "stdout",
     "output_type": "stream",
     "text": [
      "Epoch [431/1000]: Train loss: 0.0374, Valid loss: 0.0371\n"
     ]
    },
    {
     "name": "stderr",
     "output_type": "stream",
     "text": [
      "Epoch [432/1000]: 100%|███████████████████████████████████████████| 439/439 [00:01<00:00, 260.13it/s, loss=0.0452]\n"
     ]
    },
    {
     "name": "stdout",
     "output_type": "stream",
     "text": [
      "Epoch [432/1000]: Train loss: 0.0374, Valid loss: 0.0370\n"
     ]
    },
    {
     "name": "stderr",
     "output_type": "stream",
     "text": [
      "Epoch [433/1000]: 100%|███████████████████████████████████████████| 439/439 [00:01<00:00, 294.43it/s, loss=0.0354]\n"
     ]
    },
    {
     "name": "stdout",
     "output_type": "stream",
     "text": [
      "Epoch [433/1000]: Train loss: 0.0374, Valid loss: 0.0370\n"
     ]
    },
    {
     "name": "stderr",
     "output_type": "stream",
     "text": [
      "Epoch [434/1000]: 100%|███████████████████████████████████████████| 439/439 [00:01<00:00, 271.68it/s, loss=0.0432]\n"
     ]
    },
    {
     "name": "stdout",
     "output_type": "stream",
     "text": [
      "Epoch [434/1000]: Train loss: 0.0374, Valid loss: 0.0370\n"
     ]
    },
    {
     "name": "stderr",
     "output_type": "stream",
     "text": [
      "Epoch [435/1000]: 100%|███████████████████████████████████████████| 439/439 [00:01<00:00, 288.03it/s, loss=0.0343]\n"
     ]
    },
    {
     "name": "stdout",
     "output_type": "stream",
     "text": [
      "Epoch [435/1000]: Train loss: 0.0374, Valid loss: 0.0370\n"
     ]
    },
    {
     "name": "stderr",
     "output_type": "stream",
     "text": [
      "Epoch [436/1000]: 100%|███████████████████████████████████████████| 439/439 [00:01<00:00, 250.45it/s, loss=0.0302]\n"
     ]
    },
    {
     "name": "stdout",
     "output_type": "stream",
     "text": [
      "Epoch [436/1000]: Train loss: 0.0374, Valid loss: 0.0370\n"
     ]
    },
    {
     "name": "stderr",
     "output_type": "stream",
     "text": [
      "Epoch [437/1000]: 100%|███████████████████████████████████████████| 439/439 [00:01<00:00, 286.91it/s, loss=0.0497]\n"
     ]
    },
    {
     "name": "stdout",
     "output_type": "stream",
     "text": [
      "Epoch [437/1000]: Train loss: 0.0374, Valid loss: 0.0371\n"
     ]
    },
    {
     "name": "stderr",
     "output_type": "stream",
     "text": [
      "Epoch [438/1000]: 100%|███████████████████████████████████████████| 439/439 [00:01<00:00, 263.43it/s, loss=0.0496]\n"
     ]
    },
    {
     "name": "stdout",
     "output_type": "stream",
     "text": [
      "Epoch [438/1000]: Train loss: 0.0374, Valid loss: 0.0370\n"
     ]
    },
    {
     "name": "stderr",
     "output_type": "stream",
     "text": [
      "Epoch [439/1000]: 100%|███████████████████████████████████████████| 439/439 [00:01<00:00, 265.79it/s, loss=0.0402]\n"
     ]
    },
    {
     "name": "stdout",
     "output_type": "stream",
     "text": [
      "Epoch [439/1000]: Train loss: 0.0374, Valid loss: 0.0371\n"
     ]
    },
    {
     "name": "stderr",
     "output_type": "stream",
     "text": [
      "Epoch [440/1000]: 100%|███████████████████████████████████████████| 439/439 [00:01<00:00, 262.25it/s, loss=0.0369]\n"
     ]
    },
    {
     "name": "stdout",
     "output_type": "stream",
     "text": [
      "Epoch [440/1000]: Train loss: 0.0374, Valid loss: 0.0370\n"
     ]
    },
    {
     "name": "stderr",
     "output_type": "stream",
     "text": [
      "Epoch [441/1000]: 100%|███████████████████████████████████████████| 439/439 [00:01<00:00, 261.01it/s, loss=0.0334]\n"
     ]
    },
    {
     "name": "stdout",
     "output_type": "stream",
     "text": [
      "Epoch [441/1000]: Train loss: 0.0374, Valid loss: 0.0371\n"
     ]
    },
    {
     "name": "stderr",
     "output_type": "stream",
     "text": [
      "Epoch [442/1000]: 100%|███████████████████████████████████████████| 439/439 [00:01<00:00, 261.80it/s, loss=0.0285]\n"
     ]
    },
    {
     "name": "stdout",
     "output_type": "stream",
     "text": [
      "Epoch [442/1000]: Train loss: 0.0374, Valid loss: 0.0370\n"
     ]
    },
    {
     "name": "stderr",
     "output_type": "stream",
     "text": [
      "Epoch [443/1000]: 100%|███████████████████████████████████████████| 439/439 [00:01<00:00, 262.42it/s, loss=0.0358]\n"
     ]
    },
    {
     "name": "stdout",
     "output_type": "stream",
     "text": [
      "Epoch [443/1000]: Train loss: 0.0374, Valid loss: 0.0370\n"
     ]
    },
    {
     "name": "stderr",
     "output_type": "stream",
     "text": [
      "Epoch [444/1000]: 100%|███████████████████████████████████████████| 439/439 [00:01<00:00, 277.71it/s, loss=0.0284]\n"
     ]
    },
    {
     "name": "stdout",
     "output_type": "stream",
     "text": [
      "Epoch [444/1000]: Train loss: 0.0374, Valid loss: 0.0370\n"
     ]
    },
    {
     "name": "stderr",
     "output_type": "stream",
     "text": [
      "Epoch [445/1000]: 100%|███████████████████████████████████████████| 439/439 [00:01<00:00, 246.43it/s, loss=0.0523]\n"
     ]
    },
    {
     "name": "stdout",
     "output_type": "stream",
     "text": [
      "Epoch [445/1000]: Train loss: 0.0374, Valid loss: 0.0370\n"
     ]
    },
    {
     "name": "stderr",
     "output_type": "stream",
     "text": [
      "Epoch [446/1000]: 100%|███████████████████████████████████████████| 439/439 [00:01<00:00, 281.92it/s, loss=0.0285]\n"
     ]
    },
    {
     "name": "stdout",
     "output_type": "stream",
     "text": [
      "Epoch [446/1000]: Train loss: 0.0374, Valid loss: 0.0370\n"
     ]
    },
    {
     "name": "stderr",
     "output_type": "stream",
     "text": [
      "Epoch [447/1000]: 100%|███████████████████████████████████████████| 439/439 [00:01<00:00, 246.03it/s, loss=0.0454]\n"
     ]
    },
    {
     "name": "stdout",
     "output_type": "stream",
     "text": [
      "Epoch [447/1000]: Train loss: 0.0374, Valid loss: 0.0370\n"
     ]
    },
    {
     "name": "stderr",
     "output_type": "stream",
     "text": [
      "Epoch [448/1000]: 100%|███████████████████████████████████████████| 439/439 [00:01<00:00, 303.76it/s, loss=0.0437]\n"
     ]
    },
    {
     "name": "stdout",
     "output_type": "stream",
     "text": [
      "Epoch [448/1000]: Train loss: 0.0374, Valid loss: 0.0370\n"
     ]
    },
    {
     "name": "stderr",
     "output_type": "stream",
     "text": [
      "Epoch [449/1000]: 100%|███████████████████████████████████████████| 439/439 [00:01<00:00, 258.42it/s, loss=0.0552]\n"
     ]
    },
    {
     "name": "stdout",
     "output_type": "stream",
     "text": [
      "Epoch [449/1000]: Train loss: 0.0374, Valid loss: 0.0369\n",
      "Saving model with loss 0.037...\n"
     ]
    },
    {
     "name": "stderr",
     "output_type": "stream",
     "text": [
      "Epoch [450/1000]: 100%|███████████████████████████████████████████| 439/439 [00:01<00:00, 307.60it/s, loss=0.0353]\n"
     ]
    },
    {
     "name": "stdout",
     "output_type": "stream",
     "text": [
      "Epoch [450/1000]: Train loss: 0.0374, Valid loss: 0.0370\n"
     ]
    },
    {
     "name": "stderr",
     "output_type": "stream",
     "text": [
      "Epoch [451/1000]: 100%|███████████████████████████████████████████| 439/439 [00:01<00:00, 257.69it/s, loss=0.0323]\n"
     ]
    },
    {
     "name": "stdout",
     "output_type": "stream",
     "text": [
      "Epoch [451/1000]: Train loss: 0.0374, Valid loss: 0.0370\n"
     ]
    },
    {
     "name": "stderr",
     "output_type": "stream",
     "text": [
      "Epoch [452/1000]: 100%|███████████████████████████████████████████| 439/439 [00:01<00:00, 291.25it/s, loss=0.0474]\n"
     ]
    },
    {
     "name": "stdout",
     "output_type": "stream",
     "text": [
      "Epoch [452/1000]: Train loss: 0.0374, Valid loss: 0.0370\n"
     ]
    },
    {
     "name": "stderr",
     "output_type": "stream",
     "text": [
      "Epoch [453/1000]: 100%|████████████████████████████████████████████| 439/439 [00:01<00:00, 255.11it/s, loss=0.036]\n"
     ]
    },
    {
     "name": "stdout",
     "output_type": "stream",
     "text": [
      "Epoch [453/1000]: Train loss: 0.0374, Valid loss: 0.0370\n"
     ]
    },
    {
     "name": "stderr",
     "output_type": "stream",
     "text": [
      "Epoch [454/1000]: 100%|███████████████████████████████████████████| 439/439 [00:01<00:00, 289.24it/s, loss=0.0621]\n"
     ]
    },
    {
     "name": "stdout",
     "output_type": "stream",
     "text": [
      "Epoch [454/1000]: Train loss: 0.0374, Valid loss: 0.0371\n"
     ]
    },
    {
     "name": "stderr",
     "output_type": "stream",
     "text": [
      "Epoch [455/1000]: 100%|███████████████████████████████████████████| 439/439 [00:01<00:00, 235.13it/s, loss=0.0528]\n"
     ]
    },
    {
     "name": "stdout",
     "output_type": "stream",
     "text": [
      "Epoch [455/1000]: Train loss: 0.0374, Valid loss: 0.0370\n"
     ]
    },
    {
     "name": "stderr",
     "output_type": "stream",
     "text": [
      "Epoch [456/1000]: 100%|███████████████████████████████████████████| 439/439 [00:01<00:00, 267.10it/s, loss=0.0427]\n"
     ]
    },
    {
     "name": "stdout",
     "output_type": "stream",
     "text": [
      "Epoch [456/1000]: Train loss: 0.0373, Valid loss: 0.0370\n"
     ]
    },
    {
     "name": "stderr",
     "output_type": "stream",
     "text": [
      "Epoch [457/1000]: 100%|███████████████████████████████████████████| 439/439 [00:01<00:00, 284.77it/s, loss=0.0376]\n"
     ]
    },
    {
     "name": "stdout",
     "output_type": "stream",
     "text": [
      "Epoch [457/1000]: Train loss: 0.0374, Valid loss: 0.0370\n"
     ]
    },
    {
     "name": "stderr",
     "output_type": "stream",
     "text": [
      "Epoch [458/1000]: 100%|███████████████████████████████████████████| 439/439 [00:01<00:00, 252.13it/s, loss=0.0422]\n"
     ]
    },
    {
     "name": "stdout",
     "output_type": "stream",
     "text": [
      "Epoch [458/1000]: Train loss: 0.0374, Valid loss: 0.0370\n"
     ]
    },
    {
     "name": "stderr",
     "output_type": "stream",
     "text": [
      "Epoch [459/1000]: 100%|███████████████████████████████████████████| 439/439 [00:01<00:00, 278.14it/s, loss=0.0333]\n"
     ]
    },
    {
     "name": "stdout",
     "output_type": "stream",
     "text": [
      "Epoch [459/1000]: Train loss: 0.0373, Valid loss: 0.0370\n"
     ]
    },
    {
     "name": "stderr",
     "output_type": "stream",
     "text": [
      "Epoch [460/1000]: 100%|███████████████████████████████████████████| 439/439 [00:01<00:00, 241.78it/s, loss=0.0294]\n"
     ]
    },
    {
     "name": "stdout",
     "output_type": "stream",
     "text": [
      "Epoch [460/1000]: Train loss: 0.0373, Valid loss: 0.0369\n"
     ]
    },
    {
     "name": "stderr",
     "output_type": "stream",
     "text": [
      "Epoch [461/1000]: 100%|███████████████████████████████████████████| 439/439 [00:01<00:00, 270.44it/s, loss=0.0408]\n"
     ]
    },
    {
     "name": "stdout",
     "output_type": "stream",
     "text": [
      "Epoch [461/1000]: Train loss: 0.0373, Valid loss: 0.0371\n"
     ]
    },
    {
     "name": "stderr",
     "output_type": "stream",
     "text": [
      "Epoch [462/1000]: 100%|███████████████████████████████████████████| 439/439 [00:01<00:00, 251.99it/s, loss=0.0354]\n"
     ]
    },
    {
     "name": "stdout",
     "output_type": "stream",
     "text": [
      "Epoch [462/1000]: Train loss: 0.0373, Valid loss: 0.0370\n"
     ]
    },
    {
     "name": "stderr",
     "output_type": "stream",
     "text": [
      "Epoch [463/1000]: 100%|███████████████████████████████████████████| 439/439 [00:01<00:00, 287.15it/s, loss=0.0233]\n"
     ]
    },
    {
     "name": "stdout",
     "output_type": "stream",
     "text": [
      "Epoch [463/1000]: Train loss: 0.0373, Valid loss: 0.0371\n"
     ]
    },
    {
     "name": "stderr",
     "output_type": "stream",
     "text": [
      "Epoch [464/1000]: 100%|███████████████████████████████████████████| 439/439 [00:01<00:00, 258.55it/s, loss=0.0399]\n"
     ]
    },
    {
     "name": "stdout",
     "output_type": "stream",
     "text": [
      "Epoch [464/1000]: Train loss: 0.0373, Valid loss: 0.0369\n",
      "Saving model with loss 0.037...\n"
     ]
    },
    {
     "name": "stderr",
     "output_type": "stream",
     "text": [
      "Epoch [465/1000]: 100%|███████████████████████████████████████████| 439/439 [00:01<00:00, 292.23it/s, loss=0.0452]\n"
     ]
    },
    {
     "name": "stdout",
     "output_type": "stream",
     "text": [
      "Epoch [465/1000]: Train loss: 0.0373, Valid loss: 0.0371\n"
     ]
    },
    {
     "name": "stderr",
     "output_type": "stream",
     "text": [
      "Epoch [466/1000]: 100%|███████████████████████████████████████████| 439/439 [00:01<00:00, 254.04it/s, loss=0.0536]\n"
     ]
    },
    {
     "name": "stdout",
     "output_type": "stream",
     "text": [
      "Epoch [466/1000]: Train loss: 0.0373, Valid loss: 0.0370\n"
     ]
    },
    {
     "name": "stderr",
     "output_type": "stream",
     "text": [
      "Epoch [467/1000]: 100%|███████████████████████████████████████████| 439/439 [00:01<00:00, 270.91it/s, loss=0.0407]\n"
     ]
    },
    {
     "name": "stdout",
     "output_type": "stream",
     "text": [
      "Epoch [467/1000]: Train loss: 0.0374, Valid loss: 0.0371\n"
     ]
    },
    {
     "name": "stderr",
     "output_type": "stream",
     "text": [
      "Epoch [468/1000]: 100%|███████████████████████████████████████████| 439/439 [00:01<00:00, 239.42it/s, loss=0.0535]\n"
     ]
    },
    {
     "name": "stdout",
     "output_type": "stream",
     "text": [
      "Epoch [468/1000]: Train loss: 0.0374, Valid loss: 0.0370\n"
     ]
    },
    {
     "name": "stderr",
     "output_type": "stream",
     "text": [
      "Epoch [469/1000]: 100%|███████████████████████████████████████████| 439/439 [00:01<00:00, 285.81it/s, loss=0.0394]\n"
     ]
    },
    {
     "name": "stdout",
     "output_type": "stream",
     "text": [
      "Epoch [469/1000]: Train loss: 0.0373, Valid loss: 0.0370\n"
     ]
    },
    {
     "name": "stderr",
     "output_type": "stream",
     "text": [
      "Epoch [470/1000]: 100%|███████████████████████████████████████████| 439/439 [00:01<00:00, 264.00it/s, loss=0.0435]\n"
     ]
    },
    {
     "name": "stdout",
     "output_type": "stream",
     "text": [
      "Epoch [470/1000]: Train loss: 0.0373, Valid loss: 0.0370\n"
     ]
    },
    {
     "name": "stderr",
     "output_type": "stream",
     "text": [
      "Epoch [471/1000]: 100%|███████████████████████████████████████████| 439/439 [00:01<00:00, 283.88it/s, loss=0.0258]\n"
     ]
    },
    {
     "name": "stdout",
     "output_type": "stream",
     "text": [
      "Epoch [471/1000]: Train loss: 0.0373, Valid loss: 0.0370\n"
     ]
    },
    {
     "name": "stderr",
     "output_type": "stream",
     "text": [
      "Epoch [472/1000]: 100%|███████████████████████████████████████████| 439/439 [00:01<00:00, 280.60it/s, loss=0.0266]\n"
     ]
    },
    {
     "name": "stdout",
     "output_type": "stream",
     "text": [
      "Epoch [472/1000]: Train loss: 0.0373, Valid loss: 0.0370\n"
     ]
    },
    {
     "name": "stderr",
     "output_type": "stream",
     "text": [
      "Epoch [473/1000]: 100%|█████████████████████████████████████████████| 439/439 [00:01<00:00, 241.17it/s, loss=0.03]\n"
     ]
    },
    {
     "name": "stdout",
     "output_type": "stream",
     "text": [
      "Epoch [473/1000]: Train loss: 0.0373, Valid loss: 0.0370\n"
     ]
    },
    {
     "name": "stderr",
     "output_type": "stream",
     "text": [
      "Epoch [474/1000]: 100%|███████████████████████████████████████████| 439/439 [00:01<00:00, 279.52it/s, loss=0.0332]\n"
     ]
    },
    {
     "name": "stdout",
     "output_type": "stream",
     "text": [
      "Epoch [474/1000]: Train loss: 0.0373, Valid loss: 0.0370\n"
     ]
    },
    {
     "name": "stderr",
     "output_type": "stream",
     "text": [
      "Epoch [475/1000]: 100%|████████████████████████████████████████████| 439/439 [00:01<00:00, 266.44it/s, loss=0.035]\n"
     ]
    },
    {
     "name": "stdout",
     "output_type": "stream",
     "text": [
      "Epoch [475/1000]: Train loss: 0.0373, Valid loss: 0.0370\n"
     ]
    },
    {
     "name": "stderr",
     "output_type": "stream",
     "text": [
      "Epoch [476/1000]: 100%|███████████████████████████████████████████| 439/439 [00:01<00:00, 296.20it/s, loss=0.0492]\n"
     ]
    },
    {
     "name": "stdout",
     "output_type": "stream",
     "text": [
      "Epoch [476/1000]: Train loss: 0.0373, Valid loss: 0.0370\n"
     ]
    },
    {
     "name": "stderr",
     "output_type": "stream",
     "text": [
      "Epoch [477/1000]: 100%|███████████████████████████████████████████| 439/439 [00:01<00:00, 257.02it/s, loss=0.0322]\n"
     ]
    },
    {
     "name": "stdout",
     "output_type": "stream",
     "text": [
      "Epoch [477/1000]: Train loss: 0.0373, Valid loss: 0.0370\n"
     ]
    },
    {
     "name": "stderr",
     "output_type": "stream",
     "text": [
      "Epoch [478/1000]: 100%|███████████████████████████████████████████| 439/439 [00:01<00:00, 264.86it/s, loss=0.0272]\n"
     ]
    },
    {
     "name": "stdout",
     "output_type": "stream",
     "text": [
      "Epoch [478/1000]: Train loss: 0.0373, Valid loss: 0.0369\n"
     ]
    },
    {
     "name": "stderr",
     "output_type": "stream",
     "text": [
      "Epoch [479/1000]: 100%|███████████████████████████████████████████| 439/439 [00:02<00:00, 218.21it/s, loss=0.0361]\n"
     ]
    },
    {
     "name": "stdout",
     "output_type": "stream",
     "text": [
      "Epoch [479/1000]: Train loss: 0.0373, Valid loss: 0.0371\n"
     ]
    },
    {
     "name": "stderr",
     "output_type": "stream",
     "text": [
      "Epoch [480/1000]: 100%|███████████████████████████████████████████| 439/439 [00:01<00:00, 266.30it/s, loss=0.0375]\n"
     ]
    },
    {
     "name": "stdout",
     "output_type": "stream",
     "text": [
      "Epoch [480/1000]: Train loss: 0.0373, Valid loss: 0.0370\n"
     ]
    },
    {
     "name": "stderr",
     "output_type": "stream",
     "text": [
      "Epoch [481/1000]: 100%|███████████████████████████████████████████| 439/439 [00:01<00:00, 260.49it/s, loss=0.0268]\n"
     ]
    },
    {
     "name": "stdout",
     "output_type": "stream",
     "text": [
      "Epoch [481/1000]: Train loss: 0.0373, Valid loss: 0.0370\n"
     ]
    },
    {
     "name": "stderr",
     "output_type": "stream",
     "text": [
      "Epoch [482/1000]: 100%|███████████████████████████████████████████| 439/439 [00:01<00:00, 279.42it/s, loss=0.0354]\n"
     ]
    },
    {
     "name": "stdout",
     "output_type": "stream",
     "text": [
      "Epoch [482/1000]: Train loss: 0.0373, Valid loss: 0.0370\n"
     ]
    },
    {
     "name": "stderr",
     "output_type": "stream",
     "text": [
      "Epoch [483/1000]: 100%|███████████████████████████████████████████| 439/439 [00:01<00:00, 261.46it/s, loss=0.0216]\n"
     ]
    },
    {
     "name": "stdout",
     "output_type": "stream",
     "text": [
      "Epoch [483/1000]: Train loss: 0.0373, Valid loss: 0.0370\n"
     ]
    },
    {
     "name": "stderr",
     "output_type": "stream",
     "text": [
      "Epoch [484/1000]: 100%|███████████████████████████████████████████| 439/439 [00:01<00:00, 291.34it/s, loss=0.0409]\n"
     ]
    },
    {
     "name": "stdout",
     "output_type": "stream",
     "text": [
      "Epoch [484/1000]: Train loss: 0.0373, Valid loss: 0.0370\n"
     ]
    },
    {
     "name": "stderr",
     "output_type": "stream",
     "text": [
      "Epoch [485/1000]: 100%|████████████████████████████████████████████| 439/439 [00:01<00:00, 274.00it/s, loss=0.029]\n"
     ]
    },
    {
     "name": "stdout",
     "output_type": "stream",
     "text": [
      "Epoch [485/1000]: Train loss: 0.0373, Valid loss: 0.0369\n"
     ]
    },
    {
     "name": "stderr",
     "output_type": "stream",
     "text": [
      "Epoch [486/1000]: 100%|███████████████████████████████████████████| 439/439 [00:01<00:00, 259.27it/s, loss=0.0342]\n"
     ]
    },
    {
     "name": "stdout",
     "output_type": "stream",
     "text": [
      "Epoch [486/1000]: Train loss: 0.0373, Valid loss: 0.0369\n"
     ]
    },
    {
     "name": "stderr",
     "output_type": "stream",
     "text": [
      "Epoch [487/1000]: 100%|███████████████████████████████████████████| 439/439 [00:01<00:00, 267.07it/s, loss=0.0184]\n"
     ]
    },
    {
     "name": "stdout",
     "output_type": "stream",
     "text": [
      "Epoch [487/1000]: Train loss: 0.0373, Valid loss: 0.0370\n"
     ]
    },
    {
     "name": "stderr",
     "output_type": "stream",
     "text": [
      "Epoch [488/1000]: 100%|███████████████████████████████████████████| 439/439 [00:01<00:00, 258.55it/s, loss=0.0376]\n"
     ]
    },
    {
     "name": "stdout",
     "output_type": "stream",
     "text": [
      "Epoch [488/1000]: Train loss: 0.0373, Valid loss: 0.0370\n"
     ]
    },
    {
     "name": "stderr",
     "output_type": "stream",
     "text": [
      "Epoch [489/1000]: 100%|███████████████████████████████████████████| 439/439 [00:01<00:00, 294.89it/s, loss=0.0379]\n"
     ]
    },
    {
     "name": "stdout",
     "output_type": "stream",
     "text": [
      "Epoch [489/1000]: Train loss: 0.0373, Valid loss: 0.0370\n"
     ]
    },
    {
     "name": "stderr",
     "output_type": "stream",
     "text": [
      "Epoch [490/1000]: 100%|███████████████████████████████████████████| 439/439 [00:01<00:00, 243.66it/s, loss=0.0324]\n"
     ]
    },
    {
     "name": "stdout",
     "output_type": "stream",
     "text": [
      "Epoch [490/1000]: Train loss: 0.0373, Valid loss: 0.0370\n"
     ]
    },
    {
     "name": "stderr",
     "output_type": "stream",
     "text": [
      "Epoch [491/1000]: 100%|███████████████████████████████████████████| 439/439 [00:01<00:00, 288.75it/s, loss=0.0272]\n"
     ]
    },
    {
     "name": "stdout",
     "output_type": "stream",
     "text": [
      "Epoch [491/1000]: Train loss: 0.0373, Valid loss: 0.0370\n"
     ]
    },
    {
     "name": "stderr",
     "output_type": "stream",
     "text": [
      "Epoch [492/1000]: 100%|███████████████████████████████████████████| 439/439 [00:01<00:00, 252.41it/s, loss=0.0316]\n"
     ]
    },
    {
     "name": "stdout",
     "output_type": "stream",
     "text": [
      "Epoch [492/1000]: Train loss: 0.0373, Valid loss: 0.0371\n"
     ]
    },
    {
     "name": "stderr",
     "output_type": "stream",
     "text": [
      "Epoch [493/1000]: 100%|███████████████████████████████████████████| 439/439 [00:01<00:00, 244.70it/s, loss=0.0524]\n"
     ]
    },
    {
     "name": "stdout",
     "output_type": "stream",
     "text": [
      "Epoch [493/1000]: Train loss: 0.0373, Valid loss: 0.0370\n"
     ]
    },
    {
     "name": "stderr",
     "output_type": "stream",
     "text": [
      "Epoch [494/1000]: 100%|███████████████████████████████████████████| 439/439 [00:01<00:00, 247.22it/s, loss=0.0348]\n"
     ]
    },
    {
     "name": "stdout",
     "output_type": "stream",
     "text": [
      "Epoch [494/1000]: Train loss: 0.0373, Valid loss: 0.0370\n"
     ]
    },
    {
     "name": "stderr",
     "output_type": "stream",
     "text": [
      "Epoch [495/1000]: 100%|███████████████████████████████████████████| 439/439 [00:01<00:00, 291.69it/s, loss=0.0182]\n"
     ]
    },
    {
     "name": "stdout",
     "output_type": "stream",
     "text": [
      "Epoch [495/1000]: Train loss: 0.0373, Valid loss: 0.0370\n"
     ]
    },
    {
     "name": "stderr",
     "output_type": "stream",
     "text": [
      "Epoch [496/1000]: 100%|███████████████████████████████████████████| 439/439 [00:01<00:00, 263.30it/s, loss=0.0307]\n"
     ]
    },
    {
     "name": "stdout",
     "output_type": "stream",
     "text": [
      "Epoch [496/1000]: Train loss: 0.0373, Valid loss: 0.0369\n",
      "Saving model with loss 0.037...\n"
     ]
    },
    {
     "name": "stderr",
     "output_type": "stream",
     "text": [
      "Epoch [497/1000]: 100%|███████████████████████████████████████████| 439/439 [00:01<00:00, 289.09it/s, loss=0.0269]\n"
     ]
    },
    {
     "name": "stdout",
     "output_type": "stream",
     "text": [
      "Epoch [497/1000]: Train loss: 0.0373, Valid loss: 0.0370\n"
     ]
    },
    {
     "name": "stderr",
     "output_type": "stream",
     "text": [
      "Epoch [498/1000]: 100%|███████████████████████████████████████████| 439/439 [00:01<00:00, 261.58it/s, loss=0.0608]\n"
     ]
    },
    {
     "name": "stdout",
     "output_type": "stream",
     "text": [
      "Epoch [498/1000]: Train loss: 0.0373, Valid loss: 0.0369\n"
     ]
    },
    {
     "name": "stderr",
     "output_type": "stream",
     "text": [
      "Epoch [499/1000]: 100%|███████████████████████████████████████████| 439/439 [00:01<00:00, 272.01it/s, loss=0.0251]\n"
     ]
    },
    {
     "name": "stdout",
     "output_type": "stream",
     "text": [
      "Epoch [499/1000]: Train loss: 0.0373, Valid loss: 0.0370\n"
     ]
    },
    {
     "name": "stderr",
     "output_type": "stream",
     "text": [
      "Epoch [500/1000]: 100%|███████████████████████████████████████████| 439/439 [00:01<00:00, 258.46it/s, loss=0.0178]\n"
     ]
    },
    {
     "name": "stdout",
     "output_type": "stream",
     "text": [
      "Epoch [500/1000]: Train loss: 0.0373, Valid loss: 0.0370\n"
     ]
    },
    {
     "name": "stderr",
     "output_type": "stream",
     "text": [
      "Epoch [501/1000]: 100%|███████████████████████████████████████████| 439/439 [00:01<00:00, 230.15it/s, loss=0.0247]\n"
     ]
    },
    {
     "name": "stdout",
     "output_type": "stream",
     "text": [
      "Epoch [501/1000]: Train loss: 0.0373, Valid loss: 0.0370\n"
     ]
    },
    {
     "name": "stderr",
     "output_type": "stream",
     "text": [
      "Epoch [502/1000]: 100%|███████████████████████████████████████████| 439/439 [00:01<00:00, 262.22it/s, loss=0.0504]\n"
     ]
    },
    {
     "name": "stdout",
     "output_type": "stream",
     "text": [
      "Epoch [502/1000]: Train loss: 0.0373, Valid loss: 0.0369\n"
     ]
    },
    {
     "name": "stderr",
     "output_type": "stream",
     "text": [
      "Epoch [503/1000]: 100%|███████████████████████████████████████████| 439/439 [00:01<00:00, 253.78it/s, loss=0.0237]\n"
     ]
    },
    {
     "name": "stdout",
     "output_type": "stream",
     "text": [
      "Epoch [503/1000]: Train loss: 0.0373, Valid loss: 0.0369\n"
     ]
    },
    {
     "name": "stderr",
     "output_type": "stream",
     "text": [
      "Epoch [504/1000]: 100%|███████████████████████████████████████████| 439/439 [00:01<00:00, 276.95it/s, loss=0.0418]\n"
     ]
    },
    {
     "name": "stdout",
     "output_type": "stream",
     "text": [
      "Epoch [504/1000]: Train loss: 0.0373, Valid loss: 0.0370\n"
     ]
    },
    {
     "name": "stderr",
     "output_type": "stream",
     "text": [
      "Epoch [505/1000]: 100%|███████████████████████████████████████████| 439/439 [00:01<00:00, 259.85it/s, loss=0.0323]\n"
     ]
    },
    {
     "name": "stdout",
     "output_type": "stream",
     "text": [
      "Epoch [505/1000]: Train loss: 0.0373, Valid loss: 0.0370\n"
     ]
    },
    {
     "name": "stderr",
     "output_type": "stream",
     "text": [
      "Epoch [506/1000]: 100%|████████████████████████████████████████████| 439/439 [00:01<00:00, 298.57it/s, loss=0.032]\n"
     ]
    },
    {
     "name": "stdout",
     "output_type": "stream",
     "text": [
      "Epoch [506/1000]: Train loss: 0.0373, Valid loss: 0.0369\n",
      "Saving model with loss 0.037...\n"
     ]
    },
    {
     "name": "stderr",
     "output_type": "stream",
     "text": [
      "Epoch [507/1000]: 100%|███████████████████████████████████████████| 439/439 [00:01<00:00, 245.21it/s, loss=0.0394]\n"
     ]
    },
    {
     "name": "stdout",
     "output_type": "stream",
     "text": [
      "Epoch [507/1000]: Train loss: 0.0373, Valid loss: 0.0370\n"
     ]
    },
    {
     "name": "stderr",
     "output_type": "stream",
     "text": [
      "Epoch [508/1000]: 100%|████████████████████████████████████████████| 439/439 [00:01<00:00, 276.65it/s, loss=0.033]\n"
     ]
    },
    {
     "name": "stdout",
     "output_type": "stream",
     "text": [
      "Epoch [508/1000]: Train loss: 0.0373, Valid loss: 0.0370\n"
     ]
    },
    {
     "name": "stderr",
     "output_type": "stream",
     "text": [
      "Epoch [509/1000]: 100%|███████████████████████████████████████████| 439/439 [00:01<00:00, 256.11it/s, loss=0.0523]\n"
     ]
    },
    {
     "name": "stdout",
     "output_type": "stream",
     "text": [
      "Epoch [509/1000]: Train loss: 0.0373, Valid loss: 0.0370\n"
     ]
    },
    {
     "name": "stderr",
     "output_type": "stream",
     "text": [
      "Epoch [510/1000]: 100%|███████████████████████████████████████████| 439/439 [00:01<00:00, 287.90it/s, loss=0.0343]\n"
     ]
    },
    {
     "name": "stdout",
     "output_type": "stream",
     "text": [
      "Epoch [510/1000]: Train loss: 0.0373, Valid loss: 0.0369\n"
     ]
    },
    {
     "name": "stderr",
     "output_type": "stream",
     "text": [
      "Epoch [511/1000]: 100%|███████████████████████████████████████████| 439/439 [00:01<00:00, 298.50it/s, loss=0.0352]\n"
     ]
    },
    {
     "name": "stdout",
     "output_type": "stream",
     "text": [
      "Epoch [511/1000]: Train loss: 0.0373, Valid loss: 0.0370\n"
     ]
    },
    {
     "name": "stderr",
     "output_type": "stream",
     "text": [
      "Epoch [512/1000]: 100%|███████████████████████████████████████████| 439/439 [00:01<00:00, 265.46it/s, loss=0.0384]\n"
     ]
    },
    {
     "name": "stdout",
     "output_type": "stream",
     "text": [
      "Epoch [512/1000]: Train loss: 0.0373, Valid loss: 0.0370\n"
     ]
    },
    {
     "name": "stderr",
     "output_type": "stream",
     "text": [
      "Epoch [513/1000]: 100%|███████████████████████████████████████████| 439/439 [00:01<00:00, 258.28it/s, loss=0.0381]\n"
     ]
    },
    {
     "name": "stdout",
     "output_type": "stream",
     "text": [
      "Epoch [513/1000]: Train loss: 0.0373, Valid loss: 0.0369\n",
      "Saving model with loss 0.037...\n"
     ]
    },
    {
     "name": "stderr",
     "output_type": "stream",
     "text": [
      "Epoch [514/1000]: 100%|███████████████████████████████████████████| 439/439 [00:01<00:00, 253.13it/s, loss=0.0319]\n"
     ]
    },
    {
     "name": "stdout",
     "output_type": "stream",
     "text": [
      "Epoch [514/1000]: Train loss: 0.0373, Valid loss: 0.0370\n"
     ]
    },
    {
     "name": "stderr",
     "output_type": "stream",
     "text": [
      "Epoch [515/1000]: 100%|███████████████████████████████████████████| 439/439 [00:01<00:00, 291.38it/s, loss=0.0543]\n"
     ]
    },
    {
     "name": "stdout",
     "output_type": "stream",
     "text": [
      "Epoch [515/1000]: Train loss: 0.0373, Valid loss: 0.0369\n"
     ]
    },
    {
     "name": "stderr",
     "output_type": "stream",
     "text": [
      "Epoch [516/1000]: 100%|███████████████████████████████████████████| 439/439 [00:01<00:00, 242.37it/s, loss=0.0359]\n"
     ]
    },
    {
     "name": "stdout",
     "output_type": "stream",
     "text": [
      "Epoch [516/1000]: Train loss: 0.0373, Valid loss: 0.0369\n"
     ]
    },
    {
     "name": "stderr",
     "output_type": "stream",
     "text": [
      "Epoch [517/1000]: 100%|███████████████████████████████████████████| 439/439 [00:01<00:00, 270.13it/s, loss=0.0285]\n"
     ]
    },
    {
     "name": "stdout",
     "output_type": "stream",
     "text": [
      "Epoch [517/1000]: Train loss: 0.0373, Valid loss: 0.0370\n"
     ]
    },
    {
     "name": "stderr",
     "output_type": "stream",
     "text": [
      "Epoch [518/1000]: 100%|███████████████████████████████████████████| 439/439 [00:01<00:00, 239.54it/s, loss=0.0323]\n"
     ]
    },
    {
     "name": "stdout",
     "output_type": "stream",
     "text": [
      "Epoch [518/1000]: Train loss: 0.0373, Valid loss: 0.0370\n"
     ]
    },
    {
     "name": "stderr",
     "output_type": "stream",
     "text": [
      "Epoch [519/1000]: 100%|███████████████████████████████████████████| 439/439 [00:01<00:00, 275.81it/s, loss=0.0303]\n"
     ]
    },
    {
     "name": "stdout",
     "output_type": "stream",
     "text": [
      "Epoch [519/1000]: Train loss: 0.0373, Valid loss: 0.0369\n"
     ]
    },
    {
     "name": "stderr",
     "output_type": "stream",
     "text": [
      "Epoch [520/1000]: 100%|███████████████████████████████████████████| 439/439 [00:01<00:00, 234.70it/s, loss=0.0335]\n"
     ]
    },
    {
     "name": "stdout",
     "output_type": "stream",
     "text": [
      "Epoch [520/1000]: Train loss: 0.0373, Valid loss: 0.0370\n"
     ]
    },
    {
     "name": "stderr",
     "output_type": "stream",
     "text": [
      "Epoch [521/1000]: 100%|███████████████████████████████████████████| 439/439 [00:01<00:00, 276.74it/s, loss=0.0669]\n"
     ]
    },
    {
     "name": "stdout",
     "output_type": "stream",
     "text": [
      "Epoch [521/1000]: Train loss: 0.0373, Valid loss: 0.0369\n"
     ]
    },
    {
     "name": "stderr",
     "output_type": "stream",
     "text": [
      "Epoch [522/1000]: 100%|███████████████████████████████████████████| 439/439 [00:01<00:00, 263.25it/s, loss=0.0237]\n"
     ]
    },
    {
     "name": "stdout",
     "output_type": "stream",
     "text": [
      "Epoch [522/1000]: Train loss: 0.0373, Valid loss: 0.0370\n"
     ]
    },
    {
     "name": "stderr",
     "output_type": "stream",
     "text": [
      "Epoch [523/1000]: 100%|████████████████████████████████████████████| 439/439 [00:01<00:00, 279.44it/s, loss=0.031]\n"
     ]
    },
    {
     "name": "stdout",
     "output_type": "stream",
     "text": [
      "Epoch [523/1000]: Train loss: 0.0373, Valid loss: 0.0370\n"
     ]
    },
    {
     "name": "stderr",
     "output_type": "stream",
     "text": [
      "Epoch [524/1000]: 100%|███████████████████████████████████████████| 439/439 [00:01<00:00, 259.69it/s, loss=0.0383]\n"
     ]
    },
    {
     "name": "stdout",
     "output_type": "stream",
     "text": [
      "Epoch [524/1000]: Train loss: 0.0373, Valid loss: 0.0370\n"
     ]
    },
    {
     "name": "stderr",
     "output_type": "stream",
     "text": [
      "Epoch [525/1000]: 100%|███████████████████████████████████████████| 439/439 [00:01<00:00, 281.84it/s, loss=0.0278]\n"
     ]
    },
    {
     "name": "stdout",
     "output_type": "stream",
     "text": [
      "Epoch [525/1000]: Train loss: 0.0373, Valid loss: 0.0369\n"
     ]
    },
    {
     "name": "stderr",
     "output_type": "stream",
     "text": [
      "Epoch [526/1000]: 100%|███████████████████████████████████████████| 439/439 [00:01<00:00, 271.27it/s, loss=0.0339]\n"
     ]
    },
    {
     "name": "stdout",
     "output_type": "stream",
     "text": [
      "Epoch [526/1000]: Train loss: 0.0373, Valid loss: 0.0370\n"
     ]
    },
    {
     "name": "stderr",
     "output_type": "stream",
     "text": [
      "Epoch [527/1000]: 100%|████████████████████████████████████████████| 439/439 [00:01<00:00, 239.47it/s, loss=0.047]\n"
     ]
    },
    {
     "name": "stdout",
     "output_type": "stream",
     "text": [
      "Epoch [527/1000]: Train loss: 0.0373, Valid loss: 0.0369\n"
     ]
    },
    {
     "name": "stderr",
     "output_type": "stream",
     "text": [
      "Epoch [528/1000]: 100%|███████████████████████████████████████████| 439/439 [00:01<00:00, 258.28it/s, loss=0.0385]\n"
     ]
    },
    {
     "name": "stdout",
     "output_type": "stream",
     "text": [
      "Epoch [528/1000]: Train loss: 0.0373, Valid loss: 0.0369\n"
     ]
    },
    {
     "name": "stderr",
     "output_type": "stream",
     "text": [
      "Epoch [529/1000]: 100%|███████████████████████████████████████████| 439/439 [00:01<00:00, 244.02it/s, loss=0.0466]\n"
     ]
    },
    {
     "name": "stdout",
     "output_type": "stream",
     "text": [
      "Epoch [529/1000]: Train loss: 0.0373, Valid loss: 0.0371\n"
     ]
    },
    {
     "name": "stderr",
     "output_type": "stream",
     "text": [
      "Epoch [530/1000]: 100%|█████████████████████████████████████████████| 439/439 [00:01<00:00, 266.94it/s, loss=0.04]\n"
     ]
    },
    {
     "name": "stdout",
     "output_type": "stream",
     "text": [
      "Epoch [530/1000]: Train loss: 0.0373, Valid loss: 0.0370\n"
     ]
    },
    {
     "name": "stderr",
     "output_type": "stream",
     "text": [
      "Epoch [531/1000]: 100%|███████████████████████████████████████████| 439/439 [00:01<00:00, 243.07it/s, loss=0.0269]\n"
     ]
    },
    {
     "name": "stdout",
     "output_type": "stream",
     "text": [
      "Epoch [531/1000]: Train loss: 0.0373, Valid loss: 0.0370\n"
     ]
    },
    {
     "name": "stderr",
     "output_type": "stream",
     "text": [
      "Epoch [532/1000]: 100%|███████████████████████████████████████████| 439/439 [00:01<00:00, 274.51it/s, loss=0.0319]\n"
     ]
    },
    {
     "name": "stdout",
     "output_type": "stream",
     "text": [
      "Epoch [532/1000]: Train loss: 0.0373, Valid loss: 0.0369\n"
     ]
    },
    {
     "name": "stderr",
     "output_type": "stream",
     "text": [
      "Epoch [533/1000]: 100%|███████████████████████████████████████████| 439/439 [00:01<00:00, 271.62it/s, loss=0.0356]\n"
     ]
    },
    {
     "name": "stdout",
     "output_type": "stream",
     "text": [
      "Epoch [533/1000]: Train loss: 0.0373, Valid loss: 0.0369\n"
     ]
    },
    {
     "name": "stderr",
     "output_type": "stream",
     "text": [
      "Epoch [534/1000]: 100%|███████████████████████████████████████████| 439/439 [00:01<00:00, 271.81it/s, loss=0.0513]\n"
     ]
    },
    {
     "name": "stdout",
     "output_type": "stream",
     "text": [
      "Epoch [534/1000]: Train loss: 0.0373, Valid loss: 0.0371\n"
     ]
    },
    {
     "name": "stderr",
     "output_type": "stream",
     "text": [
      "Epoch [535/1000]: 100%|███████████████████████████████████████████| 439/439 [00:01<00:00, 250.19it/s, loss=0.0321]\n"
     ]
    },
    {
     "name": "stdout",
     "output_type": "stream",
     "text": [
      "Epoch [535/1000]: Train loss: 0.0373, Valid loss: 0.0370\n"
     ]
    },
    {
     "name": "stderr",
     "output_type": "stream",
     "text": [
      "Epoch [536/1000]: 100%|███████████████████████████████████████████| 439/439 [00:01<00:00, 267.22it/s, loss=0.0293]\n"
     ]
    },
    {
     "name": "stdout",
     "output_type": "stream",
     "text": [
      "Epoch [536/1000]: Train loss: 0.0373, Valid loss: 0.0369\n"
     ]
    },
    {
     "name": "stderr",
     "output_type": "stream",
     "text": [
      "Epoch [537/1000]: 100%|███████████████████████████████████████████| 439/439 [00:01<00:00, 232.69it/s, loss=0.0274]\n"
     ]
    },
    {
     "name": "stdout",
     "output_type": "stream",
     "text": [
      "Epoch [537/1000]: Train loss: 0.0373, Valid loss: 0.0369\n"
     ]
    },
    {
     "name": "stderr",
     "output_type": "stream",
     "text": [
      "Epoch [538/1000]: 100%|███████████████████████████████████████████| 439/439 [00:01<00:00, 266.75it/s, loss=0.0361]\n"
     ]
    },
    {
     "name": "stdout",
     "output_type": "stream",
     "text": [
      "Epoch [538/1000]: Train loss: 0.0373, Valid loss: 0.0369\n"
     ]
    },
    {
     "name": "stderr",
     "output_type": "stream",
     "text": [
      "Epoch [539/1000]: 100%|███████████████████████████████████████████| 439/439 [00:01<00:00, 261.09it/s, loss=0.0341]\n"
     ]
    },
    {
     "name": "stdout",
     "output_type": "stream",
     "text": [
      "Epoch [539/1000]: Train loss: 0.0373, Valid loss: 0.0371\n"
     ]
    },
    {
     "name": "stderr",
     "output_type": "stream",
     "text": [
      "Epoch [540/1000]: 100%|███████████████████████████████████████████| 439/439 [00:01<00:00, 285.32it/s, loss=0.0368]\n"
     ]
    },
    {
     "name": "stdout",
     "output_type": "stream",
     "text": [
      "Epoch [540/1000]: Train loss: 0.0373, Valid loss: 0.0370\n"
     ]
    },
    {
     "name": "stderr",
     "output_type": "stream",
     "text": [
      "Epoch [541/1000]: 100%|███████████████████████████████████████████| 439/439 [00:01<00:00, 299.19it/s, loss=0.0337]\n"
     ]
    },
    {
     "name": "stdout",
     "output_type": "stream",
     "text": [
      "Epoch [541/1000]: Train loss: 0.0373, Valid loss: 0.0370\n"
     ]
    },
    {
     "name": "stderr",
     "output_type": "stream",
     "text": [
      "Epoch [542/1000]: 100%|███████████████████████████████████████████| 439/439 [00:01<00:00, 272.90it/s, loss=0.0378]\n"
     ]
    },
    {
     "name": "stdout",
     "output_type": "stream",
     "text": [
      "Epoch [542/1000]: Train loss: 0.0373, Valid loss: 0.0369\n"
     ]
    },
    {
     "name": "stderr",
     "output_type": "stream",
     "text": [
      "Epoch [543/1000]: 100%|███████████████████████████████████████████| 439/439 [00:01<00:00, 275.57it/s, loss=0.0312]\n"
     ]
    },
    {
     "name": "stdout",
     "output_type": "stream",
     "text": [
      "Epoch [543/1000]: Train loss: 0.0373, Valid loss: 0.0371\n"
     ]
    },
    {
     "name": "stderr",
     "output_type": "stream",
     "text": [
      "Epoch [544/1000]: 100%|███████████████████████████████████████████| 439/439 [00:01<00:00, 267.47it/s, loss=0.0364]\n"
     ]
    },
    {
     "name": "stdout",
     "output_type": "stream",
     "text": [
      "Epoch [544/1000]: Train loss: 0.0373, Valid loss: 0.0370\n"
     ]
    },
    {
     "name": "stderr",
     "output_type": "stream",
     "text": [
      "Epoch [545/1000]: 100%|███████████████████████████████████████████| 439/439 [00:01<00:00, 314.06it/s, loss=0.0487]\n"
     ]
    },
    {
     "name": "stdout",
     "output_type": "stream",
     "text": [
      "Epoch [545/1000]: Train loss: 0.0373, Valid loss: 0.0370\n"
     ]
    },
    {
     "name": "stderr",
     "output_type": "stream",
     "text": [
      "Epoch [546/1000]: 100%|███████████████████████████████████████████| 439/439 [00:01<00:00, 265.88it/s, loss=0.0481]\n"
     ]
    },
    {
     "name": "stdout",
     "output_type": "stream",
     "text": [
      "Epoch [546/1000]: Train loss: 0.0373, Valid loss: 0.0369\n"
     ]
    },
    {
     "name": "stderr",
     "output_type": "stream",
     "text": [
      "Epoch [547/1000]: 100%|█████████████████████████████████████████████| 439/439 [00:01<00:00, 289.20it/s, loss=0.04]\n"
     ]
    },
    {
     "name": "stdout",
     "output_type": "stream",
     "text": [
      "Epoch [547/1000]: Train loss: 0.0373, Valid loss: 0.0370\n"
     ]
    },
    {
     "name": "stderr",
     "output_type": "stream",
     "text": [
      "Epoch [548/1000]: 100%|███████████████████████████████████████████| 439/439 [00:01<00:00, 266.05it/s, loss=0.0372]\n"
     ]
    },
    {
     "name": "stdout",
     "output_type": "stream",
     "text": [
      "Epoch [548/1000]: Train loss: 0.0373, Valid loss: 0.0370\n"
     ]
    },
    {
     "name": "stderr",
     "output_type": "stream",
     "text": [
      "Epoch [549/1000]: 100%|███████████████████████████████████████████| 439/439 [00:01<00:00, 285.15it/s, loss=0.0467]\n"
     ]
    },
    {
     "name": "stdout",
     "output_type": "stream",
     "text": [
      "Epoch [549/1000]: Train loss: 0.0373, Valid loss: 0.0369\n"
     ]
    },
    {
     "name": "stderr",
     "output_type": "stream",
     "text": [
      "Epoch [550/1000]: 100%|████████████████████████████████████████████| 439/439 [00:01<00:00, 245.73it/s, loss=0.025]\n"
     ]
    },
    {
     "name": "stdout",
     "output_type": "stream",
     "text": [
      "Epoch [550/1000]: Train loss: 0.0373, Valid loss: 0.0371\n"
     ]
    },
    {
     "name": "stderr",
     "output_type": "stream",
     "text": [
      "Epoch [551/1000]: 100%|███████████████████████████████████████████| 439/439 [00:01<00:00, 288.94it/s, loss=0.0368]\n"
     ]
    },
    {
     "name": "stdout",
     "output_type": "stream",
     "text": [
      "Epoch [551/1000]: Train loss: 0.0373, Valid loss: 0.0370\n"
     ]
    },
    {
     "name": "stderr",
     "output_type": "stream",
     "text": [
      "Epoch [552/1000]: 100%|████████████████████████████████████████████| 439/439 [00:01<00:00, 274.41it/s, loss=0.023]\n"
     ]
    },
    {
     "name": "stdout",
     "output_type": "stream",
     "text": [
      "Epoch [552/1000]: Train loss: 0.0373, Valid loss: 0.0369\n"
     ]
    },
    {
     "name": "stderr",
     "output_type": "stream",
     "text": [
      "Epoch [553/1000]: 100%|████████████████████████████████████████████| 439/439 [00:01<00:00, 282.99it/s, loss=0.029]\n"
     ]
    },
    {
     "name": "stdout",
     "output_type": "stream",
     "text": [
      "Epoch [553/1000]: Train loss: 0.0373, Valid loss: 0.0370\n"
     ]
    },
    {
     "name": "stderr",
     "output_type": "stream",
     "text": [
      "Epoch [554/1000]: 100%|███████████████████████████████████████████| 439/439 [00:01<00:00, 302.44it/s, loss=0.0568]\n"
     ]
    },
    {
     "name": "stdout",
     "output_type": "stream",
     "text": [
      "Epoch [554/1000]: Train loss: 0.0373, Valid loss: 0.0369\n"
     ]
    },
    {
     "name": "stderr",
     "output_type": "stream",
     "text": [
      "Epoch [555/1000]: 100%|███████████████████████████████████████████| 439/439 [00:01<00:00, 253.05it/s, loss=0.0388]\n"
     ]
    },
    {
     "name": "stdout",
     "output_type": "stream",
     "text": [
      "Epoch [555/1000]: Train loss: 0.0373, Valid loss: 0.0369\n"
     ]
    },
    {
     "name": "stderr",
     "output_type": "stream",
     "text": [
      "Epoch [556/1000]: 100%|███████████████████████████████████████████| 439/439 [00:01<00:00, 272.05it/s, loss=0.0396]\n"
     ]
    },
    {
     "name": "stdout",
     "output_type": "stream",
     "text": [
      "Epoch [556/1000]: Train loss: 0.0373, Valid loss: 0.0369\n"
     ]
    },
    {
     "name": "stderr",
     "output_type": "stream",
     "text": [
      "Epoch [557/1000]: 100%|███████████████████████████████████████████| 439/439 [00:01<00:00, 266.40it/s, loss=0.0405]\n"
     ]
    },
    {
     "name": "stdout",
     "output_type": "stream",
     "text": [
      "Epoch [557/1000]: Train loss: 0.0373, Valid loss: 0.0370\n"
     ]
    },
    {
     "name": "stderr",
     "output_type": "stream",
     "text": [
      "Epoch [558/1000]: 100%|███████████████████████████████████████████| 439/439 [00:01<00:00, 293.26it/s, loss=0.0425]\n"
     ]
    },
    {
     "name": "stdout",
     "output_type": "stream",
     "text": [
      "Epoch [558/1000]: Train loss: 0.0373, Valid loss: 0.0370\n"
     ]
    },
    {
     "name": "stderr",
     "output_type": "stream",
     "text": [
      "Epoch [559/1000]: 100%|███████████████████████████████████████████| 439/439 [00:01<00:00, 287.28it/s, loss=0.0359]\n"
     ]
    },
    {
     "name": "stdout",
     "output_type": "stream",
     "text": [
      "Epoch [559/1000]: Train loss: 0.0373, Valid loss: 0.0370\n"
     ]
    },
    {
     "name": "stderr",
     "output_type": "stream",
     "text": [
      "Epoch [560/1000]: 100%|███████████████████████████████████████████| 439/439 [00:01<00:00, 287.59it/s, loss=0.0476]\n"
     ]
    },
    {
     "name": "stdout",
     "output_type": "stream",
     "text": [
      "Epoch [560/1000]: Train loss: 0.0373, Valid loss: 0.0369\n"
     ]
    },
    {
     "name": "stderr",
     "output_type": "stream",
     "text": [
      "Epoch [561/1000]: 100%|███████████████████████████████████████████| 439/439 [00:01<00:00, 261.94it/s, loss=0.0366]\n"
     ]
    },
    {
     "name": "stdout",
     "output_type": "stream",
     "text": [
      "Epoch [561/1000]: Train loss: 0.0373, Valid loss: 0.0369\n"
     ]
    },
    {
     "name": "stderr",
     "output_type": "stream",
     "text": [
      "Epoch [562/1000]: 100%|███████████████████████████████████████████| 439/439 [00:01<00:00, 285.42it/s, loss=0.0332]\n"
     ]
    },
    {
     "name": "stdout",
     "output_type": "stream",
     "text": [
      "Epoch [562/1000]: Train loss: 0.0373, Valid loss: 0.0369\n"
     ]
    },
    {
     "name": "stderr",
     "output_type": "stream",
     "text": [
      "Epoch [563/1000]: 100%|███████████████████████████████████████████| 439/439 [00:01<00:00, 262.51it/s, loss=0.0369]\n"
     ]
    },
    {
     "name": "stdout",
     "output_type": "stream",
     "text": [
      "Epoch [563/1000]: Train loss: 0.0373, Valid loss: 0.0370\n"
     ]
    },
    {
     "name": "stderr",
     "output_type": "stream",
     "text": [
      "Epoch [564/1000]: 100%|███████████████████████████████████████████| 439/439 [00:01<00:00, 297.32it/s, loss=0.0417]\n"
     ]
    },
    {
     "name": "stdout",
     "output_type": "stream",
     "text": [
      "Epoch [564/1000]: Train loss: 0.0373, Valid loss: 0.0369\n"
     ]
    },
    {
     "name": "stderr",
     "output_type": "stream",
     "text": [
      "Epoch [565/1000]: 100%|███████████████████████████████████████████| 439/439 [00:01<00:00, 265.20it/s, loss=0.0269]\n"
     ]
    },
    {
     "name": "stdout",
     "output_type": "stream",
     "text": [
      "Epoch [565/1000]: Train loss: 0.0373, Valid loss: 0.0370\n"
     ]
    },
    {
     "name": "stderr",
     "output_type": "stream",
     "text": [
      "Epoch [566/1000]: 100%|███████████████████████████████████████████| 439/439 [00:01<00:00, 295.76it/s, loss=0.0211]\n"
     ]
    },
    {
     "name": "stdout",
     "output_type": "stream",
     "text": [
      "Epoch [566/1000]: Train loss: 0.0373, Valid loss: 0.0369\n"
     ]
    },
    {
     "name": "stderr",
     "output_type": "stream",
     "text": [
      "Epoch [567/1000]: 100%|███████████████████████████████████████████| 439/439 [00:01<00:00, 271.31it/s, loss=0.0385]\n"
     ]
    },
    {
     "name": "stdout",
     "output_type": "stream",
     "text": [
      "Epoch [567/1000]: Train loss: 0.0373, Valid loss: 0.0370\n"
     ]
    },
    {
     "name": "stderr",
     "output_type": "stream",
     "text": [
      "Epoch [568/1000]: 100%|███████████████████████████████████████████| 439/439 [00:01<00:00, 247.79it/s, loss=0.0691]\n"
     ]
    },
    {
     "name": "stdout",
     "output_type": "stream",
     "text": [
      "Epoch [568/1000]: Train loss: 0.0373, Valid loss: 0.0369\n"
     ]
    },
    {
     "name": "stderr",
     "output_type": "stream",
     "text": [
      "Epoch [569/1000]: 100%|███████████████████████████████████████████| 439/439 [00:01<00:00, 290.54it/s, loss=0.0268]\n"
     ]
    },
    {
     "name": "stdout",
     "output_type": "stream",
     "text": [
      "Epoch [569/1000]: Train loss: 0.0373, Valid loss: 0.0370\n"
     ]
    },
    {
     "name": "stderr",
     "output_type": "stream",
     "text": [
      "Epoch [570/1000]: 100%|███████████████████████████████████████████| 439/439 [00:01<00:00, 261.23it/s, loss=0.0439]\n"
     ]
    },
    {
     "name": "stdout",
     "output_type": "stream",
     "text": [
      "Epoch [570/1000]: Train loss: 0.0373, Valid loss: 0.0369\n"
     ]
    },
    {
     "name": "stderr",
     "output_type": "stream",
     "text": [
      "Epoch [571/1000]: 100%|███████████████████████████████████████████| 439/439 [00:01<00:00, 307.84it/s, loss=0.0375]\n"
     ]
    },
    {
     "name": "stdout",
     "output_type": "stream",
     "text": [
      "Epoch [571/1000]: Train loss: 0.0373, Valid loss: 0.0369\n"
     ]
    },
    {
     "name": "stderr",
     "output_type": "stream",
     "text": [
      "Epoch [572/1000]: 100%|███████████████████████████████████████████| 439/439 [00:01<00:00, 263.69it/s, loss=0.0312]\n"
     ]
    },
    {
     "name": "stdout",
     "output_type": "stream",
     "text": [
      "Epoch [572/1000]: Train loss: 0.0373, Valid loss: 0.0369\n"
     ]
    },
    {
     "name": "stderr",
     "output_type": "stream",
     "text": [
      "Epoch [573/1000]: 100%|███████████████████████████████████████████| 439/439 [00:01<00:00, 292.56it/s, loss=0.0366]\n"
     ]
    },
    {
     "name": "stdout",
     "output_type": "stream",
     "text": [
      "Epoch [573/1000]: Train loss: 0.0373, Valid loss: 0.0369\n"
     ]
    },
    {
     "name": "stderr",
     "output_type": "stream",
     "text": [
      "Epoch [574/1000]: 100%|████████████████████████████████████████████| 439/439 [00:01<00:00, 259.44it/s, loss=0.049]\n"
     ]
    },
    {
     "name": "stdout",
     "output_type": "stream",
     "text": [
      "Epoch [574/1000]: Train loss: 0.0373, Valid loss: 0.0369\n"
     ]
    },
    {
     "name": "stderr",
     "output_type": "stream",
     "text": [
      "Epoch [575/1000]: 100%|███████████████████████████████████████████| 439/439 [00:01<00:00, 271.36it/s, loss=0.0325]\n"
     ]
    },
    {
     "name": "stdout",
     "output_type": "stream",
     "text": [
      "Epoch [575/1000]: Train loss: 0.0373, Valid loss: 0.0370\n"
     ]
    },
    {
     "name": "stderr",
     "output_type": "stream",
     "text": [
      "Epoch [576/1000]: 100%|████████████████████████████████████████████| 439/439 [00:01<00:00, 230.02it/s, loss=0.035]\n"
     ]
    },
    {
     "name": "stdout",
     "output_type": "stream",
     "text": [
      "Epoch [576/1000]: Train loss: 0.0373, Valid loss: 0.0369\n"
     ]
    },
    {
     "name": "stderr",
     "output_type": "stream",
     "text": [
      "Epoch [577/1000]: 100%|███████████████████████████████████████████| 439/439 [00:01<00:00, 297.81it/s, loss=0.0445]\n"
     ]
    },
    {
     "name": "stdout",
     "output_type": "stream",
     "text": [
      "Epoch [577/1000]: Train loss: 0.0373, Valid loss: 0.0370\n"
     ]
    },
    {
     "name": "stderr",
     "output_type": "stream",
     "text": [
      "Epoch [578/1000]: 100%|███████████████████████████████████████████| 439/439 [00:01<00:00, 258.11it/s, loss=0.0349]\n"
     ]
    },
    {
     "name": "stdout",
     "output_type": "stream",
     "text": [
      "Epoch [578/1000]: Train loss: 0.0373, Valid loss: 0.0370\n"
     ]
    },
    {
     "name": "stderr",
     "output_type": "stream",
     "text": [
      "Epoch [579/1000]: 100%|███████████████████████████████████████████| 439/439 [00:01<00:00, 284.33it/s, loss=0.0365]\n"
     ]
    },
    {
     "name": "stdout",
     "output_type": "stream",
     "text": [
      "Epoch [579/1000]: Train loss: 0.0373, Valid loss: 0.0368\n",
      "Saving model with loss 0.037...\n"
     ]
    },
    {
     "name": "stderr",
     "output_type": "stream",
     "text": [
      "Epoch [580/1000]: 100%|████████████████████████████████████████████| 439/439 [00:01<00:00, 284.17it/s, loss=0.045]\n"
     ]
    },
    {
     "name": "stdout",
     "output_type": "stream",
     "text": [
      "Epoch [580/1000]: Train loss: 0.0373, Valid loss: 0.0370\n"
     ]
    },
    {
     "name": "stderr",
     "output_type": "stream",
     "text": [
      "Epoch [581/1000]: 100%|████████████████████████████████████████████| 439/439 [00:01<00:00, 278.35it/s, loss=0.034]\n"
     ]
    },
    {
     "name": "stdout",
     "output_type": "stream",
     "text": [
      "Epoch [581/1000]: Train loss: 0.0373, Valid loss: 0.0369\n"
     ]
    },
    {
     "name": "stderr",
     "output_type": "stream",
     "text": [
      "Epoch [582/1000]: 100%|███████████████████████████████████████████| 439/439 [00:01<00:00, 302.28it/s, loss=0.0403]\n"
     ]
    },
    {
     "name": "stdout",
     "output_type": "stream",
     "text": [
      "Epoch [582/1000]: Train loss: 0.0373, Valid loss: 0.0371\n"
     ]
    },
    {
     "name": "stderr",
     "output_type": "stream",
     "text": [
      "Epoch [583/1000]: 100%|███████████████████████████████████████████| 439/439 [00:01<00:00, 267.72it/s, loss=0.0405]\n"
     ]
    },
    {
     "name": "stdout",
     "output_type": "stream",
     "text": [
      "Epoch [583/1000]: Train loss: 0.0373, Valid loss: 0.0369\n"
     ]
    },
    {
     "name": "stderr",
     "output_type": "stream",
     "text": [
      "Epoch [584/1000]: 100%|███████████████████████████████████████████| 439/439 [00:01<00:00, 282.46it/s, loss=0.0481]\n"
     ]
    },
    {
     "name": "stdout",
     "output_type": "stream",
     "text": [
      "Epoch [584/1000]: Train loss: 0.0373, Valid loss: 0.0369\n"
     ]
    },
    {
     "name": "stderr",
     "output_type": "stream",
     "text": [
      "Epoch [585/1000]:  16%|███████                                     | 71/439 [00:00<00:01, 275.74it/s, loss=0.0332]\n"
     ]
    },
    {
     "ename": "KeyboardInterrupt",
     "evalue": "",
     "output_type": "error",
     "traceback": [
      "\u001b[0;31m---------------------------------------------------------------------------\u001b[0m",
      "\u001b[0;31mKeyboardInterrupt\u001b[0m                         Traceback (most recent call last)",
      "Input \u001b[0;32mIn [29]\u001b[0m, in \u001b[0;36m<cell line: 1>\u001b[0;34m()\u001b[0m\n\u001b[0;32m----> 1\u001b[0m \u001b[43mtrainer\u001b[49m\u001b[43m(\u001b[49m\u001b[43mtrain_loader\u001b[49m\u001b[43m,\u001b[49m\u001b[43m \u001b[49m\u001b[43mvalid_loader\u001b[49m\u001b[43m,\u001b[49m\u001b[43m \u001b[49m\u001b[43mmodel\u001b[49m\u001b[43m,\u001b[49m\u001b[43m \u001b[49m\u001b[43mconfig\u001b[49m\u001b[43m,\u001b[49m\u001b[43m \u001b[49m\u001b[43mdevice\u001b[49m\u001b[43m)\u001b[49m\n",
      "Input \u001b[0;32mIn [5]\u001b[0m, in \u001b[0;36mtrainer\u001b[0;34m(train_loader, valid_loader, model, config, device)\u001b[0m\n\u001b[1;32m     23\u001b[0m pred \u001b[38;5;241m=\u001b[39m model(x)             \n\u001b[1;32m     24\u001b[0m loss \u001b[38;5;241m=\u001b[39m criterion(pred, y)\n\u001b[0;32m---> 25\u001b[0m \u001b[43mloss\u001b[49m\u001b[38;5;241;43m.\u001b[39;49m\u001b[43mbackward\u001b[49m\u001b[43m(\u001b[49m\u001b[43m)\u001b[49m                     \u001b[38;5;66;03m# Compute gradient(backpropagation).\u001b[39;00m\n\u001b[1;32m     26\u001b[0m optimizer\u001b[38;5;241m.\u001b[39mstep()                    \u001b[38;5;66;03m# Update parameters.\u001b[39;00m\n\u001b[1;32m     27\u001b[0m step \u001b[38;5;241m+\u001b[39m\u001b[38;5;241m=\u001b[39m \u001b[38;5;241m1\u001b[39m\n",
      "File \u001b[0;32m~/miniconda3/envs/tf/lib/python3.8/site-packages/torch/tensor.py:195\u001b[0m, in \u001b[0;36mTensor.backward\u001b[0;34m(self, gradient, retain_graph, create_graph)\u001b[0m\n\u001b[1;32m    167\u001b[0m \u001b[38;5;28;01mdef\u001b[39;00m \u001b[38;5;21mbackward\u001b[39m(\u001b[38;5;28mself\u001b[39m, gradient\u001b[38;5;241m=\u001b[39m\u001b[38;5;28;01mNone\u001b[39;00m, retain_graph\u001b[38;5;241m=\u001b[39m\u001b[38;5;28;01mNone\u001b[39;00m, create_graph\u001b[38;5;241m=\u001b[39m\u001b[38;5;28;01mFalse\u001b[39;00m):\n\u001b[1;32m    168\u001b[0m     \u001b[38;5;124mr\u001b[39m\u001b[38;5;124;03m\"\"\"Computes the gradient of current tensor w.r.t. graph leaves.\u001b[39;00m\n\u001b[1;32m    169\u001b[0m \n\u001b[1;32m    170\u001b[0m \u001b[38;5;124;03m    The graph is differentiated using the chain rule. If the tensor is\u001b[39;00m\n\u001b[0;32m   (...)\u001b[0m\n\u001b[1;32m    193\u001b[0m \u001b[38;5;124;03m            products. Defaults to ``False``.\u001b[39;00m\n\u001b[1;32m    194\u001b[0m \u001b[38;5;124;03m    \"\"\"\u001b[39;00m\n\u001b[0;32m--> 195\u001b[0m     \u001b[43mtorch\u001b[49m\u001b[38;5;241;43m.\u001b[39;49m\u001b[43mautograd\u001b[49m\u001b[38;5;241;43m.\u001b[39;49m\u001b[43mbackward\u001b[49m\u001b[43m(\u001b[49m\u001b[38;5;28;43mself\u001b[39;49m\u001b[43m,\u001b[49m\u001b[43m \u001b[49m\u001b[43mgradient\u001b[49m\u001b[43m,\u001b[49m\u001b[43m \u001b[49m\u001b[43mretain_graph\u001b[49m\u001b[43m,\u001b[49m\u001b[43m \u001b[49m\u001b[43mcreate_graph\u001b[49m\u001b[43m)\u001b[49m\n",
      "File \u001b[0;32m~/miniconda3/envs/tf/lib/python3.8/site-packages/torch/autograd/__init__.py:97\u001b[0m, in \u001b[0;36mbackward\u001b[0;34m(tensors, grad_tensors, retain_graph, create_graph, grad_variables)\u001b[0m\n\u001b[1;32m     94\u001b[0m \u001b[38;5;28;01mif\u001b[39;00m retain_graph \u001b[38;5;129;01mis\u001b[39;00m \u001b[38;5;28;01mNone\u001b[39;00m:\n\u001b[1;32m     95\u001b[0m     retain_graph \u001b[38;5;241m=\u001b[39m create_graph\n\u001b[0;32m---> 97\u001b[0m \u001b[43mVariable\u001b[49m\u001b[38;5;241;43m.\u001b[39;49m\u001b[43m_execution_engine\u001b[49m\u001b[38;5;241;43m.\u001b[39;49m\u001b[43mrun_backward\u001b[49m\u001b[43m(\u001b[49m\n\u001b[1;32m     98\u001b[0m \u001b[43m    \u001b[49m\u001b[43mtensors\u001b[49m\u001b[43m,\u001b[49m\u001b[43m \u001b[49m\u001b[43mgrad_tensors\u001b[49m\u001b[43m,\u001b[49m\u001b[43m \u001b[49m\u001b[43mretain_graph\u001b[49m\u001b[43m,\u001b[49m\u001b[43m \u001b[49m\u001b[43mcreate_graph\u001b[49m\u001b[43m,\u001b[49m\n\u001b[1;32m     99\u001b[0m \u001b[43m    \u001b[49m\u001b[43mallow_unreachable\u001b[49m\u001b[38;5;241;43m=\u001b[39;49m\u001b[38;5;28;43;01mTrue\u001b[39;49;00m\u001b[43m)\u001b[49m\n",
      "\u001b[0;31mKeyboardInterrupt\u001b[0m: "
     ]
    }
   ],
   "source": [
    "trainer(train_loader, valid_loader, model, config, device)"
   ]
  },
  {
   "cell_type": "code",
   "execution_count": 30,
   "id": "f971715b",
   "metadata": {},
   "outputs": [
    {
     "data": {
      "text/html": [
       "\n",
       "      <iframe id=\"tensorboard-frame-394bfa5cc436228c\" width=\"100%\" height=\"800\" frameborder=\"0\">\n",
       "      </iframe>\n",
       "      <script>\n",
       "        (function() {\n",
       "          const frame = document.getElementById(\"tensorboard-frame-394bfa5cc436228c\");\n",
       "          const url = new URL(\"/\", window.location);\n",
       "          const port = 6006;\n",
       "          if (port) {\n",
       "            url.port = port;\n",
       "          }\n",
       "          frame.src = url;\n",
       "        })();\n",
       "      </script>\n",
       "    "
      ],
      "text/plain": [
       "<IPython.core.display.HTML object>"
      ]
     },
     "metadata": {},
     "output_type": "display_data"
    }
   ],
   "source": [
    "%reload_ext tensorboard\n",
    "%tensorboard --logdir=./runs/"
   ]
  },
  {
   "cell_type": "code",
   "execution_count": 32,
   "id": "6f096fc8",
   "metadata": {},
   "outputs": [
    {
     "name": "stderr",
     "output_type": "stream",
     "text": [
      "100%|█████████████████████████████████████████████████████████████████████████| 122/122 [00:00<00:00, 1186.60it/s]\n"
     ]
    }
   ],
   "source": [
    "model = DNN_Regression(input_dim=train_x.shape[1]).to(device)\n",
    "model.load_state_dict(torch.load(config['save_path']))\n",
    "preds = predict(test_loader, model, device)"
   ]
  },
  {
   "cell_type": "code",
   "execution_count": 33,
   "id": "ee3db542",
   "metadata": {},
   "outputs": [
    {
     "data": {
      "text/plain": [
       "array([-0.0054533 , -0.01429252, -0.00793748, ...,  0.00947659,\n",
       "       -0.01261757, -0.01035485], dtype=float32)"
      ]
     },
     "execution_count": 33,
     "metadata": {},
     "output_type": "execute_result"
    }
   ],
   "source": [
    "preds"
   ]
  },
  {
   "cell_type": "code",
   "execution_count": 34,
   "id": "cb323d15",
   "metadata": {},
   "outputs": [
    {
     "data": {
      "text/plain": [
       "0.037514477584168066"
      ]
     },
     "execution_count": 34,
     "metadata": {},
     "output_type": "execute_result"
    }
   ],
   "source": [
    "from sklearn.metrics import mean_squared_error\n",
    "\n",
    "mean_squared_error(preds, test_y)"
   ]
  },
  {
   "cell_type": "code",
   "execution_count": 36,
   "id": "50bad608",
   "metadata": {},
   "outputs": [
    {
     "data": {
      "text/html": [
       "<div>\n",
       "<style scoped>\n",
       "    .dataframe tbody tr th:only-of-type {\n",
       "        vertical-align: middle;\n",
       "    }\n",
       "\n",
       "    .dataframe tbody tr th {\n",
       "        vertical-align: top;\n",
       "    }\n",
       "\n",
       "    .dataframe thead th {\n",
       "        text-align: right;\n",
       "    }\n",
       "</style>\n",
       "<table border=\"1\" class=\"dataframe\">\n",
       "  <thead>\n",
       "    <tr style=\"text-align: right;\">\n",
       "      <th></th>\n",
       "      <th>0</th>\n",
       "      <th>y</th>\n",
       "      <th>groundTrue</th>\n",
       "    </tr>\n",
       "  </thead>\n",
       "  <tbody>\n",
       "    <tr>\n",
       "      <th>0</th>\n",
       "      <td>2.518758</td>\n",
       "      <td>-0.005453</td>\n",
       "      <td>0</td>\n",
       "    </tr>\n",
       "    <tr>\n",
       "      <th>1</th>\n",
       "      <td>2.633924</td>\n",
       "      <td>-0.014293</td>\n",
       "      <td>0</td>\n",
       "    </tr>\n",
       "    <tr>\n",
       "      <th>2</th>\n",
       "      <td>5.037992</td>\n",
       "      <td>-0.007937</td>\n",
       "      <td>0</td>\n",
       "    </tr>\n",
       "    <tr>\n",
       "      <th>3</th>\n",
       "      <td>7.563413</td>\n",
       "      <td>0.027924</td>\n",
       "      <td>0</td>\n",
       "    </tr>\n",
       "    <tr>\n",
       "      <th>4</th>\n",
       "      <td>2.510550</td>\n",
       "      <td>0.009340</td>\n",
       "      <td>0</td>\n",
       "    </tr>\n",
       "    <tr>\n",
       "      <th>...</th>\n",
       "      <td>...</td>\n",
       "      <td>...</td>\n",
       "      <td>...</td>\n",
       "    </tr>\n",
       "    <tr>\n",
       "      <th>31200</th>\n",
       "      <td>-7.454380</td>\n",
       "      <td>-0.011104</td>\n",
       "      <td>0</td>\n",
       "    </tr>\n",
       "    <tr>\n",
       "      <th>31201</th>\n",
       "      <td>-7.409502</td>\n",
       "      <td>0.668694</td>\n",
       "      <td>1</td>\n",
       "    </tr>\n",
       "    <tr>\n",
       "      <th>31202</th>\n",
       "      <td>5.092651</td>\n",
       "      <td>0.009477</td>\n",
       "      <td>0</td>\n",
       "    </tr>\n",
       "    <tr>\n",
       "      <th>31203</th>\n",
       "      <td>2.531582</td>\n",
       "      <td>-0.012618</td>\n",
       "      <td>0</td>\n",
       "    </tr>\n",
       "    <tr>\n",
       "      <th>31204</th>\n",
       "      <td>-7.455754</td>\n",
       "      <td>-0.010355</td>\n",
       "      <td>0</td>\n",
       "    </tr>\n",
       "  </tbody>\n",
       "</table>\n",
       "<p>31205 rows × 3 columns</p>\n",
       "</div>"
      ],
      "text/plain": [
       "              0         y  groundTrue\n",
       "0      2.518758 -0.005453           0\n",
       "1      2.633924 -0.014293           0\n",
       "2      5.037992 -0.007937           0\n",
       "3      7.563413  0.027924           0\n",
       "4      2.510550  0.009340           0\n",
       "...         ...       ...         ...\n",
       "31200 -7.454380 -0.011104           0\n",
       "31201 -7.409502  0.668694           1\n",
       "31202  5.092651  0.009477           0\n",
       "31203  2.531582 -0.012618           0\n",
       "31204 -7.455754 -0.010355           0\n",
       "\n",
       "[31205 rows x 3 columns]"
      ]
     },
     "execution_count": 36,
     "metadata": {},
     "output_type": "execute_result"
    }
   ],
   "source": [
    "from sklearn.decomposition import PCA\n",
    "\n",
    "pca = PCA(n_components=1)\n",
    "pca_train_x = pca.fit_transform(train_x)\n",
    "\n",
    "pca_test_x = pca.transform(test_x)\n",
    "\n",
    "df = pd.DataFrame(pca_test_x)\n",
    "df['y'] = preds\n",
    "df['groundTrue'] = test_y\n",
    "df\n"
   ]
  },
  {
   "cell_type": "code",
   "execution_count": 39,
   "id": "884b198e",
   "metadata": {},
   "outputs": [
    {
     "name": "stderr",
     "output_type": "stream",
     "text": [
      "/tmp/ipykernel_27949/920653628.py:5: UserWarning: The palette list has more values (10) than needed (4), which may not be intended.\n",
      "  sns.scatterplot(\n"
     ]
    },
    {
     "data": {
      "text/plain": [
       "<AxesSubplot:xlabel='0', ylabel='y'>"
      ]
     },
     "execution_count": 39,
     "metadata": {},
     "output_type": "execute_result"
    },
    {
     "data": {
      "image/png": "[encoded data removed]",
      "text/plain": [
       "<Figure size 1600x1000 with 1 Axes>"
      ]
     },
     "metadata": {},
     "output_type": "display_data"
    }
   ],
   "source": [
    "import matplotlib.pyplot as plt\n",
    "import seaborn as sns\n",
    "\n",
    "plt.figure(figsize=(16,10))\n",
    "sns.scatterplot(\n",
    "    x=0, y='y',\n",
    "    hue=\"groundTrue\",\n",
    "    palette=sns.color_palette(\"hls\", 10),\n",
    "    data=df,\n",
    "    legend=\"full\",\n",
    "    alpha=1\n",
    ")"
   ]
  },
  {
   "cell_type": "code",
   "execution_count": null,
   "id": "f59b88e7",
   "metadata": {},
   "outputs": [],
   "source": [
    "\n",
    "hard_result = np.round(preds)\n",
    "\n",
    "print(classification_report(test_y, hard_result))"
   ]
  }
 ],
 "metadata": {
  "kernelspec": {
   "display_name": "Python 3 (ipykernel)",
   "language": "python",
   "name": "python3"
  },
  "language_info": {
   "codemirror_mode": {
    "name": "ipython",
    "version": 3
   },
   "file_extension": ".py",
   "mimetype": "text/x-python",
   "name": "python",
   "nbconvert_exporter": "python",
   "pygments_lexer": "ipython3",
   "version": "3.8.13"
  }
 },
 "nbformat": 4,
 "nbformat_minor": 5
}
