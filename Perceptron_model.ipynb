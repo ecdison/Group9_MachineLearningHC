{
 "cells": [
  {
   "cell_type": "code",
   "execution_count": 18,
   "id": "ea6ae9c7",
   "metadata": {},
   "outputs": [],
   "source": [
    "import numpy as np\n",
    "import pandas as pd\n",
    "from sklearn.linear_model import Perceptron\n",
    "import warnings\n",
    "warnings.filterwarnings('ignore')\n",
    "from sklearn.metrics import classification_report\n",
    "from sklearn.metrics import confusion_matrix\n",
    "\n",
    "train_x = pd.read_csv('csv_files/train_binary_x.csv')\n",
    "train_y = pd.read_csv('csv_files/train_binary_y.csv')\n",
    "test_x = pd.read_csv('csv_files/test_binary_x.csv')\n",
    "test_y = pd.read_csv('csv_files/test_binary_y.csv')\n",
    "\n",
    "train_x_IVF = pd.read_csv('csv_files/x_train_binary_IVF.csv')\n",
    "train_y_IVF = pd.read_csv('csv_files/y_train_binary_IVF.csv')\n",
    "test_x_IVF = pd.read_csv('csv_files/x_test_binary_IVF.csv')\n",
    "test_y_IVF = pd.read_csv('csv_files/y_test_binary_IVF.csv')"
   ]
  },
  {
   "cell_type": "code",
   "execution_count": 19,
   "id": "16d780a9",
   "metadata": {},
   "outputs": [
    {
     "name": "stdout",
     "output_type": "stream",
     "text": [
      "Test_x shape:  (31226, 28)\n",
      "Train_x shape:  (124904, 28)\n",
      "Train_y shape:  (124904, 1)\n",
      "Test_x_IVF shape:  (31226, 27)\n",
      "Train_x_IVF shape:  (124904, 27)\n",
      "Train_y_IVF shape:  (124904, 1)\n"
     ]
    }
   ],
   "source": [
    "print('Test_x shape: ', test_x.shape)\n",
    "print('Train_x shape: ', train_x.shape)\n",
    "print('Train_y shape: ', train_y.shape)\n",
    "\n",
    "print('Test_x_IVF shape: ', test_x_IVF.shape)\n",
    "print('Train_x_IVF shape: ', train_x_IVF.shape)\n",
    "print('Train_y_IVF shape: ', train_y_IVF.shape)"
   ]
  },
  {
   "cell_type": "code",
   "execution_count": 20,
   "id": "ff253be8",
   "metadata": {},
   "outputs": [],
   "source": [
    "X = train_x.values\n",
    "y = train_y.astype(int).values.ravel()\n",
    "\n",
    "per_clf = Perceptron(\n",
    "    max_iter=1000, \n",
    "    tol=1e-3, \n",
    "    random_state=42)\n",
    "\n",
    "per_clf.fit(X, y)\n",
    "\n",
    "y_pred = per_clf.predict(test_x.values)"
   ]
  },
  {
   "cell_type": "code",
   "execution_count": 21,
   "id": "b308e46a",
   "metadata": {},
   "outputs": [
    {
     "data": {
      "text/plain": [
       "array([0, 0, 0, ..., 0, 0, 0])"
      ]
     },
     "execution_count": 21,
     "metadata": {},
     "output_type": "execute_result"
    }
   ],
   "source": [
    "y_pred"
   ]
  },
  {
   "cell_type": "code",
   "execution_count": 22,
   "id": "48b86273",
   "metadata": {},
   "outputs": [
    {
     "name": "stdout",
     "output_type": "stream",
     "text": [
      "              precision    recall  f1-score   support\n",
      "\n",
      "           0       1.00      0.96      0.98     27451\n",
      "           1       0.77      1.00      0.87      3775\n",
      "\n",
      "    accuracy                           0.96     31226\n",
      "   macro avg       0.89      0.98      0.92     31226\n",
      "weighted avg       0.97      0.96      0.97     31226\n",
      "\n"
     ]
    }
   ],
   "source": [
    "from sklearn.metrics import classification_report\n",
    "\n",
    "print(classification_report(test_y, y_pred))"
   ]
  },
  {
   "cell_type": "code",
   "execution_count": 23,
   "id": "78ce06cb",
   "metadata": {},
   "outputs": [
    {
     "name": "stdout",
     "output_type": "stream",
     "text": [
      "Confusion Matrix1:\n",
      "[[26326  1125]\n",
      " [    0  3775]]\n"
     ]
    }
   ],
   "source": [
    "print('Confusion Matrix1:')\n",
    "print(confusion_matrix(test_y, y_pred))"
   ]
  },
  {
   "cell_type": "code",
   "execution_count": 25,
   "id": "5e0010cb",
   "metadata": {},
   "outputs": [],
   "source": [
    "X_IVF = train_x_IVF.values\n",
    "y_IVF = train_y_IVF.astype(int).values.ravel()\n",
    "\n",
    "per_clf_IVF = Perceptron(\n",
    "    max_iter=1000, \n",
    "    tol=1e-3, \n",
    "    random_state=42)\n",
    "\n",
    "per_clf_IVF.fit(X_IVF, y_IVF)\n",
    "\n",
    "y_pred_IVF = per_clf_IVF.predict(test_x_IVF.values)"
   ]
  },
  {
   "cell_type": "code",
   "execution_count": 26,
   "id": "a54f3d41",
   "metadata": {},
   "outputs": [
    {
     "data": {
      "text/plain": [
       "array([0, 0, 0, ..., 0, 0, 0])"
      ]
     },
     "execution_count": 26,
     "metadata": {},
     "output_type": "execute_result"
    }
   ],
   "source": [
    "y_pred_IVF"
   ]
  },
  {
   "cell_type": "code",
   "execution_count": 27,
   "id": "3b7c29cb",
   "metadata": {},
   "outputs": [
    {
     "name": "stdout",
     "output_type": "stream",
     "text": [
      "              precision    recall  f1-score   support\n",
      "\n",
      "           0       0.84      1.00      0.91     26270\n",
      "           1       0.60      0.01      0.02      4956\n",
      "\n",
      "    accuracy                           0.84     31226\n",
      "   macro avg       0.72      0.51      0.47     31226\n",
      "weighted avg       0.80      0.84      0.77     31226\n",
      "\n"
     ]
    }
   ],
   "source": [
    "print(classification_report(test_y_IVF, y_pred_IVF))"
   ]
  },
  {
   "cell_type": "code",
   "execution_count": 28,
   "id": "5393fbf1",
   "metadata": {},
   "outputs": [],
   "source": [
    "# Using SMOTE to resample target data \n",
    "from imblearn.over_sampling import SMOTE\n",
    "\n",
    "smt = SMOTE(random_state = 100, sampling_strategy = 1.0)\n",
    "train_x_smt, train_y_smt = smt.fit_resample(train_x, train_y)\n",
    "\n",
    "smt_IVF = SMOTE(random_state = 100, sampling_strategy = 1.0)\n",
    "train_x_smt_IVF, train_y_smt_IVF = smt_IVF.fit_resample(train_x_IVF, train_y_IVF)"
   ]
  },
  {
   "cell_type": "code",
   "execution_count": 29,
   "id": "ce5559f9",
   "metadata": {},
   "outputs": [
    {
     "name": "stdout",
     "output_type": "stream",
     "text": [
      "SMOTE for live birth\n",
      "LiveBirth\n",
      "0            109803\n",
      "1            109803\n",
      "dtype: int64\n",
      "\n",
      "\n",
      "SMOTE for pregnant\n",
      "Pregnant\n",
      "0           105080\n",
      "1           105080\n",
      "dtype: int64\n"
     ]
    }
   ],
   "source": [
    "# SMOTE values on y train pregnancy model & y train IVF successful model \n",
    "print('SMOTE for live birth')\n",
    "print(train_y_smt.value_counts())\n",
    "print('\\n')\n",
    "print('SMOTE for pregnant')\n",
    "print(train_y_smt_IVF.value_counts())"
   ]
  },
  {
   "cell_type": "code",
   "execution_count": 30,
   "id": "cc4baad4",
   "metadata": {},
   "outputs": [
    {
     "name": "stdout",
     "output_type": "stream",
     "text": [
      "Confusion Matrix1:\n",
      "[[26321  1130]\n",
      " [    0  3775]]\n",
      "Classification Report1:\n",
      "              precision    recall  f1-score   support\n",
      "\n",
      "           0       1.00      0.96      0.98     27451\n",
      "           1       0.77      1.00      0.87      3775\n",
      "\n",
      "    accuracy                           0.96     31226\n",
      "   macro avg       0.88      0.98      0.92     31226\n",
      "weighted avg       0.97      0.96      0.97     31226\n",
      "\n",
      "\n",
      "\n",
      "Confusion Matrix1:\n",
      "[[25225  1045]\n",
      " [ 3747  1209]]\n",
      "Classification Report1:\n",
      "              precision    recall  f1-score   support\n",
      "\n",
      "           0       0.87      0.96      0.91     26270\n",
      "           1       0.54      0.24      0.34      4956\n",
      "\n",
      "    accuracy                           0.85     31226\n",
      "   macro avg       0.70      0.60      0.62     31226\n",
      "weighted avg       0.82      0.85      0.82     31226\n",
      "\n",
      "\n",
      "\n"
     ]
    }
   ],
   "source": [
    "from sklearn.metrics import confusion_matrix\n",
    "\n",
    "# Perceptron model w/SMOTE for pregnancy \n",
    "X1 = train_x_smt.values\n",
    "y1 = train_y_smt.astype(int).values.ravel()\n",
    "per_clf1 = Perceptron(max_iter=1000, tol=1e-3, random_state=42)\n",
    "per_clf1.fit(X1, y1)\n",
    "y_pred = per_clf1.predict(test_x.values)\n",
    "print('Confusion Matrix1:')\n",
    "print(confusion_matrix(test_y, y_pred))\n",
    "print('Classification Report1:')\n",
    "print(classification_report(test_y, y_pred))\n",
    "print('\\n')\n",
    "\n",
    "# Perceptron model w/SMOTE for live birth from IVF\n",
    "X2 = train_x_smt_IVF.values\n",
    "y2 = train_y_smt_IVF.astype(int).values.ravel()\n",
    "per_clf2 = Perceptron(max_iter=1000, tol=1e-3, random_state=42)\n",
    "per_clf2.fit(X2, y2)\n",
    "y_pred_IVF = per_clf2.predict(test_x_IVF.values)\n",
    "print('Confusion Matrix1:')\n",
    "print(confusion_matrix(test_y_IVF, y_pred_IVF))\n",
    "print('Classification Report1:')\n",
    "print(classification_report(test_y_IVF, y_pred_IVF))\n",
    "print('\\n')"
   ]
  },
  {
   "cell_type": "code",
   "execution_count": 37,
   "id": "29e8f002",
   "metadata": {},
   "outputs": [
    {
     "name": "stdout",
     "output_type": "stream",
     "text": [
      "Feature: 0, Score: -0.00420\n",
      "Feature: 1, Score: 0.08473\n",
      "Feature: 2, Score: 0.00000\n",
      "Feature: 3, Score: -0.00001\n",
      "Feature: 4, Score: -0.00000\n",
      "Feature: 5, Score: -0.00000\n",
      "Feature: 6, Score: 0.00000\n",
      "Feature: 7, Score: -0.00000\n",
      "Feature: 8, Score: 0.00002\n",
      "Feature: 9, Score: 0.00048\n",
      "Feature: 10, Score: -0.00173\n",
      "Feature: 11, Score: 0.00055\n",
      "Feature: 12, Score: 0.00089\n",
      "Feature: 13, Score: 0.00000\n",
      "Feature: 14, Score: 0.00000\n",
      "Feature: 15, Score: -0.01033\n",
      "Feature: 16, Score: -0.00016\n",
      "Feature: 17, Score: -0.00045\n",
      "Feature: 18, Score: -0.00156\n",
      "Feature: 19, Score: 0.00125\n",
      "Feature: 20, Score: 0.01190\n",
      "Feature: 21, Score: 0.00023\n",
      "Feature: 22, Score: -0.00165\n",
      "Feature: 23, Score: -0.00033\n",
      "Feature: 24, Score: -0.00492\n",
      "Feature: 25, Score: -0.00194\n",
      "Feature: 26, Score: 0.00082\n"
     ]
    },
    {
     "data": {
      "image/png": "[encoded data removed]",
      "text/plain": [
       "<Figure size 432x288 with 1 Axes>"
      ]
     },
     "metadata": {
      "needs_background": "light"
     },
     "output_type": "display_data"
    }
   ],
   "source": [
    "# Neural networks (including perceptron) do not have feature importance so I am looking at permutation importance\n",
    "# IVF CHANCE OF LIVE BIRTH MODEL \n",
    "\n",
    "from sklearn.inspection import permutation_importance\n",
    "import matplotlib.pyplot as plt\n",
    "\n",
    "# Perform permutation importance\n",
    "results_IVF = permutation_importance(per_clf2, X2, y2, scoring='neg_mean_squared_error')\n",
    "\n",
    "# Get importance\n",
    "importance_IVF = results_IVF.importances_mean\n",
    "\n",
    "# Summarize feature importance\n",
    "for i,v in enumerate(importance_IVF):\n",
    " print('Feature: %0d, Score: %.5f' % (i,v))\n",
    "\n",
    "# Plot feature importance\n",
    "plt.bar([x for x in range(len(importance_IVF))], importance_IVF)\n",
    "plt.show()"
   ]
  },
  {
   "cell_type": "code",
   "execution_count": 38,
   "id": "bf301175",
   "metadata": {},
   "outputs": [
    {
     "name": "stdout",
     "output_type": "stream",
     "text": [
      "Feature: 0, Score: -0.00000\n",
      "Feature: 1, Score: 0.00000\n",
      "Feature: 2, Score: 0.47836\n",
      "Feature: 3, Score: -0.00000\n",
      "Feature: 4, Score: -0.00001\n",
      "Feature: 5, Score: -0.00000\n",
      "Feature: 6, Score: -0.00001\n",
      "Feature: 7, Score: -0.00000\n",
      "Feature: 8, Score: -0.00000\n",
      "Feature: 9, Score: -0.00000\n",
      "Feature: 10, Score: 0.00001\n",
      "Feature: 11, Score: 0.00001\n",
      "Feature: 12, Score: 0.00000\n",
      "Feature: 13, Score: 0.00000\n",
      "Feature: 14, Score: 0.00000\n",
      "Feature: 15, Score: 0.00000\n",
      "Feature: 16, Score: 0.00000\n",
      "Feature: 17, Score: 0.00000\n",
      "Feature: 18, Score: 0.00000\n",
      "Feature: 19, Score: 0.00001\n",
      "Feature: 20, Score: 0.00000\n",
      "Feature: 21, Score: 0.00487\n",
      "Feature: 22, Score: 0.00034\n",
      "Feature: 23, Score: 0.00001\n",
      "Feature: 24, Score: 0.00000\n",
      "Feature: 25, Score: 0.00000\n",
      "Feature: 26, Score: 0.00024\n",
      "Feature: 27, Score: 0.00010\n"
     ]
    },
    {
     "data": {
      "image/png": "[encoded data removed]",
      "text/plain": [
       "<Figure size 432x288 with 1 Axes>"
      ]
     },
     "metadata": {
      "needs_background": "light"
     },
     "output_type": "display_data"
    }
   ],
   "source": [
    "# Neural networks (including perceptron) do not have feature importance so I am looking at permutation importance\n",
    "# IVF CHANCE OF SUCCESFUL PRGENANCY MODEL \n",
    "\n",
    "from sklearn.inspection import permutation_importance\n",
    "import matplotlib.pyplot as plt\n",
    "\n",
    "# Perform permutation importance\n",
    "results = permutation_importance(per_clf, X1, y1, scoring='neg_mean_squared_error')\n",
    "\n",
    "# Get importance\n",
    "importance = results.importances_mean\n",
    "\n",
    "# Summarize feature importance\n",
    "for i,v in enumerate(importance):\n",
    " print('Feature: %0d, Score: %.5f' % (i,v))\n",
    "\n",
    "# Plot feature importance\n",
    "plt.bar([x for x in range(len(importance))], importance)\n",
    "plt.show()"
   ]
  },
  {
   "cell_type": "code",
   "execution_count": null,
   "id": "230ea1b9",
   "metadata": {},
   "outputs": [],
   "source": []
  },
  {
   "cell_type": "code",
   "execution_count": null,
   "id": "aac980c1",
   "metadata": {},
   "outputs": [],
   "source": []
  }
 ],
 "metadata": {
  "kernelspec": {
   "display_name": "Python 3 (ipykernel)",
   "language": "python",
   "name": "python3"
  },
  "language_info": {
   "codemirror_mode": {
    "name": "ipython",
    "version": 3
   },
   "file_extension": ".py",
   "mimetype": "text/x-python",
   "name": "python",
   "nbconvert_exporter": "python",
   "pygments_lexer": "ipython3",
   "version": "3.9.12"
  }
 },
 "nbformat": 4,
 "nbformat_minor": 5
}
