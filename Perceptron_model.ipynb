{
 "cells": [
  {
   "cell_type": "code",
   "execution_count": 1,
   "id": "ea6ae9c7",
   "metadata": {},
   "outputs": [],
   "source": [
    "import numpy as np\n",
    "import pandas as pd\n",
    "from sklearn.linear_model import Perceptron\n",
    "\n",
    "train_x = pd.read_csv('train_x.csv')\n",
    "train_y = pd.read_csv('train_y.csv')\n",
    "test_x = pd.read_csv('test_x.csv')\n",
    "test_y = pd.read_csv('test_y.csv')"
   ]
  },
  {
   "cell_type": "code",
   "execution_count": 2,
   "id": "16d780a9",
   "metadata": {},
   "outputs": [
    {
     "name": "stdout",
     "output_type": "stream",
     "text": [
      "Test_x shape:  (31205, 22)\n",
      "Train_x shape:  (124820, 22)\n",
      "Train_y shape:  (124820, 1)\n"
     ]
    }
   ],
   "source": [
    "print('Test_x shape: ', test_x.shape)\n",
    "print('Train_x shape: ', train_x.shape)\n",
    "print('Train_y shape: ', train_y.shape)"
   ]
  },
  {
   "cell_type": "code",
   "execution_count": 21,
   "id": "ff253be8",
   "metadata": {},
   "outputs": [],
   "source": [
    "X = train_x.values\n",
    "y = train_y.astype(int).values.ravel()\n",
    "\n",
    "per_clf = Perceptron(\n",
    "    max_iter=1000, \n",
    "    tol=1e-3, \n",
    "    random_state=42)\n",
    "\n",
    "per_clf.fit(X, y)\n",
    "\n",
    "y_pred = per_clf.predict(test_x.values)"
   ]
  },
  {
   "cell_type": "code",
   "execution_count": 32,
   "id": "b308e46a",
   "metadata": {},
   "outputs": [
    {
     "data": {
      "text/plain": [
       "array([0, 0, 0, ..., 0, 0, 0], dtype=int64)"
      ]
     },
     "execution_count": 32,
     "metadata": {},
     "output_type": "execute_result"
    }
   ],
   "source": [
    "y_pred"
   ]
  },
  {
   "cell_type": "code",
   "execution_count": 22,
   "id": "48b86273",
   "metadata": {},
   "outputs": [
    {
     "name": "stdout",
     "output_type": "stream",
     "text": [
      "              precision    recall  f1-score   support\n",
      "\n",
      "           0       0.87      0.98      0.92     23569\n",
      "           1       0.72      0.49      0.59      6725\n",
      "           2       0.10      0.00      0.00       884\n",
      "           3       0.00      0.00      0.00        27\n",
      "\n",
      "    accuracy                           0.85     31205\n",
      "   macro avg       0.42      0.37      0.38     31205\n",
      "weighted avg       0.82      0.85      0.82     31205\n",
      "\n"
     ]
    },
    {
     "name": "stderr",
     "output_type": "stream",
     "text": [
      "C:\\Users\\Anna-Sophia\\anaconda3\\lib\\site-packages\\sklearn\\metrics\\_classification.py:1318: UndefinedMetricWarning: Precision and F-score are ill-defined and being set to 0.0 in labels with no predicted samples. Use `zero_division` parameter to control this behavior.\n",
      "  _warn_prf(average, modifier, msg_start, len(result))\n",
      "C:\\Users\\Anna-Sophia\\anaconda3\\lib\\site-packages\\sklearn\\metrics\\_classification.py:1318: UndefinedMetricWarning: Precision and F-score are ill-defined and being set to 0.0 in labels with no predicted samples. Use `zero_division` parameter to control this behavior.\n",
      "  _warn_prf(average, modifier, msg_start, len(result))\n",
      "C:\\Users\\Anna-Sophia\\anaconda3\\lib\\site-packages\\sklearn\\metrics\\_classification.py:1318: UndefinedMetricWarning: Precision and F-score are ill-defined and being set to 0.0 in labels with no predicted samples. Use `zero_division` parameter to control this behavior.\n",
      "  _warn_prf(average, modifier, msg_start, len(result))\n"
     ]
    }
   ],
   "source": [
    "from sklearn.metrics import classification_report\n",
    "\n",
    "print(classification_report(test_y, y_pred))"
   ]
  }
 ],
 "metadata": {
  "kernelspec": {
   "display_name": "Python 3 (ipykernel)",
   "language": "python",
   "name": "python3"
  },
  "language_info": {
   "codemirror_mode": {
    "name": "ipython",
    "version": 3
   },
   "file_extension": ".py",
   "mimetype": "text/x-python",
   "name": "python",
   "nbconvert_exporter": "python",
   "pygments_lexer": "ipython3",
   "version": "3.9.12"
  }
 },
 "nbformat": 4,
 "nbformat_minor": 5
}
