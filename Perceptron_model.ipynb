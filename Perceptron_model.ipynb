{
 "cells": [
  {
   "cell_type": "code",
   "execution_count": 1,
   "id": "ea6ae9c7",
   "metadata": {},
   "outputs": [],
   "source": [
    "import numpy as np\n",
    "import pandas as pd\n",
    "from sklearn.linear_model import Perceptron\n",
    "\n",
    "train_x = pd.read_csv('csv_files/train_binary_x.csv')\n",
    "train_y = pd.read_csv('csv_files/train_binary_y.csv')\n",
    "test_x = pd.read_csv('csv_files/test_binary_x.csv')\n",
    "test_y = pd.read_csv('csv_files/test_binary_y.csv')"
   ]
  },
  {
   "cell_type": "code",
   "execution_count": 2,
   "id": "16d780a9",
   "metadata": {},
   "outputs": [
    {
     "name": "stdout",
     "output_type": "stream",
     "text": [
      "Test_x shape:  (31205, 22)\n",
      "Train_x shape:  (124820, 22)\n",
      "Train_y shape:  (124820, 1)\n"
     ]
    }
   ],
   "source": [
    "print('Test_x shape: ', test_x.shape)\n",
    "print('Train_x shape: ', train_x.shape)\n",
    "print('Train_y shape: ', train_y.shape)"
   ]
  },
  {
   "cell_type": "code",
   "execution_count": 2,
   "id": "ff253be8",
   "metadata": {},
   "outputs": [],
   "source": [
    "X = train_x.values\n",
    "y = train_y.astype(int).values.ravel()\n",
    "\n",
    "per_clf = Perceptron(\n",
    "    max_iter=1000, \n",
    "    tol=1e-3, \n",
    "    random_state=42)\n",
    "\n",
    "per_clf.fit(X, y)\n",
    "\n",
    "y_pred = per_clf.predict(test_x.values)"
   ]
  },
  {
   "cell_type": "code",
   "execution_count": 3,
   "id": "b308e46a",
   "metadata": {},
   "outputs": [
    {
     "data": {
      "text/plain": [
       "array([0, 0, 0, ..., 0, 0, 0])"
      ]
     },
     "execution_count": 3,
     "metadata": {},
     "output_type": "execute_result"
    }
   ],
   "source": [
    "y_pred"
   ]
  },
  {
   "cell_type": "code",
   "execution_count": 4,
   "id": "48b86273",
   "metadata": {},
   "outputs": [
    {
     "name": "stdout",
     "output_type": "stream",
     "text": [
      "              precision    recall  f1-score   support\n",
      "\n",
      "           0       0.91      0.99      0.95     27432\n",
      "           1       0.85      0.26      0.39      3773\n",
      "\n",
      "    accuracy                           0.90     31205\n",
      "   macro avg       0.88      0.62      0.67     31205\n",
      "weighted avg       0.90      0.90      0.88     31205\n",
      "\n"
     ]
    }
   ],
   "source": [
    "from sklearn.metrics import classification_report\n",
    "\n",
    "print(classification_report(test_y, y_pred))"
   ]
  },
  {
   "cell_type": "code",
   "execution_count": null,
   "id": "5393fbf1",
   "metadata": {},
   "outputs": [],
   "source": [
    "from imblearn.over_sampling import SMOTE\n"
   ]
  },
  {
   "cell_type": "code",
   "execution_count": null,
   "id": "bf301175",
   "metadata": {},
   "outputs": [],
   "source": [
    "def plot_feature_importance(importance,names,model_type):\n",
    "\n",
    "  #Create arrays from feature importance and feature names\n",
    "  feature_importance = np.array(importance)\n",
    "  feature_names = np.array(names)\n",
    "\n",
    "  #Create a DataFrame using a Dictionary\n",
    "  data={'feature_names':feature_names,'feature_importance':feature_importance}\n",
    "  fi_df = pd.DataFrame(data)\n",
    "\n",
    "  #Sort the DataFrame in order decreasing feature importance\n",
    "  fi_df.sort_values(by=['feature_importance'], ascending=False,inplace=True)\n",
    "\n",
    "  #Define size of bar plot\n",
    "  plt.figure(figsize=(25,25))\n",
    "  #Plot Searborn bar chart\n",
    "  sns.barplot(x=fi_df['feature_importance'], y=fi_df['feature_names'])\n",
    "  #Add chart labels\n",
    "  plt.title(model_type + 'FEATURE IMPORTANCE')\n",
    "  plt.xlabel('FEATURE IMPORTANCE')\n",
    "  plt.ylabel('FEATURE NAMES')"
   ]
  },
  {
   "cell_type": "code",
   "execution_count": null,
   "id": "230ea1b9",
   "metadata": {},
   "outputs": [],
   "source": [
    "plot_feature_importance(dt.feature_importances_, X_train_smt.columns, 'PERCEPTRON MODEL')"
   ]
  }
 ],
 "metadata": {
  "kernelspec": {
   "display_name": "Python 3 (ipykernel)",
   "language": "python",
   "name": "python3"
  },
  "language_info": {
   "codemirror_mode": {
    "name": "ipython",
    "version": 3
   },
   "file_extension": ".py",
   "mimetype": "text/x-python",
   "name": "python",
   "nbconvert_exporter": "python",
   "pygments_lexer": "ipython3",
   "version": "3.9.12"
  }
 },
 "nbformat": 4,
 "nbformat_minor": 5
}
