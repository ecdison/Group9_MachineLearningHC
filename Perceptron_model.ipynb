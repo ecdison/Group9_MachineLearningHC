{
 "cells": [
  {
   "cell_type": "code",
   "execution_count": 2,
   "id": "ea6ae9c7",
   "metadata": {},
   "outputs": [],
   "source": [
    "import numpy as np\n",
    "import pandas as pd\n",
    "from sklearn.linear_model import Perceptron\n",
    "\n",
    "train_x = pd.read_csv('csv_files/train_binary_x.csv')\n",
    "train_y = pd.read_csv('csv_files/train_binary_y.csv')\n",
    "test_x = pd.read_csv('csv_files/test_binary_x.csv')\n",
    "test_y = pd.read_csv('csv_files/test_binary_y.csv')\n",
    "\n",
    "train_x_IVF = pd.read_csv('csv_files/x_train_binary_IVF.csv')\n",
    "train_y_IVF = pd.read_csv('csv_files/y_train_binary_IVF.csv')\n",
    "test_x_IVF = pd.read_csv('csv_files/x_test_binary_IVF.csv')\n",
    "test_y_IVF = pd.read_csv('csv_files/y_test_binary_IVF.csv')"
   ]
  },
  {
   "cell_type": "code",
   "execution_count": 3,
   "id": "16d780a9",
   "metadata": {},
   "outputs": [
    {
     "name": "stdout",
     "output_type": "stream",
     "text": [
      "Test_x shape:  (31226, 28)\n",
      "Train_x shape:  (124904, 28)\n",
      "Train_y shape:  (124904, 1)\n",
      "Test_x_IVF shape:  (31226, 27)\n",
      "Train_x_IVF shape:  (124904, 27)\n",
      "Train_y_IVF shape:  (124904, 1)\n"
     ]
    }
   ],
   "source": [
    "print('Test_x shape: ', test_x.shape)\n",
    "print('Train_x shape: ', train_x.shape)\n",
    "print('Train_y shape: ', train_y.shape)\n",
    "\n",
    "print('Test_x_IVF shape: ', test_x_IVF.shape)\n",
    "print('Train_x_IVF shape: ', train_x_IVF.shape)\n",
    "print('Train_y_IVF shape: ', train_y_IVF.shape)"
   ]
  },
  {
   "cell_type": "code",
   "execution_count": 4,
   "id": "ff253be8",
   "metadata": {},
   "outputs": [],
   "source": [
    "X = train_x.values\n",
    "y = train_y.astype(int).values.ravel()\n",
    "\n",
    "per_clf = Perceptron(\n",
    "    max_iter=1000, \n",
    "    tol=1e-3, \n",
    "    random_state=42)\n",
    "\n",
    "per_clf.fit(X, y)\n",
    "\n",
    "y_pred = per_clf.predict(test_x.values)"
   ]
  },
  {
   "cell_type": "code",
   "execution_count": 5,
   "id": "b308e46a",
   "metadata": {},
   "outputs": [
    {
     "data": {
      "text/plain": [
       "array([0, 0, 0, ..., 0, 0, 0])"
      ]
     },
     "execution_count": 5,
     "metadata": {},
     "output_type": "execute_result"
    }
   ],
   "source": [
    "y_pred"
   ]
  },
  {
   "cell_type": "code",
   "execution_count": 6,
   "id": "48b86273",
   "metadata": {},
   "outputs": [
    {
     "name": "stdout",
     "output_type": "stream",
     "text": [
      "              precision    recall  f1-score   support\n",
      "\n",
      "           0       1.00      0.96      0.98     27451\n",
      "           1       0.77      1.00      0.87      3775\n",
      "\n",
      "    accuracy                           0.96     31226\n",
      "   macro avg       0.89      0.98      0.92     31226\n",
      "weighted avg       0.97      0.96      0.97     31226\n",
      "\n"
     ]
    }
   ],
   "source": [
    "from sklearn.metrics import classification_report\n",
    "\n",
    "print(classification_report(test_y, y_pred))"
   ]
  },
  {
   "cell_type": "code",
   "execution_count": 22,
   "id": "78ce06cb",
   "metadata": {},
   "outputs": [
    {
     "name": "stdout",
     "output_type": "stream",
     "text": [
      "Confusion Matrix1:\n",
      "[[26326  1125]\n",
      " [    0  3775]]\n"
     ]
    }
   ],
   "source": [
    "print('Confusion Matrix1:')\n",
    "print(confusion_matrix(test_y, y_pred))"
   ]
  },
  {
   "cell_type": "code",
   "execution_count": 7,
   "id": "5e0010cb",
   "metadata": {},
   "outputs": [],
   "source": [
    "X_IVF = train_x_IVF.values\n",
    "y_IVF = train_y_IVF.astype(int).values.ravel()\n",
    "\n",
    "per_clf = Perceptron(\n",
    "    max_iter=1000, \n",
    "    tol=1e-3, \n",
    "    random_state=42)\n",
    "\n",
    "per_clf.fit(X_IVF, y_IVF)\n",
    "\n",
    "y_pred_IVF = per_clf.predict(test_x_IVF.values)"
   ]
  },
  {
   "cell_type": "code",
   "execution_count": 8,
   "id": "a54f3d41",
   "metadata": {},
   "outputs": [
    {
     "data": {
      "text/plain": [
       "array([0, 0, 0, ..., 0, 0, 0])"
      ]
     },
     "execution_count": 8,
     "metadata": {},
     "output_type": "execute_result"
    }
   ],
   "source": [
    "y_pred_IVF"
   ]
  },
  {
   "cell_type": "code",
   "execution_count": 37,
   "id": "ca012ba1",
   "metadata": {},
   "outputs": [
    {
     "ename": "AttributeError",
     "evalue": "'numpy.ndarray' object has no attribute 'np'",
     "output_type": "error",
     "traceback": [
      "\u001b[1;31m---------------------------------------------------------------------------\u001b[0m",
      "\u001b[1;31mAttributeError\u001b[0m                            Traceback (most recent call last)",
      "Input \u001b[1;32mIn [37]\u001b[0m, in \u001b[0;36m<cell line: 1>\u001b[1;34m()\u001b[0m\n\u001b[1;32m----> 1\u001b[0m \u001b[38;5;28;01mfor\u001b[39;00m col \u001b[38;5;129;01min\u001b[39;00m \u001b[43mX_IVF\u001b[49m\u001b[38;5;241;43m.\u001b[39;49m\u001b[43mnp\u001b[49m\u001b[38;5;241m.\u001b[39mndarray:\n\u001b[0;32m      2\u001b[0m     \u001b[38;5;28mprint\u001b[39m(col)\n",
      "\u001b[1;31mAttributeError\u001b[0m: 'numpy.ndarray' object has no attribute 'np'"
     ]
    }
   ],
   "source": [
    "for col in X_IVF.np.ndarray:\n",
    "    print(col)"
   ]
  },
  {
   "cell_type": "code",
   "execution_count": 9,
   "id": "3b7c29cb",
   "metadata": {},
   "outputs": [
    {
     "name": "stdout",
     "output_type": "stream",
     "text": [
      "              precision    recall  f1-score   support\n",
      "\n",
      "           0       0.84      1.00      0.91     26270\n",
      "           1       0.60      0.01      0.02      4956\n",
      "\n",
      "    accuracy                           0.84     31226\n",
      "   macro avg       0.72      0.51      0.47     31226\n",
      "weighted avg       0.80      0.84      0.77     31226\n",
      "\n"
     ]
    }
   ],
   "source": [
    "from sklearn.metrics import classification_report\n",
    "\n",
    "print(classification_report(test_y_IVF, y_pred_IVF))"
   ]
  },
  {
   "cell_type": "code",
   "execution_count": 15,
   "id": "5393fbf1",
   "metadata": {},
   "outputs": [],
   "source": [
    "# Using SMOTE to resample target data \n",
    "from imblearn.over_sampling import SMOTE\n",
    "\n",
    "smt = SMOTE(random_state = 100, sampling_strategy = 1.0)\n",
    "train_x_smt, train_y_smt = smt.fit_resample(train_x, train_y)\n",
    "\n",
    "smt_IVF = SMOTE(random_state = 100, sampling_strategy = 1.0)\n",
    "train_x_smt_IVF, train_y_smt_IVF = smt_IVF.fit_resample(train_x_IVF, train_y_IVF)"
   ]
  },
  {
   "cell_type": "code",
   "execution_count": 16,
   "id": "ce5559f9",
   "metadata": {},
   "outputs": [
    {
     "name": "stdout",
     "output_type": "stream",
     "text": [
      "SMOTE for live birth\n",
      "LiveBirth\n",
      "0            109803\n",
      "1            109803\n",
      "dtype: int64\n",
      "\n",
      "\n",
      "SMOTE for pregnant\n",
      "Pregnant\n",
      "0           105080\n",
      "1           105080\n",
      "dtype: int64\n"
     ]
    }
   ],
   "source": [
    "# SMOTE values on y train pregnancy model & y train IVF successful model \n",
    "print('SMOTE for live birth')\n",
    "print(train_y_smt.value_counts())\n",
    "print('\\n')\n",
    "print('SMOTE for pregnant')\n",
    "print(train_y_smt_IVF.value_counts())"
   ]
  },
  {
   "cell_type": "code",
   "execution_count": 26,
   "id": "cc4baad4",
   "metadata": {},
   "outputs": [
    {
     "name": "stdout",
     "output_type": "stream",
     "text": [
      "Confusion Matrix1:\n",
      "[[26321  1130]\n",
      " [    0  3775]]\n",
      "Classification Report1:\n",
      "              precision    recall  f1-score   support\n",
      "\n",
      "           0       1.00      0.96      0.98     27451\n",
      "           1       0.77      1.00      0.87      3775\n",
      "\n",
      "    accuracy                           0.96     31226\n",
      "   macro avg       0.88      0.98      0.92     31226\n",
      "weighted avg       0.97      0.96      0.97     31226\n",
      "\n",
      "\n",
      "\n",
      "Confusion Matrix1:\n",
      "[[25225  1045]\n",
      " [ 3747  1209]]\n",
      "Classification Report1:\n",
      "              precision    recall  f1-score   support\n",
      "\n",
      "           0       0.87      0.96      0.91     26270\n",
      "           1       0.54      0.24      0.34      4956\n",
      "\n",
      "    accuracy                           0.85     31226\n",
      "   macro avg       0.70      0.60      0.62     31226\n",
      "weighted avg       0.82      0.85      0.82     31226\n",
      "\n",
      "\n",
      "\n"
     ]
    }
   ],
   "source": [
    "from sklearn.metrics import confusion_matrix\n",
    "\n",
    "# Perceptron model w/SMOTE for pregnancy \n",
    "X1 = train_x_smt.values\n",
    "y1 = train_y_smt.astype(int).values.ravel()\n",
    "per_clf1 = Perceptron(max_iter=1000, tol=1e-3, random_state=42)\n",
    "per_clf1.fit(X1, y1)\n",
    "y_pred = per_clf1.predict(test_x.values)\n",
    "print('Confusion Matrix1:')\n",
    "print(confusion_matrix(test_y, y_pred))\n",
    "print('Classification Report1:')\n",
    "print(classification_report(test_y, y_pred))\n",
    "print('\\n')\n",
    "\n",
    "# Perceptron model w/SMOTE for live birth from IVF\n",
    "X2 = train_x_smt_IVF.values\n",
    "y2 = train_y_smt_IVF.astype(int).values.ravel()\n",
    "per_clf2 = Perceptron(max_iter=1000, tol=1e-3, random_state=42)\n",
    "per_clf2.fit(X2, y2)\n",
    "y_pred_IVF = per_clf2.predict(test_x_IVF.values)\n",
    "print('Confusion Matrix1:')\n",
    "print(confusion_matrix(test_y_IVF, y_pred_IVF))\n",
    "print('Classification Report1:')\n",
    "print(classification_report(test_y_IVF, y_pred_IVF))\n",
    "print('\\n')"
   ]
  },
  {
   "cell_type": "code",
   "execution_count": 32,
   "id": "bf301175",
   "metadata": {},
   "outputs": [
    {
     "ename": "KeyboardInterrupt",
     "evalue": "Interrupted by user",
     "output_type": "error",
     "traceback": [
      "\u001b[1;31m---------------------------------------------------------------------------\u001b[0m",
      "\u001b[1;31mKeyboardInterrupt\u001b[0m                         Traceback (most recent call last)",
      "Input \u001b[1;32mIn [32]\u001b[0m, in \u001b[0;36m<cell line: 2>\u001b[1;34m()\u001b[0m\n\u001b[0;32m      1\u001b[0m \u001b[38;5;66;03m# Neural networks (including perceptron) do not have feature importance so I am looking at permutation importance\u001b[39;00m\n\u001b[1;32m----> 2\u001b[0m inp \u001b[38;5;241m=\u001b[39m \u001b[38;5;28;43minput\u001b[39;49m\u001b[43m(\u001b[49m\u001b[43mtrain_x_IVF\u001b[49m\u001b[43m)\u001b[49m\n\u001b[0;32m      3\u001b[0m x \u001b[38;5;241m=\u001b[39m Dense(\u001b[38;5;241m128\u001b[39m, activation\u001b[38;5;241m=\u001b[39m\u001b[38;5;124m'\u001b[39m\u001b[38;5;124mrelu\u001b[39m\u001b[38;5;124m'\u001b[39m)(inp)\n\u001b[0;32m      4\u001b[0m x \u001b[38;5;241m=\u001b[39m Dense(\u001b[38;5;241m32\u001b[39m, activation\u001b[38;5;241m=\u001b[39m\u001b[38;5;124m'\u001b[39m\u001b[38;5;124mrelu\u001b[39m\u001b[38;5;124m'\u001b[39m)(x)\n",
      "File \u001b[1;32m~\\anaconda3\\lib\\site-packages\\ipykernel\\kernelbase.py:1075\u001b[0m, in \u001b[0;36mKernel.raw_input\u001b[1;34m(self, prompt)\u001b[0m\n\u001b[0;32m   1071\u001b[0m \u001b[38;5;28;01mif\u001b[39;00m \u001b[38;5;129;01mnot\u001b[39;00m \u001b[38;5;28mself\u001b[39m\u001b[38;5;241m.\u001b[39m_allow_stdin:\n\u001b[0;32m   1072\u001b[0m     \u001b[38;5;28;01mraise\u001b[39;00m StdinNotImplementedError(\n\u001b[0;32m   1073\u001b[0m         \u001b[38;5;124m\"\u001b[39m\u001b[38;5;124mraw_input was called, but this frontend does not support input requests.\u001b[39m\u001b[38;5;124m\"\u001b[39m\n\u001b[0;32m   1074\u001b[0m     )\n\u001b[1;32m-> 1075\u001b[0m \u001b[38;5;28;01mreturn\u001b[39;00m \u001b[38;5;28;43mself\u001b[39;49m\u001b[38;5;241;43m.\u001b[39;49m\u001b[43m_input_request\u001b[49m\u001b[43m(\u001b[49m\n\u001b[0;32m   1076\u001b[0m \u001b[43m    \u001b[49m\u001b[38;5;28;43mstr\u001b[39;49m\u001b[43m(\u001b[49m\u001b[43mprompt\u001b[49m\u001b[43m)\u001b[49m\u001b[43m,\u001b[49m\n\u001b[0;32m   1077\u001b[0m \u001b[43m    \u001b[49m\u001b[38;5;28;43mself\u001b[39;49m\u001b[38;5;241;43m.\u001b[39;49m\u001b[43m_parent_ident\u001b[49m\u001b[43m[\u001b[49m\u001b[38;5;124;43m\"\u001b[39;49m\u001b[38;5;124;43mshell\u001b[39;49m\u001b[38;5;124;43m\"\u001b[39;49m\u001b[43m]\u001b[49m\u001b[43m,\u001b[49m\n\u001b[0;32m   1078\u001b[0m \u001b[43m    \u001b[49m\u001b[38;5;28;43mself\u001b[39;49m\u001b[38;5;241;43m.\u001b[39;49m\u001b[43mget_parent\u001b[49m\u001b[43m(\u001b[49m\u001b[38;5;124;43m\"\u001b[39;49m\u001b[38;5;124;43mshell\u001b[39;49m\u001b[38;5;124;43m\"\u001b[39;49m\u001b[43m)\u001b[49m\u001b[43m,\u001b[49m\n\u001b[0;32m   1079\u001b[0m \u001b[43m    \u001b[49m\u001b[43mpassword\u001b[49m\u001b[38;5;241;43m=\u001b[39;49m\u001b[38;5;28;43;01mFalse\u001b[39;49;00m\u001b[43m,\u001b[49m\n\u001b[0;32m   1080\u001b[0m \u001b[43m\u001b[49m\u001b[43m)\u001b[49m\n",
      "File \u001b[1;32m~\\anaconda3\\lib\\site-packages\\ipykernel\\kernelbase.py:1120\u001b[0m, in \u001b[0;36mKernel._input_request\u001b[1;34m(self, prompt, ident, parent, password)\u001b[0m\n\u001b[0;32m   1117\u001b[0m             \u001b[38;5;28;01mbreak\u001b[39;00m\n\u001b[0;32m   1118\u001b[0m \u001b[38;5;28;01mexcept\u001b[39;00m \u001b[38;5;167;01mKeyboardInterrupt\u001b[39;00m:\n\u001b[0;32m   1119\u001b[0m     \u001b[38;5;66;03m# re-raise KeyboardInterrupt, to truncate traceback\u001b[39;00m\n\u001b[1;32m-> 1120\u001b[0m     \u001b[38;5;28;01mraise\u001b[39;00m \u001b[38;5;167;01mKeyboardInterrupt\u001b[39;00m(\u001b[38;5;124m\"\u001b[39m\u001b[38;5;124mInterrupted by user\u001b[39m\u001b[38;5;124m\"\u001b[39m) \u001b[38;5;28;01mfrom\u001b[39;00m \u001b[38;5;28mNone\u001b[39m\n\u001b[0;32m   1121\u001b[0m \u001b[38;5;28;01mexcept\u001b[39;00m \u001b[38;5;167;01mException\u001b[39;00m:\n\u001b[0;32m   1122\u001b[0m     \u001b[38;5;28mself\u001b[39m\u001b[38;5;241m.\u001b[39mlog\u001b[38;5;241m.\u001b[39mwarning(\u001b[38;5;124m\"\u001b[39m\u001b[38;5;124mInvalid Message:\u001b[39m\u001b[38;5;124m\"\u001b[39m, exc_info\u001b[38;5;241m=\u001b[39m\u001b[38;5;28;01mTrue\u001b[39;00m)\n",
      "\u001b[1;31mKeyboardInterrupt\u001b[0m: Interrupted by user"
     ]
    }
   ],
   "source": [
    "# Neural networks (including perceptron) do not have feature importance so I am looking at permutation importance\n",
    "inp = input(train_x_IVF)\n",
    "x = Dense(128, activation='relu')(inp)\n",
    "x = Dense(32, activation='relu')(x)\n",
    "out = Dense(1)(x)\n",
    "model = Model(inp, out)\n",
    "model.compile(optimizer='adam', loss='mse')\n",
    "model.fit(scaled_train, (train_y_IVF - train_y_IVF.mean())/train_y_IVF.std(),epochs=100,batch_size=128,verbose=2)"
   ]
  },
  {
   "cell_type": "code",
   "execution_count": 34,
   "id": "230ea1b9",
   "metadata": {},
   "outputs": [
    {
     "ename": "NameError",
     "evalue": "name 'final_score' is not defined",
     "output_type": "error",
     "traceback": [
      "\u001b[1;31m---------------------------------------------------------------------------\u001b[0m",
      "\u001b[1;31mNameError\u001b[0m                                 Traceback (most recent call last)",
      "Input \u001b[1;32mIn [34]\u001b[0m, in \u001b[0;36m<cell line: 2>\u001b[1;34m()\u001b[0m\n\u001b[0;32m      1\u001b[0m \u001b[38;5;28;01mimport\u001b[39;00m \u001b[38;5;21;01mmatplotlib\u001b[39;00m\u001b[38;5;21;01m.\u001b[39;00m\u001b[38;5;21;01mpyplot\u001b[39;00m \u001b[38;5;28;01mas\u001b[39;00m \u001b[38;5;21;01mplt\u001b[39;00m\n\u001b[1;32m----> 2\u001b[0m plt\u001b[38;5;241m.\u001b[39mbar(\u001b[38;5;28mrange\u001b[39m(train_x_IVF\u001b[38;5;241m.\u001b[39mshape[\u001b[38;5;241m1\u001b[39m]), (\u001b[43mfinal_score\u001b[49m \u001b[38;5;241m-\u001b[39m MAE)\u001b[38;5;241m/\u001b[39mMAE\u001b[38;5;241m*\u001b[39m\u001b[38;5;241m100\u001b[39m)\n\u001b[0;32m      3\u001b[0m plt\u001b[38;5;241m.\u001b[39mxticks(\u001b[38;5;28mrange\u001b[39m(train_x_IVF\u001b[38;5;241m.\u001b[39mshape[\u001b[38;5;241m1\u001b[39m]), [\u001b[38;5;124m'\u001b[39m\u001b[38;5;124mAT\u001b[39m\u001b[38;5;124m'\u001b[39m,\u001b[38;5;124m'\u001b[39m\u001b[38;5;124mV\u001b[39m\u001b[38;5;124m'\u001b[39m,\u001b[38;5;124m'\u001b[39m\u001b[38;5;124mAP\u001b[39m\u001b[38;5;124m'\u001b[39m,\u001b[38;5;124m'\u001b[39m\u001b[38;5;124mRH\u001b[39m\u001b[38;5;124m'\u001b[39m])\n",
      "\u001b[1;31mNameError\u001b[0m: name 'final_score' is not defined"
     ]
    }
   ],
   "source": [
    "import matplotlib.pyplot as plt\n",
    "plt.bar(range(train_x_IVF.shape[1]), (final_score - MAE)/MAE*100)\n",
    "plt.xticks(range(train_x_IVF.shape[1]), ['AT','V','AP','RH'])"
   ]
  },
  {
   "cell_type": "code",
   "execution_count": null,
   "id": "aac980c1",
   "metadata": {},
   "outputs": [],
   "source": []
  }
 ],
 "metadata": {
  "kernelspec": {
   "display_name": "Python 3 (ipykernel)",
   "language": "python",
   "name": "python3"
  },
  "language_info": {
   "codemirror_mode": {
    "name": "ipython",
    "version": 3
   },
   "file_extension": ".py",
   "mimetype": "text/x-python",
   "name": "python",
   "nbconvert_exporter": "python",
   "pygments_lexer": "ipython3",
   "version": "3.9.12"
  }
 },
 "nbformat": 4,
 "nbformat_minor": 5
}
