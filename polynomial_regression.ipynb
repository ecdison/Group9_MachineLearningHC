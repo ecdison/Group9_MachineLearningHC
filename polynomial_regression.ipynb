{
  "cells": [
    {
      "cell_type": "markdown",
      "metadata": {
        "id": "view-in-github",
        "colab_type": "text"
      },
      "source": [
        "<a href=\"https://colab.research.google.com/github/ecdison/Group9_MachineLearningHC/blob/anna-sophia0/polynomial_regression.ipynb\" target=\"_parent\"><img src=\"https://colab.research.google.com/assets/colab-badge.svg\" alt=\"Open In Colab\"/></a>"
      ]
    },
    {
      "cell_type": "code",
      "execution_count": null,
      "metadata": {
        "id": "iuREuGS4AxMI"
      },
      "outputs": [],
      "source": [
        "import pandas as pd\n",
        "import numpy as np\n",
        "import numpy.random as rnd\n",
        "\n",
        "train_x = pd.read_csv('train_x.csv')\n",
        "train_y = pd.read_csv('train_y.csv')\n",
        "test_x = pd.read_csv('test_x.csv')\n",
        "test_y = pd.read_csv('test_y.csv')\n",
        "\n",
        "# Make output stable across all models\n",
        "np.random.seed(42)\n",
        "\n",
        "# Only use train set. x is df without live birth. y is live birth occurence. \n",
        "\n",
        "# Plot pretty figures\n",
        "%matplotlib inline\n",
        "import matplotlib as mpl\n",
        "import matplotlib.pyplot as plt\n",
        "mpl.rc('axes', labelsize=14)\n",
        "mpl.rc('xtick', labelsize=12)\n",
        "mpl.rc('ytick', labelsize=12)"
      ]
    },
    {
      "cell_type": "code",
      "execution_count": null,
      "metadata": {
        "id": "FoGmsFiW5fEA",
        "outputId": "928916b8-c098-4bbf-9b8e-14097f391bec"
      },
      "outputs": [
        {
          "data": {
            "text/html": [
              "<div>\n",
              "<style scoped>\n",
              "    .dataframe tbody tr th:only-of-type {\n",
              "        vertical-align: middle;\n",
              "    }\n",
              "\n",
              "    .dataframe tbody tr th {\n",
              "        vertical-align: top;\n",
              "    }\n",
              "\n",
              "    .dataframe thead th {\n",
              "        text-align: right;\n",
              "    }\n",
              "</style>\n",
              "<table border=\"1\" class=\"dataframe\">\n",
              "  <thead>\n",
              "    <tr style=\"text-align: right;\">\n",
              "      <th></th>\n",
              "      <th>Patient Age at Treatment</th>\n",
              "      <th>Total Number of Previous IVF cycles</th>\n",
              "      <th>Total number of IVF pregnancies</th>\n",
              "      <th>Total number of live births - conceived through IVF</th>\n",
              "      <th>Type of Infertility - Female Primary</th>\n",
              "      <th>Type of Infertility - Female Secondary</th>\n",
              "      <th>Type of Infertility - Male Primary</th>\n",
              "      <th>Type of Infertility - Male Secondary</th>\n",
              "      <th>Type of Infertility -Couple Primary</th>\n",
              "      <th>Type of Infertility -Couple Secondary</th>\n",
              "      <th>...</th>\n",
              "      <th>Cause of Infertility - Male Factor</th>\n",
              "      <th>Cause of Infertility - Patient Unexplained</th>\n",
              "      <th>Cause of Infertility - Endometriosis</th>\n",
              "      <th>Cause of Infertility - Cervical factors</th>\n",
              "      <th>Cause of Infertility -  Partner Sperm Morphology</th>\n",
              "      <th>Stimulation used</th>\n",
              "      <th>Number of foetal sacs with fetal pulsation</th>\n",
              "      <th>Embryos Transfered</th>\n",
              "      <th>Sperm From Partner</th>\n",
              "      <th>Sperm From Donor</th>\n",
              "    </tr>\n",
              "  </thead>\n",
              "  <tbody>\n",
              "    <tr>\n",
              "      <th>0</th>\n",
              "      <td>26.0</td>\n",
              "      <td>1</td>\n",
              "      <td>0</td>\n",
              "      <td>0</td>\n",
              "      <td>0</td>\n",
              "      <td>0</td>\n",
              "      <td>0</td>\n",
              "      <td>0</td>\n",
              "      <td>0</td>\n",
              "      <td>0</td>\n",
              "      <td>...</td>\n",
              "      <td>1</td>\n",
              "      <td>0</td>\n",
              "      <td>0</td>\n",
              "      <td>0</td>\n",
              "      <td>0</td>\n",
              "      <td>0</td>\n",
              "      <td>0</td>\n",
              "      <td>1.000000</td>\n",
              "      <td>1</td>\n",
              "      <td>0</td>\n",
              "    </tr>\n",
              "    <tr>\n",
              "      <th>1</th>\n",
              "      <td>26.0</td>\n",
              "      <td>2</td>\n",
              "      <td>0</td>\n",
              "      <td>0</td>\n",
              "      <td>0</td>\n",
              "      <td>0</td>\n",
              "      <td>0</td>\n",
              "      <td>0</td>\n",
              "      <td>0</td>\n",
              "      <td>0</td>\n",
              "      <td>...</td>\n",
              "      <td>1</td>\n",
              "      <td>0</td>\n",
              "      <td>0</td>\n",
              "      <td>0</td>\n",
              "      <td>0</td>\n",
              "      <td>0</td>\n",
              "      <td>1</td>\n",
              "      <td>1.000000</td>\n",
              "      <td>1</td>\n",
              "      <td>0</td>\n",
              "    </tr>\n",
              "    <tr>\n",
              "      <th>2</th>\n",
              "      <td>38.5</td>\n",
              "      <td>0</td>\n",
              "      <td>0</td>\n",
              "      <td>0</td>\n",
              "      <td>0</td>\n",
              "      <td>0</td>\n",
              "      <td>0</td>\n",
              "      <td>0</td>\n",
              "      <td>0</td>\n",
              "      <td>0</td>\n",
              "      <td>...</td>\n",
              "      <td>1</td>\n",
              "      <td>0</td>\n",
              "      <td>0</td>\n",
              "      <td>0</td>\n",
              "      <td>0</td>\n",
              "      <td>1</td>\n",
              "      <td>0</td>\n",
              "      <td>2.000000</td>\n",
              "      <td>1</td>\n",
              "      <td>0</td>\n",
              "    </tr>\n",
              "    <tr>\n",
              "      <th>3</th>\n",
              "      <td>36.0</td>\n",
              "      <td>0</td>\n",
              "      <td>0</td>\n",
              "      <td>0</td>\n",
              "      <td>0</td>\n",
              "      <td>0</td>\n",
              "      <td>0</td>\n",
              "      <td>0</td>\n",
              "      <td>0</td>\n",
              "      <td>0</td>\n",
              "      <td>...</td>\n",
              "      <td>0</td>\n",
              "      <td>0</td>\n",
              "      <td>0</td>\n",
              "      <td>0</td>\n",
              "      <td>0</td>\n",
              "      <td>1</td>\n",
              "      <td>0</td>\n",
              "      <td>0.000000</td>\n",
              "      <td>1</td>\n",
              "      <td>0</td>\n",
              "    </tr>\n",
              "    <tr>\n",
              "      <th>4</th>\n",
              "      <td>38.5</td>\n",
              "      <td>6</td>\n",
              "      <td>2</td>\n",
              "      <td>1</td>\n",
              "      <td>0</td>\n",
              "      <td>0</td>\n",
              "      <td>0</td>\n",
              "      <td>0</td>\n",
              "      <td>0</td>\n",
              "      <td>0</td>\n",
              "      <td>...</td>\n",
              "      <td>1</td>\n",
              "      <td>0</td>\n",
              "      <td>0</td>\n",
              "      <td>0</td>\n",
              "      <td>0</td>\n",
              "      <td>1</td>\n",
              "      <td>0</td>\n",
              "      <td>3.000000</td>\n",
              "      <td>1</td>\n",
              "      <td>0</td>\n",
              "    </tr>\n",
              "    <tr>\n",
              "      <th>...</th>\n",
              "      <td>...</td>\n",
              "      <td>...</td>\n",
              "      <td>...</td>\n",
              "      <td>...</td>\n",
              "      <td>...</td>\n",
              "      <td>...</td>\n",
              "      <td>...</td>\n",
              "      <td>...</td>\n",
              "      <td>...</td>\n",
              "      <td>...</td>\n",
              "      <td>...</td>\n",
              "      <td>...</td>\n",
              "      <td>...</td>\n",
              "      <td>...</td>\n",
              "      <td>...</td>\n",
              "      <td>...</td>\n",
              "      <td>...</td>\n",
              "      <td>...</td>\n",
              "      <td>...</td>\n",
              "      <td>...</td>\n",
              "      <td>...</td>\n",
              "    </tr>\n",
              "    <tr>\n",
              "      <th>124815</th>\n",
              "      <td>26.0</td>\n",
              "      <td>1</td>\n",
              "      <td>0</td>\n",
              "      <td>0</td>\n",
              "      <td>0</td>\n",
              "      <td>0</td>\n",
              "      <td>0</td>\n",
              "      <td>0</td>\n",
              "      <td>0</td>\n",
              "      <td>0</td>\n",
              "      <td>...</td>\n",
              "      <td>0</td>\n",
              "      <td>0</td>\n",
              "      <td>0</td>\n",
              "      <td>0</td>\n",
              "      <td>0</td>\n",
              "      <td>1</td>\n",
              "      <td>1</td>\n",
              "      <td>1.000000</td>\n",
              "      <td>1</td>\n",
              "      <td>0</td>\n",
              "    </tr>\n",
              "    <tr>\n",
              "      <th>124816</th>\n",
              "      <td>26.0</td>\n",
              "      <td>1</td>\n",
              "      <td>1</td>\n",
              "      <td>1</td>\n",
              "      <td>0</td>\n",
              "      <td>0</td>\n",
              "      <td>0</td>\n",
              "      <td>0</td>\n",
              "      <td>0</td>\n",
              "      <td>0</td>\n",
              "      <td>...</td>\n",
              "      <td>1</td>\n",
              "      <td>0</td>\n",
              "      <td>0</td>\n",
              "      <td>0</td>\n",
              "      <td>0</td>\n",
              "      <td>0</td>\n",
              "      <td>0</td>\n",
              "      <td>1.000000</td>\n",
              "      <td>1</td>\n",
              "      <td>0</td>\n",
              "    </tr>\n",
              "    <tr>\n",
              "      <th>124817</th>\n",
              "      <td>41.0</td>\n",
              "      <td>6</td>\n",
              "      <td>1</td>\n",
              "      <td>0</td>\n",
              "      <td>0</td>\n",
              "      <td>0</td>\n",
              "      <td>0</td>\n",
              "      <td>0</td>\n",
              "      <td>0</td>\n",
              "      <td>0</td>\n",
              "      <td>...</td>\n",
              "      <td>0</td>\n",
              "      <td>0</td>\n",
              "      <td>0</td>\n",
              "      <td>0</td>\n",
              "      <td>0</td>\n",
              "      <td>0</td>\n",
              "      <td>0</td>\n",
              "      <td>2.000000</td>\n",
              "      <td>1</td>\n",
              "      <td>0</td>\n",
              "    </tr>\n",
              "    <tr>\n",
              "      <th>124818</th>\n",
              "      <td>26.0</td>\n",
              "      <td>0</td>\n",
              "      <td>0</td>\n",
              "      <td>0</td>\n",
              "      <td>0</td>\n",
              "      <td>0</td>\n",
              "      <td>0</td>\n",
              "      <td>0</td>\n",
              "      <td>0</td>\n",
              "      <td>0</td>\n",
              "      <td>...</td>\n",
              "      <td>0</td>\n",
              "      <td>0</td>\n",
              "      <td>0</td>\n",
              "      <td>0</td>\n",
              "      <td>0</td>\n",
              "      <td>1</td>\n",
              "      <td>0</td>\n",
              "      <td>1.164258</td>\n",
              "      <td>0</td>\n",
              "      <td>1</td>\n",
              "    </tr>\n",
              "    <tr>\n",
              "      <th>124819</th>\n",
              "      <td>47.5</td>\n",
              "      <td>0</td>\n",
              "      <td>0</td>\n",
              "      <td>0</td>\n",
              "      <td>0</td>\n",
              "      <td>0</td>\n",
              "      <td>0</td>\n",
              "      <td>0</td>\n",
              "      <td>0</td>\n",
              "      <td>0</td>\n",
              "      <td>...</td>\n",
              "      <td>0</td>\n",
              "      <td>1</td>\n",
              "      <td>0</td>\n",
              "      <td>0</td>\n",
              "      <td>0</td>\n",
              "      <td>1</td>\n",
              "      <td>0</td>\n",
              "      <td>2.000000</td>\n",
              "      <td>1</td>\n",
              "      <td>0</td>\n",
              "    </tr>\n",
              "  </tbody>\n",
              "</table>\n",
              "<p>124820 rows × 22 columns</p>\n",
              "</div>"
            ],
            "text/plain": [
              "        Patient Age at Treatment  Total Number of Previous IVF cycles  \\\n",
              "0                           26.0                                    1   \n",
              "1                           26.0                                    2   \n",
              "2                           38.5                                    0   \n",
              "3                           36.0                                    0   \n",
              "4                           38.5                                    6   \n",
              "...                          ...                                  ...   \n",
              "124815                      26.0                                    1   \n",
              "124816                      26.0                                    1   \n",
              "124817                      41.0                                    6   \n",
              "124818                      26.0                                    0   \n",
              "124819                      47.5                                    0   \n",
              "\n",
              "        Total number of IVF pregnancies  \\\n",
              "0                                     0   \n",
              "1                                     0   \n",
              "2                                     0   \n",
              "3                                     0   \n",
              "4                                     2   \n",
              "...                                 ...   \n",
              "124815                                0   \n",
              "124816                                1   \n",
              "124817                                1   \n",
              "124818                                0   \n",
              "124819                                0   \n",
              "\n",
              "        Total number of live births - conceived through IVF  \\\n",
              "0                                                       0     \n",
              "1                                                       0     \n",
              "2                                                       0     \n",
              "3                                                       0     \n",
              "4                                                       1     \n",
              "...                                                   ...     \n",
              "124815                                                  0     \n",
              "124816                                                  1     \n",
              "124817                                                  0     \n",
              "124818                                                  0     \n",
              "124819                                                  0     \n",
              "\n",
              "        Type of Infertility - Female Primary  \\\n",
              "0                                          0   \n",
              "1                                          0   \n",
              "2                                          0   \n",
              "3                                          0   \n",
              "4                                          0   \n",
              "...                                      ...   \n",
              "124815                                     0   \n",
              "124816                                     0   \n",
              "124817                                     0   \n",
              "124818                                     0   \n",
              "124819                                     0   \n",
              "\n",
              "        Type of Infertility - Female Secondary  \\\n",
              "0                                            0   \n",
              "1                                            0   \n",
              "2                                            0   \n",
              "3                                            0   \n",
              "4                                            0   \n",
              "...                                        ...   \n",
              "124815                                       0   \n",
              "124816                                       0   \n",
              "124817                                       0   \n",
              "124818                                       0   \n",
              "124819                                       0   \n",
              "\n",
              "        Type of Infertility - Male Primary  \\\n",
              "0                                        0   \n",
              "1                                        0   \n",
              "2                                        0   \n",
              "3                                        0   \n",
              "4                                        0   \n",
              "...                                    ...   \n",
              "124815                                   0   \n",
              "124816                                   0   \n",
              "124817                                   0   \n",
              "124818                                   0   \n",
              "124819                                   0   \n",
              "\n",
              "        Type of Infertility - Male Secondary  \\\n",
              "0                                          0   \n",
              "1                                          0   \n",
              "2                                          0   \n",
              "3                                          0   \n",
              "4                                          0   \n",
              "...                                      ...   \n",
              "124815                                     0   \n",
              "124816                                     0   \n",
              "124817                                     0   \n",
              "124818                                     0   \n",
              "124819                                     0   \n",
              "\n",
              "        Type of Infertility -Couple Primary  \\\n",
              "0                                         0   \n",
              "1                                         0   \n",
              "2                                         0   \n",
              "3                                         0   \n",
              "4                                         0   \n",
              "...                                     ...   \n",
              "124815                                    0   \n",
              "124816                                    0   \n",
              "124817                                    0   \n",
              "124818                                    0   \n",
              "124819                                    0   \n",
              "\n",
              "        Type of Infertility -Couple Secondary  ...  \\\n",
              "0                                           0  ...   \n",
              "1                                           0  ...   \n",
              "2                                           0  ...   \n",
              "3                                           0  ...   \n",
              "4                                           0  ...   \n",
              "...                                       ...  ...   \n",
              "124815                                      0  ...   \n",
              "124816                                      0  ...   \n",
              "124817                                      0  ...   \n",
              "124818                                      0  ...   \n",
              "124819                                      0  ...   \n",
              "\n",
              "        Cause of Infertility - Male Factor  \\\n",
              "0                                        1   \n",
              "1                                        1   \n",
              "2                                        1   \n",
              "3                                        0   \n",
              "4                                        1   \n",
              "...                                    ...   \n",
              "124815                                   0   \n",
              "124816                                   1   \n",
              "124817                                   0   \n",
              "124818                                   0   \n",
              "124819                                   0   \n",
              "\n",
              "        Cause of Infertility - Patient Unexplained  \\\n",
              "0                                                0   \n",
              "1                                                0   \n",
              "2                                                0   \n",
              "3                                                0   \n",
              "4                                                0   \n",
              "...                                            ...   \n",
              "124815                                           0   \n",
              "124816                                           0   \n",
              "124817                                           0   \n",
              "124818                                           0   \n",
              "124819                                           1   \n",
              "\n",
              "        Cause of Infertility - Endometriosis  \\\n",
              "0                                          0   \n",
              "1                                          0   \n",
              "2                                          0   \n",
              "3                                          0   \n",
              "4                                          0   \n",
              "...                                      ...   \n",
              "124815                                     0   \n",
              "124816                                     0   \n",
              "124817                                     0   \n",
              "124818                                     0   \n",
              "124819                                     0   \n",
              "\n",
              "        Cause of Infertility - Cervical factors  \\\n",
              "0                                             0   \n",
              "1                                             0   \n",
              "2                                             0   \n",
              "3                                             0   \n",
              "4                                             0   \n",
              "...                                         ...   \n",
              "124815                                        0   \n",
              "124816                                        0   \n",
              "124817                                        0   \n",
              "124818                                        0   \n",
              "124819                                        0   \n",
              "\n",
              "        Cause of Infertility -  Partner Sperm Morphology  Stimulation used  \\\n",
              "0                                                      0                 0   \n",
              "1                                                      0                 0   \n",
              "2                                                      0                 1   \n",
              "3                                                      0                 1   \n",
              "4                                                      0                 1   \n",
              "...                                                  ...               ...   \n",
              "124815                                                 0                 1   \n",
              "124816                                                 0                 0   \n",
              "124817                                                 0                 0   \n",
              "124818                                                 0                 1   \n",
              "124819                                                 0                 1   \n",
              "\n",
              "        Number of foetal sacs with fetal pulsation  Embryos Transfered  \\\n",
              "0                                                0            1.000000   \n",
              "1                                                1            1.000000   \n",
              "2                                                0            2.000000   \n",
              "3                                                0            0.000000   \n",
              "4                                                0            3.000000   \n",
              "...                                            ...                 ...   \n",
              "124815                                           1            1.000000   \n",
              "124816                                           0            1.000000   \n",
              "124817                                           0            2.000000   \n",
              "124818                                           0            1.164258   \n",
              "124819                                           0            2.000000   \n",
              "\n",
              "        Sperm From Partner  Sperm From Donor  \n",
              "0                        1                 0  \n",
              "1                        1                 0  \n",
              "2                        1                 0  \n",
              "3                        1                 0  \n",
              "4                        1                 0  \n",
              "...                    ...               ...  \n",
              "124815                   1                 0  \n",
              "124816                   1                 0  \n",
              "124817                   1                 0  \n",
              "124818                   0                 1  \n",
              "124819                   1                 0  \n",
              "\n",
              "[124820 rows x 22 columns]"
            ]
          },
          "execution_count": 39,
          "metadata": {},
          "output_type": "execute_result"
        }
      ],
      "source": [
        "df = pd.DataFrame(train_x)\n",
        "df"
      ]
    },
    {
      "cell_type": "code",
      "execution_count": null,
      "metadata": {
        "id": "GHmmIwE7CVpd"
      },
      "outputs": [],
      "source": [
        "# Define the X & y \n",
        "X = train_x['Patient Age at Treatment']\n",
        "y = train_y"
      ]
    },
    {
      "cell_type": "code",
      "execution_count": null,
      "metadata": {
        "id": "-ElvhhRU5fED",
        "outputId": "624ef04f-903c-4259-e715-20b8cfe27f5b"
      },
      "outputs": [
        {
          "data": {
            "image/png": "[encoded data removed]",
            "text/plain": [
              "<Figure size 432x288 with 1 Axes>"
            ]
          },
          "metadata": {
            "needs_background": "light"
          },
          "output_type": "display_data"
        }
      ],
      "source": [
        "# Scatter plot \n",
        "plt.scatter(X, y, c=\"red\")\n",
        "plt.show()"
      ]
    },
    {
      "cell_type": "code",
      "execution_count": null,
      "metadata": {
        "id": "S2CaqX7n5fEE",
        "outputId": "aa992856-5741-4aba-9f51-6cff4f36f95b"
      },
      "outputs": [
        {
          "name": "stdout",
          "output_type": "stream",
          "text": [
            "15.6\n",
            "26.0\n",
            "45.25\n",
            "output:1\n"
          ]
        }
      ],
      "source": [
        "# Perceptron function \n",
        "x_input = train_x['Patient Age at Treatment']\n",
        "w_weight = [0.6, 0.4, 0.5]\n",
        "threshold = 1\n",
        "\n",
        "# Define activation function \n",
        "def step(weighted_sum):\n",
        "    if weighted_sum > threshold:\n",
        "        return 1\n",
        "    else:\n",
        "        return 0 \n",
        "    \n",
        "# Define perceptron function \n",
        "# Create for loop to iterate over inputs & multiply by weight, and increment our weighted sum by the result\n",
        "def perceptron():\n",
        "    weighted_sum = 0\n",
        "    for x,w in zip(x_input, w_weight):\n",
        "        weighted_sum += x*w\n",
        "        print(weighted_sum)\n",
        "    return step(weighted_sum)\n",
        "\n",
        "output = perceptron()\n",
        "print(\"output:\" + str(output))\n",
        "\n",
        "# We should see how each iteration increases our sum, which will determine the final outcome "
      ]
    },
    {
      "cell_type": "code",
      "execution_count": null,
      "metadata": {
        "id": "_EqhCRHA5fEG",
        "outputId": "59fe395f-a49b-4dc5-e771-35694cb8bb1b"
      },
      "outputs": [
        {
          "name": "stderr",
          "output_type": "stream",
          "text": [
            "C:\\Users\\Anna-Sophia\\anaconda3\\lib\\site-packages\\sklearn\\utils\\validation.py:993: DataConversionWarning: A column-vector y was passed when a 1d array was expected. Please change the shape of y to (n_samples, ), for example using ravel().\n",
            "  y = column_or_1d(y, warn=True)\n"
          ]
        },
        {
          "name": "stdout",
          "output_type": "stream",
          "text": [
            "Accuracy: 0.911\n",
            "Accuracy: 0.911\n"
          ]
        }
      ],
      "source": [
        "# Perceptron classifier \n",
        "from sklearn import datasets\n",
        "import numpy as np\n",
        "from sklearn.model_selection import train_test_split\n",
        "from sklearn.linear_model import Perceptron\n",
        "from sklearn.preprocessing import StandardScaler\n",
        "from sklearn.metrics import accuracy_score\n",
        " \n",
        "train_X = train_x\n",
        "train_Y = train_y\n",
        " \n",
        "sc = StandardScaler()\n",
        "sc.fit(train_x)\n",
        "train_x_std = sc.transform(train_X)\n",
        "test_x_std = sc.transform(test_x)\n",
        " \n",
        "ppn = Perceptron(eta0=0.1, random_state=1)\n",
        "ppn.fit(train_x_std, train_Y)\n",
        " \n",
        "y_pred = ppn.predict(test_x_std)\n",
        " \n",
        "print('Accuracy: %.3f' % accuracy_score(test_y, y_pred))\n",
        "print('Accuracy: %.3f' % ppn.score(test_x_std, test_y))"
      ]
    },
    {
      "cell_type": "code",
      "execution_count": null,
      "metadata": {
        "colab": {
          "base_uri": "https://localhost:8080/"
        },
        "id": "K5qTkwgD3f6I",
        "outputId": "0b8e5e9c-be95-461a-b239-928352a445c2"
      },
      "outputs": [
        {
          "data": {
            "image/png": "[encoded data removed]",
            "text/plain": [
              "<Figure size 432x288 with 1 Axes>"
            ]
          },
          "metadata": {
            "needs_background": "light"
          },
          "output_type": "display_data"
        }
      ],
      "source": [
        "# Polynomial regression - from text boox example\n",
        "m = 100\n",
        "X = 6 * np.random.rand(m, 1) - 3\n",
        "y = 0.5 * X**2 + X + 2 + np.random.randn(m, 1)\n",
        "\n",
        "plt.plot(X, y, \"b.\")\n",
        "plt.xlabel(\"$x_1$\", fontsize=18)\n",
        "plt.ylabel(\"$y$\", rotation=0, fontsize=18)\n",
        "plt.axis([-3, 3, 0, 10])\n",
        "plt.show()"
      ]
    },
    {
      "cell_type": "code",
      "execution_count": null,
      "metadata": {
        "id": "N34HbLeOdrE3"
      },
      "outputs": [],
      "source": [
        "#Net Input is sum of weighted input signals\n",
        "\n",
        "def net_input(self, X):\n",
        "   weighted_sum = np.dot(X, self.coef_[1:]) + self.coef_[0]\n",
        "   return weighted_sum"
      ]
    },
    {
      "cell_type": "code",
      "execution_count": null,
      "metadata": {
        "id": "itjqAyiqdNSA"
      },
      "outputs": [],
      "source": [
        "# Activation function is fed the net input and the unit step function is executed to determine the output.\n",
        "\n",
        "def activation_function(self, X):\n",
        "    weighted_sum = self.net_input(X)\n",
        "    return np.where(weighted_sum >= 0.0, 1, 0)"
      ]
    },
    {
      "cell_type": "code",
      "execution_count": null,
      "metadata": {
        "id": "3Z44LSdOZFOY"
      },
      "outputs": [],
      "source": [
        "# Prediction is made on the basis of output of activation function\n",
        "\n",
        "def predict(self, X):\n",
        "    return self.activation_function(X)"
      ]
    },
    {
      "cell_type": "code",
      "execution_count": null,
      "metadata": {
        "id": "ezLhJ67CZbni"
      },
      "outputs": [],
      "source": [
        "def fit(self, X, y):\n",
        "    rgen = np.random.RandomState(self.random_state)\n",
        "    self.coef_ = rgen.normal(loc=0.0, scale=0.01, size=1 + X.shape[1])\n",
        "    for _ in range(self.n_iterations):\n",
        "        for xi, expected_value in zip(X, y):\n",
        "            predicted_value = self.predict(xi)\n",
        "            self.coef_[1:] = self.coef_[1:] + self.learning_rate * (expected_value - predicted_value) * xi\n",
        "            self.coef_[0] = self.coef_[0] + self.learning_rate * (expected_value - predicted_value) * 1"
      ]
    },
    {
      "cell_type": "code",
      "execution_count": null,
      "metadata": {
        "id": "eTjW6NRleRV1"
      },
      "outputs": [],
      "source": [
        "# Perceptron implementation to train binary clssification model to classify live birth occurance\n",
        "import numpy as np\n",
        "\n",
        "# Perceptron implementation\n",
        "\n",
        "class CustomPerceptron(object):\n",
        "     \n",
        "    def __init__(self, n_iterations=100, random_state=1, learning_rate=0.001):\n",
        "        self.n_iterations = n_iterations\n",
        "        self.random_state = random_state\n",
        "        self.learning_rate = learning_rate\n",
        "\n",
        "# Stochastic Gradient Descent\n",
        "    # Weights are updated based on each training examples.\n",
        "    # Learning of weights can continue for multiple iterations\n",
        "    # Learning rate needs to be defined\n",
        "\n",
        "    def fit(self, X, y):\n",
        "        rgen = np.random.RandomState(self.random_state)\n",
        "        self.coef_ = rgen.normal(loc=0.0, scale=0.01, size=1 + X.shape[1])\n",
        "        self.errors_ = []\n",
        "        for _ in range(self.n_iterations):\n",
        "            errors = 0\n",
        "            for xi, expected_value in zip(X, y):\n",
        "                predicted_value = self.predict(xi)\n",
        "                self.coef_[1:] = self.coef_[1:] + self.learning_rate * (expected_value - predicted_value) * xi\n",
        "                self.coef_[0] = self.coef_[0] + self.learning_rate * (expected_value - predicted_value) * 1\n",
        "                update = self.learning_rate * (expected_value - predicted_value)\n",
        "                errors += int(update != 0.0)\n",
        "\n",
        "# Net Input is sum of weighted input signals\n",
        "\n",
        "    def net_input(self, X):\n",
        "            weighted_sum = np.dot(X, self.coef_[1:]) + self.coef_[0]\n",
        "            return weighted_sum\n",
        "\n",
        "# Activation function is fed the net input and the unit step function is executed to determine the output.\n",
        "\n",
        "    def activation_function(self, X):\n",
        "            weighted_sum = self.net_input(X)\n",
        "            return np.where(weighted_sum >= 0.0, 1, 0)\n",
        "        \n",
        "# Prediction is made on the basis of output of activation function\n",
        "\n",
        "    def predict(self, X):\n",
        "        return self.activation_function(X)\n",
        "     \n",
        "        \n",
        "# Model score is calculated based on comparison of expected value and predicted value\n",
        "\n",
        "    def score(self, X, y):\n",
        "        misclassified_data_count = 0\n",
        "        for xi, target in zip(X, y):\n",
        "            output = self.predict(xi)\n",
        "            if(target != output):\n",
        "                misclassified_data_count += 1\n",
        "        total_data_count = len(X)\n",
        "        self.score_ = (total_data_count - misclassified_data_count)/total_data_count\n",
        "        return self.score_"
      ]
    },
    {
      "cell_type": "code",
      "execution_count": null,
      "metadata": {
        "id": "xjt1o6wp5fEN",
        "outputId": "40f4af02-f869-4982-885c-51beb17b3da2"
      },
      "outputs": [
        {
          "ename": "UFuncTypeError",
          "evalue": "ufunc 'multiply' did not contain a loop with signature matching types (dtype('<U24'), dtype('<U32')) -> None",
          "output_type": "error",
          "traceback": [
            "\u001b[1;31m---------------------------------------------------------------------------\u001b[0m",
            "\u001b[1;31mUFuncTypeError\u001b[0m                            Traceback (most recent call last)",
            "Input \u001b[1;32mIn [65]\u001b[0m, in \u001b[0;36m<cell line: 15>\u001b[1;34m()\u001b[0m\n\u001b[0;32m     12\u001b[0m prcptrn \u001b[38;5;241m=\u001b[39m CustomPerceptron(n_iterations\u001b[38;5;241m=\u001b[39m\u001b[38;5;241m10\u001b[39m)\n\u001b[0;32m     14\u001b[0m \u001b[38;5;66;03m# Fit the model\u001b[39;00m\n\u001b[1;32m---> 15\u001b[0m \u001b[43mprcptrn\u001b[49m\u001b[38;5;241;43m.\u001b[39;49m\u001b[43mfit\u001b[49m\u001b[43m(\u001b[49m\u001b[43mX\u001b[49m\u001b[43m,\u001b[49m\u001b[43m \u001b[49m\u001b[43my\u001b[49m\u001b[43m)\u001b[49m\n\u001b[0;32m     17\u001b[0m \u001b[38;5;66;03m# Score the model\u001b[39;00m\n\u001b[0;32m     18\u001b[0m prcptrn\u001b[38;5;241m.\u001b[39mscore(test_x, test_y), prcptrn\u001b[38;5;241m.\u001b[39mscore(X, y)\n",
            "Input \u001b[1;32mIn [64]\u001b[0m, in \u001b[0;36mCustomPerceptron.fit\u001b[1;34m(self, X, y)\u001b[0m\n\u001b[0;32m     23\u001b[0m errors \u001b[38;5;241m=\u001b[39m \u001b[38;5;241m0\u001b[39m\n\u001b[0;32m     24\u001b[0m \u001b[38;5;28;01mfor\u001b[39;00m xi, expected_value \u001b[38;5;129;01min\u001b[39;00m \u001b[38;5;28mzip\u001b[39m(X, y):\n\u001b[1;32m---> 25\u001b[0m     predicted_value \u001b[38;5;241m=\u001b[39m \u001b[38;5;28;43mself\u001b[39;49m\u001b[38;5;241;43m.\u001b[39;49m\u001b[43mpredict\u001b[49m\u001b[43m(\u001b[49m\u001b[43mxi\u001b[49m\u001b[43m)\u001b[49m\n\u001b[0;32m     26\u001b[0m     \u001b[38;5;28mself\u001b[39m\u001b[38;5;241m.\u001b[39mcoef_[\u001b[38;5;241m1\u001b[39m:] \u001b[38;5;241m=\u001b[39m \u001b[38;5;28mself\u001b[39m\u001b[38;5;241m.\u001b[39mcoef_[\u001b[38;5;241m1\u001b[39m:] \u001b[38;5;241m+\u001b[39m \u001b[38;5;28mself\u001b[39m\u001b[38;5;241m.\u001b[39mlearning_rate \u001b[38;5;241m*\u001b[39m (expected_value \u001b[38;5;241m-\u001b[39m predicted_value) \u001b[38;5;241m*\u001b[39m xi\n\u001b[0;32m     27\u001b[0m     \u001b[38;5;28mself\u001b[39m\u001b[38;5;241m.\u001b[39mcoef_[\u001b[38;5;241m0\u001b[39m] \u001b[38;5;241m=\u001b[39m \u001b[38;5;28mself\u001b[39m\u001b[38;5;241m.\u001b[39mcoef_[\u001b[38;5;241m0\u001b[39m] \u001b[38;5;241m+\u001b[39m \u001b[38;5;28mself\u001b[39m\u001b[38;5;241m.\u001b[39mlearning_rate \u001b[38;5;241m*\u001b[39m (expected_value \u001b[38;5;241m-\u001b[39m predicted_value) \u001b[38;5;241m*\u001b[39m \u001b[38;5;241m1\u001b[39m\n",
            "Input \u001b[1;32mIn [64]\u001b[0m, in \u001b[0;36mCustomPerceptron.predict\u001b[1;34m(self, X)\u001b[0m\n\u001b[0;32m     45\u001b[0m \u001b[38;5;28;01mdef\u001b[39;00m \u001b[38;5;21mpredict\u001b[39m(\u001b[38;5;28mself\u001b[39m, X):\n\u001b[1;32m---> 46\u001b[0m     \u001b[38;5;28;01mreturn\u001b[39;00m \u001b[38;5;28;43mself\u001b[39;49m\u001b[38;5;241;43m.\u001b[39;49m\u001b[43mactivation_function\u001b[49m\u001b[43m(\u001b[49m\u001b[43mX\u001b[49m\u001b[43m)\u001b[49m\n",
            "Input \u001b[1;32mIn [64]\u001b[0m, in \u001b[0;36mCustomPerceptron.activation_function\u001b[1;34m(self, X)\u001b[0m\n\u001b[0;32m     39\u001b[0m \u001b[38;5;28;01mdef\u001b[39;00m \u001b[38;5;21mactivation_function\u001b[39m(\u001b[38;5;28mself\u001b[39m, X):\n\u001b[1;32m---> 40\u001b[0m         weighted_sum \u001b[38;5;241m=\u001b[39m \u001b[38;5;28;43mself\u001b[39;49m\u001b[38;5;241;43m.\u001b[39;49m\u001b[43mnet_input\u001b[49m\u001b[43m(\u001b[49m\u001b[43mX\u001b[49m\u001b[43m)\u001b[49m\n\u001b[0;32m     41\u001b[0m         \u001b[38;5;28;01mreturn\u001b[39;00m np\u001b[38;5;241m.\u001b[39mwhere(weighted_sum \u001b[38;5;241m>\u001b[39m\u001b[38;5;241m=\u001b[39m \u001b[38;5;241m0.0\u001b[39m, \u001b[38;5;241m1\u001b[39m, \u001b[38;5;241m0\u001b[39m)\n",
            "Input \u001b[1;32mIn [64]\u001b[0m, in \u001b[0;36mCustomPerceptron.net_input\u001b[1;34m(self, X)\u001b[0m\n\u001b[0;32m     33\u001b[0m \u001b[38;5;28;01mdef\u001b[39;00m \u001b[38;5;21mnet_input\u001b[39m(\u001b[38;5;28mself\u001b[39m, X):\n\u001b[1;32m---> 34\u001b[0m         weighted_sum \u001b[38;5;241m=\u001b[39m \u001b[43mnp\u001b[49m\u001b[38;5;241;43m.\u001b[39;49m\u001b[43mdot\u001b[49m\u001b[43m(\u001b[49m\u001b[43mX\u001b[49m\u001b[43m,\u001b[49m\u001b[43m \u001b[49m\u001b[38;5;28;43mself\u001b[39;49m\u001b[38;5;241;43m.\u001b[39;49m\u001b[43mcoef_\u001b[49m\u001b[43m[\u001b[49m\u001b[38;5;241;43m1\u001b[39;49m\u001b[43m:\u001b[49m\u001b[43m]\u001b[49m\u001b[43m)\u001b[49m \u001b[38;5;241m+\u001b[39m \u001b[38;5;28mself\u001b[39m\u001b[38;5;241m.\u001b[39mcoef_[\u001b[38;5;241m0\u001b[39m]\n\u001b[0;32m     35\u001b[0m         \u001b[38;5;28;01mreturn\u001b[39;00m weighted_sum\n",
            "File \u001b[1;32m<__array_function__ internals>:5\u001b[0m, in \u001b[0;36mdot\u001b[1;34m(*args, **kwargs)\u001b[0m\n",
            "\u001b[1;31mUFuncTypeError\u001b[0m: ufunc 'multiply' did not contain a loop with signature matching types (dtype('<U24'), dtype('<U32')) -> None"
          ]
        }
      ],
      "source": [
        "# Train the model using the Custom Perception algorithm\n",
        "import numpy as np\n",
        "from sklearn import datasets\n",
        "from sklearn.model_selection import train_test_split\n",
        "\n",
        "# Load the data set\n",
        "X = train_x\n",
        "y = train_y\n",
        "\n",
        "# Instantiate CustomPerceptron\n",
        "\n",
        "prcptrn = CustomPerceptron(n_iterations=10)\n",
        "\n",
        "# Fit the model\n",
        "prcptrn.fit(X, y)\n",
        "\n",
        "# Score the model\n",
        "prcptrn.score(test_x, test_y), prcptrn.score(X, y)"
      ]
    },
    {
      "cell_type": "code",
      "execution_count": null,
      "metadata": {
        "colab": {
          "base_uri": "https://localhost:8080/"
        },
        "id": "b-dtFoqDe6N0",
        "outputId": "99ce03a8-4a62-4879-e211-f448f5759313"
      },
      "outputs": [
        {
          "data": {
            "image/png": "[encoded data removed]",
            "text/plain": [
              "<Figure size 432x288 with 1 Axes>"
            ]
          },
          "metadata": {
            "needs_background": "light"
          },
          "output_type": "display_data"
        }
      ],
      "source": [
        "%matplotlib inline\n",
        "import matplotlib.pyplot as plt\n",
        " \n",
        "plt.plot(range(1, len(prcptrn.errors_) + 1), prcptrn.errors_, marker='o')\n",
        "plt.xlabel('Epochs')\n",
        "plt.ylabel('Number of updates')\n",
        " \n",
        "plt.show()"
      ]
    },
    {
      "cell_type": "code",
      "execution_count": null,
      "metadata": {
        "id": "pYEhCfiP5fEP"
      },
      "outputs": [],
      "source": []
    },
    {
      "cell_type": "code",
      "execution_count": null,
      "metadata": {
        "id": "Q4-D6L7addm8"
      },
      "outputs": [],
      "source": []
    },
    {
      "cell_type": "code",
      "execution_count": null,
      "metadata": {
        "id": "KLwFC5Uxc2FJ"
      },
      "outputs": [],
      "source": []
    },
    {
      "cell_type": "code",
      "execution_count": null,
      "metadata": {
        "id": "YsdwP85X5fEP"
      },
      "outputs": [],
      "source": []
    },
    {
      "cell_type": "code",
      "execution_count": null,
      "metadata": {
        "id": "sKeghHJ25fEQ"
      },
      "outputs": [],
      "source": []
    },
    {
      "cell_type": "code",
      "execution_count": null,
      "metadata": {
        "id": "SQajZ-Zh5fEQ"
      },
      "outputs": [],
      "source": []
    },
    {
      "cell_type": "code",
      "execution_count": null,
      "metadata": {
        "id": "N99pBtNy5fER"
      },
      "outputs": [],
      "source": []
    },
    {
      "cell_type": "code",
      "execution_count": null,
      "metadata": {
        "id": "6h4m0Lsl5fES"
      },
      "outputs": [],
      "source": []
    },
    {
      "cell_type": "code",
      "execution_count": null,
      "metadata": {
        "id": "ftVpI6qV5fES"
      },
      "outputs": [],
      "source": []
    },
    {
      "cell_type": "code",
      "execution_count": null,
      "metadata": {
        "id": "iB_dfnzD5fES"
      },
      "outputs": [],
      "source": []
    },
    {
      "cell_type": "code",
      "execution_count": null,
      "metadata": {
        "id": "MaTw-y1a5fET"
      },
      "outputs": [],
      "source": []
    },
    {
      "cell_type": "code",
      "execution_count": null,
      "metadata": {
        "id": "4TuMdMhz5fET"
      },
      "outputs": [],
      "source": []
    },
    {
      "cell_type": "code",
      "execution_count": null,
      "metadata": {
        "id": "Pu56WUky5fET"
      },
      "outputs": [],
      "source": []
    },
    {
      "cell_type": "code",
      "execution_count": null,
      "metadata": {
        "id": "gF31ydjy5fET"
      },
      "outputs": [],
      "source": []
    },
    {
      "cell_type": "code",
      "execution_count": null,
      "metadata": {
        "id": "JJQwZe5b5fET"
      },
      "outputs": [],
      "source": []
    }
  ],
  "metadata": {
    "colab": {
      "provenance": [],
      "include_colab_link": true
    },
    "kernelspec": {
      "display_name": "Python 3 (ipykernel)",
      "language": "python",
      "name": "python3"
    },
    "language_info": {
      "codemirror_mode": {
        "name": "ipython",
        "version": 3
      },
      "file_extension": ".py",
      "mimetype": "text/x-python",
      "name": "python",
      "nbconvert_exporter": "python",
      "pygments_lexer": "ipython3",
      "version": "3.9.12"
    }
  },
  "nbformat": 4,
  "nbformat_minor": 0
}